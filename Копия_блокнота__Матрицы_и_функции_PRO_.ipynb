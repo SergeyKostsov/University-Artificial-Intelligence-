{
  "nbformat": 4,
  "nbformat_minor": 0,
  "metadata": {
    "colab": {
      "name": "Копия блокнота \"Матрицы и функции. PRO\"",
      "provenance": [],
      "collapsed_sections": []
    },
    "kernelspec": {
      "display_name": "Python 3",
      "name": "python3"
    }
  },
  "cells": [
    {
      "cell_type": "markdown",
      "metadata": {
        "id": "KMlmkLiw8SZR"
      },
      "source": [
        "## **Задача 1**\n",
        " \n",
        "Напишите код, который вычисляет значение следующей математической функции в зависимости от переменной х, где х - вектор\n",
        " \n",
        "$F(x) = \\frac{1}{25}AA^Tx + Bx + 5$\n",
        " \n",
        "* Создайте матрицы A и B размера 4 на 4, состоящие из случайных целых чисел в интервале от 1 до 10 (используйте соответствующую функцию модуля np.random)\n",
        "* Создайте вектор х размера 4, состоящие из случайных целых чисел в интервале от 1 до 5\n",
        "* Перемножение матриц, и матрицы на вектор должно быть матричное."
      ]
    },
    {
      "cell_type": "code",
      "metadata": {
        "id": "jZUQp3UofG0H"
      },
      "source": [
        "import numpy as np"
      ],
      "execution_count": null,
      "outputs": []
    },
    {
      "cell_type": "code",
      "metadata": {
        "id": "nQV8icTN3l3B"
      },
      "source": [
        "# Функция транспонирования матрицы, которая на вход принимает матрицы\n",
        "def transpose_matrix(matrix):\n",
        "  shape = matrix.shape  # определяем форму матрицы\n",
        "  # определяем матрицу состоящую из 0, формой:\n",
        "  # количество строк = количеству столбцов исходной матрицы\n",
        "  # количество столбцов = количеству строк исходной матрицы \n",
        "  out_matrix = np.zeros((shape[1], shape[0]))\n",
        "  for i in range(shape[0]):  # проходимся по всем индексам строк исходной матрицы\n",
        "    for j in range(shape[1]):  # проходимся по всем индексам столбцов исходной матрицы\n",
        "      out_matrix[j,i] = matrix[i,j]  # заменяем все значения столбцов нулевой матрицы значениями строк исходной матрицы\n",
        "  \n",
        "  return out_matrix\n",
        "\n",
        "A = np.random.randint(1, 10, (4,4))\n",
        "B = np.random.randint(1, 10, (4,4))\n",
        "x=np.random.randint(1,5, (4,1))\n",
        "matrix=1/25*A@(A.T)@x+B@x+5\n",
        "\n"
      ],
      "execution_count": null,
      "outputs": []
    },
    {
      "cell_type": "code",
      "metadata": {
        "colab": {
          "base_uri": "https://localhost:8080/"
        },
        "id": "L5KevfBDLP5o",
        "outputId": "4f104d05-5b09-4819-a50d-5da68c9a43d4"
      },
      "source": [
        "matrix"
      ],
      "execution_count": null,
      "outputs": [
        {
          "output_type": "execute_result",
          "data": {
            "text/plain": [
              "array([[118.56],\n",
              "       [106.96],\n",
              "       [106.48],\n",
              "       [107.16]])"
            ]
          },
          "metadata": {},
          "execution_count": 12
        }
      ]
    },
    {
      "cell_type": "markdown",
      "metadata": {
        "id": "PA6MUg7y04Ro"
      },
      "source": [
        "##**Задача 2**\n",
        "\n",
        "Напишите функцию, которая находит все точки пересечения заданной одномерной математической функции с осью X и отображает их на графике функции красными кругами."
      ]
    },
    {
      "cell_type": "code",
      "metadata": {
        "id": "-by8x6Sdm470"
      },
      "source": [
        "import matplotlib.pyplot as plt \n",
        "import seaborn as sns\n",
        "import pandas as pd\n",
        "%matplotlib inline"
      ],
      "execution_count": null,
      "outputs": []
    },
    {
      "cell_type": "code",
      "metadata": {
        "colab": {
          "base_uri": "https://localhost:8080/",
          "height": 313
        },
        "id": "ZkFsd8pp1Ink",
        "outputId": "e109081a-792e-4f0c-a662-4850bdd1563e"
      },
      "source": [
        "# Функция  ЭТО ВАРИАНТ ДЛЯ ПРОХОЖДЕНИЯ ОСИ Х СО СМЕНОЙ ЗНАКА \n",
        "def f3(x):\n",
        "  y = x*x*np.sin(x/300) + 300*x\n",
        "  return y\n",
        "x=np.arange(-2000, 2000)\n",
        "y = f3(x)\n",
        "s = np.sign(y)\n",
        "zeroes = []\n",
        "for i in range(len(y)-1):\n",
        "        if s[i]/s[i+1] < 0:\n",
        "            zeroes.append(i)\n",
        "plt.plot(x, y)\n",
        "plt.plot([x[i] for i in zeroes], [y[i] for i in zeroes],'ro')\n",
        "plt.grid()\n",
        "plt.show()  \n"
      ],
      "execution_count": null,
      "outputs": [
        {
          "output_type": "stream",
          "name": "stderr",
          "text": [
            "/usr/local/lib/python3.7/dist-packages/ipykernel_launcher.py:10: RuntimeWarning: divide by zero encountered in double_scalars\n",
            "  # Remove the CWD from sys.path while we load stuff.\n"
          ]
        },
        {
          "output_type": "display_data",
          "data": {
            "image/png": "[encoded data removed]",
            "text/plain": [
              "<Figure size 432x288 with 1 Axes>"
            ]
          },
          "metadata": {
            "needs_background": "light"
          }
        }
      ]
    },
    {
      "cell_type": "code",
      "metadata": {
        "colab": {
          "base_uri": "https://localhost:8080/",
          "height": 313
        },
        "id": "LPK-c8jc7JZp",
        "outputId": "a614c2b7-2708-49ee-c33e-32116fa583c8"
      },
      "source": [
        "# Функция  А ЭТО ЧЕРЕЗ ЕДИНИЧКУ\n",
        "def f3(x):\n",
        "  y = x*x*np.sin(x/300) + 300*x\n",
        "  return y\n",
        "x=np.arange(-2000, 2000)\n",
        "y = f3(x)\n",
        "s = np.sign(y)\n",
        "zeroes = []\n",
        "for i in range(len(y)-1):\n",
        " if s[i]/s[i+1] < 1**(-10000000000):\n",
        "  zeroes.append(i)\n",
        "plt.plot(x, y)\n",
        "plt.plot([x[i] for i in zeroes], [y[i] for i in zeroes],'ro')\n",
        "plt.grid()\n",
        "plt.show()  "
      ],
      "execution_count": null,
      "outputs": [
        {
          "output_type": "stream",
          "name": "stderr",
          "text": [
            "/usr/local/lib/python3.7/dist-packages/ipykernel_launcher.py:10: RuntimeWarning: divide by zero encountered in double_scalars\n",
            "  # Remove the CWD from sys.path while we load stuff.\n"
          ]
        },
        {
          "output_type": "display_data",
          "data": {
            "image/png": "[encoded data removed]",
            "text/plain": [
              "<Figure size 432x288 with 1 Axes>"
            ]
          },
          "metadata": {
            "needs_background": "light"
          }
        }
      ]
    },
    {
      "cell_type": "code",
      "metadata": {
        "colab": {
          "base_uri": "https://localhost:8080/",
          "height": 276
        },
        "id": "lqdINsfJ7xVs",
        "outputId": "fe11c991-1a21-45e8-a635-d18074370f68"
      },
      "source": [
        "# Функция  ПРОБОВАЛ ЕЩЕ ТАКИМ СПОСОБОМ, НО ПОЯВЛЯЕТСЯ ЛИШНЯЯ ТОЧКА В НАЧАЛЕ ГРАФИКА\n",
        "def f3(x):\n",
        "  y = x*x*np.sin(x/300) + 300*x\n",
        "  return y\n",
        "x=np.arange(-2000, 2000)\n",
        "y = f3(x)\n",
        "s = np.sign(y)\n",
        "zeroes = []\n",
        "for i in range(len(y)):\n",
        " if 1.01**(-10000000000) <= s[i-1] + s[i] <= 1**(-10000000000):\n",
        "  zeroes.append(i)\n",
        "plt.plot(x, y)\n",
        "plt.plot([x[i] for i in zeroes], [y[i] for i in zeroes],'ro')\n",
        "plt.grid()\n",
        "plt.show()  "
      ],
      "execution_count": null,
      "outputs": [
        {
          "output_type": "display_data",
          "data": {
            "image/png": "[encoded data removed]",
            "text/plain": [
              "<Figure size 432x288 with 1 Axes>"
            ]
          },
          "metadata": {
            "needs_background": "light"
          }
        }
      ]
    },
    {
      "cell_type": "markdown",
      "metadata": {
        "id": "weSQUISv3avD"
      },
      "source": [
        "## **Задача 3** \n",
        "\n",
        "Напишите функцию, которая получает на вход пару матриц и проверяет закон коммутативности матричного умножения, то есть свойства $A*B=B*A$, возвращая ```1``` в случае подтверждения и ```0``` в противном случае. Поставьте ```1000``` экспериментов для случайных целочисленных матриц размера ```(5,5)``` элементов, которые принадлежат отрезку ```[-5,5]```, и найдите количество успешных срабатываний."
      ]
    },
    {
      "cell_type": "code",
      "metadata": {
        "colab": {
          "base_uri": "https://localhost:8080/"
        },
        "id": "6GQh9j9V4XMV",
        "outputId": "7f56f1b0-6abf-4be4-bb1e-dcd545166f86"
      },
      "source": [
        "count=0\n",
        "count1=0\n",
        "for i in range(1000):\n",
        "  c=np.random.randint(-5, 6, (5,5))\n",
        "  d=np.random.randint(-5, 6, (5,5))\n",
        "  if (c@d==d@c).all(): \n",
        "    count += 1\n",
        "    #return 1\n",
        "    \n",
        "  else: \n",
        "   count1 += 1\n",
        "   #return 0\n",
        "   \n",
        "print (\"успешных срабатываний: \", count)\n",
        "print (\"\\n неуспешных срабатываний:\", count1)"
      ],
      "execution_count": null,
      "outputs": [
        {
          "output_type": "stream",
          "name": "stdout",
          "text": [
            "успешных срабатываний:  0\n",
            "\n",
            " неуспешных срабатываний: 1000\n"
          ]
        }
      ]
    },
    {
      "cell_type": "code",
      "metadata": {
        "colab": {
          "base_uri": "https://localhost:8080/"
        },
        "id": "XqhM8D7t_jYC",
        "outputId": "c6d20ffb-ff10-4ed7-c4f4-4e47bb94df13"
      },
      "source": [
        "c@d"
      ],
      "execution_count": null,
      "outputs": [
        {
          "output_type": "execute_result",
          "data": {
            "text/plain": [
              "array([[  4,  12,  -2,   6,  -8],\n",
              "       [ -1,  14,  -4, -21,  26],\n",
              "       [ 17, -12,  19, -38,  33],\n",
              "       [-41,   8, -72,  16, -28],\n",
              "       [ -1,  30,   9, -13,  25]])"
            ]
          },
          "metadata": {},
          "execution_count": 132
        }
      ]
    },
    {
      "cell_type": "code",
      "metadata": {
        "colab": {
          "base_uri": "https://localhost:8080/"
        },
        "id": "z9e5v2tP_jkn",
        "outputId": "b4094d65-9082-48fe-e04c-47fb419f5640"
      },
      "source": [
        "d@c"
      ],
      "execution_count": null,
      "outputs": [
        {
          "output_type": "execute_result",
          "data": {
            "text/plain": [
              "array([[ 38, -18,  32,  -6, -20],\n",
              "       [-22, -14,  -8,  28, -11],\n",
              "       [ 25,  -8,  51,  -5,  -4],\n",
              "       [  7,  31,  -2,   4,  -6],\n",
              "       [-10,   9, -39,  -3,  -1]])"
            ]
          },
          "metadata": {},
          "execution_count": 133
        }
      ]
    },
    {
      "cell_type": "code",
      "metadata": {
        "colab": {
          "base_uri": "https://localhost:8080/"
        },
        "id": "yuj2EFIWxPE9",
        "outputId": "a11a78e3-cdd6-4dc9-cef3-6ce04445f900"
      },
      "source": [
        "c*d"
      ],
      "execution_count": null,
      "outputs": [
        {
          "output_type": "execute_result",
          "data": {
            "text/plain": [
              "array([[  4,  -2,   6,   4,  12],\n",
              "       [  0,   4,  -8,  12,   0],\n",
              "       [ 20,   0,  15,   0,  -6],\n",
              "       [  0,   0, -20,  -8, -15],\n",
              "       [-15, -16, -12,  -8,  -8]])"
            ]
          },
          "metadata": {},
          "execution_count": 134
        }
      ]
    },
    {
      "cell_type": "code",
      "metadata": {
        "colab": {
          "base_uri": "https://localhost:8080/"
        },
        "id": "Bdi2OHEExQr6",
        "outputId": "3758ecc6-7d83-4679-d402-6b5fd958cec3"
      },
      "source": [
        "d*c"
      ],
      "execution_count": null,
      "outputs": [
        {
          "output_type": "execute_result",
          "data": {
            "text/plain": [
              "array([[  4,  -2,   6,   4,  12],\n",
              "       [  0,   4,  -8,  12,   0],\n",
              "       [ 20,   0,  15,   0,  -6],\n",
              "       [  0,   0, -20,  -8, -15],\n",
              "       [-15, -16, -12,  -8,  -8]])"
            ]
          },
          "metadata": {},
          "execution_count": 135
        }
      ]
    }
  ]
}