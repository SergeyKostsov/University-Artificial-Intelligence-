{
  "nbformat": 4,
  "nbformat_minor": 0,
  "metadata": {
    "colab": {
      "name": "Копия блокнота \"Домашнее задание. Теория вероятностей Часть 1. Pro.ipynb\"",
      "provenance": [],
      "collapsed_sections": []
    },
    "kernelspec": {
      "name": "python3",
      "display_name": "Python 3"
    }
  },
  "cells": [
    {
      "cell_type": "markdown",
      "metadata": {
        "id": "Jd4TZPYFrR6S"
      },
      "source": [
        "Домашнее задание. Теория вероятностей. Часть 1. Pro"
      ]
    },
    {
      "cell_type": "markdown",
      "metadata": {
        "id": "Phb0jwW9rS0R"
      },
      "source": [
        "Задача 1\n",
        "\n",
        "Стрелок попадает в цель с одной и той же вероятностью при каждом выстреле. Какова эта вероятность, если вероятность хотя бы одного попадания при трех выстрелах равна 0,853?"
      ]
    },
    {
      "cell_type": "code",
      "metadata": {
        "colab": {
          "base_uri": "https://localhost:8080/"
        },
        "id": "_U0gu1wjBJgD",
        "outputId": "72fbf388-5059-4776-891a-90d290051558"
      },
      "source": [
        "P = 0.853\n",
        "Pprom3 = 1 - P              # Вероятность промаха в серии ( равна 0.147)\n",
        "Pprom = (Pprom3)**(1./3.)   # Вероятность промаха при 1 выстреле\n",
        "P1 = 1-Pprom\n",
        "P1"
      ],
      "execution_count": null,
      "outputs": [
        {
          "output_type": "execute_result",
          "data": {
            "text/plain": [
              "0.4722367912095923"
            ]
          },
          "metadata": {},
          "execution_count": 66
        }
      ]
    },
    {
      "cell_type": "markdown",
      "metadata": {
        "id": "xWEp7CyTr1LA"
      },
      "source": [
        "Задача 2\n",
        "\n",
        "На шахматную доску из 64 клеток ставят наугад две ладьи белого и чёрного цвета. С какой вероятностью они будут «бить» друг друга?"
      ]
    },
    {
      "cell_type": "code",
      "metadata": {
        "id": "3-DyAn48sDSp",
        "colab": {
          "base_uri": "https://localhost:8080/"
        },
        "outputId": "18b724c8-5e3e-46ac-b6f2-372a52f6d939"
      },
      "source": [
        "n = 63  # количество исходов, т.е. клеток куда может попасть ладья\n",
        "m = 14    # по 7 клетов по горизонтали и вертикали\n",
        "print(\"вероятность равна :\", m/n)"
      ],
      "execution_count": null,
      "outputs": [
        {
          "output_type": "stream",
          "name": "stdout",
          "text": [
            "вероятность равна : 0.2222222222222222\n"
          ]
        }
      ]
    },
    {
      "cell_type": "markdown",
      "metadata": {
        "id": "IE9h1SKusDjH"
      },
      "source": [
        "Задача 3\n",
        "\n",
        "Подбрасывается 20 монет. Найти вероятность того, что\n",
        "\n",
        "* на всех монетах выпадет решка;\n",
        "\n",
        "* орёл выпадет КАК МИНИМУМ на половине монетах. (Для решения этой части используйте формулу Бернулли)."
      ]
    },
    {
      "cell_type": "code",
      "metadata": {
        "id": "PLdDCEeLsh8R"
      },
      "source": [
        "# Реализация факториала через цикл\n",
        "def factorial(n):\n",
        "  f = 1\n",
        "  for x in range(1, n+1):\n",
        "    f *= x\n",
        "  return f\n",
        "\n",
        "# Перестановки без повторений - n!\n",
        "def P(n):  \n",
        "  return factorial(n)\n",
        "\n",
        "# Сочетания без повторений - n! / ((n-m)! * m!)\n",
        "def C_n_m(n, m):\n",
        "  return factorial(n) / (factorial(n-m) * factorial(m))\n",
        "\n",
        "# Размещения без повторений - C_n_m * P_m\n",
        "def A_n_m(n, m):\n",
        "  return C_n_m(n, m) * P(m)\n",
        "\n",
        "# Перестановки с повторениями - n! / (n_1! * n_2! * n_3!...n_k!)\n",
        "def P_rep(n, m):  # m принимается списком в котором хранятся числа повторений очередного объекта\n",
        "  add = 1\n",
        "  for x in m:\n",
        "    add *= factorial(x)\n",
        "  return factorial(n) / add\n",
        "\n",
        "# Сочетания с повторениями - (n+m-1)! / ((n-1)! * m!)\n",
        "def C_n_m_rep(n, m):\n",
        "  return factorial(n+m-1) / (factorial(n-1) * factorial(m))\n",
        "\n",
        "# Размещения с повторениями - n ** m\n",
        "def A_n_m_rep(n, m):\n",
        "  return n ** m"
      ],
      "execution_count": null,
      "outputs": []
    },
    {
      "cell_type": "code",
      "metadata": {
        "colab": {
          "base_uri": "https://localhost:8080/"
        },
        "id": "G4VZXBJwpOQK",
        "outputId": "cfd1d559-ffad-47bc-98e6-02fbf2e3b337"
      },
      "source": [
        "  n = C_n_m_rep(20,20)\n",
        "  m = 20\n",
        "  P = m/n\n",
        "  print(\"вероятность выпадения 20 решек составляет \",P)"
      ],
      "execution_count": null,
      "outputs": [
        {
          "output_type": "stream",
          "name": "stdout",
          "text": [
            "вероятность выпадения 20 решек составляет  2.9017778207699376e-10\n"
          ]
        }
      ]
    },
    {
      "cell_type": "code",
      "metadata": {
        "colab": {
          "base_uri": "https://localhost:8080/"
        },
        "id": "c-E7VhevjABf",
        "outputId": "9b6401a4-9ba2-429c-f2f3-c7c3f72a9355"
      },
      "source": [
        "n = C_n_m_rep(20,20)\n",
        "n"
      ],
      "execution_count": null,
      "outputs": [
        {
          "output_type": "execute_result",
          "data": {
            "text/plain": [
              "68923264410.0"
            ]
          },
          "metadata": {},
          "execution_count": 18
        }
      ]
    },
    {
      "cell_type": "code",
      "metadata": {
        "id": "RhUNGeG3wvUf"
      },
      "source": [
        "import pymc3 as pm\n",
        "from scipy import stats\n",
        "from math import factorial\n",
        "\n",
        "\n",
        "\n",
        "def num_of_successes(n, k):\n",
        "    return factorial(n)/(factorial(k) * factorial(n - k))\n",
        "\n",
        "\n",
        "def probability_of_success(p, n, k):\n",
        "    C_kn = num_of_successes(n, k)\n",
        "    return C_kn * (p**k) * (1 - p)**(n - k)\n",
        "\n"
      ],
      "execution_count": null,
      "outputs": []
    },
    {
      "cell_type": "code",
      "metadata": {
        "colab": {
          "base_uri": "https://localhost:8080/"
        },
        "id": "8xDoIqGYxO97",
        "outputId": "f6a574d8-3428-4fbc-b753-8f510af178f8"
      },
      "source": [
        "print(\"вероятность выпадения орла минимум на половине монет составит: \",probability_of_success(p=0.5, n=20, k=10))"
      ],
      "execution_count": null,
      "outputs": [
        {
          "output_type": "stream",
          "name": "stdout",
          "text": [
            "вероятность выпадения орла минимум на половине монет составит:  0.17619705200195312\n"
          ]
        }
      ]
    },
    {
      "cell_type": "markdown",
      "metadata": {
        "id": "wEfHIN4Msil3"
      },
      "source": [
        "Задача 4\n",
        "\n",
        "Какова вероятность того, что в 5 сданных картах будет один туз и один король? (Колода 36 карт)."
      ]
    },
    {
      "cell_type": "code",
      "metadata": {
        "id": "ok4Qqr77tNfr",
        "colab": {
          "base_uri": "https://localhost:8080/"
        },
        "outputId": "923cdc0f-d500-46e2-833a-de18c32e9b26"
      },
      "source": [
        ""
      ],
      "execution_count": null,
      "outputs": [
        {
          "output_type": "execute_result",
          "data": {
            "text/plain": [
              "4.244121891180715e-05"
            ]
          },
          "metadata": {},
          "execution_count": 50
        }
      ]
    },
    {
      "cell_type": "code",
      "metadata": {
        "colab": {
          "base_uri": "https://localhost:8080/"
        },
        "id": "Ci2Ng3_hcP1D",
        "outputId": "a48f971a-864a-4e8e-945c-c12b49a00fe2"
      },
      "source": [
        "n = C_n_m(36,5)                          # Всего возможно исходов\n",
        "m = C_n_m(4,1)*C_n_m(4,1)*C_n_m(28,3)    # Исходы их 4 королей, 4 тузов и оставшихся 28 карт\n",
        "P = m/n\n",
        "P"
      ],
      "execution_count": null,
      "outputs": [
        {
          "output_type": "execute_result",
          "data": {
            "text/plain": [
              "0.13903743315508021"
            ]
          },
          "metadata": {},
          "execution_count": 5
        }
      ]
    },
    {
      "cell_type": "markdown",
      "metadata": {
        "id": "BliQqjAGtNvE"
      },
      "source": [
        "Задача 5\n",
        "\n",
        "В ящике находится 19 качественных и 4 бракованных детали. Наугад извлекаются 2 детали. Найти вероятность того, что\n",
        "\n",
        "* обе детали будут качественными;\n",
        "* обе детали будут бракованными;\n",
        "* одна деталь будет качественной, а одна – бракованной."
      ]
    },
    {
      "cell_type": "code",
      "metadata": {
        "id": "Ukb4LWyWt0Lo",
        "colab": {
          "base_uri": "https://localhost:8080/"
        },
        "outputId": "a4cb2508-71da-4df1-92b4-9b9f8a948087"
      },
      "source": [
        "P = 19/23*18/22    # вероятность извлечения 2 качественных деталей \n",
        "P"
      ],
      "execution_count": null,
      "outputs": [
        {
          "output_type": "execute_result",
          "data": {
            "text/plain": [
              "0.6758893280632411"
            ]
          },
          "metadata": {},
          "execution_count": 52
        }
      ]
    },
    {
      "cell_type": "code",
      "metadata": {
        "colab": {
          "base_uri": "https://localhost:8080/"
        },
        "id": "xJ_x361y54zM",
        "outputId": "4031822b-2fdf-4f85-b573-520f630cf04a"
      },
      "source": [
        "P = 4/23*3/22    # вероятность извлечения 2 некачественных деталей \n",
        "P"
      ],
      "execution_count": null,
      "outputs": [
        {
          "output_type": "execute_result",
          "data": {
            "text/plain": [
              "0.023715415019762844"
            ]
          },
          "metadata": {},
          "execution_count": 53
        }
      ]
    },
    {
      "cell_type": "code",
      "metadata": {
        "colab": {
          "base_uri": "https://localhost:8080/"
        },
        "id": "vcd-Rrb75494",
        "outputId": "873a687e-e52e-4b70-f891-089b5545afb8"
      },
      "source": [
        "P = 19/23*4/22    # вероятность извлечения 1 некачественной детали и 1 качественной \n",
        "P"
      ],
      "execution_count": null,
      "outputs": [
        {
          "output_type": "execute_result",
          "data": {
            "text/plain": [
              "0.15019762845849802"
            ]
          },
          "metadata": {},
          "execution_count": 54
        }
      ]
    },
    {
      "cell_type": "code",
      "metadata": {
        "colab": {
          "base_uri": "https://localhost:8080/"
        },
        "id": "aacP07S86J8x",
        "outputId": "a6869372-8812-4dbd-e78f-468bf6001a4c"
      },
      "source": [
        "P = 4/23*18/22    # вероятность извлечения 1 некачественной детали и 1 качественной \n",
        "P"
      ],
      "execution_count": null,
      "outputs": [
        {
          "output_type": "execute_result",
          "data": {
            "text/plain": [
              "0.14229249011857706"
            ]
          },
          "metadata": {},
          "execution_count": 55
        }
      ]
    }
  ]
}