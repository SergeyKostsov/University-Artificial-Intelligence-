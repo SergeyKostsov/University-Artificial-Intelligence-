{
  "nbformat": 4,
  "nbformat_minor": 0,
  "metadata": {
    "colab": {
      "name": "Копия блокнота \"First_my_layer_ultra_pro.ipynb\"",
      "provenance": [],
      "collapsed_sections": []
    },
    "kernelspec": {
      "name": "python3",
      "display_name": "Python 3"
    },
    "language_info": {
      "name": "python"
    }
  },
  "cells": [
    {
      "cell_type": "code",
      "metadata": {
        "id": "-EB5Fvic0qKv"
      },
      "source": [
        "from tensorflow.keras.datasets import mnist #Библиотека с базой Mnist\n",
        "from tensorflow.keras.models import Sequential # Подлючаем класс создания модели Sequential\n",
        "from tensorflow.keras.layers import Dense # Подключаем класс Dense - полносвязный слой\n",
        "from tensorflow.keras.optimizers import Adam # Подключаем оптимизатор Adam\n",
        "from tensorflow.keras import utils #Утилиты для to_categorical\n",
        "from tensorflow.keras.preprocessing import image #Для отрисовки изображения\n",
        "import numpy as np # Подключаем библиотеку numpy\n",
        "import pylab # Модуль для построения графиков\n",
        "from mpl_toolkits.mplot3d import Axes3D # Модуль для трехмерной графики\n",
        "from google.colab import files #Для загрузки своей картинки\n",
        "import matplotlib.pyplot as plt #Отрисовка изображений\n",
        "from PIL import Image #Отрисовка изображений\n",
        "#Отрисовывать изображения в ноутбуке, а не в консоль или файл\n",
        "%matplotlib inline \n",
        "from tensorflow.keras.models import save_model, load_model\n"
      ],
      "execution_count": null,
      "outputs": []
    },
    {
      "cell_type": "code",
      "metadata": {
        "colab": {
          "base_uri": "https://localhost:8080/"
        },
        "id": "Tif2kBJ8thPF",
        "outputId": "796575f7-dcf9-457f-f4d3-d89dd07669cb"
      },
      "source": [
        "# Для загрузки данных используем drive\n",
        "from google.colab import drive\n",
        "drive.mount('/content/drive')"
      ],
      "execution_count": null,
      "outputs": [
        {
          "output_type": "stream",
          "name": "stdout",
          "text": [
            "Mounted at /content/drive\n"
          ]
        }
      ]
    },
    {
      "cell_type": "code",
      "metadata": {
        "id": "kr3uVTwUtj1g"
      },
      "source": [
        "imgf = image.load_img('/content/drive/MyDrive/FotoFour.jpg', target_size=(28,28), color_mode = 'grayscale') # Загружаю картинку"
      ],
      "execution_count": null,
      "outputs": []
    },
    {
      "cell_type": "code",
      "metadata": {
        "colab": {
          "base_uri": "https://localhost:8080/",
          "height": 45
        },
        "id": "7-a6HnBftku6",
        "outputId": "cba095c3-cf8b-41f9-9cb8-90f184941acd"
      },
      "source": [
        "imgf"
      ],
      "execution_count": null,
      "outputs": [
        {
          "output_type": "execute_result",
          "data": {
            "image/png": "[encoded data removed]",
            "text/plain": [
              "<PIL.Image.Image image mode=L size=28x28 at 0x7F7E11031F50>"
            ]
          },
          "metadata": {},
          "execution_count": 4
        }
      ]
    },
    {
      "cell_type": "code",
      "metadata": {
        "id": "00r2B4x3tm1Q"
      },
      "source": [
        "imgf = image.img_to_array(imgf)     # Преобразую в массив"
      ],
      "execution_count": null,
      "outputs": []
    },
    {
      "cell_type": "code",
      "metadata": {
        "colab": {
          "base_uri": "https://localhost:8080/"
        },
        "id": "cVaqnoSEuF6q",
        "outputId": "c8fe5ba7-05f4-46ab-f4f2-746f42ed1fdb"
      },
      "source": [
        "imgf.shape"
      ],
      "execution_count": null,
      "outputs": [
        {
          "output_type": "execute_result",
          "data": {
            "text/plain": [
              "(28, 28, 1)"
            ]
          },
          "metadata": {},
          "execution_count": 6
        }
      ]
    },
    {
      "cell_type": "code",
      "metadata": {
        "colab": {
          "base_uri": "https://localhost:8080/"
        },
        "id": "d16_8uqduUFH",
        "outputId": "176b0b35-3a7f-4255-c4d2-c850ea9737fa"
      },
      "source": [
        "imgf=255-imgf     # Инверсия цветов картинки\n",
        "imgf"
      ],
      "execution_count": null,
      "outputs": [
        {
          "output_type": "execute_result",
          "data": {
            "text/plain": [
              "array([[[ 68.],\n",
              "        [ 46.],\n",
              "        [ 48.],\n",
              "        [ 52.],\n",
              "        [ 49.],\n",
              "        [ 52.],\n",
              "        [ 53.],\n",
              "        [ 58.],\n",
              "        [ 55.],\n",
              "        [ 56.],\n",
              "        [ 53.],\n",
              "        [ 53.],\n",
              "        [ 62.],\n",
              "        [ 54.],\n",
              "        [ 50.],\n",
              "        [ 54.],\n",
              "        [ 55.],\n",
              "        [ 52.],\n",
              "        [ 55.],\n",
              "        [ 61.],\n",
              "        [ 56.],\n",
              "        [ 57.],\n",
              "        [ 52.],\n",
              "        [ 61.],\n",
              "        [ 56.],\n",
              "        [ 54.],\n",
              "        [ 51.],\n",
              "        [ 58.]],\n",
              "\n",
              "       [[ 51.],\n",
              "        [ 41.],\n",
              "        [ 49.],\n",
              "        [ 50.],\n",
              "        [ 48.],\n",
              "        [ 52.],\n",
              "        [ 51.],\n",
              "        [ 56.],\n",
              "        [ 59.],\n",
              "        [ 54.],\n",
              "        [ 55.],\n",
              "        [ 59.],\n",
              "        [ 58.],\n",
              "        [ 54.],\n",
              "        [ 52.],\n",
              "        [ 53.],\n",
              "        [ 54.],\n",
              "        [ 51.],\n",
              "        [ 55.],\n",
              "        [ 63.],\n",
              "        [ 58.],\n",
              "        [ 55.],\n",
              "        [ 55.],\n",
              "        [ 54.],\n",
              "        [ 57.],\n",
              "        [ 55.],\n",
              "        [ 53.],\n",
              "        [ 52.]],\n",
              "\n",
              "       [[ 43.],\n",
              "        [ 47.],\n",
              "        [ 49.],\n",
              "        [ 49.],\n",
              "        [ 51.],\n",
              "        [ 51.],\n",
              "        [ 52.],\n",
              "        [ 54.],\n",
              "        [ 55.],\n",
              "        [ 53.],\n",
              "        [ 56.],\n",
              "        [ 60.],\n",
              "        [ 54.],\n",
              "        [ 55.],\n",
              "        [ 52.],\n",
              "        [ 55.],\n",
              "        [ 53.],\n",
              "        [ 57.],\n",
              "        [ 59.],\n",
              "        [ 59.],\n",
              "        [ 58.],\n",
              "        [ 52.],\n",
              "        [ 52.],\n",
              "        [ 54.],\n",
              "        [ 57.],\n",
              "        [ 53.],\n",
              "        [ 54.],\n",
              "        [ 55.]],\n",
              "\n",
              "       [[ 46.],\n",
              "        [ 50.],\n",
              "        [ 50.],\n",
              "        [ 49.],\n",
              "        [ 49.],\n",
              "        [ 50.],\n",
              "        [ 53.],\n",
              "        [ 53.],\n",
              "        [ 52.],\n",
              "        [ 54.],\n",
              "        [ 72.],\n",
              "        [ 81.],\n",
              "        [ 55.],\n",
              "        [ 56.],\n",
              "        [ 55.],\n",
              "        [ 54.],\n",
              "        [ 58.],\n",
              "        [ 55.],\n",
              "        [ 53.],\n",
              "        [ 55.],\n",
              "        [ 58.],\n",
              "        [ 53.],\n",
              "        [ 58.],\n",
              "        [ 55.],\n",
              "        [ 53.],\n",
              "        [ 57.],\n",
              "        [ 54.],\n",
              "        [ 53.]],\n",
              "\n",
              "       [[ 49.],\n",
              "        [ 50.],\n",
              "        [ 52.],\n",
              "        [ 52.],\n",
              "        [ 49.],\n",
              "        [ 51.],\n",
              "        [ 54.],\n",
              "        [ 50.],\n",
              "        [ 56.],\n",
              "        [ 75.],\n",
              "        [161.],\n",
              "        [132.],\n",
              "        [ 67.],\n",
              "        [ 53.],\n",
              "        [ 60.],\n",
              "        [ 53.],\n",
              "        [ 57.],\n",
              "        [ 59.],\n",
              "        [ 60.],\n",
              "        [ 61.],\n",
              "        [103.],\n",
              "        [ 90.],\n",
              "        [ 54.],\n",
              "        [ 53.],\n",
              "        [ 59.],\n",
              "        [ 53.],\n",
              "        [ 58.],\n",
              "        [ 55.]],\n",
              "\n",
              "       [[ 46.],\n",
              "        [ 50.],\n",
              "        [ 49.],\n",
              "        [ 49.],\n",
              "        [ 51.],\n",
              "        [ 52.],\n",
              "        [ 52.],\n",
              "        [ 50.],\n",
              "        [ 54.],\n",
              "        [101.],\n",
              "        [156.],\n",
              "        [165.],\n",
              "        [ 75.],\n",
              "        [ 59.],\n",
              "        [ 54.],\n",
              "        [ 52.],\n",
              "        [ 58.],\n",
              "        [ 56.],\n",
              "        [ 56.],\n",
              "        [ 79.],\n",
              "        [125.],\n",
              "        [126.],\n",
              "        [ 57.],\n",
              "        [ 55.],\n",
              "        [ 59.],\n",
              "        [ 55.],\n",
              "        [ 53.],\n",
              "        [ 60.]],\n",
              "\n",
              "       [[ 45.],\n",
              "        [ 50.],\n",
              "        [ 50.],\n",
              "        [ 53.],\n",
              "        [ 54.],\n",
              "        [ 52.],\n",
              "        [ 54.],\n",
              "        [ 51.],\n",
              "        [ 51.],\n",
              "        [ 86.],\n",
              "        [158.],\n",
              "        [191.],\n",
              "        [ 88.],\n",
              "        [ 62.],\n",
              "        [ 59.],\n",
              "        [ 54.],\n",
              "        [ 58.],\n",
              "        [ 54.],\n",
              "        [ 58.],\n",
              "        [ 87.],\n",
              "        [132.],\n",
              "        [119.],\n",
              "        [ 58.],\n",
              "        [ 56.],\n",
              "        [ 56.],\n",
              "        [ 64.],\n",
              "        [ 54.],\n",
              "        [ 58.]],\n",
              "\n",
              "       [[ 47.],\n",
              "        [ 54.],\n",
              "        [ 45.],\n",
              "        [ 55.],\n",
              "        [ 50.],\n",
              "        [ 50.],\n",
              "        [ 50.],\n",
              "        [ 51.],\n",
              "        [ 53.],\n",
              "        [ 93.],\n",
              "        [141.],\n",
              "        [139.],\n",
              "        [ 69.],\n",
              "        [ 59.],\n",
              "        [ 58.],\n",
              "        [ 55.],\n",
              "        [ 57.],\n",
              "        [ 54.],\n",
              "        [ 68.],\n",
              "        [ 70.],\n",
              "        [102.],\n",
              "        [ 68.],\n",
              "        [ 59.],\n",
              "        [ 58.],\n",
              "        [ 55.],\n",
              "        [ 61.],\n",
              "        [ 54.],\n",
              "        [ 54.]],\n",
              "\n",
              "       [[ 48.],\n",
              "        [ 51.],\n",
              "        [ 49.],\n",
              "        [ 53.],\n",
              "        [ 50.],\n",
              "        [ 54.],\n",
              "        [ 50.],\n",
              "        [ 51.],\n",
              "        [ 54.],\n",
              "        [ 87.],\n",
              "        [165.],\n",
              "        [142.],\n",
              "        [ 77.],\n",
              "        [ 57.],\n",
              "        [ 60.],\n",
              "        [ 58.],\n",
              "        [ 54.],\n",
              "        [ 58.],\n",
              "        [ 82.],\n",
              "        [135.],\n",
              "        [129.],\n",
              "        [ 60.],\n",
              "        [ 54.],\n",
              "        [ 56.],\n",
              "        [ 57.],\n",
              "        [ 61.],\n",
              "        [ 56.],\n",
              "        [ 56.]],\n",
              "\n",
              "       [[ 49.],\n",
              "        [ 52.],\n",
              "        [ 52.],\n",
              "        [ 53.],\n",
              "        [ 50.],\n",
              "        [ 52.],\n",
              "        [ 53.],\n",
              "        [ 50.],\n",
              "        [ 52.],\n",
              "        [136.],\n",
              "        [188.],\n",
              "        [103.],\n",
              "        [ 63.],\n",
              "        [ 55.],\n",
              "        [ 57.],\n",
              "        [ 59.],\n",
              "        [ 54.],\n",
              "        [ 55.],\n",
              "        [109.],\n",
              "        [164.],\n",
              "        [108.],\n",
              "        [ 62.],\n",
              "        [ 58.],\n",
              "        [ 54.],\n",
              "        [ 56.],\n",
              "        [ 57.],\n",
              "        [ 60.],\n",
              "        [ 61.]],\n",
              "\n",
              "       [[ 50.],\n",
              "        [ 53.],\n",
              "        [ 52.],\n",
              "        [ 51.],\n",
              "        [ 48.],\n",
              "        [ 54.],\n",
              "        [ 49.],\n",
              "        [ 52.],\n",
              "        [ 55.],\n",
              "        [143.],\n",
              "        [188.],\n",
              "        [129.],\n",
              "        [ 70.],\n",
              "        [ 53.],\n",
              "        [ 61.],\n",
              "        [ 51.],\n",
              "        [ 56.],\n",
              "        [ 61.],\n",
              "        [126.],\n",
              "        [188.],\n",
              "        [ 90.],\n",
              "        [ 56.],\n",
              "        [ 55.],\n",
              "        [ 55.],\n",
              "        [ 57.],\n",
              "        [ 53.],\n",
              "        [ 64.],\n",
              "        [ 56.]],\n",
              "\n",
              "       [[ 50.],\n",
              "        [ 50.],\n",
              "        [ 52.],\n",
              "        [ 49.],\n",
              "        [ 49.],\n",
              "        [ 53.],\n",
              "        [ 50.],\n",
              "        [ 51.],\n",
              "        [ 73.],\n",
              "        [178.],\n",
              "        [207.],\n",
              "        [102.],\n",
              "        [ 64.],\n",
              "        [ 52.],\n",
              "        [ 54.],\n",
              "        [ 53.],\n",
              "        [ 57.],\n",
              "        [ 54.],\n",
              "        [152.],\n",
              "        [184.],\n",
              "        [ 87.],\n",
              "        [ 56.],\n",
              "        [ 53.],\n",
              "        [ 57.],\n",
              "        [ 54.],\n",
              "        [ 58.],\n",
              "        [ 64.],\n",
              "        [ 51.]],\n",
              "\n",
              "       [[ 48.],\n",
              "        [ 53.],\n",
              "        [ 52.],\n",
              "        [ 49.],\n",
              "        [ 50.],\n",
              "        [ 50.],\n",
              "        [ 51.],\n",
              "        [ 52.],\n",
              "        [ 76.],\n",
              "        [183.],\n",
              "        [198.],\n",
              "        [124.],\n",
              "        [ 62.],\n",
              "        [ 53.],\n",
              "        [ 58.],\n",
              "        [ 55.],\n",
              "        [ 55.],\n",
              "        [ 61.],\n",
              "        [170.],\n",
              "        [191.],\n",
              "        [ 68.],\n",
              "        [ 55.],\n",
              "        [ 53.],\n",
              "        [ 59.],\n",
              "        [ 56.],\n",
              "        [ 50.],\n",
              "        [ 66.],\n",
              "        [ 48.]],\n",
              "\n",
              "       [[ 51.],\n",
              "        [ 52.],\n",
              "        [ 49.],\n",
              "        [ 52.],\n",
              "        [ 50.],\n",
              "        [ 52.],\n",
              "        [ 52.],\n",
              "        [ 50.],\n",
              "        [ 82.],\n",
              "        [167.],\n",
              "        [211.],\n",
              "        [140.],\n",
              "        [ 67.],\n",
              "        [ 55.],\n",
              "        [ 58.],\n",
              "        [ 59.],\n",
              "        [ 59.],\n",
              "        [ 75.],\n",
              "        [166.],\n",
              "        [193.],\n",
              "        [ 63.],\n",
              "        [ 56.],\n",
              "        [ 59.],\n",
              "        [ 55.],\n",
              "        [ 56.],\n",
              "        [ 57.],\n",
              "        [ 54.],\n",
              "        [ 55.]],\n",
              "\n",
              "       [[ 51.],\n",
              "        [ 54.],\n",
              "        [ 49.],\n",
              "        [ 52.],\n",
              "        [ 50.],\n",
              "        [ 51.],\n",
              "        [ 49.],\n",
              "        [ 50.],\n",
              "        [ 97.],\n",
              "        [192.],\n",
              "        [207.],\n",
              "        [165.],\n",
              "        [109.],\n",
              "        [104.],\n",
              "        [102.],\n",
              "        [ 90.],\n",
              "        [ 70.],\n",
              "        [109.],\n",
              "        [191.],\n",
              "        [157.],\n",
              "        [ 66.],\n",
              "        [ 57.],\n",
              "        [ 56.],\n",
              "        [ 54.],\n",
              "        [ 52.],\n",
              "        [ 58.],\n",
              "        [ 53.],\n",
              "        [ 57.]],\n",
              "\n",
              "       [[ 55.],\n",
              "        [ 53.],\n",
              "        [ 51.],\n",
              "        [ 48.],\n",
              "        [ 49.],\n",
              "        [ 49.],\n",
              "        [ 50.],\n",
              "        [ 52.],\n",
              "        [110.],\n",
              "        [188.],\n",
              "        [196.],\n",
              "        [181.],\n",
              "        [162.],\n",
              "        [144.],\n",
              "        [169.],\n",
              "        [150.],\n",
              "        [153.],\n",
              "        [166.],\n",
              "        [199.],\n",
              "        [149.],\n",
              "        [ 58.],\n",
              "        [ 59.],\n",
              "        [ 53.],\n",
              "        [ 55.],\n",
              "        [ 53.],\n",
              "        [ 59.],\n",
              "        [ 59.],\n",
              "        [ 54.]],\n",
              "\n",
              "       [[ 53.],\n",
              "        [ 52.],\n",
              "        [ 51.],\n",
              "        [ 49.],\n",
              "        [ 51.],\n",
              "        [ 51.],\n",
              "        [ 50.],\n",
              "        [ 57.],\n",
              "        [ 59.],\n",
              "        [101.],\n",
              "        [117.],\n",
              "        [ 86.],\n",
              "        [ 69.],\n",
              "        [ 69.],\n",
              "        [ 63.],\n",
              "        [ 73.],\n",
              "        [ 86.],\n",
              "        [120.],\n",
              "        [198.],\n",
              "        [114.],\n",
              "        [ 65.],\n",
              "        [ 55.],\n",
              "        [ 54.],\n",
              "        [ 54.],\n",
              "        [ 51.],\n",
              "        [ 59.],\n",
              "        [ 53.],\n",
              "        [ 57.]],\n",
              "\n",
              "       [[ 50.],\n",
              "        [ 52.],\n",
              "        [ 50.],\n",
              "        [ 50.],\n",
              "        [ 50.],\n",
              "        [ 52.],\n",
              "        [ 51.],\n",
              "        [ 54.],\n",
              "        [ 53.],\n",
              "        [ 52.],\n",
              "        [ 55.],\n",
              "        [ 59.],\n",
              "        [ 55.],\n",
              "        [ 55.],\n",
              "        [ 60.],\n",
              "        [ 59.],\n",
              "        [ 85.],\n",
              "        [180.],\n",
              "        [200.],\n",
              "        [ 88.],\n",
              "        [ 67.],\n",
              "        [ 58.],\n",
              "        [ 56.],\n",
              "        [ 53.],\n",
              "        [ 52.],\n",
              "        [ 58.],\n",
              "        [ 57.],\n",
              "        [ 52.]],\n",
              "\n",
              "       [[ 51.],\n",
              "        [ 51.],\n",
              "        [ 51.],\n",
              "        [ 49.],\n",
              "        [ 52.],\n",
              "        [ 51.],\n",
              "        [ 52.],\n",
              "        [ 53.],\n",
              "        [ 51.],\n",
              "        [ 51.],\n",
              "        [ 53.],\n",
              "        [ 54.],\n",
              "        [ 55.],\n",
              "        [ 52.],\n",
              "        [ 61.],\n",
              "        [ 55.],\n",
              "        [ 68.],\n",
              "        [132.],\n",
              "        [196.],\n",
              "        [ 95.],\n",
              "        [ 56.],\n",
              "        [ 58.],\n",
              "        [ 53.],\n",
              "        [ 54.],\n",
              "        [ 57.],\n",
              "        [ 58.],\n",
              "        [ 57.],\n",
              "        [ 54.]],\n",
              "\n",
              "       [[ 51.],\n",
              "        [ 50.],\n",
              "        [ 52.],\n",
              "        [ 49.],\n",
              "        [ 50.],\n",
              "        [ 53.],\n",
              "        [ 52.],\n",
              "        [ 50.],\n",
              "        [ 52.],\n",
              "        [ 53.],\n",
              "        [ 52.],\n",
              "        [ 52.],\n",
              "        [ 54.],\n",
              "        [ 53.],\n",
              "        [ 56.],\n",
              "        [ 56.],\n",
              "        [ 93.],\n",
              "        [149.],\n",
              "        [192.],\n",
              "        [ 89.],\n",
              "        [ 64.],\n",
              "        [ 53.],\n",
              "        [ 54.],\n",
              "        [ 58.],\n",
              "        [ 53.],\n",
              "        [ 51.],\n",
              "        [ 60.],\n",
              "        [ 53.]],\n",
              "\n",
              "       [[ 50.],\n",
              "        [ 51.],\n",
              "        [ 49.],\n",
              "        [ 49.],\n",
              "        [ 49.],\n",
              "        [ 54.],\n",
              "        [ 50.],\n",
              "        [ 52.],\n",
              "        [ 52.],\n",
              "        [ 56.],\n",
              "        [ 52.],\n",
              "        [ 51.],\n",
              "        [ 50.],\n",
              "        [ 54.],\n",
              "        [ 56.],\n",
              "        [ 60.],\n",
              "        [159.],\n",
              "        [183.],\n",
              "        [142.],\n",
              "        [ 69.],\n",
              "        [ 61.],\n",
              "        [ 56.],\n",
              "        [ 55.],\n",
              "        [ 55.],\n",
              "        [ 48.],\n",
              "        [ 53.],\n",
              "        [ 65.],\n",
              "        [ 53.]],\n",
              "\n",
              "       [[ 49.],\n",
              "        [ 52.],\n",
              "        [ 52.],\n",
              "        [ 50.],\n",
              "        [ 50.],\n",
              "        [ 57.],\n",
              "        [ 51.],\n",
              "        [ 51.],\n",
              "        [ 51.],\n",
              "        [ 55.],\n",
              "        [ 52.],\n",
              "        [ 53.],\n",
              "        [ 49.],\n",
              "        [ 53.],\n",
              "        [ 52.],\n",
              "        [ 76.],\n",
              "        [147.],\n",
              "        [183.],\n",
              "        [ 99.],\n",
              "        [ 56.],\n",
              "        [ 59.],\n",
              "        [ 54.],\n",
              "        [ 53.],\n",
              "        [ 59.],\n",
              "        [ 49.],\n",
              "        [ 54.],\n",
              "        [ 62.],\n",
              "        [ 53.]],\n",
              "\n",
              "       [[ 51.],\n",
              "        [ 50.],\n",
              "        [ 49.],\n",
              "        [ 50.],\n",
              "        [ 49.],\n",
              "        [ 52.],\n",
              "        [ 53.],\n",
              "        [ 52.],\n",
              "        [ 53.],\n",
              "        [ 55.],\n",
              "        [ 52.],\n",
              "        [ 52.],\n",
              "        [ 49.],\n",
              "        [ 52.],\n",
              "        [ 52.],\n",
              "        [ 73.],\n",
              "        [151.],\n",
              "        [179.],\n",
              "        [ 75.],\n",
              "        [ 60.],\n",
              "        [ 58.],\n",
              "        [ 52.],\n",
              "        [ 53.],\n",
              "        [ 55.],\n",
              "        [ 51.],\n",
              "        [ 57.],\n",
              "        [ 57.],\n",
              "        [ 52.]],\n",
              "\n",
              "       [[ 51.],\n",
              "        [ 53.],\n",
              "        [ 52.],\n",
              "        [ 50.],\n",
              "        [ 52.],\n",
              "        [ 52.],\n",
              "        [ 52.],\n",
              "        [ 52.],\n",
              "        [ 54.],\n",
              "        [ 54.],\n",
              "        [ 53.],\n",
              "        [ 52.],\n",
              "        [ 50.],\n",
              "        [ 52.],\n",
              "        [ 51.],\n",
              "        [ 54.],\n",
              "        [ 67.],\n",
              "        [ 68.],\n",
              "        [ 58.],\n",
              "        [ 60.],\n",
              "        [ 53.],\n",
              "        [ 52.],\n",
              "        [ 55.],\n",
              "        [ 53.],\n",
              "        [ 55.],\n",
              "        [ 58.],\n",
              "        [ 56.],\n",
              "        [ 54.]],\n",
              "\n",
              "       [[ 53.],\n",
              "        [ 54.],\n",
              "        [ 52.],\n",
              "        [ 49.],\n",
              "        [ 52.],\n",
              "        [ 53.],\n",
              "        [ 55.],\n",
              "        [ 49.],\n",
              "        [ 52.],\n",
              "        [ 53.],\n",
              "        [ 55.],\n",
              "        [ 50.],\n",
              "        [ 49.],\n",
              "        [ 52.],\n",
              "        [ 51.],\n",
              "        [ 54.],\n",
              "        [ 55.],\n",
              "        [ 55.],\n",
              "        [ 53.],\n",
              "        [ 54.],\n",
              "        [ 53.],\n",
              "        [ 57.],\n",
              "        [ 51.],\n",
              "        [ 53.],\n",
              "        [ 51.],\n",
              "        [ 58.],\n",
              "        [ 55.],\n",
              "        [ 57.]],\n",
              "\n",
              "       [[ 49.],\n",
              "        [ 54.],\n",
              "        [ 53.],\n",
              "        [ 53.],\n",
              "        [ 51.],\n",
              "        [ 51.],\n",
              "        [ 54.],\n",
              "        [ 52.],\n",
              "        [ 50.],\n",
              "        [ 55.],\n",
              "        [ 56.],\n",
              "        [ 53.],\n",
              "        [ 53.],\n",
              "        [ 53.],\n",
              "        [ 51.],\n",
              "        [ 53.],\n",
              "        [ 52.],\n",
              "        [ 53.],\n",
              "        [ 52.],\n",
              "        [ 59.],\n",
              "        [ 51.],\n",
              "        [ 57.],\n",
              "        [ 53.],\n",
              "        [ 52.],\n",
              "        [ 50.],\n",
              "        [ 55.],\n",
              "        [ 53.],\n",
              "        [ 58.]],\n",
              "\n",
              "       [[ 49.],\n",
              "        [ 54.],\n",
              "        [ 53.],\n",
              "        [ 53.],\n",
              "        [ 51.],\n",
              "        [ 51.],\n",
              "        [ 51.],\n",
              "        [ 55.],\n",
              "        [ 53.],\n",
              "        [ 55.],\n",
              "        [ 56.],\n",
              "        [ 55.],\n",
              "        [ 52.],\n",
              "        [ 51.],\n",
              "        [ 51.],\n",
              "        [ 53.],\n",
              "        [ 50.],\n",
              "        [ 50.],\n",
              "        [ 56.],\n",
              "        [ 57.],\n",
              "        [ 53.],\n",
              "        [ 55.],\n",
              "        [ 54.],\n",
              "        [ 55.],\n",
              "        [ 54.],\n",
              "        [ 52.],\n",
              "        [ 52.],\n",
              "        [ 52.]],\n",
              "\n",
              "       [[ 50.],\n",
              "        [ 52.],\n",
              "        [ 52.],\n",
              "        [ 52.],\n",
              "        [ 52.],\n",
              "        [ 50.],\n",
              "        [ 55.],\n",
              "        [ 55.],\n",
              "        [ 54.],\n",
              "        [ 53.],\n",
              "        [ 53.],\n",
              "        [ 52.],\n",
              "        [ 53.],\n",
              "        [ 51.],\n",
              "        [ 49.],\n",
              "        [ 49.],\n",
              "        [ 52.],\n",
              "        [ 53.],\n",
              "        [ 55.],\n",
              "        [ 56.],\n",
              "        [ 56.],\n",
              "        [ 56.],\n",
              "        [ 56.],\n",
              "        [ 53.],\n",
              "        [ 53.],\n",
              "        [ 52.],\n",
              "        [ 56.],\n",
              "        [ 51.]]], dtype=float32)"
            ]
          },
          "metadata": {},
          "execution_count": 7
        }
      ]
    },
    {
      "cell_type": "code",
      "metadata": {
        "colab": {
          "base_uri": "https://localhost:8080/",
          "height": 265
        },
        "id": "HNjUfihlSkhq",
        "outputId": "ee5aaaf8-c55d-49d7-cf38-147a7c164859"
      },
      "source": [
        "plt.imshow(Image.fromarray(imgf[:, :, 0]).convert('RGB'))\n",
        "plt.show()"
      ],
      "execution_count": null,
      "outputs": [
        {
          "output_type": "display_data",
          "data": {
            "image/png": "[encoded data removed]",
            "text/plain": [
              "<Figure size 432x288 with 1 Axes>"
            ]
          },
          "metadata": {
            "needs_background": "light"
          }
        }
      ]
    },
    {
      "cell_type": "code",
      "metadata": {
        "id": "uSsXswDgulAx"
      },
      "source": [
        "imgf = imgf.astype('float32')   # Преобразую во Float32"
      ],
      "execution_count": null,
      "outputs": []
    },
    {
      "cell_type": "code",
      "metadata": {
        "id": "fPpX7e2sulFt"
      },
      "source": [
        "imgf=imgf/255       # Нормализация данных"
      ],
      "execution_count": null,
      "outputs": []
    },
    {
      "cell_type": "code",
      "metadata": {
        "id": "dS5h-MCCulJH"
      },
      "source": [
        "imgf = imgf.reshape(1, 784)     #  Решейп"
      ],
      "execution_count": null,
      "outputs": []
    },
    {
      "cell_type": "code",
      "metadata": {
        "colab": {
          "base_uri": "https://localhost:8080/"
        },
        "id": "c8yEDOw4ulMJ",
        "outputId": "564c946a-7a5a-4cdd-e139-ba20765660ed"
      },
      "source": [
        "imgf.shape"
      ],
      "execution_count": null,
      "outputs": [
        {
          "output_type": "execute_result",
          "data": {
            "text/plain": [
              "(1, 784)"
            ]
          },
          "metadata": {},
          "execution_count": 44
        }
      ]
    },
    {
      "cell_type": "code",
      "metadata": {
        "id": "mq96eUXg0vQm",
        "colab": {
          "base_uri": "https://localhost:8080/"
        },
        "outputId": "a040e4c8-a47f-4dfa-bd21-93d6e6e18c88"
      },
      "source": [
        "(x_train_org, y_train_org), (x_test_org, y_test_org) = mnist.load_data()   # Загрузил данные"
      ],
      "execution_count": null,
      "outputs": [
        {
          "output_type": "stream",
          "name": "stdout",
          "text": [
            "Downloading data from https://storage.googleapis.com/tensorflow/tf-keras-datasets/mnist.npz\n",
            "11493376/11490434 [==============================] - 0s 0us/step\n",
            "11501568/11490434 [==============================] - 0s 0us/step\n"
          ]
        }
      ]
    },
    {
      "cell_type": "code",
      "metadata": {
        "colab": {
          "base_uri": "https://localhost:8080/"
        },
        "id": "yBhjr0IP0vTj",
        "outputId": "81530d82-dbbc-4a38-cc00-3261e8f297fb"
      },
      "source": [
        "print(x_train_org.shape)\n",
        "print(x_test_org.shape)"
      ],
      "execution_count": null,
      "outputs": [
        {
          "output_type": "stream",
          "name": "stdout",
          "text": [
            "(60000, 28, 28)\n",
            "(10000, 28, 28)\n"
          ]
        }
      ]
    },
    {
      "cell_type": "code",
      "metadata": {
        "colab": {
          "base_uri": "https://localhost:8080/",
          "height": 265
        },
        "id": "Mt9J3kJb0vXQ",
        "outputId": "0c33f590-43b0-4acc-9fa0-18c26bca0b81"
      },
      "source": [
        "n = 777  # номер картинки\n",
        "plt.imshow(Image.fromarray(x_train_org[n]).convert('RGB'))   # отрисовка картинки\n",
        "plt.show()  # вывод картинки"
      ],
      "execution_count": null,
      "outputs": [
        {
          "output_type": "display_data",
          "data": {
            "image/png": "[encoded data removed]",
            "text/plain": [
              "<Figure size 432x288 with 1 Axes>"
            ]
          },
          "metadata": {
            "needs_background": "light"
          }
        }
      ]
    },
    {
      "cell_type": "code",
      "metadata": {
        "colab": {
          "base_uri": "https://localhost:8080/"
        },
        "id": "Ez-8zRiT0vZ1",
        "outputId": "32152647-fb25-4fe6-d984-a35365dee6e5"
      },
      "source": [
        "y_train_org[n]"
      ],
      "execution_count": null,
      "outputs": [
        {
          "output_type": "execute_result",
          "data": {
            "text/plain": [
              "8"
            ]
          },
          "metadata": {},
          "execution_count": 15
        }
      ]
    },
    {
      "cell_type": "code",
      "metadata": {
        "colab": {
          "base_uri": "https://localhost:8080/"
        },
        "id": "FyR6KMVS0vc4",
        "outputId": "bd24b6d6-8e07-46bf-b95b-34ffb4e01876"
      },
      "source": [
        "x_train = x_train_org.reshape(60000, 784)     # Меняем размер формата входных \n",
        "x_test = x_test_org.reshape(10000, 784)       # данных\n",
        "print(x_train_org.shape)\n",
        "print(x_train.shape)"
      ],
      "execution_count": null,
      "outputs": [
        {
          "output_type": "stream",
          "name": "stdout",
          "text": [
            "(60000, 28, 28)\n",
            "(60000, 784)\n"
          ]
        }
      ]
    },
    {
      "cell_type": "code",
      "metadata": {
        "colab": {
          "base_uri": "https://localhost:8080/"
        },
        "id": "C-dpElIpvW1R",
        "outputId": "2b6f1944-3aed-4bc5-8bd4-0d412e593bb8"
      },
      "source": [
        "x_train[0].shape"
      ],
      "execution_count": null,
      "outputs": [
        {
          "output_type": "execute_result",
          "data": {
            "text/plain": [
              "(784,)"
            ]
          },
          "metadata": {},
          "execution_count": 17
        }
      ]
    },
    {
      "cell_type": "code",
      "metadata": {
        "id": "dU3_vz3F3E7Z"
      },
      "source": [
        "x_train = x_train.astype('float32')   #Блок нормализации данных входных картинок\n",
        "x_train = x_train / 255               # На 255 делим, чтобы диапазон был от 0 до\n",
        "x_test = x_test.astype('float32')     #  1. Т.к. диапазон цвета от 0 до 255\n",
        "x_test = x_test / 255"
      ],
      "execution_count": null,
      "outputs": []
    },
    {
      "cell_type": "code",
      "metadata": {
        "colab": {
          "base_uri": "https://localhost:8080/"
        },
        "id": "Avv-E4Vc3E-B",
        "outputId": "f9a3dbaf-a9e3-4b3c-e034-99e8eec20914"
      },
      "source": [
        "y_train_org[7777]"
      ],
      "execution_count": null,
      "outputs": [
        {
          "output_type": "execute_result",
          "data": {
            "text/plain": [
              "8"
            ]
          },
          "metadata": {},
          "execution_count": 19
        }
      ]
    },
    {
      "cell_type": "code",
      "metadata": {
        "id": "me5wPcjP3FBj"
      },
      "source": [
        "y_train = utils.to_categorical(y_train_org, 10)   # One hot encoding\n",
        "y_test = utils.to_categorical(y_test_org, 10)"
      ],
      "execution_count": null,
      "outputs": []
    },
    {
      "cell_type": "code",
      "metadata": {
        "colab": {
          "base_uri": "https://localhost:8080/"
        },
        "id": "I_B0PkJJxxdG",
        "outputId": "93bc138c-440f-4018-c4ae-1a6e36ca57b6"
      },
      "source": [
        "x_test .shape"
      ],
      "execution_count": null,
      "outputs": [
        {
          "output_type": "execute_result",
          "data": {
            "text/plain": [
              "(10000, 784)"
            ]
          },
          "metadata": {},
          "execution_count": 21
        }
      ]
    },
    {
      "cell_type": "code",
      "metadata": {
        "colab": {
          "base_uri": "https://localhost:8080/"
        },
        "id": "tQ4F54KJ3FDr",
        "outputId": "5acf16f4-b8f6-402d-ea88-ca50f314fdf4"
      },
      "source": [
        "print(y_train[9])  #Пример выходного вектора\n",
        "print(y_test[9])"
      ],
      "execution_count": null,
      "outputs": [
        {
          "output_type": "stream",
          "name": "stdout",
          "text": [
            "[0. 0. 0. 0. 1. 0. 0. 0. 0. 0.]\n",
            "[0. 0. 0. 0. 0. 0. 0. 0. 0. 1.]\n"
          ]
        }
      ]
    },
    {
      "cell_type": "code",
      "metadata": {
        "colab": {
          "base_uri": "https://localhost:8080/"
        },
        "id": "8j0C8ZXk3FGt",
        "outputId": "8fc56f0f-e4a7-4aee-fffb-7e99784591d9"
      },
      "source": [
        "print(y_train_org.shape)\n",
        "print(y_test_org.shape)"
      ],
      "execution_count": null,
      "outputs": [
        {
          "output_type": "stream",
          "name": "stdout",
          "text": [
            "(60000,)\n",
            "(10000,)\n"
          ]
        }
      ]
    },
    {
      "cell_type": "code",
      "metadata": {
        "colab": {
          "base_uri": "https://localhost:8080/"
        },
        "id": "Y3Rnsv4_3FJE",
        "outputId": "985e4c04-9071-4862-d9c5-736dc9cc9ec1"
      },
      "source": [
        "print(y_train_org[99])\n",
        "print(y_test_org[99])"
      ],
      "execution_count": null,
      "outputs": [
        {
          "output_type": "stream",
          "name": "stdout",
          "text": [
            "1\n",
            "9\n"
          ]
        }
      ]
    },
    {
      "cell_type": "code",
      "metadata": {
        "id": "Weyc7eGqQ8Pz"
      },
      "source": [
        "imgone = image.load_img('/content/drive/MyDrive/Цифра1.png', target_size=(28,28), color_mode = 'grayscale') # Загружаю картинку\n",
        "imgs = image.load_img('/content/drive/MyDrive/Цифра.png', target_size=(28,28), color_mode = 'grayscale') # Загружаю картинку"
      ],
      "execution_count": null,
      "outputs": []
    },
    {
      "cell_type": "code",
      "metadata": {
        "id": "yhVNtnzuQ8TM"
      },
      "source": [
        "imgone = image.img_to_array(imgone)     # Преобразую в массив\n",
        "imgs = image.img_to_array(imgs) "
      ],
      "execution_count": null,
      "outputs": []
    },
    {
      "cell_type": "code",
      "metadata": {
        "id": "l3R4ELk8Q8XK"
      },
      "source": [
        "imgone=255-imgone      # Инверсия цвета\n",
        "imgs=255-imgs"
      ],
      "execution_count": null,
      "outputs": []
    },
    {
      "cell_type": "code",
      "metadata": {
        "id": "fTvWOdqMRGvw"
      },
      "source": [
        "imgone = imgone.astype('float32')   # Преобразую во Float32\n",
        "imgs = imgs.astype('float32')"
      ],
      "execution_count": null,
      "outputs": []
    },
    {
      "cell_type": "code",
      "metadata": {
        "id": "t-2vrnEyRG5K"
      },
      "source": [
        "imgone=imgone/255       # Нормализация данных\n",
        "imgs = imgs/255"
      ],
      "execution_count": null,
      "outputs": []
    },
    {
      "cell_type": "code",
      "metadata": {
        "id": "eNdctAPTRG_I"
      },
      "source": [
        "imgone = imgone.reshape(1, 784)     #  Решейп\n",
        "imgs = imgs.reshape(1,784)"
      ],
      "execution_count": null,
      "outputs": []
    },
    {
      "cell_type": "code",
      "metadata": {
        "colab": {
          "base_uri": "https://localhost:8080/"
        },
        "id": "DP8tLudW7eIg",
        "outputId": "179dc8c8-c6e3-44f7-8490-6902a1dda89f"
      },
      "source": [
        "model = Sequential()    #Создаем пустую нейронную сеть\n",
        "model.add(Dense(800, input_dim = 784, activation='relu'))  #  Полносвязный слой на 800 нейронов\n",
        "model.add(Dense(400, activation='relu'))   #Полносвязный слой на 400 нейронов\n",
        "model.add(Dense(10,activation='softmax'))\n",
        "\n",
        "model.compile(loss='categorical_crossentropy', optimizer='adam', metrics=['accuracy'])  # Компиляция сети\n",
        "print(model.summary())"
      ],
      "execution_count": null,
      "outputs": [
        {
          "output_type": "stream",
          "name": "stdout",
          "text": [
            "Model: \"sequential\"\n",
            "_________________________________________________________________\n",
            " Layer (type)                Output Shape              Param #   \n",
            "=================================================================\n",
            " dense (Dense)               (None, 800)               628000    \n",
            "                                                                 \n",
            " dense_1 (Dense)             (None, 400)               320400    \n",
            "                                                                 \n",
            " dense_2 (Dense)             (None, 10)                4010      \n",
            "                                                                 \n",
            "=================================================================\n",
            "Total params: 952,410\n",
            "Trainable params: 952,410\n",
            "Non-trainable params: 0\n",
            "_________________________________________________________________\n",
            "None\n"
          ]
        }
      ]
    },
    {
      "cell_type": "code",
      "metadata": {
        "colab": {
          "base_uri": "https://localhost:8080/"
        },
        "id": "kTBL6BXK7eMl",
        "outputId": "d1d39c69-9e1c-4836-9388-e4d0f1e91782"
      },
      "source": [
        "model.fit(x_train, y_train, batch_size = 98, epochs=25,verbose=1)   # Обучаем нейронку"
      ],
      "execution_count": null,
      "outputs": [
        {
          "output_type": "stream",
          "name": "stdout",
          "text": [
            "Epoch 1/100\n",
            "613/613 [==============================] - 9s 15ms/step - loss: 0.0089 - accuracy: 0.9973\n",
            "Epoch 2/100\n",
            "613/613 [==============================] - 9s 14ms/step - loss: 0.0067 - accuracy: 0.9980\n",
            "Epoch 3/100\n",
            "613/613 [==============================] - 9s 14ms/step - loss: 0.0047 - accuracy: 0.9985\n",
            "Epoch 4/100\n",
            "613/613 [==============================] - 9s 14ms/step - loss: 0.0058 - accuracy: 0.9984\n",
            "Epoch 5/100\n",
            "613/613 [==============================] - 9s 14ms/step - loss: 0.0074 - accuracy: 0.9980\n",
            "Epoch 6/100\n",
            "613/613 [==============================] - 9s 14ms/step - loss: 0.0051 - accuracy: 0.9985\n",
            "Epoch 7/100\n",
            "613/613 [==============================] - 9s 14ms/step - loss: 0.0024 - accuracy: 0.9994\n",
            "Epoch 8/100\n",
            "613/613 [==============================] - 9s 14ms/step - loss: 0.0107 - accuracy: 0.9971\n",
            "Epoch 9/100\n",
            "613/613 [==============================] - 9s 14ms/step - loss: 0.0049 - accuracy: 0.9983\n",
            "Epoch 10/100\n",
            "613/613 [==============================] - 9s 14ms/step - loss: 0.0070 - accuracy: 0.9984\n",
            "Epoch 11/100\n",
            "613/613 [==============================] - 9s 14ms/step - loss: 0.0046 - accuracy: 0.9990\n",
            "Epoch 12/100\n",
            "613/613 [==============================] - 9s 15ms/step - loss: 0.0064 - accuracy: 0.9984\n",
            "Epoch 13/100\n",
            "613/613 [==============================] - 9s 15ms/step - loss: 0.0040 - accuracy: 0.9989\n",
            "Epoch 14/100\n",
            "613/613 [==============================] - 9s 15ms/step - loss: 0.0057 - accuracy: 0.9986\n",
            "Epoch 15/100\n",
            "613/613 [==============================] - 9s 14ms/step - loss: 0.0076 - accuracy: 0.9979\n",
            "Epoch 16/100\n",
            "613/613 [==============================] - 9s 14ms/step - loss: 0.0021 - accuracy: 0.9994\n",
            "Epoch 17/100\n",
            "613/613 [==============================] - 9s 14ms/step - loss: 0.0031 - accuracy: 0.9992\n",
            "Epoch 18/100\n",
            "613/613 [==============================] - 9s 14ms/step - loss: 0.0076 - accuracy: 0.9981\n",
            "Epoch 19/100\n",
            "613/613 [==============================] - 9s 14ms/step - loss: 0.0044 - accuracy: 0.9988\n",
            "Epoch 20/100\n",
            "613/613 [==============================] - 9s 14ms/step - loss: 0.0066 - accuracy: 0.9983\n",
            "Epoch 21/100\n",
            "613/613 [==============================] - 9s 14ms/step - loss: 0.0031 - accuracy: 0.9992\n",
            "Epoch 22/100\n",
            "613/613 [==============================] - 9s 14ms/step - loss: 9.8881e-04 - accuracy: 0.9997\n",
            "Epoch 23/100\n",
            "613/613 [==============================] - 9s 14ms/step - loss: 0.0026 - accuracy: 0.9992\n",
            "Epoch 24/100\n",
            "613/613 [==============================] - 9s 14ms/step - loss: 0.0111 - accuracy: 0.9973\n",
            "Epoch 25/100\n",
            "613/613 [==============================] - 9s 14ms/step - loss: 0.0055 - accuracy: 0.9988\n",
            "Epoch 26/100\n",
            "613/613 [==============================] - 9s 14ms/step - loss: 0.0023 - accuracy: 0.9995\n",
            "Epoch 27/100\n",
            "613/613 [==============================] - 9s 15ms/step - loss: 0.0014 - accuracy: 0.9997\n",
            "Epoch 28/100\n",
            "613/613 [==============================] - 9s 15ms/step - loss: 0.0049 - accuracy: 0.9989\n",
            "Epoch 29/100\n",
            "613/613 [==============================] - 9s 14ms/step - loss: 0.0093 - accuracy: 0.9980\n",
            "Epoch 30/100\n",
            "613/613 [==============================] - 9s 15ms/step - loss: 9.1036e-04 - accuracy: 0.9998\n",
            "Epoch 31/100\n",
            "613/613 [==============================] - 9s 15ms/step - loss: 2.6733e-04 - accuracy: 0.9999\n",
            "Epoch 32/100\n",
            "613/613 [==============================] - 9s 14ms/step - loss: 0.0077 - accuracy: 0.9982\n",
            "Epoch 33/100\n",
            "613/613 [==============================] - 9s 14ms/step - loss: 0.0087 - accuracy: 0.9981\n",
            "Epoch 34/100\n",
            "613/613 [==============================] - 9s 14ms/step - loss: 0.0026 - accuracy: 0.9994\n",
            "Epoch 35/100\n",
            "613/613 [==============================] - 9s 15ms/step - loss: 0.0025 - accuracy: 0.9994\n",
            "Epoch 36/100\n",
            "613/613 [==============================] - 9s 14ms/step - loss: 0.0045 - accuracy: 0.9989\n",
            "Epoch 37/100\n",
            "613/613 [==============================] - 9s 14ms/step - loss: 0.0047 - accuracy: 0.9987\n",
            "Epoch 38/100\n",
            "613/613 [==============================] - 9s 14ms/step - loss: 0.0023 - accuracy: 0.9993\n",
            "Epoch 39/100\n",
            "613/613 [==============================] - 9s 14ms/step - loss: 0.0058 - accuracy: 0.9990\n",
            "Epoch 40/100\n",
            "613/613 [==============================] - 9s 14ms/step - loss: 0.0073 - accuracy: 0.9984\n",
            "Epoch 41/100\n",
            "613/613 [==============================] - 9s 14ms/step - loss: 0.0024 - accuracy: 0.9995\n",
            "Epoch 42/100\n",
            "613/613 [==============================] - 9s 14ms/step - loss: 6.3558e-04 - accuracy: 0.9998\n",
            "Epoch 43/100\n",
            "613/613 [==============================] - 9s 14ms/step - loss: 0.0052 - accuracy: 0.9988\n",
            "Epoch 44/100\n",
            "613/613 [==============================] - 9s 14ms/step - loss: 0.0069 - accuracy: 0.9986\n",
            "Epoch 45/100\n",
            "613/613 [==============================] - 9s 14ms/step - loss: 0.0025 - accuracy: 0.9993\n",
            "Epoch 46/100\n",
            "613/613 [==============================] - 9s 14ms/step - loss: 0.0046 - accuracy: 0.9991\n",
            "Epoch 47/100\n",
            "613/613 [==============================] - 9s 14ms/step - loss: 0.0021 - accuracy: 0.9993\n",
            "Epoch 48/100\n",
            "613/613 [==============================] - 9s 14ms/step - loss: 0.0046 - accuracy: 0.9990\n",
            "Epoch 49/100\n",
            "613/613 [==============================] - 9s 14ms/step - loss: 0.0072 - accuracy: 0.9986\n",
            "Epoch 50/100\n",
            "613/613 [==============================] - 9s 14ms/step - loss: 0.0040 - accuracy: 0.9994\n",
            "Epoch 51/100\n",
            "613/613 [==============================] - 9s 15ms/step - loss: 0.0027 - accuracy: 0.9994\n",
            "Epoch 52/100\n",
            "613/613 [==============================] - 9s 15ms/step - loss: 0.0047 - accuracy: 0.9991\n",
            "Epoch 53/100\n",
            "613/613 [==============================] - 9s 15ms/step - loss: 0.0071 - accuracy: 0.9989\n",
            "Epoch 54/100\n",
            "613/613 [==============================] - 9s 15ms/step - loss: 0.0035 - accuracy: 0.9993\n",
            "Epoch 55/100\n",
            "613/613 [==============================] - 9s 15ms/step - loss: 0.0037 - accuracy: 0.9992\n",
            "Epoch 56/100\n",
            "613/613 [==============================] - 9s 15ms/step - loss: 0.0030 - accuracy: 0.9994\n",
            "Epoch 57/100\n",
            "613/613 [==============================] - 9s 15ms/step - loss: 0.0034 - accuracy: 0.9992\n",
            "Epoch 58/100\n",
            "613/613 [==============================] - 9s 14ms/step - loss: 0.0046 - accuracy: 0.9991\n",
            "Epoch 59/100\n",
            "613/613 [==============================] - 9s 15ms/step - loss: 0.0012 - accuracy: 0.9997\n",
            "Epoch 60/100\n",
            "613/613 [==============================] - 9s 14ms/step - loss: 0.0015 - accuracy: 0.9995\n",
            "Epoch 61/100\n",
            "613/613 [==============================] - 9s 15ms/step - loss: 0.0044 - accuracy: 0.9992\n",
            "Epoch 62/100\n",
            "613/613 [==============================] - 9s 15ms/step - loss: 0.0086 - accuracy: 0.9984\n",
            "Epoch 63/100\n",
            "613/613 [==============================] - 9s 15ms/step - loss: 0.0023 - accuracy: 0.9994\n",
            "Epoch 64/100\n",
            "613/613 [==============================] - 9s 15ms/step - loss: 0.0023 - accuracy: 0.9995\n",
            "Epoch 65/100\n",
            "613/613 [==============================] - 9s 15ms/step - loss: 0.0033 - accuracy: 0.9995\n",
            "Epoch 66/100\n",
            "613/613 [==============================] - 9s 14ms/step - loss: 0.0055 - accuracy: 0.9990\n",
            "Epoch 67/100\n",
            "613/613 [==============================] - 9s 14ms/step - loss: 0.0017 - accuracy: 0.9996\n",
            "Epoch 68/100\n",
            "613/613 [==============================] - 9s 15ms/step - loss: 0.0038 - accuracy: 0.9993\n",
            "Epoch 69/100\n",
            "613/613 [==============================] - 9s 15ms/step - loss: 0.0066 - accuracy: 0.9987\n",
            "Epoch 70/100\n",
            "613/613 [==============================] - 9s 14ms/step - loss: 0.0039 - accuracy: 0.9992\n",
            "Epoch 71/100\n",
            "613/613 [==============================] - 9s 14ms/step - loss: 0.0024 - accuracy: 0.9995\n",
            "Epoch 72/100\n",
            "613/613 [==============================] - 9s 14ms/step - loss: 0.0023 - accuracy: 0.9993\n",
            "Epoch 73/100\n",
            "613/613 [==============================] - 9s 14ms/step - loss: 0.0026 - accuracy: 0.9994\n",
            "Epoch 74/100\n",
            "613/613 [==============================] - 9s 14ms/step - loss: 0.0029 - accuracy: 0.9994\n",
            "Epoch 75/100\n",
            "613/613 [==============================] - 9s 14ms/step - loss: 0.0048 - accuracy: 0.9994\n",
            "Epoch 76/100\n",
            "613/613 [==============================] - 9s 14ms/step - loss: 0.0046 - accuracy: 0.9992\n",
            "Epoch 77/100\n",
            "613/613 [==============================] - 9s 14ms/step - loss: 0.0041 - accuracy: 0.9993\n",
            "Epoch 78/100\n",
            "613/613 [==============================] - 9s 14ms/step - loss: 0.0029 - accuracy: 0.9996\n",
            "Epoch 79/100\n",
            "613/613 [==============================] - 9s 14ms/step - loss: 0.0075 - accuracy: 0.9990\n",
            "Epoch 80/100\n",
            "613/613 [==============================] - 9s 14ms/step - loss: 0.0030 - accuracy: 0.9995\n",
            "Epoch 81/100\n",
            "613/613 [==============================] - 9s 14ms/step - loss: 7.2017e-04 - accuracy: 0.9999\n",
            "Epoch 82/100\n",
            "613/613 [==============================] - 9s 14ms/step - loss: 2.6369e-04 - accuracy: 0.9999\n",
            "Epoch 83/100\n",
            "613/613 [==============================] - 9s 14ms/step - loss: 0.0035 - accuracy: 0.9994\n",
            "Epoch 84/100\n",
            "613/613 [==============================] - 9s 14ms/step - loss: 0.0094 - accuracy: 0.9984\n",
            "Epoch 85/100\n",
            "613/613 [==============================] - 9s 14ms/step - loss: 0.0039 - accuracy: 0.9992\n",
            "Epoch 86/100\n",
            "613/613 [==============================] - 9s 14ms/step - loss: 0.0037 - accuracy: 0.9993\n",
            "Epoch 87/100\n",
            "613/613 [==============================] - 9s 14ms/step - loss: 0.0018 - accuracy: 0.9995\n",
            "Epoch 88/100\n",
            "613/613 [==============================] - 9s 14ms/step - loss: 0.0024 - accuracy: 0.9997\n",
            "Epoch 89/100\n",
            "613/613 [==============================] - 9s 14ms/step - loss: 8.9705e-06 - accuracy: 1.0000\n",
            "Epoch 90/100\n",
            "613/613 [==============================] - 9s 14ms/step - loss: 5.5734e-07 - accuracy: 1.0000\n",
            "Epoch 91/100\n",
            "613/613 [==============================] - 9s 14ms/step - loss: 4.0510e-07 - accuracy: 1.0000\n",
            "Epoch 92/100\n",
            "613/613 [==============================] - 9s 14ms/step - loss: 3.1902e-07 - accuracy: 1.0000\n",
            "Epoch 93/100\n",
            "613/613 [==============================] - 9s 14ms/step - loss: 2.5476e-07 - accuracy: 1.0000\n",
            "Epoch 94/100\n",
            "613/613 [==============================] - 9s 14ms/step - loss: 2.0392e-07 - accuracy: 1.0000\n",
            "Epoch 95/100\n",
            "613/613 [==============================] - 9s 14ms/step - loss: 1.6476e-07 - accuracy: 1.0000\n",
            "Epoch 96/100\n",
            "613/613 [==============================] - 9s 14ms/step - loss: 1.3280e-07 - accuracy: 1.0000\n",
            "Epoch 97/100\n",
            "613/613 [==============================] - 9s 15ms/step - loss: 1.0703e-07 - accuracy: 1.0000\n",
            "Epoch 98/100\n",
            "613/613 [==============================] - 9s 15ms/step - loss: 8.6023e-08 - accuracy: 1.0000\n",
            "Epoch 99/100\n",
            "613/613 [==============================] - 9s 15ms/step - loss: 6.8985e-08 - accuracy: 1.0000\n",
            "Epoch 100/100\n",
            "613/613 [==============================] - 9s 15ms/step - loss: 5.5445e-08 - accuracy: 1.0000\n"
          ]
        },
        {
          "output_type": "execute_result",
          "data": {
            "text/plain": [
              "<keras.callbacks.History at 0x7f19056319d0>"
            ]
          },
          "metadata": {},
          "execution_count": 50
        }
      ]
    },
    {
      "cell_type": "code",
      "metadata": {
        "id": "C3pV-Deb7eP2"
      },
      "source": [
        "model.save_weights('model.Firsty_layer_Ultrapro')    # Сохраняем модель\n",
        "\n"
      ],
      "execution_count": null,
      "outputs": []
    },
    {
      "cell_type": "code",
      "metadata": {
        "colab": {
          "base_uri": "https://localhost:8080/"
        },
        "id": "RGzLC3dDSC5c",
        "outputId": "4db442be-459e-4970-c7d0-a99714ef6f72"
      },
      "source": [
        "weights = model.get_weights() # Получим веса нашей модели (генерируются случайным образом)\n",
        "print(weights) # Отбразим сгенерированные веса"
      ],
      "execution_count": null,
      "outputs": [
        {
          "output_type": "stream",
          "name": "stdout",
          "text": [
            "[array([[ 0.03789395,  0.04276202, -0.00997612, ...,  0.00492284,\n",
            "         0.02484427,  0.03732722],\n",
            "       [ 0.01262135, -0.05844648, -0.04910359, ...,  0.01902701,\n",
            "        -0.00916264, -0.03789466],\n",
            "       [ 0.03782946, -0.00889468, -0.01682597, ...,  0.0575223 ,\n",
            "         0.0017441 ,  0.02639151],\n",
            "       ...,\n",
            "       [ 0.01086785, -0.06126303, -0.02236241, ..., -0.02862687,\n",
            "        -0.01159794,  0.04785822],\n",
            "       [ 0.0185363 , -0.02715296,  0.05774807, ..., -0.00390043,\n",
            "        -0.04320147, -0.05864877],\n",
            "       [-0.05781471, -0.02387648, -0.05016238, ..., -0.0007029 ,\n",
            "         0.03884447,  0.04371433]], dtype=float32), array([-0.01911673, -0.15528789, -0.16842136, -0.04925581, -0.08956622,\n",
            "       -0.02761227, -0.17954531, -0.10576826, -0.20545809, -0.15188487,\n",
            "       -0.14253324, -0.02013161, -0.03552927, -0.01915654, -0.02955207,\n",
            "       -0.13227183, -0.00895401, -0.13601032,  0.01380276, -0.15013032,\n",
            "       -0.01042469,  0.0926638 , -0.12855986,  0.05359842, -0.05837209,\n",
            "       -0.06968486, -0.04408677, -0.01448495, -0.02482187, -0.14845753,\n",
            "       -0.05076192, -0.02617126, -0.10684469, -0.08975783, -0.0246461 ,\n",
            "       -0.12770802,  0.02373799, -0.27301866, -0.01820804, -0.04174846,\n",
            "        0.04659995, -0.12975697, -0.143839  , -0.2831091 , -0.08749145,\n",
            "        0.07412878, -0.01333694, -0.03058968, -0.09370632, -0.01058412,\n",
            "        0.04601146, -0.06451086,  0.04499545,  0.13675803, -0.21117416,\n",
            "       -0.07509138,  0.02535996,  0.07401131, -0.0072275 ,  0.01351696,\n",
            "       -0.09128428,  0.16327788,  0.0918981 , -0.10496709, -0.05865673,\n",
            "        0.00256727, -0.01668637, -0.1882141 , -0.01390927, -0.07976272,\n",
            "       -0.11692232, -0.03766156, -0.02942435, -0.06127424, -0.15965264,\n",
            "       -0.05743975,  0.13070661,  0.01601417,  0.12778275, -0.12034994,\n",
            "       -0.29456633, -0.169566  ,  0.12705086,  0.00942439, -0.15276477,\n",
            "        0.00907222, -0.06586903,  0.06023976,  0.0023305 , -0.04327757,\n",
            "        0.09848198, -0.268718  , -0.0619673 ,  0.07285359, -0.06956504,\n",
            "       -0.01109174,  0.09866422, -0.07199889, -0.16128933,  0.04487992,\n",
            "        0.24761981, -0.11640806, -0.15247726, -0.01229174,  0.13505417,\n",
            "       -0.07881894,  0.08196704,  0.00739494, -0.04094959,  0.05857361,\n",
            "        0.02960864, -0.13208263,  0.02051148, -0.08581176, -0.07562865,\n",
            "       -0.23901387, -0.16909893,  0.01287026, -0.07737307,  0.11074864,\n",
            "        0.08017114, -0.04271114,  0.21355604, -0.12214664, -0.00632327,\n",
            "       -0.16133577,  0.10930432, -0.15834464, -0.10240918, -0.05542684,\n",
            "        0.00282967, -0.07098939, -0.15393093, -0.0059483 , -0.06593685,\n",
            "       -0.08074757,  0.03879788,  0.06940498, -0.14710703,  0.08032357,\n",
            "        0.12448111, -0.02043272,  0.00437529, -0.06206519, -0.10340095,\n",
            "       -0.14884633, -0.01745809,  0.10441981, -0.04970342, -0.05748041,\n",
            "       -0.05429466,  0.03572514, -0.03062084,  0.00585779, -0.05145634,\n",
            "        0.07818419,  0.02973294,  0.01649723, -0.05687296, -0.02901511,\n",
            "       -0.20159793, -0.03163438, -0.05643122, -0.219065  , -0.04381558,\n",
            "        0.1739425 ,  0.00124482, -0.04934533,  0.08575628,  0.0013345 ,\n",
            "       -0.15650919, -0.08479958,  0.04729127, -0.06569125, -0.14957254,\n",
            "       -0.1280862 ,  0.11983302, -0.01959931,  0.05213027, -0.0907356 ,\n",
            "        0.18583374, -0.18938845, -0.01898839, -0.07464461, -0.0018183 ,\n",
            "       -0.07405835,  0.0012879 , -0.02657669,  0.03805821,  0.07987421,\n",
            "       -0.13080715, -0.1650562 , -0.06156678, -0.01307998, -0.2656239 ,\n",
            "       -0.04188818, -0.28816193, -0.08074483, -0.09782325, -0.21520476,\n",
            "       -0.00175078,  0.05979637, -0.00721916, -0.20527533, -0.06991671,\n",
            "       -0.17942849, -0.08918595,  0.04996229, -0.1014711 , -0.2552256 ,\n",
            "        0.12289495,  0.0423577 , -0.16320363, -0.16994144, -0.06759914,\n",
            "        0.04057556,  0.02589544, -0.10771462, -0.06342163, -0.16466984,\n",
            "        0.10877251,  0.13921194, -0.09287638, -0.3102159 ,  0.04938903,\n",
            "        0.04430714, -0.07987402,  0.01391144, -0.1331909 , -0.13357951,\n",
            "       -0.07681008, -0.31394494, -0.05221792, -0.08856627, -0.1119603 ,\n",
            "       -0.14250769, -0.15561101, -0.07022606, -0.13244595, -0.11809247,\n",
            "       -0.06748752, -0.09826636, -0.03210303, -0.07749628, -0.1401777 ,\n",
            "        0.07165872,  0.14999129,  0.02281016,  0.18277578, -0.15314044,\n",
            "       -0.14922374,  0.07624089, -0.1824596 ,  0.04581216, -0.10665884,\n",
            "       -0.1676064 , -0.18928516,  0.0195729 ,  0.11802252,  0.13881806,\n",
            "       -0.00086471, -0.15491822,  0.04454726,  0.06028842, -0.01672123,\n",
            "        0.10502883, -0.13075028, -0.01849571, -0.12709194,  0.04889742,\n",
            "       -0.07044677, -0.0867791 ,  0.02116911, -0.07952376, -0.11087381,\n",
            "       -0.09792135,  0.00160445,  0.05161668,  0.02264844, -0.06860125,\n",
            "       -0.27558786, -0.12695289, -0.01965861, -0.04521491, -0.09658153,\n",
            "        0.22944272, -0.11218146, -0.06688387, -0.0253683 , -0.14829884,\n",
            "       -0.05866139, -0.00321636, -0.10461001,  0.13279848, -0.22759353,\n",
            "       -0.09405288,  0.03197093,  0.01568124,  0.02886347, -0.01214385,\n",
            "        0.03619702, -0.13752127, -0.101678  ,  0.07861868, -0.12847494,\n",
            "       -0.07956481, -0.11687344, -0.15705425, -0.09798966,  0.09299126,\n",
            "       -0.16510582, -0.03278286, -0.10569203,  0.01667728, -0.05653111,\n",
            "       -0.10887174, -0.00440125,  0.01560683, -0.00650432, -0.36440378,\n",
            "       -0.07403065,  0.03303098,  0.03036557, -0.05034202,  0.1698968 ,\n",
            "       -0.06252256, -0.03118765,  0.06025967,  0.00995519,  0.03735619,\n",
            "       -0.15895805, -0.15354098, -0.01338776, -0.08194955,  0.02865526,\n",
            "       -0.08501104,  0.18766358, -0.14062065, -0.19739582, -0.15874293,\n",
            "       -0.1398041 , -0.10583383, -0.17686523, -0.17122407, -0.04032797,\n",
            "       -0.1358793 , -0.08217406, -0.09276748, -0.15972856, -0.01547897,\n",
            "       -0.02432413, -0.02417555, -0.21788499,  0.13677593,  0.0658033 ,\n",
            "        0.04531465, -0.28594717, -0.02794169,  0.00716874, -0.13493979,\n",
            "        0.01920197, -0.09033044, -0.05534923, -0.00321914, -0.01604155,\n",
            "       -0.13040765, -0.00090704,  0.08708429,  0.07301857, -0.13120167,\n",
            "       -0.31474698, -0.08259038, -0.07424651, -0.12218527, -0.1259417 ,\n",
            "        0.09084115, -0.08080956, -0.01076776, -0.15155807,  0.0150671 ,\n",
            "       -0.03426518, -0.1982033 ,  0.00557165, -0.01721509, -0.07818535,\n",
            "       -0.17099234,  0.01325296, -0.06377119,  0.11705275, -0.16152553,\n",
            "       -0.47411218,  0.07474548,  0.02012866,  0.01102454, -0.06695472,\n",
            "        0.0458543 , -0.03396342, -0.04283605,  0.02171947,  0.08725122,\n",
            "        0.0283121 ,  0.06091871, -0.07945204, -0.03207498, -0.00156103,\n",
            "       -0.0943002 , -0.05667628, -0.03937897,  0.01161855, -0.30079025,\n",
            "        0.16494776, -0.0981523 , -0.3468755 ,  0.0545968 , -0.24212445,\n",
            "       -0.08845162, -0.08700364,  0.01048996, -0.11456099,  0.03115073,\n",
            "       -0.05559333, -0.22103955,  0.05858631,  0.01794016, -0.27174163,\n",
            "       -0.17622104, -0.07656492, -0.05937517, -0.23840177, -0.12856926,\n",
            "        0.02435447, -0.15271728, -0.16768038, -0.0565349 , -0.06397659,\n",
            "       -0.05375276, -0.04336132,  0.15621547,  0.01041888, -0.05640671,\n",
            "       -0.08293851, -0.11893494, -0.20190766, -0.11275951, -0.08035935,\n",
            "       -0.06813458,  0.08207431, -0.11160689,  0.02300217, -0.11209776,\n",
            "       -0.01774849, -0.0705303 , -0.00745136, -0.02637555, -0.05895294,\n",
            "       -0.1913951 , -0.19133814, -0.01177817, -0.14656353, -0.03789013,\n",
            "       -0.13040075, -0.02275638, -0.09279741, -0.291848  , -0.15547806,\n",
            "        0.07556439,  0.04200388, -0.03537856, -0.16691878, -0.089908  ,\n",
            "       -0.06465454, -0.02240468,  0.05665291, -0.09131454,  0.18357466,\n",
            "        0.11099493, -0.04042145,  0.00224695, -0.01806782, -0.05554027,\n",
            "       -0.06912977,  0.02579111,  0.06111513, -0.12909357, -0.18268242,\n",
            "       -0.1154661 , -0.02899288, -0.12531266, -0.05057625, -0.05348908,\n",
            "        0.01002284, -0.05193951, -0.0228613 , -0.12132395, -0.07019372,\n",
            "       -0.01544639, -0.27149472,  0.04918188,  0.02470101,  0.0840957 ,\n",
            "       -0.00717192,  0.06315112,  0.03822738, -0.01547757, -0.00816416,\n",
            "        0.14684638, -0.20321748, -0.01784804, -0.09186827,  0.02645925,\n",
            "        0.05455501, -0.08024088, -0.09410447,  0.12487917, -0.02820672,\n",
            "       -0.24731916, -0.14345708, -0.03747915, -0.03786064,  0.03965627,\n",
            "       -0.24125086,  0.08341615, -0.00517118, -0.04546311,  0.00964848,\n",
            "       -0.09884143, -0.08968037, -0.07556148, -0.07070266, -0.06191054,\n",
            "       -0.09288799, -0.13118693, -0.11508572, -0.07277277, -0.00924887,\n",
            "       -0.21334362, -0.10892826,  0.06370895,  0.00915199, -0.04707437,\n",
            "       -0.18980569, -0.11813283,  0.01704788, -0.12600622,  0.01465445,\n",
            "       -0.2510276 , -0.33719057,  0.03487637, -0.02338832, -0.07484472,\n",
            "        0.08583218,  0.04127514, -0.17356513,  0.18540262, -0.00999792,\n",
            "       -0.07866303, -0.11959808, -0.05176966, -0.15847273, -0.10801651,\n",
            "        0.01693726, -0.06731233, -0.02604686,  0.00277802,  0.00186372,\n",
            "       -0.09087171, -0.06451173, -0.07057366, -0.17225672,  0.04163794,\n",
            "       -0.17257631, -0.46464673, -0.01666114, -0.00896274, -0.09007451,\n",
            "       -0.18506712, -0.08000185, -0.06156267, -0.04053835, -0.10110316,\n",
            "       -0.08270435, -0.03241197, -0.05297427, -0.05946079, -0.16784644,\n",
            "       -0.0007938 , -0.1168067 , -0.03890743,  0.06248116, -0.09343319,\n",
            "       -0.05943191, -0.09214529, -0.03219377, -0.00719147, -0.36191317,\n",
            "        0.01468598, -0.17875451,  0.11328103, -0.16693223, -0.08322435,\n",
            "       -0.27299583, -0.10781904, -0.0869175 ,  0.0984762 , -0.1637969 ,\n",
            "       -0.07083328, -0.18209323, -0.05812137, -0.08737995, -0.1497901 ,\n",
            "       -0.05962064,  0.06036298,  0.00665863, -0.0861133 , -0.07914265,\n",
            "       -0.08514152, -0.05673439, -0.02056236, -0.02550918,  0.01449347,\n",
            "       -0.13696583, -0.05892465, -0.04228574, -0.13350011, -0.10494804,\n",
            "       -0.0809664 , -0.06163215, -0.07742381, -0.03106676, -0.04107254,\n",
            "        0.00681005, -0.1386327 , -0.118173  , -0.06351538, -0.20754726,\n",
            "       -0.11273437, -0.07024463, -0.1927405 , -0.28705794, -0.10762229,\n",
            "       -0.14107366, -0.12574998, -0.11080837, -0.05109714, -0.1439572 ,\n",
            "       -0.05257008, -0.03585062, -0.05926641, -0.38760895, -0.00978818,\n",
            "       -0.12968825, -0.21053754, -0.15550303, -0.06311453, -0.01508642,\n",
            "        0.0964105 , -0.16436982, -0.01949043, -0.19125755, -0.23184831,\n",
            "       -0.0497674 , -0.05955511,  0.1348947 , -0.03404699, -0.01523957,\n",
            "       -0.0076379 , -0.0249823 , -0.27436826, -0.00185359,  0.0736237 ,\n",
            "       -0.0794455 , -0.06926002, -0.08505351,  0.00882882, -0.01540422,\n",
            "       -0.05161105,  0.03390003, -0.06058533, -0.05666874, -0.00998801,\n",
            "       -0.03772678, -0.03169201,  0.12591901, -0.15596049, -0.23064572,\n",
            "       -0.06758386, -0.14868692, -0.04587464, -0.02793096, -0.04246603,\n",
            "       -0.04022478, -0.06774662,  0.07383226,  0.09087875,  0.06164264,\n",
            "        0.00672124, -0.00488008, -0.11950856, -0.04113948,  0.04495794,\n",
            "       -0.0374694 ,  0.03607844, -0.01083377, -0.01210261, -0.0161014 ,\n",
            "       -0.26488787, -0.20864116,  0.00670906, -0.23188908, -0.12477606,\n",
            "       -0.03456051, -0.10450018,  0.07761782,  0.08505884, -0.14635769,\n",
            "       -0.04658698, -0.11867018, -0.02860372,  0.2515838 ,  0.10453622,\n",
            "       -0.12361506, -0.16482317, -0.07600466,  0.05609527, -0.1335369 ,\n",
            "        0.04263402, -0.05237858, -0.04528253, -0.12947579, -0.10648674,\n",
            "       -0.03926111,  0.03824309, -0.06022138, -0.36369023, -0.2783714 ,\n",
            "       -0.21820503, -0.13206981, -0.03916634, -0.08647508, -0.14332768,\n",
            "       -0.20615631, -0.10138804, -0.14004514, -0.04269591,  0.02174532,\n",
            "       -0.15294585,  0.06220384, -0.0533436 , -0.07017495, -0.08063745,\n",
            "        0.01709418,  0.01178248, -0.07260898, -0.12848204, -0.04249666,\n",
            "       -0.02430569, -0.12019464,  0.00417258, -0.03906055, -0.00682087,\n",
            "       -0.23749995, -0.05409886,  0.07869092, -0.01441482, -0.11865906,\n",
            "        0.11988172,  0.02026879, -0.079456  , -0.17814541, -0.04904915,\n",
            "       -0.10721824, -0.09767175, -0.04381814, -0.16504346, -0.09098608,\n",
            "       -0.12422714, -0.01354174, -0.08529502, -0.04009718, -0.12029592,\n",
            "       -0.06725813, -0.4989248 , -0.06123953, -0.11851548, -0.01490753,\n",
            "       -0.03778174,  0.0286133 , -0.08462422, -0.22675972, -0.05531159,\n",
            "        0.02320677, -0.0359347 ,  0.18853737, -0.05804659,  0.03296401,\n",
            "       -0.04150519, -0.02425212, -0.09972229, -0.42013192, -0.2140009 ],\n",
            "      dtype=float32), array([[-0.19888698, -0.1045258 , -0.03410065, ..., -0.19778539,\n",
            "         0.12043016, -0.16948134],\n",
            "       [ 0.39603543, -0.14614767, -0.2848619 , ...,  0.01058552,\n",
            "         0.1719504 ,  0.03636463],\n",
            "       [ 0.06131176,  0.12518677, -0.37530985, ...,  0.38486636,\n",
            "        -0.19962965, -0.14898859],\n",
            "       ...,\n",
            "       [ 0.20464782,  0.17408492, -0.00211071, ..., -0.18885936,\n",
            "         0.07732376,  0.18365212],\n",
            "       [ 0.19277287, -0.02573102, -0.08506823, ...,  0.0380565 ,\n",
            "         0.13345589,  0.12205452],\n",
            "       [-0.28370386, -0.18230431, -0.10677776, ...,  0.06797642,\n",
            "         0.06192186, -0.21707909]], dtype=float32), array([-0.22038879, -0.02614794, -0.34485498, -0.52744627,  0.01117963,\n",
            "       -0.11504218, -0.10490238, -0.20050578, -0.5999463 , -0.14970602,\n",
            "       -0.21771005, -0.30251068, -0.34264952,  0.07236787, -0.20326726,\n",
            "        0.06331647, -0.25874847, -0.64221895, -0.06522809, -0.0647743 ,\n",
            "       -0.36423787, -0.19397034, -0.38691112, -0.24383841, -0.4036858 ,\n",
            "       -0.24575128, -0.48285535,  0.03981509, -0.3690621 , -0.27959222,\n",
            "       -0.68239254, -0.11489376, -0.25353774, -0.45343256, -0.12386789,\n",
            "       -0.5255158 , -0.3428102 , -0.19909528, -0.38600156, -0.10383301,\n",
            "       -0.20921546, -0.28351453,  0.12365974, -0.47367692, -0.19105387,\n",
            "       -0.16332443, -0.4127221 , -0.19226287, -0.28121942, -0.35100093,\n",
            "        0.07831211,  0.12974858, -0.33959123, -0.17122452, -0.16929479,\n",
            "       -0.06575973, -0.16361718, -0.41586402, -0.38395888, -0.31072685,\n",
            "       -0.5755704 , -0.24659453, -0.2862267 , -0.23079967, -0.12558067,\n",
            "        0.3538129 , -0.30295995, -0.32278875, -0.03590564, -0.3791794 ,\n",
            "       -0.1255789 , -0.32835817, -0.43646514, -0.34434074,  0.34240097,\n",
            "       -0.12913539, -0.5172412 , -0.08431023,  0.16560934,  0.06936263,\n",
            "        0.14133911,  0.09314607, -0.24353656, -0.22951199, -0.2074182 ,\n",
            "       -0.13434198, -0.01992511, -0.03393972, -0.03757762, -0.16564155,\n",
            "       -0.3186794 , -0.24992493,  0.1810659 ,  0.29534504, -0.62179387,\n",
            "       -0.28973645, -0.03300697,  0.20659749, -0.22089146,  0.22749342,\n",
            "        0.16083357, -0.00467286, -0.35553285, -0.09660956, -0.42984423,\n",
            "       -0.46255776, -0.26853284, -0.19449958, -0.04625668,  0.03958442,\n",
            "       -0.12336477, -0.14475936,  0.00400857,  0.16987719, -0.33016515,\n",
            "       -0.48900068, -0.2411666 ,  0.26596943, -0.68332034, -0.49343663,\n",
            "       -0.05435087, -0.32688442, -0.22163957,  0.01170423,  0.04202927,\n",
            "       -0.38119557, -0.30165893, -0.46369198, -0.18084082, -0.26591453,\n",
            "        0.29900417, -0.40359354, -0.36601233, -0.3881562 ,  0.0662312 ,\n",
            "       -0.05737431, -0.17643301,  0.36652747, -0.10935115, -0.4392094 ,\n",
            "       -0.20337984,  0.00240721, -0.7116837 , -0.00105925, -0.4470501 ,\n",
            "        0.429816  , -0.2889982 , -0.05887527, -0.0902327 , -0.36622855,\n",
            "       -0.22462764, -0.04557576, -0.34365892, -0.0951321 , -0.09548128,\n",
            "       -0.28297576, -0.4990071 , -0.21742259,  0.2546719 , -0.33048028,\n",
            "       -0.49260706, -0.3110454 , -0.16944845,  0.08411826, -0.4323879 ,\n",
            "       -0.32890826,  0.23367351, -0.11694824, -0.03869762, -0.0478516 ,\n",
            "       -0.3726288 ,  0.00111791, -0.12105535, -0.12725137, -0.23362488,\n",
            "       -0.3058772 , -0.47150528, -0.47758216,  0.02438002,  0.28459895,\n",
            "       -0.28475085, -0.16056949, -0.06745781, -0.3837826 , -0.30809626,\n",
            "       -0.38053367,  0.33990777,  0.08702118, -0.05501208, -0.22573641,\n",
            "        0.08525949, -0.337396  , -0.27401975, -0.10558923, -0.06928918,\n",
            "        0.15039359,  0.50723225, -0.19277816,  0.03068813, -0.15418953,\n",
            "       -0.39254153, -0.21467866,  0.03023663, -0.2712374 , -0.00877438,\n",
            "       -0.29717895, -0.25577283, -0.26938435, -0.33688208, -0.06556377,\n",
            "       -0.4849568 , -0.32009387, -0.15374562,  0.02161103, -0.1561836 ,\n",
            "       -0.08348486,  0.21351412,  0.10265157, -0.31885964,  0.23266202,\n",
            "       -0.02739385, -0.10059065, -0.09382917, -0.46580938, -0.3177168 ,\n",
            "        0.06496497, -0.48435825, -0.11034551,  0.06434055, -0.0492348 ,\n",
            "        0.27340105, -0.13408855, -0.12680236, -0.2680119 , -0.17938355,\n",
            "       -0.3304674 , -0.37270203, -0.11277207, -0.38834164, -0.52014196,\n",
            "       -0.16868989, -0.25861546, -0.36328492, -0.18686911, -0.52675164,\n",
            "       -0.41823617, -0.19884235,  0.21283118, -0.26868808, -0.15293828,\n",
            "       -0.258586  , -0.2671656 , -0.20334066, -0.35401413, -0.1774954 ,\n",
            "       -0.28598836, -0.22499265, -0.3447398 , -0.26320738,  0.03111875,\n",
            "       -0.13867085, -0.06601226, -0.17407188, -0.05290489, -0.42399228,\n",
            "       -0.1627973 , -0.252901  , -0.22302204, -0.14726192,  0.173178  ,\n",
            "       -0.22920185, -0.0960605 , -0.06266285,  0.13888301, -0.08507574,\n",
            "       -0.3620562 ,  0.05371906, -0.26881874,  0.15508646,  0.03013942,\n",
            "       -0.19227348, -0.07916145, -0.33209762, -0.4281259 , -0.21058556,\n",
            "       -0.16873242, -0.08170304, -0.33225116, -0.30763054, -0.11464546,\n",
            "       -0.37718424, -0.342092  , -0.36389625, -0.16838302, -0.1929619 ,\n",
            "       -0.12282163, -0.43386364,  0.1272078 , -0.10603978, -0.23567854,\n",
            "        0.01435545, -0.31720644, -0.05477217, -0.4392466 , -0.47141618,\n",
            "       -0.37003   , -0.155203  , -0.15522549,  0.03237701,  0.05744382,\n",
            "       -0.37250987, -0.22309785, -0.5691827 , -0.42345846, -0.1583341 ,\n",
            "       -0.16684839,  0.06119815, -0.19832744,  0.07445008,  0.25154802,\n",
            "       -0.10677481,  0.11263157, -0.45202917, -0.1592698 ,  0.25119436,\n",
            "       -0.05159311,  0.1103473 , -0.24586673,  0.00949596,  0.03236804,\n",
            "        0.08966532, -0.18870082, -0.36086598,  0.04342233, -0.17964202,\n",
            "       -0.15521751,  0.11715068, -0.3220069 , -0.11552085, -0.01644204,\n",
            "       -0.27100864, -0.14735751, -0.31575316, -0.58173615, -0.42692736,\n",
            "        0.29211086, -0.2816826 ,  0.01707258,  0.24032827, -0.35001206,\n",
            "       -0.2604705 , -0.3795361 , -0.2558667 , -0.28220642, -0.13937989,\n",
            "        0.28465113,  0.00883089, -0.13541383, -0.27812228, -0.1810764 ,\n",
            "       -0.22748633,  0.03228028, -0.14126   , -0.08266321,  0.09491935,\n",
            "       -0.37132987, -0.04477936, -0.06888574, -0.0160397 ,  0.2517174 ,\n",
            "        0.01071778,  0.01609268, -0.21233714,  0.04425129, -0.30460447,\n",
            "       -0.16611916, -0.06757428, -0.16953893, -0.11593764, -0.10425174,\n",
            "       -0.5046006 , -0.22505967,  0.0718805 , -0.12192647, -0.33981487,\n",
            "       -0.4345841 , -0.3444778 , -0.16300547, -0.5566753 ,  0.01259929,\n",
            "        0.1680628 , -0.17031586,  0.00788944, -0.44499153,  0.23999152,\n",
            "       -0.04668634, -0.19942184, -0.14963365, -0.01296079, -0.23759162],\n",
            "      dtype=float32), array([[ 0.18440057,  0.07531076,  0.05853345, ...,  0.07690363,\n",
            "         0.0185526 , -0.00142386],\n",
            "       [ 0.15123543,  0.01369377, -0.30655527, ..., -0.2388221 ,\n",
            "         0.35014442, -0.46895635],\n",
            "       [-0.25304028, -0.19421832,  0.14604692, ..., -0.04153704,\n",
            "        -0.07028794,  0.06415351],\n",
            "       ...,\n",
            "       [-0.31153172,  0.14344773, -0.4000066 , ..., -0.04105121,\n",
            "         0.02443401,  0.01483494],\n",
            "       [ 0.12064194, -0.359143  ,  0.10240037, ..., -0.02857017,\n",
            "         0.07792892,  0.00978426],\n",
            "       [-0.02067898, -0.17372175,  0.10406779, ...,  0.01876481,\n",
            "        -0.20410499, -0.37460077]], dtype=float32), array([-0.05452488, -0.30656147, -0.10602006, -0.17323379, -0.08170191,\n",
            "       -0.17578678, -0.21777809, -0.34368145,  0.84863985,  0.13507076],\n",
            "      dtype=float32)]\n"
          ]
        }
      ]
    },
    {
      "cell_type": "code",
      "metadata": {
        "colab": {
          "base_uri": "https://localhost:8080/"
        },
        "id": "-u5pmQYiChrp",
        "outputId": "373da8e3-a453-4ed3-942f-fe109835e1e5"
      },
      "source": [
        "model.load_weights('model.Firsty_layer_Ultrapro')"
      ],
      "execution_count": null,
      "outputs": [
        {
          "output_type": "execute_result",
          "data": {
            "text/plain": [
              "<tensorflow.python.training.tracking.util.CheckpointLoadStatus at 0x7f19057d3d10>"
            ]
          },
          "metadata": {},
          "execution_count": 52
        }
      ]
    },
    {
      "cell_type": "code",
      "metadata": {
        "id": "9GKIp7UT7ecZ",
        "colab": {
          "base_uri": "https://localhost:8080/",
          "height": 283
        },
        "outputId": "65eaf67d-730a-46ca-e057-032ab4c16d58"
      },
      "source": [
        "#n_rec = 123\n",
        "plt.imshow(Image.fromarray(x_test_org[123]).convert('RGBA'))\n",
        "plt.show"
      ],
      "execution_count": null,
      "outputs": [
        {
          "output_type": "execute_result",
          "data": {
            "text/plain": [
              "<function matplotlib.pyplot.show>"
            ]
          },
          "metadata": {},
          "execution_count": 29
        },
        {
          "output_type": "display_data",
          "data": {
            "image/png": "[encoded data removed]",
            "text/plain": [
              "<Figure size 432x288 with 1 Axes>"
            ]
          },
          "metadata": {
            "needs_background": "light"
          }
        }
      ]
    },
    {
      "cell_type": "code",
      "metadata": {
        "colab": {
          "base_uri": "https://localhost:8080/"
        },
        "id": "Dn2fAF_domcw",
        "outputId": "679ddb5f-5ca8-4602-a62c-a77606bb9a21"
      },
      "source": [
        "print(imgf.shape)"
      ],
      "execution_count": null,
      "outputs": [
        {
          "output_type": "stream",
          "name": "stdout",
          "text": [
            "(1, 784)\n"
          ]
        }
      ]
    },
    {
      "cell_type": "code",
      "metadata": {
        "colab": {
          "base_uri": "https://localhost:8080/"
        },
        "id": "V_wFGUMI3ZTB",
        "outputId": "b82b8eb1-92bb-43a5-ac17-8855c9e9460f"
      },
      "source": [
        "#x = np.expand_dims(imgf, axis=0)\n",
        "#print(imgf.shape)"
      ],
      "execution_count": null,
      "outputs": [
        {
          "output_type": "stream",
          "name": "stdout",
          "text": [
            "(1, 784)\n"
          ]
        }
      ]
    },
    {
      "cell_type": "code",
      "metadata": {
        "id": "CVJ1Osn5ouHH"
      },
      "source": [
        "prediction = model.predict(imgf)"
      ],
      "execution_count": null,
      "outputs": []
    },
    {
      "cell_type": "code",
      "metadata": {
        "colab": {
          "base_uri": "https://localhost:8080/"
        },
        "id": "M-n4XY2mouLE",
        "outputId": "e1344473-073c-47e1-b78a-cbd1813dad51"
      },
      "source": [
        "print(prediction)"
      ],
      "execution_count": null,
      "outputs": [
        {
          "output_type": "stream",
          "name": "stdout",
          "text": [
            "[[3.9273072e-03 6.1820110e-04 9.9016925e-06 1.0250304e-04 5.0344545e-01\n",
            "  2.9593371e-02 2.5270027e-01 1.0701291e-02 1.9883415e-01 6.7527828e-05]]\n"
          ]
        }
      ]
    },
    {
      "cell_type": "code",
      "metadata": {
        "colab": {
          "base_uri": "https://localhost:8080/"
        },
        "id": "KZ50yeLppFfI",
        "outputId": "37193201-5dbf-4873-8008-446ed3a01e20"
      },
      "source": [
        "sum(prediction[0])"
      ],
      "execution_count": null,
      "outputs": [
        {
          "output_type": "execute_result",
          "data": {
            "text/plain": [
              "0.9999999697265594"
            ]
          },
          "metadata": {},
          "execution_count": 81
        }
      ]
    },
    {
      "cell_type": "code",
      "metadata": {
        "colab": {
          "base_uri": "https://localhost:8080/"
        },
        "id": "plY9wUzXpKb5",
        "outputId": "75ce4c62-27fc-4eef-c9c7-7bb86027bbf3"
      },
      "source": [
        "pred = np.argmax(prediction)\n",
        "print(pred)"
      ],
      "execution_count": null,
      "outputs": [
        {
          "output_type": "stream",
          "name": "stdout",
          "text": [
            "4\n"
          ]
        }
      ]
    }
  ]
}