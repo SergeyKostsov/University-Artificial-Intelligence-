{
  "nbformat": 4,
  "nbformat_minor": 0,
  "metadata": {
    "colab": {
      "name": "\"\"Решение задачи регрессии (Университет искусственного интеллекта)\" Ultra Pro\"",
      "provenance": [],
      "collapsed_sections": [],
      "machine_shape": "hm"
    },
    "kernelspec": {
      "name": "python3",
      "display_name": "Python 3"
    }
  },
  "cells": [
    {
      "cell_type": "markdown",
      "metadata": {
        "id": "Xls0bGCyT7aM"
      },
      "source": [
        "Найдите любую базу, подходящую для регрессии:\n",
        "\n",
        "1. Сделайте парсинг и обработку данных.\n",
        "2. Разделите данные на обучающую и проверочную выборки\n",
        "3. Напишите сеть для регрессии\n",
        "4. Сделайте визуализацию результата\n",
        "5. Напишите ваши результаты и выводы"
      ]
    },
    {
      "cell_type": "code",
      "metadata": {
        "id": "SkQ2zSVRR_De"
      },
      "source": [
        "import numpy as np #Библиотека работы с массивами\n",
        "import pandas as pd # Библиотека для работы с базами\n",
        "\n",
        "from tensorflow.keras.models import Sequential, Model # \n",
        "from tensorflow.keras.layers import concatenate, Input, Dense, Dropout, BatchNormalization, Flatten #\n",
        "from tensorflow.keras import utils #Используем для to_categoricall\n",
        "from tensorflow.keras.optimizers import Adam,Adadelta,SGD,Adagrad,RMSprop #\n",
        "from tensorflow.keras.preprocessing.text import Tokenizer, text_to_word_sequence #\n",
        "from tensorflow.keras.preprocessing.sequence import pad_sequences #\n",
        "from tensorflow.keras.callbacks import LambdaCallback # подключаем колбэки\n",
        "\n",
        "from sklearn.preprocessing import StandardScaler # \n",
        "from sklearn.model_selection import train_test_split # Для разбивки на выборки\n",
        "from sklearn.metrics import mean_squared_error, mean_absolute_error #\n",
        "\n",
        "#import random #Для генерации случайных чисел \n",
        "#import math # Для округления\n",
        "#import os #Для работы с файлами \n",
        "import re #\n",
        "import matplotlib.pyplot as plt #\n",
        "%matplotlib inline\n",
        "\n",
        "from IPython.display import clear_output\n"
      ],
      "execution_count": null,
      "outputs": []
    },
    {
      "cell_type": "code",
      "metadata": {
        "id": "3Ywrz1ojUx1-",
        "colab": {
          "base_uri": "https://localhost:8080/"
        },
        "outputId": "1dbef65d-71a8-437c-ed3c-df15a0930aed"
      },
      "source": [
        "from google.colab import drive # Подключаем диск\n",
        "drive.mount('/content/drive')"
      ],
      "execution_count": null,
      "outputs": [
        {
          "output_type": "stream",
          "name": "stdout",
          "text": [
            "Drive already mounted at /content/drive; to attempt to forcibly remount, call drive.mount(\"/content/drive\", force_remount=True).\n"
          ]
        }
      ]
    },
    {
      "cell_type": "markdown",
      "metadata": {
        "id": "sToPAfpCGz58"
      },
      "source": [
        "Внимание! Запуск всех разделов сразу, может привести к недостатку памяти и сессия перезапустится."
      ]
    },
    {
      "cell_type": "markdown",
      "metadata": {
        "id": "DQqa8snjeA7p"
      },
      "source": [
        "Оценка стоимости квартир"
      ]
    },
    {
      "cell_type": "code",
      "metadata": {
        "id": "106DlPFbeKv9"
      },
      "source": [
        "df = pd.read_csv('/content/drive/MyDrive/moscow.csv',  sep=\";\") # Загружаем данные в data frame\n",
        "df = df.iloc[::2,:] # Выбираем нечётные строки, в чётных строках в исходном фрейме пустые строки для комментариев\n",
        "data = df.values # Переводим данные в numpy array"
      ],
      "execution_count": null,
      "outputs": []
    },
    {
      "cell_type": "code",
      "metadata": {
        "id": "GV510wy8ePuS",
        "colab": {
          "base_uri": "https://localhost:8080/",
          "height": 355
        },
        "outputId": "8154241f-49f1-4460-bee3-9b5257e63511"
      },
      "source": [
        "df.head(10) #Показываем пример данных (первые 6 колонок)"
      ],
      "execution_count": null,
      "outputs": [
        {
          "output_type": "execute_result",
          "data": {
            "text/html": [
              "\n",
              "  <div id=\"df-95ca4e96-4684-4dc4-bcc2-2d5b7309129e\">\n",
              "    <div class=\"colab-df-container\">\n",
              "      <div>\n",
              "<style scoped>\n",
              "    .dataframe tbody tr th:only-of-type {\n",
              "        vertical-align: middle;\n",
              "    }\n",
              "\n",
              "    .dataframe tbody tr th {\n",
              "        vertical-align: top;\n",
              "    }\n",
              "\n",
              "    .dataframe thead th {\n",
              "        text-align: right;\n",
              "    }\n",
              "</style>\n",
              "<table border=\"1\" class=\"dataframe\">\n",
              "  <thead>\n",
              "    <tr style=\"text-align: right;\">\n",
              "      <th></th>\n",
              "      <th>Комнат</th>\n",
              "      <th>Метро / ЖД станции</th>\n",
              "      <th>От станции</th>\n",
              "      <th>Дом</th>\n",
              "      <th>Балкон</th>\n",
              "      <th>Санузел</th>\n",
              "      <th>Площадь</th>\n",
              "      <th>Цена, руб.</th>\n",
              "      <th>ГРМ</th>\n",
              "      <th>Бонус агенту</th>\n",
              "      <th>Дата</th>\n",
              "      <th>Кол-во дней в экспозиции</th>\n",
              "      <th>Источник</th>\n",
              "      <th>Примечание</th>\n",
              "    </tr>\n",
              "  </thead>\n",
              "  <tbody>\n",
              "    <tr>\n",
              "      <th>0</th>\n",
              "      <td>1</td>\n",
              "      <td>Шелепиха м.</td>\n",
              "      <td>12п</td>\n",
              "      <td>35/37 М</td>\n",
              "      <td>NaN</td>\n",
              "      <td>2</td>\n",
              "      <td>64.1/23/20</td>\n",
              "      <td>19500000.0</td>\n",
              "      <td>NaN</td>\n",
              "      <td>NaN</td>\n",
              "      <td>25.07.2019</td>\n",
              "      <td>1.0</td>\n",
              "      <td>Привлекательные</td>\n",
              "      <td>Собственность оформлена! Ключи на руках! Опера...</td>\n",
              "    </tr>\n",
              "    <tr>\n",
              "      <th>2</th>\n",
              "      <td>1</td>\n",
              "      <td>Пятницкое шоссе м.</td>\n",
              "      <td>30т</td>\n",
              "      <td>11/14 П</td>\n",
              "      <td>Л</td>\n",
              "      <td>Р</td>\n",
              "      <td>38.4/17/9</td>\n",
              "      <td>4800000.0</td>\n",
              "      <td>NaN</td>\n",
              "      <td>NaN</td>\n",
              "      <td>25.07.2019</td>\n",
              "      <td>2.0</td>\n",
              "      <td>Привлекательные</td>\n",
              "      <td>Зеленоград к.1820 однокомнатная квартира общ.3...</td>\n",
              "    </tr>\n",
              "    <tr>\n",
              "      <th>4</th>\n",
              "      <td>1</td>\n",
              "      <td>Планерная м.</td>\n",
              "      <td>5т</td>\n",
              "      <td>11/22 П</td>\n",
              "      <td>Б</td>\n",
              "      <td>С</td>\n",
              "      <td>38.2/19.9/9.9</td>\n",
              "      <td>7990000.0</td>\n",
              "      <td>NaN</td>\n",
              "      <td>NaN</td>\n",
              "      <td>25.07.2019</td>\n",
              "      <td>4.0</td>\n",
              "      <td>Привлекательные</td>\n",
              "      <td>Уютная, светлая квартира, застекленный балкон ...</td>\n",
              "    </tr>\n",
              "    <tr>\n",
              "      <th>6</th>\n",
              "      <td>1</td>\n",
              "      <td>Шаболовская м.</td>\n",
              "      <td>12п</td>\n",
              "      <td>8/12 ?</td>\n",
              "      <td>Б</td>\n",
              "      <td>Р</td>\n",
              "      <td>38/15/7</td>\n",
              "      <td>11200000.0</td>\n",
              "      <td>NaN</td>\n",
              "      <td>NaN</td>\n",
              "      <td>25.07.2019</td>\n",
              "      <td>7.0</td>\n",
              "      <td>Привлекательные</td>\n",
              "      <td>Предлагаю 1- комн квартиру, в шаговой доступно...</td>\n",
              "    </tr>\n",
              "    <tr>\n",
              "      <th>8</th>\n",
              "      <td>1</td>\n",
              "      <td>Бабушкинская м.</td>\n",
              "      <td>15п</td>\n",
              "      <td>4/14 П</td>\n",
              "      <td>NaN</td>\n",
              "      <td>С</td>\n",
              "      <td>34/17/8</td>\n",
              "      <td>6250000.0</td>\n",
              "      <td>NaN</td>\n",
              "      <td>NaN</td>\n",
              "      <td>25.07.2019</td>\n",
              "      <td>11.0</td>\n",
              "      <td>Привлекательные</td>\n",
              "      <td>Продается хорошая 1 комнатная квартира. 1 взро...</td>\n",
              "    </tr>\n",
              "    <tr>\n",
              "      <th>10</th>\n",
              "      <td>1</td>\n",
              "      <td>Шелепиха м.</td>\n",
              "      <td>15п</td>\n",
              "      <td>9/36 К</td>\n",
              "      <td>NaN</td>\n",
              "      <td>NaN</td>\n",
              "      <td>44/14.7/19.2</td>\n",
              "      <td>12700000.0</td>\n",
              "      <td>NaN</td>\n",
              "      <td>NaN</td>\n",
              "      <td>25.07.2019</td>\n",
              "      <td>11.0</td>\n",
              "      <td>Привлекательные</td>\n",
              "      <td>1-комн. квартира в ЖК \"Сердце столицы\" на 9 эт...</td>\n",
              "    </tr>\n",
              "    <tr>\n",
              "      <th>12</th>\n",
              "      <td>1</td>\n",
              "      <td>Улица Дмитриевского м.</td>\n",
              "      <td>2п</td>\n",
              "      <td>7/16 П</td>\n",
              "      <td>Л</td>\n",
              "      <td>Р</td>\n",
              "      <td>43/20/8</td>\n",
              "      <td>6500000.0</td>\n",
              "      <td>NaN</td>\n",
              "      <td>NaN</td>\n",
              "      <td>25.07.2019</td>\n",
              "      <td>14.0</td>\n",
              "      <td>Привлекательные</td>\n",
              "      <td>Предлагаю купить Однокомнатную квартиру с удоб...</td>\n",
              "    </tr>\n",
              "    <tr>\n",
              "      <th>14</th>\n",
              "      <td>1</td>\n",
              "      <td>Бульвар Рокоссовского м.</td>\n",
              "      <td>2п</td>\n",
              "      <td>2/5 К</td>\n",
              "      <td>Б</td>\n",
              "      <td>С</td>\n",
              "      <td>31/17/6</td>\n",
              "      <td>6000000.0</td>\n",
              "      <td>NaN</td>\n",
              "      <td>NaN</td>\n",
              "      <td>25.07.2019</td>\n",
              "      <td>15.0</td>\n",
              "      <td>Привлекательные</td>\n",
              "      <td>Теплая, светлая квартира с высоким потолком в ...</td>\n",
              "    </tr>\n",
              "    <tr>\n",
              "      <th>16</th>\n",
              "      <td>1</td>\n",
              "      <td>Марьина Роща м.</td>\n",
              "      <td>10п</td>\n",
              "      <td>7/14 П</td>\n",
              "      <td>2Б</td>\n",
              "      <td>NaN</td>\n",
              "      <td>38.9/20.9/8.5</td>\n",
              "      <td>8900000.0</td>\n",
              "      <td>NaN</td>\n",
              "      <td>NaN</td>\n",
              "      <td>25.07.2019</td>\n",
              "      <td>16.0</td>\n",
              "      <td>Привлекательные</td>\n",
              "      <td>Продается 1-комн. квартира, площадью 38.9 м2 в...</td>\n",
              "    </tr>\n",
              "    <tr>\n",
              "      <th>18</th>\n",
              "      <td>1</td>\n",
              "      <td>Марьино м.</td>\n",
              "      <td>20п</td>\n",
              "      <td>10/24 М-К</td>\n",
              "      <td>NaN</td>\n",
              "      <td>-</td>\n",
              "      <td>30.9/17.9/10</td>\n",
              "      <td>5999984.0</td>\n",
              "      <td>NaN</td>\n",
              "      <td>NaN</td>\n",
              "      <td>25.07.2019</td>\n",
              "      <td>16.0</td>\n",
              "      <td>Привлекательные</td>\n",
              "      <td>Предлагается уютная квартира в ЖК комфорт клас...</td>\n",
              "    </tr>\n",
              "  </tbody>\n",
              "</table>\n",
              "</div>\n",
              "      <button class=\"colab-df-convert\" onclick=\"convertToInteractive('df-95ca4e96-4684-4dc4-bcc2-2d5b7309129e')\"\n",
              "              title=\"Convert this dataframe to an interactive table.\"\n",
              "              style=\"display:none;\">\n",
              "        \n",
              "  <svg xmlns=\"http://www.w3.org/2000/svg\" height=\"24px\"viewBox=\"0 0 24 24\"\n",
              "       width=\"24px\">\n",
              "    <path d=\"M0 0h24v24H0V0z\" fill=\"none\"/>\n",
              "    <path d=\"M18.56 5.44l.94 2.06.94-2.06 2.06-.94-2.06-.94-.94-2.06-.94 2.06-2.06.94zm-11 1L8.5 8.5l.94-2.06 2.06-.94-2.06-.94L8.5 2.5l-.94 2.06-2.06.94zm10 10l.94 2.06.94-2.06 2.06-.94-2.06-.94-.94-2.06-.94 2.06-2.06.94z\"/><path d=\"M17.41 7.96l-1.37-1.37c-.4-.4-.92-.59-1.43-.59-.52 0-1.04.2-1.43.59L10.3 9.45l-7.72 7.72c-.78.78-.78 2.05 0 2.83L4 21.41c.39.39.9.59 1.41.59.51 0 1.02-.2 1.41-.59l7.78-7.78 2.81-2.81c.8-.78.8-2.07 0-2.86zM5.41 20L4 18.59l7.72-7.72 1.47 1.35L5.41 20z\"/>\n",
              "  </svg>\n",
              "      </button>\n",
              "      \n",
              "  <style>\n",
              "    .colab-df-container {\n",
              "      display:flex;\n",
              "      flex-wrap:wrap;\n",
              "      gap: 12px;\n",
              "    }\n",
              "\n",
              "    .colab-df-convert {\n",
              "      background-color: #E8F0FE;\n",
              "      border: none;\n",
              "      border-radius: 50%;\n",
              "      cursor: pointer;\n",
              "      display: none;\n",
              "      fill: #1967D2;\n",
              "      height: 32px;\n",
              "      padding: 0 0 0 0;\n",
              "      width: 32px;\n",
              "    }\n",
              "\n",
              "    .colab-df-convert:hover {\n",
              "      background-color: #E2EBFA;\n",
              "      box-shadow: 0px 1px 2px rgba(60, 64, 67, 0.3), 0px 1px 3px 1px rgba(60, 64, 67, 0.15);\n",
              "      fill: #174EA6;\n",
              "    }\n",
              "\n",
              "    [theme=dark] .colab-df-convert {\n",
              "      background-color: #3B4455;\n",
              "      fill: #D2E3FC;\n",
              "    }\n",
              "\n",
              "    [theme=dark] .colab-df-convert:hover {\n",
              "      background-color: #434B5C;\n",
              "      box-shadow: 0px 1px 3px 1px rgba(0, 0, 0, 0.15);\n",
              "      filter: drop-shadow(0px 1px 2px rgba(0, 0, 0, 0.3));\n",
              "      fill: #FFFFFF;\n",
              "    }\n",
              "  </style>\n",
              "\n",
              "      <script>\n",
              "        const buttonEl =\n",
              "          document.querySelector('#df-95ca4e96-4684-4dc4-bcc2-2d5b7309129e button.colab-df-convert');\n",
              "        buttonEl.style.display =\n",
              "          google.colab.kernel.accessAllowed ? 'block' : 'none';\n",
              "\n",
              "        async function convertToInteractive(key) {\n",
              "          const element = document.querySelector('#df-95ca4e96-4684-4dc4-bcc2-2d5b7309129e');\n",
              "          const dataTable =\n",
              "            await google.colab.kernel.invokeFunction('convertToInteractive',\n",
              "                                                     [key], {});\n",
              "          if (!dataTable) return;\n",
              "\n",
              "          const docLinkHtml = 'Like what you see? Visit the ' +\n",
              "            '<a target=\"_blank\" href=https://colab.research.google.com/notebooks/data_table.ipynb>data table notebook</a>'\n",
              "            + ' to learn more about interactive tables.';\n",
              "          element.innerHTML = '';\n",
              "          dataTable['output_type'] = 'display_data';\n",
              "          await google.colab.output.renderOutput(dataTable, element);\n",
              "          const docLink = document.createElement('div');\n",
              "          docLink.innerHTML = docLinkHtml;\n",
              "          element.appendChild(docLink);\n",
              "        }\n",
              "      </script>\n",
              "    </div>\n",
              "  </div>\n",
              "  "
            ],
            "text/plain": [
              "   Комнат  ...                                         Примечание\n",
              "0       1  ...  Собственность оформлена! Ключи на руках! Опера...\n",
              "2       1  ...  Зеленоград к.1820 однокомнатная квартира общ.3...\n",
              "4       1  ...  Уютная, светлая квартира, застекленный балкон ...\n",
              "6       1  ...  Предлагаю 1- комн квартиру, в шаговой доступно...\n",
              "8       1  ...  Продается хорошая 1 комнатная квартира. 1 взро...\n",
              "10      1  ...  1-комн. квартира в ЖК \"Сердце столицы\" на 9 эт...\n",
              "12      1  ...  Предлагаю купить Однокомнатную квартиру с удоб...\n",
              "14      1  ...  Теплая, светлая квартира с высоким потолком в ...\n",
              "16      1  ...  Продается 1-комн. квартира, площадью 38.9 м2 в...\n",
              "18      1  ...  Предлагается уютная квартира в ЖК комфорт клас...\n",
              "\n",
              "[10 rows x 14 columns]"
            ]
          },
          "metadata": {},
          "execution_count": 4
        }
      ]
    },
    {
      "cell_type": "code",
      "source": [
        "print(df.columns)\n",
        "#Мы будем использовать: \n",
        "# xTrain - база числовых значений: комнат, Метро / ЖД станции, От станции, Дом, Балкон, Санузел, Площадь\n",
        "# xTrainC - база текстов о квартирах\n",
        "# yTrain\n",
        "# Цена, руб.\n",
        "#Остальные данные игнорируем"
      ],
      "metadata": {
        "colab": {
          "base_uri": "https://localhost:8080/"
        },
        "id": "uOj5GF3d8rSl",
        "outputId": "793cb258-5ff5-4c7d-d16e-1583a9e5592b"
      },
      "execution_count": null,
      "outputs": [
        {
          "output_type": "stream",
          "name": "stdout",
          "text": [
            "Index(['Комнат', 'Метро / ЖД станции', 'От станции', 'Дом', 'Балкон',\n",
            "       'Санузел', 'Площадь', 'Цена, руб.', 'ГРМ', 'Бонус агенту', 'Дата',\n",
            "       'Кол-во дней в экспозиции', 'Источник', 'Примечание'],\n",
            "      dtype='object')\n"
          ]
        }
      ]
    },
    {
      "cell_type": "code",
      "source": [
        "#Во всех функция дальше:\n",
        "#d - описание квартиры, одна строка из data1\n",
        "#Вычисляем количество комнат\n",
        "#maxRoomCount - максимальное число комнат в квартире\n",
        "def getRoomsCount(d, maxRoomCount):\n",
        "  roomsCountStr = d[0] #Получаем строку с числом комнат\n",
        "  roomsCount = 0\n",
        "  try:\n",
        "    roomsCount = int(roomsCountStr) #Пробуем превратить строку в число\n",
        "    if (roomsCount > maxRoomCount): \n",
        "      roomsCount = maxRoomCount #Если число комнат больше максимального, то присваиваем максимальное\n",
        "  except: #Если не получается превратить строку в число\n",
        "    if (roomsCountStr == roomsCountStr): #Проверяем строку на nan (сравнение с самим собой)\n",
        "      if (\"Ст\" in roomsCountStr): #Еcть строка = \"Ст\", значит это Студия\n",
        "        roomsCount = maxRoomCount + 1\n",
        "\n",
        "  return roomsCount\n",
        "\n",
        "# Превращаем число комнат в категорию\n",
        "def getRoomsCountCategory(d, maxRoomCount):\n",
        "  roomsCount = getRoomsCount(d, maxRoomCount) #Получаем число комнат\n",
        "  roomsCount = utils.to_categorical(roomsCount, maxRoomCount+2) #Превращаем в категорию\n",
        "  #maxRoomCount+2 потому что 0 зарезервирован на неопознаное число комнат, а maxRoomCount+1 на \"Студию\"\n",
        "  return roomsCount\n",
        "\n"
      ],
      "metadata": {
        "id": "0pEjEVVJTbmV"
      },
      "execution_count": null,
      "outputs": []
    },
    {
      "cell_type": "code",
      "source": [
        "# Получаем индекс станции метро\n",
        "# allMetroNames - все уникальные названия метро в базе\n",
        "def getMetro(d, allMetroNames):\n",
        "  metroStr = d[1] #Получаем строку метро\n",
        "  metro = 0\n",
        "  \n",
        "  if (metroStr in allMetroNames): #Если находим метро во всех названиях\n",
        "    metro = allMetroNames.index(metroStr)+1 #Присваиваем индекс\n",
        "    #+1 так как 0 зарезервирован на неопознанное метро\n",
        "    \n",
        "  return metro\n",
        "\n",
        "# Получаем тип метро\n",
        "# 0 - внутри кольца\n",
        "# 1 - кольцо\n",
        "# 2 - 1-3 станции от конца\n",
        "# 3 - 4-8 станций от кольца\n",
        "# 4 - больше 8 станций от кольца\n",
        "def getMetroType(d):\n",
        "  metroTypeStr = d[1] #Получаем строку метро\n",
        "  metroTypeClasses = 5 #Число классов метро\n",
        "  metroType = metroTypeClasses - 1 #Изначально считаем последний класс\n",
        "  \n",
        "  #Метро внутри кольца\n",
        "  metroNamesInsideCircle = [\"Площадь Революции\", \"Арбатская\", \"Смоленская\", \"Красные Ворота\", \"Чистые пруды\", \"Лубянка\", \"Охотный Ряд\", \"Библиотека имени Ленина\", \"Кропоткинская\", \"Сухаревская\", \"Тургеневская\", \"Китай-город\", \"Третьяковская\", \"Трубная\", \"Сретенский бульвар\", \"Цветной бульвар\", \"Чеховская\", \"Боровицкая\", \"Полянка\", \"Маяковская\", \"Тверская\", \"Театральная\", \"Новокузнецкая\", \"Пушкинская\", \"Кузнецкий Мост\", \"Китай-город\", \"Александровский сад\"]\n",
        "  #Метро на кольце\n",
        "  metroNamesCircle = [\"Киевская\", \"Парк Культуры\", \"Октябрьская\", \"Добрынинская\", \"Павелецкая\", \"Таганская\", \"Курская\", \"Комсомольская\", \"Проспект Мира\", \"Новослободская\", \"Белорусская\", \"Краснопресненская\"]\n",
        "  #Метро 1-3 станции от кольца\n",
        "  metroNames13FromCircle = [\"Бауманская\", \"Электрозаводская\", \"Семёновская\", \"Площадь Ильича\", \"Авиамоторная\", \"Шоссе Энтузиастов\", \"Римская\", \"Крестьянская Застава\", \"Дубровка\", \"Пролетарская\", \"Волгоградский проспект\", \"Текстильщики\", \"Автозаводская\", \"Технопарк\", \"Коломенская\", \"Тульская\", \"Нагатинская\", \"Нагорная\", \"Шаболовская\", \"Ленинский проспект\", \"Академическая\", \"Фрунзенская\", \"Спортивная\", \"Воробьёвы горы\", \"Студенческая\", \"Кутузовская\", \"Фили\", \"Парк Победы\", \"Выставочная\", \"Международная\", \"Улица 1905 года\", \"Беговая\", \"Полежаевская\", \"Динамо\", \"Аэропорт\", \"Сокол\", \"Деловой центр\", \"Шелепиха\", \"Хорошёвская\", \"ЦСКА\", \"Петровский парк\", \"Савёловская\", \"Дмитровская\", \"Тимирязевская\", \"Достоевская\", \"Марьина Роща\", \"Бутырская\", \"Фонвизинская\", \"Рижская\", \"Алексеевская\", \"ВДНХ\", \"Красносельская\", \"Сокольники\", \"Преображенская площадь\"]\n",
        "  #Метро 4-8 станций от кольа\n",
        "  metroNames48FromCircle = [\"Партизанская\", \"Измайловская\", \"Первомайская\", \"Щёлковская\", \"Новокосино\", \"Новогиреево\", \"Перово\", \"Кузьминки\", \"Рязанский проспект\", \"Выхино\", \"Лермонтовский проспект\", \"Жулебино\", \"Партизанская\", \"Измайловская\", \"Первомайская\", \"Щёлковская\", \"Новокосино\", \"Новогиреево\", \"Перово\", \"Кузьминки\", \"Рязанский проспект\", \"Выхино\", \"Лермонтовский проспект\", \"Жулебино\", \"Улица Дмитриевского\", \"Кожуховская\", \"Печатники\", \"Волжская\", \"Люблино\", \"Братиславская\", \"Коломенская\", \"Каширская\", \"Кантемировская\", \"Царицыно\", \"Орехово\", \"Севастопольская\", \"Чертановская\", \"Южная\", \"Пражская\", \"Варшавская\", \"Профсоюзная\", \"Новые Черёмушки\", \"Калужская\", \"Беляево\", \"Коньково\", \"Университет\", \"Багратионовская\", \"Филёвский парк\", \"Пионерская\", \"Кунцевская\", \"Молодёжная\", \"Октябрьское Поле\", \"Щукинская\", \"Спартак\", \"Тушинская\", \"Сходненская\", \"Войковская\", \"Водный стадион\", \"Речной вокзал\", \"Беломорская\", \"Ховрино\", \"Петровско-Разумовская\", \"Владыкино\", \"Отрадное\", \"Бибирево\", \"Алтуфьево\", \"Фонвизинская\", \"Окружная\", \"Верхние Лихоборы\", \"Селигерская\", \"ВДНХ\", \"Ботанический сад\", \"Свиблово\", \"Бабушкинская\", \"Медведково\", \"Преображенская площадь\", \"Черкизовская\", \"Бульвар Рокоссовского\"]\n",
        "  \n",
        "  #Проверяем, в какую категорию попадает наша станция\n",
        "  if (metroTypeStr in metroNamesInsideCircle):\n",
        "    metroType = 0\n",
        "  if (metroTypeStr in metroNamesCircle):\n",
        "    metroType = 1\n",
        "  if (metroTypeStr in metroNames13FromCircle):\n",
        "    metroType = 2\n",
        "  if (metroTypeStr in metroNames48FromCircle):\n",
        "    metroType = 3\n",
        "  \n",
        "  # Превращаем результат в категорию\n",
        "  metroType = utils.to_categorical(metroType, metroTypeClasses)\n",
        "  return metroType"
      ],
      "metadata": {
        "id": "3cWf0EdrTnYT"
      },
      "execution_count": null,
      "outputs": []
    },
    {
      "cell_type": "code",
      "source": [
        "# Вычисляем растояние до метро\n",
        "def getMetroDistance(d):\n",
        "  metroDistanceStr = d[2] #Получаем строку  \n",
        "  metroDistance = 0 #Расстояние до метро\n",
        "  metroDistanceType = 0 #Тип расстояния - пешком или на транспорте\n",
        "  \n",
        "  # Если строка не равна nan  \n",
        "  if (metroDistanceStr == metroDistanceStr):\n",
        "    if (len(metroDistanceStr) > 0):\n",
        "      # Определяем тип расстояния\n",
        "      if (metroDistanceStr[-1] == \"п\"):\n",
        "        metroDistanceType = 1 #Пешком\n",
        "      elif (metroDistanceStr[-1] == \"т\"):\n",
        "        metroDistanceType = 2 #На транспорте\n",
        "\n",
        "      # Выбрасываем последний символ, чтобы осталось только число\n",
        "      metroDistanceStr = metroDistanceStr[:-1]\n",
        "      try:\n",
        "        # Разделяем дистанции на категории\n",
        "        metroDistance = int(metroDistanceStr)\n",
        "        if (metroDistance < 3):\n",
        "          metroDistance = 1\n",
        "        elif (metroDistance < 6):\n",
        "          metroDistance = 2\n",
        "        elif (metroDistance < 10):\n",
        "          metroDistance = 3\n",
        "        elif (metroDistance < 15):\n",
        "          metroDistance = 4\n",
        "        elif (metroDistance < 20):\n",
        "          metroDistance = 5\n",
        "        else:\n",
        "          metroDistance = 6\n",
        "      except: # Если в строке не число, то категория 0\n",
        "        metroDistance = 0\n",
        "  \n",
        "  # Число классов дистанции\n",
        "  metroDistanceClasses = 7\n",
        "  \n",
        "  #  7 категорий дистанции по расстоянию\n",
        "  # 3 типа дистанции - неопознанный, пешком и транспортом\n",
        "  # Мы создадим вектор длины 3*7 = 21\n",
        "  # Преобразуем индекс расстояния 0-6 в 0-20\n",
        "  # Для типа \"Пешком\" - ничего не меняем\n",
        "  if (metroDistanceType == 2):\n",
        "    metroDistance += metroDistanceClasses # Для типа \"Транспортом\" добавляем 7\n",
        "  if (metroDistanceType == 0):\n",
        "    metroDistance += 2*metroDistanceClasses # Для неопознанного типа добавляем 14\n",
        "    \n",
        "  # Превращаем в категории\n",
        "  metroDistance = utils.to_categorical(metroDistance, 3*metroDistanceClasses)\n",
        "  return metroDistance"
      ],
      "metadata": {
        "id": "74dQDFQhTzAd"
      },
      "execution_count": null,
      "outputs": []
    },
    {
      "cell_type": "code",
      "source": [
        "# Получаем 4 вида данных:\n",
        "#- этаж квартиры\n",
        "#- этажность дома\n",
        "#- индикатор, что последний этаж\n",
        "#- тип дома\n",
        "def getHouseTypeAndFloor(d):\n",
        "  try:\n",
        "    houseStr = d[3] #Получаем строку типа дома и этажей\n",
        "  except:\n",
        "    houseStr = \"\"\n",
        "  \n",
        "  houseType = 0 #Тип дома\n",
        "  floor = 0 #Этаж квартиры\n",
        "  floors = 0 #Этажность дома\n",
        "  isLastFloor = 0 #Индикатор последнего этажа\n",
        "  \n",
        "  # Проверяем строку на nan\n",
        "  if (houseStr == houseStr):\n",
        "    if (len(houseStr) > 1):\n",
        "    \n",
        "      try:\n",
        "        slashIndex = houseStr.index(\"/\") # Ищем разделитель /\n",
        "      except:\n",
        "        print(houseStr)\n",
        "\n",
        "      try:\n",
        "        spaceIndex = houseStr.index(\" \") # Ищем разделитель \" \"\n",
        "      except:\n",
        "        print(houseStr)\n",
        "\n",
        "      # Вытаскиваем строки\n",
        "      floorStr = houseStr[:slashIndex] #С трока этажа\n",
        "      floorsStr = houseStr[slashIndex+1:spaceIndex] # Строка этажнгости дома\n",
        "      houseTypeStr = houseStr[spaceIndex+1:] # Строка типа дома\n",
        "\n",
        "      # Выбираем категорию этажа\n",
        "      try:\n",
        "        floor = int(floorStr) # Превращаем строку в число\n",
        "        floorSave = floor\n",
        "        if (floorSave < 5):\n",
        "          floor = 2\n",
        "        if (floorSave < 10):\n",
        "          floor = 3\n",
        "        if (floorSave < 20):\n",
        "          floor = 4\n",
        "        if (floorSave >= 20):\n",
        "          floor = 5\n",
        "        if (floorSave == 1): # Первый этаж выделяем в отдельную категорию\n",
        "          floor = 1 \n",
        "\n",
        "        if (int(floorStr) == int(floorsStr)): # Если этаж последний, включаем индикатор последнего этажа\n",
        "          isLastFloor = 1 \n",
        "      except:\n",
        "        floor = 0 # Если строка не парсится в число, то категория этажа = 0 (отдельная)\n",
        "\n",
        "      # Выбираем категорию этажности дома\n",
        "      try:\n",
        "        floors = int(floorsStr) # Превращаем строку в число\n",
        "        floorsSave = floors\n",
        "        if (floorsSave < 5):\n",
        "          floors = 1\n",
        "        if (floorsSave < 10):\n",
        "          floors = 2\n",
        "        if (floorsSave < 20):\n",
        "          floors = 3\n",
        "        if (floorsSave >= 20):\n",
        "          floors = 4\n",
        "      except:\n",
        "        floors = 0 # Если строка не парсится в число, то категория этажности = 0 (отдельная)\n",
        "\n",
        "      # Определяем категорию типа дома\n",
        "      if (len(houseTypeStr) > 0):\n",
        "        if (\"М\" in houseTypeStr): \n",
        "          houseType = 1\n",
        "        if (\"К\" in houseTypeStr): \n",
        "          houseType = 2\n",
        "        if (\"П\" in houseTypeStr): \n",
        "          houseType = 3\n",
        "        if (\"Б\" in houseTypeStr): \n",
        "          houseType = 4\n",
        "        if (\"?\" in houseTypeStr): \n",
        "          houseType = 5\n",
        "        if (\"-\" in houseTypeStr): \n",
        "          houseType = 6\n",
        "    \n",
        "    # Превращаем все категории в one hot encoding\n",
        "    floor = utils.to_categorical(floor, 6)\n",
        "    floors = utils.to_categorical(floors, 5)\n",
        "    houseType = utils.to_categorical(houseType, 7)\n",
        "    \n",
        "    \n",
        "  return floor, floors, isLastFloor, houseType\n"
      ],
      "metadata": {
        "id": "2hjP_DcPUDfK"
      },
      "execution_count": null,
      "outputs": []
    },
    {
      "cell_type": "code",
      "source": [
        "# Вычисляем тип балкона\n",
        "def getBalcony(d):\n",
        "  balconyStr = d[4] #Полуаем строку\n",
        "  # Выписываем все варианты балконов в базе\n",
        "  balconyVariants = ['Л', 'Б', '2Б', '-', '2Б2Л', 'БЛ', '3Б', '2Л', 'Эрк', 'Б2Л', 'ЭркЛ', '3Л', '4Л', '*Л', '*Б']\n",
        "  # Проверяем на nan\n",
        "  if (balconyStr == balconyStr):\n",
        "    balcony = balconyVariants.index(balconyStr)+1 # Находим индекс строки балкона во всех строках\n",
        "  else:\n",
        "    balcony = 0 # Индекс 0 выделяем на строку nan\n",
        "  \n",
        "  # Превращаем в one hot encoding\n",
        "  balcony = utils.to_categorical(balcony, 16)\n",
        "  \n",
        "  return balcony\n"
      ],
      "metadata": {
        "id": "qSfMZ64rUImp"
      },
      "execution_count": null,
      "outputs": []
    },
    {
      "cell_type": "code",
      "source": [
        "# Определяем тип санузла\n",
        "def getWC(d):\n",
        "  wcStr = d[5] #Получаем строку\n",
        "  #Выписываем все варианты санузлов в базе\n",
        "  wcVariants = ['2', 'Р', 'С', '-', '2С', '+', '4Р', '2Р', '3С', '4С', '4', '3', '3Р']\n",
        "  #Проверяем на nan\n",
        "  if (wcStr == wcStr):\n",
        "    wc = wcVariants.index(wcStr)+1 #Находим индекс строки санузла во всех строках\n",
        "  else:\n",
        "    wc = 0 #Индекс 0 выделяем на строку nan\n",
        "  \n",
        "  #Превращаем в one hot encoding\n",
        "  wc = utils.to_categorical(wc, 14)\n",
        "  \n",
        "  return wc"
      ],
      "metadata": {
        "id": "ohXoe6bNUIrh"
      },
      "execution_count": null,
      "outputs": []
    },
    {
      "cell_type": "code",
      "source": [
        "# Определяем площадь\n",
        "def getArea(d):\n",
        "  areaStr = d[6] #Поулачем строку площади\n",
        "  \n",
        "  if (\"/\" in areaStr):\n",
        "    slashIndex = areaStr.index(\"/\") #Находим разделитель /\n",
        "    try:\n",
        "      area = float(areaStr[:slashIndex]) #Берём число до разделителя и превращаем в число\n",
        "    except:\n",
        "      area = 0 #Если не получается, возвращаем 0\n",
        "  else:\n",
        "    area = 0 #Или если нет разделителя, возвращаем 0\n",
        "    \n",
        "  return area"
      ],
      "metadata": {
        "id": "Ss1YmGfHUIxJ"
      },
      "execution_count": null,
      "outputs": []
    },
    {
      "cell_type": "code",
      "source": [
        "# Получаем цену\n",
        "def getCost(d):\n",
        "  costStr = d[7] #Загружаем строку\n",
        "  \n",
        "  try:\n",
        "    cost = float(costStr) #Пробуем превратить в число\n",
        "  except:\n",
        "    cost = 0 #Если не получается, возвращаем 0\n",
        "  \n",
        "  return cost\n",
        "\n",
        "# Получаем комментарий\n",
        "def getComment(d):\n",
        "  commentStr = d[-1] #Возвращаем данные из последней колонки\n",
        "  \n",
        "  return commentStr"
      ],
      "metadata": {
        "id": "pLu7VDhhURlx"
      },
      "execution_count": null,
      "outputs": []
    },
    {
      "cell_type": "code",
      "source": [
        "# Объединяем все числовые параметры вместе\n",
        "def getAllParameters(d, allMetroNames):\n",
        "  # Загружаем все данные по отдельности\n",
        "  roomsCountType = getRoomsCountCategory(d, 30)\n",
        "  metro = getMetro(d, allMetroNames)\n",
        "  metroType = getMetroType(d)\n",
        "  metroDistance = getMetroDistance(d)\n",
        "  floor, floors, isLastFloor, houseType = getHouseTypeAndFloor(d)\n",
        "  balcony = getBalcony(d)\n",
        "  wc = getWC(d)\n",
        "  area = getArea(d)\n",
        "\n",
        "  # Объединяем в один лист\n",
        "  out = list(roomsCountType)\n",
        "  out.append(metro)\n",
        "  out.extend(metroType)\n",
        "  out.extend(metroDistance)\n",
        "  out.extend(floor)\n",
        "  out.extend(floors)\n",
        "  out.append(isLastFloor)\n",
        "  out.extend(houseType)\n",
        "  out.extend(balcony)\n",
        "  out.extend(wc)\n",
        "  out.append(area)\n",
        "  \n",
        "  return out\n",
        "\n",
        "# Генерируем обучающаюу выборку - xTrain\n",
        "def getXTrain(data):\n",
        "  \n",
        "  # Получаем строку во всеми вариантами метро\n",
        "  allMertroNames = list(df[\"Метро / ЖД станции\"].unique())\n",
        "  \n",
        "  # Всевращаем все строки в data1 в векторы параметров и записываем в xTrain\n",
        "  xTrain = [getAllParameters(d, allMertroNames) for d in data]\n",
        "  xTrain = np.array(xTrain)\n",
        "  \n",
        "  return xTrain\n",
        "\n",
        "# Генерируем обучающую выборку - yTrain\n",
        "def getYTrain(data):\n",
        "  \n",
        "  # Зашружаем лист всех цен квартир по всем строкам data1\n",
        "  costList = [getCost(d) for d in data] \n",
        "  yTrain = np.array(costList)\n",
        "  \n",
        "  return yTrain"
      ],
      "metadata": {
        "id": "--wmxaKt9Jcr"
      },
      "execution_count": null,
      "outputs": []
    },
    {
      "cell_type": "markdown",
      "metadata": {
        "id": "Zn7GMVQylEJD"
      },
      "source": [
        "Формируем обучающую выборку"
      ]
    },
    {
      "cell_type": "code",
      "source": [
        "oneRoomMask = [getRoomsCount(d, 30) == 1 for d in data] #Делаем маску однокомнатных квартир, принцип (getRoomsCount(d, 30) == 1)\n",
        "data1 = data[oneRoomMask] #В data1 оставляем только однокомнатные квартиры\n",
        "print(data.shape)\n",
        "print(data1.shape)"
      ],
      "metadata": {
        "colab": {
          "base_uri": "https://localhost:8080/"
        },
        "id": "i6ByWhyN9Rvh",
        "outputId": "bcd83350-31fc-4bcd-e269-c4547e6a6396"
      },
      "execution_count": null,
      "outputs": [
        {
          "output_type": "stream",
          "name": "stdout",
          "text": [
            "(126268, 14)\n",
            "(62504, 14)\n"
          ]
        }
      ]
    },
    {
      "cell_type": "code",
      "source": [
        "xTrain = getXTrain(data1)\n",
        "yTrain = getYTrain(data1)"
      ],
      "metadata": {
        "id": "PpiCFfMy9UlA"
      },
      "execution_count": null,
      "outputs": []
    },
    {
      "cell_type": "code",
      "source": [
        "print(xTrain.shape)"
      ],
      "metadata": {
        "colab": {
          "base_uri": "https://localhost:8080/"
        },
        "id": "PjzejFhP9Uow",
        "outputId": "c7e5618e-2770-42f0-8f61-304cfe1e6849"
      },
      "execution_count": null,
      "outputs": [
        {
          "output_type": "stream",
          "name": "stdout",
          "text": [
            "(62504, 109)\n"
          ]
        }
      ]
    },
    {
      "cell_type": "markdown",
      "metadata": {
        "id": "s29aVC-mlTXi"
      },
      "source": [
        "Парсинг текста"
      ]
    },
    {
      "cell_type": "code",
      "source": [
        "# Очистка текста и превращение в набор слов\n",
        "\n",
        "def text2Words(text):\n",
        "  # Удаляем лишние символы\n",
        "  text = text.replace(\".\", \"\")# удаляем лишние символы\n",
        "  text = text.replace(\"—\", \"\")\n",
        "  text = text.replace(\",\", \"\")\n",
        "  text = text.replace(\"!\", \"\")\n",
        "  text = text.replace(\"?\", \"\")\n",
        "  text = text.replace(\"…\", \"\")\n",
        "  text = text.lower() # Переводим в нижний регистр\n",
        "    \n",
        "  words = [] # Тут будут все слова\n",
        "  currWord = \"\" # Тут будет накапливаться текущее слово, между двумя пробелами  \n",
        "  # идём по всем символам\n",
        "  for symbol in text:    \n",
        "    if (symbol != \"\\ufeff\"): # Игнорируем системынй символ в начале строки\n",
        "      if (symbol != \" \"): # Если символ не пробел\n",
        "        currWord += symbol # То добавляем вимвол в текущее слово\n",
        "      else: # Если символ пробел\n",
        "        if (currWord != \"\"): \n",
        "          words.append(currWord) # Добавляем тккущее слово в список слов\n",
        "          currWord = \"\" # И обнуляем текущее слово\n",
        "\n",
        "  # Добавляем финальное слово, если оно не пустое\n",
        "  # Если не сделать, то потеряем финальное слово, потому что текст чаще всего заканчивается на не пробел\n",
        "  if (currWord != \"\"):\n",
        "        words.append(currWord)\n",
        "  \n",
        "  return words\n",
        "\n",
        "# Создание словаря - все слова, упорядоченные по частоте появления\n",
        "def createVocabulary(allWords):  \n",
        "  # Создаём словарь, в котором будут слова и количество их поялвений во всём текста\n",
        "  # Ключи - все наши слова\n",
        "  # Количество появлений пока везде 0\n",
        "  wCount = dict.fromkeys(allWords, 0)\n",
        "\n",
        "  # Проходим по всем словам\n",
        "  for word in allWords:\n",
        "    wCount[word] += 1 # И увеличиаем количество появлений текущего слова на 1\n",
        "\n",
        "  # Выцепляем лист из словаря\n",
        "  wordsList = list(wCount.items())\n",
        "  # И сортируем по частоте появления\n",
        "  wordsList.sort(key = lambda i:i[1], reverse=1)\n",
        "  # key = lambda i:i[1] - говорит, что сортировать надо по частоте появления\n",
        "  # В i[0] у нас слово, в i[1] - частота появления\n",
        "  # reverse=1 говорить сортироваться по убыванию\n",
        "\n",
        "  sortedWords = [] # Тут будет лист всех отсортированных слов\n",
        "\n",
        "  # Проходим по всем словам в отсортированном списке\n",
        "  for word in wordsList:\n",
        "    sortedWords.append(word[0]) #Докидываем слово в лист отсортированных слов\n",
        "\n",
        "  #Это словарь слово - индекс\n",
        "  #Изначально заполнен всеми словами\n",
        "  #У всех индекс 0\n",
        "  wordIndexes = dict.fromkeys(allWords, 0)\n",
        "  #Проходим по всем словам\n",
        "  for word in wordIndexes.keys():\n",
        "    wordIndexes[word] = sortedWords.index(word)+1 #Ставим индекс = индекс слова в отсортированном листе слов + 1\n",
        "    #+1 потому, что индекс 0 резервируем под неопознанные слова\n",
        "\n",
        "  return wordIndexes\n",
        "\n",
        "\n",
        "# Преобразования листа слов в лист индексов\n",
        "\n",
        "def words2Indexes(words, vocabulary, maxWordsCount):\n",
        "  wordsIndexes = []\n",
        "  \n",
        "  #Идём по всем словая\n",
        "  for word in words:\n",
        "    \n",
        "    wordIndex = 0 #Тут будет индекс слова, изначально 0 - слово неопознано\n",
        "    wordInVocabulary = word in vocabulary #Проверяем, есть ли слово в словаре\n",
        "    \n",
        "    #Если слово есть в словаре\n",
        "    if (wordInVocabulary):\n",
        "      index = vocabulary[word] #Индекс = индексу слова в словаре\n",
        "      if (index < maxWordsCount): #Если индекс ниже maxWordsCount - черты отсечения слов\n",
        "        wordIndex = index #То записываем индекс\n",
        "      #Иначе останется значение 0\n",
        "        \n",
        "    wordsIndexes.append(wordIndex)\n",
        "    \n",
        "  return wordsIndexes\n",
        "\n",
        "\n",
        "# Преобразование одного короткого вектора в вектор из 0 и 1\n",
        "# По принципу words bag\n",
        "\n",
        "def changeXTo01(trainVector, wordsCount):\n",
        "  #Создаём вектор длины wordsCount с нулями\n",
        "  out = np.zeros(wordsCount)\n",
        "  \n",
        "  #Идём по всем индексам в строке\n",
        "  for x in trainVector:\n",
        "    out[x] = 1 #В позицию нужного индекса ставим 1\n",
        "    \n",
        "  return out\n",
        "\n",
        "\n",
        "# Преобразование выборки (обучающей или проверочной) к виду 0 и 1\n",
        "# По принципу words bag\n",
        "\n",
        "def changeSetTo01(trainSet, wordsCount):\n",
        "  out = []\n",
        "  \n",
        "  #Проходим по всем векторам в наборе\n",
        "  for x in trainSet:\n",
        "    out.append(changeXTo01(x, wordsCount)) #Добавляем в итоговый набор текущий вектор, преобразованный в bag of words\n",
        "    \n",
        "  return np.array(out)\n",
        "\n",
        "\n",
        "# Формируем обучающую выборку из примечаний к квартирам\n",
        "# Пока в виде слов\n",
        "\n",
        "def getXTrainComments(data):\n",
        "  xTrainComments = [] #Тут будет обучающся выборка\n",
        "  allTextComments = \"\" #Тут будуте все тексты вместе для словаря\n",
        "  \n",
        "  #Идём по всем строкам квартир в базе\n",
        "  for d in data:\n",
        "    currText = getComment(d) #Вытаскиваем примечание к квартире\n",
        "    try: \n",
        "      if (currText == currText): #Проверяем на nan\n",
        "        allTextComments += currText + \" \" #Добавляем текст в общий текст для словаря\n",
        "    except:\n",
        "      currText = \"Нет комментария\" #Если не получается, то делаем стандартный текст \"Нет комментария\"\n",
        "    xTrainComments.append(currText) #Добавляем примечание новой строкой в обучающую выборку\n",
        "  \n",
        "  xTrainComments = np.array(xTrainComments)\n",
        "  \n",
        "  return (xTrainComments, allTextComments)\n",
        "\n",
        "# Формируем обучающую выборку из примечаний к квартирам\n",
        "# Теперь в виде индексов\n",
        "\n",
        "def changeSetToIndexes(xTrainComments, vocabulary, maxWordsCount):\n",
        "  xTrainCommentsIndexes = [] #Тут будет итоговый xTrain примечаний в виде индексов\n",
        "  \n",
        "  # По всем текстам:\n",
        "  for text in xTrainComments:\n",
        "    currWords = text2Words(text) #Разбиваем текст на слова\n",
        "    currIndexes = words2Indexes(currWords, vocabulary, maxWordsCount) #Превращаем в лист индексов\n",
        "    currIndexes = np.array(currIndexes)\n",
        "    xTrainCommentsIndexes.append(currIndexes) #Добавляем в xTrain\n",
        "  \n",
        "  xTrainCommentsIndexes = np.array(xTrainCommentsIndexes)\n",
        "  xTrainCommentsIndexes = changeSetTo01(xTrainCommentsIndexes, maxWordsCount) #Превращаем в формат bag of words\n",
        "  return xTrainCommentsIndexes\n",
        "\n",
        "# Формируем обучающую выборку из примечаний к квартирам\n",
        "# Теперь в виде индексов\n",
        "# И с приведением к стандартной длине всех векторов - cropLen\n",
        "\n",
        "def changeSetToIndexesCrop(xTrainComments, vocabulary, maxWordsCount, cropLen):\n",
        "  xTrainCommentsIndexes = [] #Тут будет итоговый xTrain примечаний в виде индексов\n",
        "  \n",
        "  # По всем текстам:\n",
        "  for text in xTrainComments:\n",
        "    currWords = text2Words(text) # Разбиваем текст на слова\n",
        "    currIndexes = words2Indexes(currWords, vocabulary, maxWordsCount) # Превращаем в лист индексов\n",
        "    currIndexes = np.array(currIndexes)\n",
        "    xTrainCommentsIndexes.append(currIndexes) # Добавляем в xTrain\n",
        "  \n",
        "  xTrainCommentsIndexes = np.array(xTrainCommentsIndexes)\n",
        "  xTrainCommentsIndexes = pad_sequences(xTrainCommentsIndexes, maxlen=cropLen) # Приводим все вектора к стандартной длине\n",
        "  return xTrainCommentsIndexes"
      ],
      "metadata": {
        "id": "N2XOASSy9aux"
      },
      "execution_count": null,
      "outputs": []
    },
    {
      "cell_type": "markdown",
      "source": [
        "Соберем xTrain по текстам"
      ],
      "metadata": {
        "id": "chf5pF-F-OKn"
      }
    },
    {
      "cell_type": "code",
      "source": [
        "xTrainC, allTextComments = getXTrainComments(data1) # Создаём обучающую выборку по текстам и большо текст для словаря\n",
        "allWords = text2Words(allTextComments) # Собираем полный текст в слова\n",
        "allWords = allWords[::10] # Берём 10% слов (иначе словарь слишком долго формируется)\n",
        "vocabulary = createVocabulary(allWords) # Создаём словарь\n",
        "xTrainC01 = changeSetToIndexes(xTrainC, vocabulary, 2000) # Преобразеум xTrain в bag of words"
      ],
      "metadata": {
        "colab": {
          "base_uri": "https://localhost:8080/"
        },
        "id": "8GKTEWim97-E",
        "outputId": "d8c18355-59ea-431e-aca5-26075702e4f2"
      },
      "execution_count": null,
      "outputs": [
        {
          "output_type": "stream",
          "name": "stderr",
          "text": [
            "/usr/local/lib/python3.7/dist-packages/ipykernel_launcher.py:153: VisibleDeprecationWarning: Creating an ndarray from ragged nested sequences (which is a list-or-tuple of lists-or-tuples-or ndarrays with different lengths or shapes) is deprecated. If you meant to do this, you must specify 'dtype=object' when creating the ndarray\n"
          ]
        }
      ]
    },
    {
      "cell_type": "code",
      "source": [
        "#Выводим раземры обучающей выборки\n",
        "#Чтобы проверить, что мы всё правильно собрали\n",
        "print(xTrain.shape)\n",
        "print(xTrainC01.shape)\n",
        "print(yTrain.shape)"
      ],
      "metadata": {
        "colab": {
          "base_uri": "https://localhost:8080/"
        },
        "id": "rBSOU-if98Dm",
        "outputId": "6d42fdd3-dd3d-43d8-beb6-f080ac9601c9"
      },
      "execution_count": null,
      "outputs": [
        {
          "output_type": "stream",
          "name": "stdout",
          "text": [
            "(62504, 109)\n",
            "(62504, 2000)\n",
            "(62504,)\n"
          ]
        }
      ]
    },
    {
      "cell_type": "markdown",
      "metadata": {
        "id": "7pgWTHEqlvdF"
      },
      "source": [
        "Нормировка данных"
      ]
    },
    {
      "cell_type": "code",
      "source": [
        "# Нормируем размер квартиры в xTrain\n",
        "xScaler = StandardScaler() #Создаём нормировщик нормальным распределением\n",
        "xScaler.fit(xTrain[:,-1].reshape(-1, 1)) #Обучаем его на площадях квартир (последня колонка в xTrain)\n",
        "xTrainScaled = xTrain.copy()\n",
        "xTrainScaled[:,-1] = xScaler.transform(xTrain[:,-1].reshape(-1, 1)).flatten() #Нормируем данные нормировщиком\n",
        " \n",
        "# Выводим размер и два примера для сравнения\n",
        "# Не нормированных данных и нормированных\n",
        "print(xTrainScaled.shape)\n",
        "print(xTrain[0])\n",
        "print(xTrainScaled[0])"
      ],
      "metadata": {
        "colab": {
          "base_uri": "https://localhost:8080/"
        },
        "id": "BXzqe_hD-boQ",
        "outputId": "6d213e31-c72a-4f12-cb6b-f463795d0203"
      },
      "execution_count": null,
      "outputs": [
        {
          "output_type": "stream",
          "name": "stdout",
          "text": [
            "(62504, 109)\n",
            "[ 0.   1.   0.   0.   0.   0.   0.   0.   0.   0.   0.   0.   0.   0.\n",
            "  0.   0.   0.   0.   0.   0.   0.   0.   0.   0.   0.   0.   0.   0.\n",
            "  0.   0.   0.   0.   1.   0.   0.   0.   0.   1.   0.   0.   0.   0.\n",
            "  1.   0.   0.   0.   0.   0.   0.   0.   0.   0.   0.   0.   0.   0.\n",
            "  0.   0.   0.   0.   0.   0.   0.   0.   1.   0.   0.   0.   0.   1.\n",
            "  0.   0.   1.   0.   0.   0.   0.   0.   1.   0.   0.   0.   0.   0.\n",
            "  0.   0.   0.   0.   0.   0.   0.   0.   0.   0.   0.   1.   0.   0.\n",
            "  0.   0.   0.   0.   0.   0.   0.   0.   0.   0.  64.1]\n",
            "[0.         1.         0.         0.         0.         0.\n",
            " 0.         0.         0.         0.         0.         0.\n",
            " 0.         0.         0.         0.         0.         0.\n",
            " 0.         0.         0.         0.         0.         0.\n",
            " 0.         0.         0.         0.         0.         0.\n",
            " 0.         0.         1.         0.         0.         0.\n",
            " 0.         1.         0.         0.         0.         0.\n",
            " 1.         0.         0.         0.         0.         0.\n",
            " 0.         0.         0.         0.         0.         0.\n",
            " 0.         0.         0.         0.         0.         0.\n",
            " 0.         0.         0.         0.         1.         0.\n",
            " 0.         0.         0.         1.         0.         0.\n",
            " 1.         0.         0.         0.         0.         0.\n",
            " 1.         0.         0.         0.         0.         0.\n",
            " 0.         0.         0.         0.         0.         0.\n",
            " 0.         0.         0.         0.         0.         1.\n",
            " 0.         0.         0.         0.         0.         0.\n",
            " 0.         0.         0.         0.         0.         0.\n",
            " 1.28438086]\n"
          ]
        }
      ]
    },
    {
      "cell_type": "code",
      "source": [
        "# Нормируем выход сети - цену квартиры\n",
        "yScaler = StandardScaler() # Делаемнормальный нормировщик\n",
        "yScaler.fit(yTrain.reshape(-1, 1)) # Обучаем на ценах квартир\n",
        "yTrainScaled = yScaler.transform(yTrain.reshape(-1, 1)) # Нормируем цены квартир\n",
        "\n",
        "# Выводим размер и два примера для сравнения\n",
        "# Не нормированных данных и нормированных\n",
        "print(yTrainScaled.shape)\n",
        "print(yTrain[0])\n",
        "print(yTrainScaled[0])"
      ],
      "metadata": {
        "colab": {
          "base_uri": "https://localhost:8080/"
        },
        "id": "CGlBS72e-wJE",
        "outputId": "45be65ff-f532-4240-ba6e-d9fdb48cc7d5"
      },
      "execution_count": null,
      "outputs": [
        {
          "output_type": "stream",
          "name": "stdout",
          "text": [
            "(62504, 1)\n",
            "19500000.0\n",
            "[0.45013]\n"
          ]
        }
      ]
    },
    {
      "cell_type": "code",
      "source": [
        "print(min(yTrain), max(yTrain))\n",
        "print(min(yTrainScaled), max(yTrainScaled))"
      ],
      "metadata": {
        "colab": {
          "base_uri": "https://localhost:8080/"
        },
        "id": "L5FOmwdZ-wMx",
        "outputId": "18cd5447-fe58-4a1f-8d3b-c4c32f052f7b"
      },
      "execution_count": null,
      "outputs": [
        {
          "output_type": "stream",
          "name": "stdout",
          "text": [
            "1500000.0 3000000015.0\n",
            "[-0.3458729] [132.25494456]\n"
          ]
        }
      ]
    },
    {
      "cell_type": "markdown",
      "metadata": {
        "id": "PZAhclqgl_XP"
      },
      "source": [
        "Формируем проверочную выборку"
      ]
    },
    {
      "cell_type": "code",
      "source": [
        "splitVal = 0.2 # Процент, который выделяем в проверочную выборку\n",
        "valMask = np.random.sample(xTrainScaled.shape[0]) < splitVal # Создаём маску True-False для создания проверочной выборки"
      ],
      "metadata": {
        "id": "HNc7Au_7-2My"
      },
      "execution_count": null,
      "outputs": []
    },
    {
      "cell_type": "code",
      "source": [
        "np.save('/content/drive/MyDrive/Базы/x and y Trains/xTrainScaled',xTrainScaled)\n",
        "np.save('/content/drive/MyDrive/Базы/x and y Trains/xTrainC01',xTrainC01)\n",
        "np.save('/content/drive/MyDrive/Базы/x and y Trains/yTrainScaled',yTrainScaled)"
      ],
      "metadata": {
        "id": "NMoU2_GQ-2Rt"
      },
      "execution_count": null,
      "outputs": []
    },
    {
      "cell_type": "markdown",
      "metadata": {
        "id": "VMjVNXbkmFv8"
      },
      "source": [
        "Нейронка"
      ]
    },
    {
      "cell_type": "code",
      "source": [
        "def on_epoch_end(epoch, logs):\n",
        "  pred = model.predict([xTrainScaled[valMask], xTrainC01[valMask]]) # Полуаем выход сети на проверочно выборке\n",
        "  predUnscaled = yScaler.inverse_transform(pred).flatten() # Делаем обратное нормирование выхода к изначальным величинам цен квартир\n",
        "  yTrainUnscaled = yScaler.inverse_transform(yTrainScaled[valMask]).flatten() # Делаем такое же обратное нормирование yTrain к базовым ценам\n",
        "  delta = predUnscaled - yTrainUnscaled # Считаем разность предсказания и правильных цен\n",
        "  absDelta = abs(delta) # Берём модуль отклонения\n",
        "  print(\"Эпоха\", epoch, \"модуль ошибки\", round(sum(absDelta) / (1e+6 * len(absDelta)),3)) # Выводим усреднённую ошибку в миллионах рублей\n",
        "\n",
        "# Коллбэки\n",
        "pltMae = LambdaCallback(on_epoch_end=on_epoch_end)"
      ],
      "metadata": {
        "id": "3gsWKhBv_PWt"
      },
      "execution_count": null,
      "outputs": []
    },
    {
      "cell_type": "code",
      "source": [
        "print(type(xTrainScaled))\n",
        "print(type(xTrainC01))\n",
        "print(type(yTrainScaled))"
      ],
      "metadata": {
        "colab": {
          "base_uri": "https://localhost:8080/"
        },
        "id": "qDF0RjTS_Pa6",
        "outputId": "0378cfca-a48b-4511-8232-4c7d3fd339ab"
      },
      "execution_count": null,
      "outputs": [
        {
          "output_type": "stream",
          "name": "stdout",
          "text": [
            "<class 'numpy.ndarray'>\n",
            "<class 'numpy.ndarray'>\n",
            "<class 'numpy.ndarray'>\n"
          ]
        }
      ]
    },
    {
      "cell_type": "code",
      "source": [
        "# Простая Dense сеть\n",
        "input1 = Input((xTrainScaled.shape[1],))\n",
        "input2 = Input((xTrainC01.shape[1],))\n",
        "\n",
        "x1 = Dense(10, activation=\"relu\")(input1)\n",
        "x2 = Dense(250, activation=\"relu\")(input2)\n",
        "\n",
        "x = concatenate([x1, x2])\n",
        "\n",
        "x = Dense(100, activation='relu')(x)\n",
        "x = Dense(10, activation='relu')(x)\n",
        "x = Dense(1, activation='linear')(x)\n",
        "\n",
        "model = Model((input1, input2), x)\n",
        "\n",
        "model.compile(optimizer=Adam(lr=1e-3), loss='mse')\n",
        "history = model.fit([xTrainScaled[~valMask], xTrainC01[~valMask]], \n",
        "                    yTrainScaled[~valMask], \n",
        "                    epochs=30, \n",
        "                    validation_data=([xTrainScaled[valMask], xTrainC01[valMask]], \n",
        "                    yTrainScaled[valMask]), \n",
        "                    verbose=0,\n",
        "                    callbacks=[pltMae])\n",
        "\n",
        "plt.plot(history.history['loss'], \n",
        "         label='Ошибка на обучающем наборе')\n",
        "plt.plot(history.history['val_loss'], \n",
        "         label='Ошибка на проверочном наборе')\n",
        "plt.xlabel('Эпоха обучения')\n",
        "plt.ylabel('Ошибка')\n",
        "plt.legend()\n",
        "plt.show()\n",
        "\n",
        "print()\n",
        "print('Меняем шаг обучения на 1e-4')\n",
        "model.compile(optimizer=Adam(lr=1e-4), loss='mse')\n",
        "history = model.fit([xTrainScaled[~valMask], xTrainC01[~valMask]], \n",
        "                    yTrainScaled[~valMask], \n",
        "                    epochs=30, \n",
        "                    validation_data=([xTrainScaled[valMask], xTrainC01[valMask]], \n",
        "                    yTrainScaled[valMask]), \n",
        "                    verbose=0,\n",
        "                    callbacks=[pltMae])\n",
        "\n",
        "plt.plot(history.history['loss'], \n",
        "         label='Ошибка на обучающем наборе')\n",
        "plt.plot(history.history['val_loss'], \n",
        "         label='Ошибка на проверочном наборе')\n",
        "plt.xlabel('Эпоха обучения')\n",
        "plt.ylabel('Ошибка')\n",
        "plt.legend()\n",
        "plt.show()\n",
        "\n",
        "print()\n",
        "print('Меняем шаг обучения на 1e-5')\n",
        "model.compile(optimizer=Adam(lr=1e-5), loss='mse')\n",
        "history = model.fit([xTrainScaled[~valMask], xTrainC01[~valMask]], \n",
        "                    yTrainScaled[~valMask], \n",
        "                    epochs=40, \n",
        "                    validation_data=([xTrainScaled[valMask], xTrainC01[valMask]], \n",
        "                    yTrainScaled[valMask]), \n",
        "                    verbose=0,\n",
        "                    callbacks=[pltMae])\n",
        "\n",
        "plt.plot(history.history['loss'], \n",
        "         label='Ошибка на обучающем наборе')\n",
        "plt.plot(history.history['val_loss'], \n",
        "         label='Ошибка на проверочном наборе')\n",
        "plt.xlabel('Эпоха обучения')\n",
        "plt.ylabel('Ошибка')\n",
        "plt.legend()\n",
        "plt.show()\n",
        "\n",
        "\n",
        "\n",
        "# Проверяем результаты\n",
        "pred = model.predict([xTrainScaled[valMask], xTrainC01[valMask]]) # Полуаем выход сети на проверочной выборке\n",
        "predUnscaled = yScaler.inverse_transform(pred).flatten() # Делаем обратное нормирование выхода к изначальным величинам цен квартир\n",
        "yTrainUnscaled = yScaler.inverse_transform(yTrainScaled[valMask]).flatten() # Делаем такое же обратное нормирование yTrain к базовым ценам\n",
        "delta = predUnscaled - yTrainUnscaled # Считаем разность предсказания и правильных цен\n",
        "absDelta = abs(delta) # Берём модуль отклонения\n",
        "print(\"Модуль ошибки\", sum(absDelta) / (1e+6 * len(absDelta))) # Выводим усреднённую ошибку в миллионах рублей\n",
        "\n",
        "# Выводим графики ошибки\n",
        "plt.plot(history.history['loss'], \n",
        "         label='Средняя абсолютная ошибка на обучающем наборе')\n",
        "plt.plot(history.history['val_loss'], \n",
        "         label='Средняя абсолютная ошибка на проверочном наборе')\n",
        "plt.xlabel('Эпоха обучения')\n",
        "plt.ylabel('Средняя абсолютная ошибка')\n",
        "plt.legend()\n",
        "plt.show()"
      ],
      "metadata": {
        "colab": {
          "base_uri": "https://localhost:8080/",
          "height": 1000
        },
        "id": "IodroWiA_Pe8",
        "outputId": "eea1c528-72df-41e0-95bb-7f621866ec2d"
      },
      "execution_count": null,
      "outputs": [
        {
          "output_type": "stream",
          "name": "stderr",
          "text": [
            "/usr/local/lib/python3.7/dist-packages/keras/optimizer_v2/adam.py:105: UserWarning: The `lr` argument is deprecated, use `learning_rate` instead.\n",
            "  super(Adam, self).__init__(name, **kwargs)\n"
          ]
        },
        {
          "output_type": "stream",
          "name": "stdout",
          "text": [
            "Эпоха 0 модуль ошибки 1.802\n",
            "Эпоха 1 модуль ошибки 1.719\n",
            "Эпоха 2 модуль ошибки 1.755\n",
            "Эпоха 3 модуль ошибки 1.44\n",
            "Эпоха 4 модуль ошибки 1.26\n",
            "Эпоха 5 модуль ошибки 1.497\n",
            "Эпоха 6 модуль ошибки 1.178\n",
            "Эпоха 7 модуль ошибки 1.201\n",
            "Эпоха 8 модуль ошибки 1.304\n",
            "Эпоха 9 модуль ошибки 1.214\n",
            "Эпоха 10 модуль ошибки 1.144\n",
            "Эпоха 11 модуль ошибки 1.1\n",
            "Эпоха 12 модуль ошибки 1.079\n",
            "Эпоха 13 модуль ошибки 2.647\n",
            "Эпоха 14 модуль ошибки 1.048\n",
            "Эпоха 15 модуль ошибки 1.055\n",
            "Эпоха 16 модуль ошибки 1.007\n",
            "Эпоха 17 модуль ошибки 1.127\n",
            "Эпоха 18 модуль ошибки 1.108\n",
            "Эпоха 19 модуль ошибки 1.135\n",
            "Эпоха 20 модуль ошибки 0.998\n",
            "Эпоха 21 модуль ошибки 1.067\n",
            "Эпоха 22 модуль ошибки 1.125\n",
            "Эпоха 23 модуль ошибки 0.988\n",
            "Эпоха 24 модуль ошибки 0.97\n",
            "Эпоха 25 модуль ошибки 2.642\n",
            "Эпоха 26 модуль ошибки 1.102\n",
            "Эпоха 27 модуль ошибки 0.998\n",
            "Эпоха 28 модуль ошибки 0.993\n",
            "Эпоха 29 модуль ошибки 1.478\n"
          ]
        },
        {
          "output_type": "display_data",
          "data": {
            "image/png": "[encoded data removed]",
            "text/plain": [
              "<Figure size 432x288 with 1 Axes>"
            ]
          },
          "metadata": {
            "needs_background": "light"
          }
        },
        {
          "output_type": "stream",
          "name": "stdout",
          "text": [
            "\n",
            "Меняем шаг обучения на 1e-4\n"
          ]
        },
        {
          "output_type": "stream",
          "name": "stderr",
          "text": [
            "/usr/local/lib/python3.7/dist-packages/keras/optimizer_v2/adam.py:105: UserWarning: The `lr` argument is deprecated, use `learning_rate` instead.\n",
            "  super(Adam, self).__init__(name, **kwargs)\n"
          ]
        },
        {
          "output_type": "stream",
          "name": "stdout",
          "text": [
            "Эпоха 0 модуль ошибки 0.925\n",
            "Эпоха 1 модуль ошибки 0.908\n",
            "Эпоха 2 модуль ошибки 0.903\n",
            "Эпоха 3 модуль ошибки 0.897\n",
            "Эпоха 4 модуль ошибки 0.892\n",
            "Эпоха 5 модуль ошибки 0.896\n",
            "Эпоха 6 модуль ошибки 0.885\n",
            "Эпоха 7 модуль ошибки 0.886\n",
            "Эпоха 8 модуль ошибки 0.889\n",
            "Эпоха 9 модуль ошибки 0.892\n",
            "Эпоха 10 модуль ошибки 0.887\n",
            "Эпоха 11 модуль ошибки 0.881\n",
            "Эпоха 12 модуль ошибки 0.895\n",
            "Эпоха 13 модуль ошибки 0.879\n",
            "Эпоха 14 модуль ошибки 0.888\n",
            "Эпоха 15 модуль ошибки 0.887\n",
            "Эпоха 16 модуль ошибки 0.874\n",
            "Эпоха 17 модуль ошибки 0.878\n",
            "Эпоха 18 модуль ошибки 0.873\n",
            "Эпоха 19 модуль ошибки 0.878\n",
            "Эпоха 20 модуль ошибки 0.872\n",
            "Эпоха 21 модуль ошибки 0.871\n",
            "Эпоха 22 модуль ошибки 0.872\n",
            "Эпоха 23 модуль ошибки 0.877\n",
            "Эпоха 24 модуль ошибки 0.873\n",
            "Эпоха 25 модуль ошибки 0.879\n",
            "Эпоха 26 модуль ошибки 0.866\n",
            "Эпоха 27 модуль ошибки 0.909\n",
            "Эпоха 28 модуль ошибки 0.873\n",
            "Эпоха 29 модуль ошибки 0.865\n"
          ]
        },
        {
          "output_type": "display_data",
          "data": {
            "image/png": "[encoded data removed]",
            "text/plain": [
              "<Figure size 432x288 with 1 Axes>"
            ]
          },
          "metadata": {
            "needs_background": "light"
          }
        },
        {
          "output_type": "stream",
          "name": "stdout",
          "text": [
            "\n",
            "Меняем шаг обучения на 1e-5\n"
          ]
        },
        {
          "output_type": "stream",
          "name": "stderr",
          "text": [
            "/usr/local/lib/python3.7/dist-packages/keras/optimizer_v2/adam.py:105: UserWarning: The `lr` argument is deprecated, use `learning_rate` instead.\n",
            "  super(Adam, self).__init__(name, **kwargs)\n"
          ]
        },
        {
          "output_type": "stream",
          "name": "stdout",
          "text": [
            "Эпоха 0 модуль ошибки 0.865\n",
            "Эпоха 1 модуль ошибки 0.866\n",
            "Эпоха 2 модуль ошибки 0.864\n",
            "Эпоха 3 модуль ошибки 0.863\n",
            "Эпоха 4 модуль ошибки 0.865\n",
            "Эпоха 5 модуль ошибки 0.863\n",
            "Эпоха 6 модуль ошибки 0.866\n",
            "Эпоха 7 модуль ошибки 0.862\n",
            "Эпоха 8 модуль ошибки 0.863\n",
            "Эпоха 9 модуль ошибки 0.863\n",
            "Эпоха 10 модуль ошибки 0.865\n",
            "Эпоха 11 модуль ошибки 0.863\n",
            "Эпоха 12 модуль ошибки 0.863\n",
            "Эпоха 13 модуль ошибки 0.862\n",
            "Эпоха 14 модуль ошибки 0.866\n",
            "Эпоха 15 модуль ошибки 0.863\n",
            "Эпоха 16 модуль ошибки 0.863\n",
            "Эпоха 17 модуль ошибки 0.863\n",
            "Эпоха 18 модуль ошибки 0.863\n",
            "Эпоха 19 модуль ошибки 0.863\n",
            "Эпоха 20 модуль ошибки 0.863\n",
            "Эпоха 21 модуль ошибки 0.862\n",
            "Эпоха 22 модуль ошибки 0.862\n",
            "Эпоха 23 модуль ошибки 0.862\n",
            "Эпоха 24 модуль ошибки 0.864\n",
            "Эпоха 25 модуль ошибки 0.862\n",
            "Эпоха 26 модуль ошибки 0.866\n",
            "Эпоха 27 модуль ошибки 0.862\n",
            "Эпоха 28 модуль ошибки 0.862\n",
            "Эпоха 29 модуль ошибки 0.862\n",
            "Эпоха 30 модуль ошибки 0.862\n",
            "Эпоха 31 модуль ошибки 0.863\n",
            "Эпоха 32 модуль ошибки 0.862\n",
            "Эпоха 33 модуль ошибки 0.862\n",
            "Эпоха 34 модуль ошибки 0.862\n",
            "Эпоха 35 модуль ошибки 0.863\n",
            "Эпоха 36 модуль ошибки 0.862\n",
            "Эпоха 37 модуль ошибки 0.862\n",
            "Эпоха 38 модуль ошибки 0.863\n",
            "Эпоха 39 модуль ошибки 0.862\n"
          ]
        },
        {
          "output_type": "display_data",
          "data": {
            "image/png": "[encoded data removed]",
            "text/plain": [
              "<Figure size 432x288 with 1 Axes>"
            ]
          },
          "metadata": {
            "needs_background": "light"
          }
        },
        {
          "output_type": "stream",
          "name": "stdout",
          "text": [
            "Модуль ошибки 0.8620628918565083\n"
          ]
        },
        {
          "output_type": "display_data",
          "data": {
            "image/png": "[encoded data removed]",
            "text/plain": [
              "<Figure size 432x288 with 1 Axes>"
            ]
          },
          "metadata": {
            "needs_background": "light"
          }
        }
      ]
    },
    {
      "cell_type": "code",
      "source": [
        "from tensorflow.keras.utils import plot_model\n",
        "plot_model(model, dpi=90,  show_shapes=True)"
      ],
      "metadata": {
        "colab": {
          "base_uri": "https://localhost:8080/",
          "height": 604
        },
        "id": "NutYXgdQbamx",
        "outputId": "73ec3845-4eba-4bb5-a257-1a546a5e761e"
      },
      "execution_count": null,
      "outputs": [
        {
          "output_type": "execute_result",
          "data": {
            "image/png": "[encoded data removed]",
            "text/plain": [
              "<IPython.core.display.Image object>"
            ]
          },
          "metadata": {},
          "execution_count": 31
        }
      ]
    },
    {
      "cell_type": "markdown",
      "source": [
        "Даннаый датасет использовался для большей наглядности и возможности сравнения с предудущими результатами более легких уровней сложности.\n",
        " Также попробовал, увидев большое количество слоев, преодолеть затухание градиента задав на старте lr=1е-2. Однако точность оказалась намного хуже.\n",
        " В результате переобуил со старта на lr=1е-3. Благо предыдущие тесты в других условиях и на больших количествах эпох и уровней lr дали ориентиры точности. \n",
        " Также проблема с дефицитом оперативки заставляет задуматься об эффективном ее использовании. Как я вижу, большое количество эпох на самых низких уровнях lr не дает сильной прибавки точности. Поэтому при дефиците оперативки необходимо правильно распределить количество эпох обучения по уровням коррекции ошибки.\n",
        " \n",
        " С уважением, Косцов Сергей."
      ],
      "metadata": {
        "id": "BBMi0ix4siny"
      }
    }
  ]
}