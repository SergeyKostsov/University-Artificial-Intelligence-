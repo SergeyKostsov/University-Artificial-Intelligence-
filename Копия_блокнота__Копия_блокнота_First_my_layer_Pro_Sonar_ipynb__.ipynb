{
  "nbformat": 4,
  "nbformat_minor": 0,
  "metadata": {
    "colab": {
      "name": "Копия блокнота \"Копия блокнота\"First_my_layer_Pro_Sonar.ipynb\"\"",
      "provenance": [],
      "collapsed_sections": []
    },
    "kernelspec": {
      "name": "python3",
      "display_name": "Python 3"
    },
    "language_info": {
      "name": "python"
    }
  },
  "cells": [
    {
      "cell_type": "code",
      "metadata": {
        "id": "-EB5Fvic0qKv"
      },
      "source": [
        "from tensorflow.keras.datasets import mnist #Библиотека с базой Mnist\n",
        "from tensorflow.keras.models import Sequential # Подлючаем класс создания модели Sequential\n",
        "from tensorflow.keras.layers import Dense # Подключаем класс Dense - полносвязный слой\n",
        "from tensorflow.keras.optimizers import Adam # Подключаем оптимизатор Adam\n",
        "from tensorflow.keras import utils #Утилиты для to_categorical\n",
        "from tensorflow.keras.preprocessing import image #Для отрисовки изображения\n",
        "import numpy as np # Подключаем библиотеку numpy\n",
        "import pylab # Модуль для построения графиков\n",
        "from mpl_toolkits.mplot3d import Axes3D # Модуль для трехмерной графики\n",
        "from google.colab import files #Для загрузки своей картинки\n",
        "import matplotlib.pyplot as plt #Отрисовка изображений\n",
        "from PIL import Image #Отрисовка изображений\n",
        "#Отрисовывать изображения в ноутбуке, а не в консоль или файл\n",
        "%matplotlib inline \n",
        "from tensorflow.keras.models import save_model, load_model\n",
        "import pandas as pd\n",
        "from tensorflow.keras.layers import Dense, Activation, Dropout, BatchNormalization # Основные слои"
      ],
      "execution_count": null,
      "outputs": []
    },
    {
      "cell_type": "code",
      "metadata": {
        "colab": {
          "base_uri": "https://localhost:8080/"
        },
        "id": "Tif2kBJ8thPF",
        "outputId": "d9787c7c-690e-48cb-f1c9-815a2b610143"
      },
      "source": [
        "# Для загрузки данных используем drive\n",
        "from google.colab import drive\n",
        "drive.mount('/content/drive')"
      ],
      "execution_count": null,
      "outputs": [
        {
          "output_type": "stream",
          "name": "stdout",
          "text": [
            "Mounted at /content/drive\n"
          ]
        }
      ]
    },
    {
      "cell_type": "code",
      "metadata": {
        "id": "kr3uVTwUtj1g"
      },
      "source": [
        "df = pd.read_csv('/content/drive/MyDrive/sonar.csv') # Load base"
      ],
      "execution_count": null,
      "outputs": []
    },
    {
      "cell_type": "code",
      "metadata": {
        "id": "mq96eUXg0vQm",
        "colab": {
          "base_uri": "https://localhost:8080/"
        },
        "outputId": "f5e1e4f0-5093-4b90-90b0-0ea942896b2d"
      },
      "source": [
        "df.shape"
      ],
      "execution_count": null,
      "outputs": [
        {
          "output_type": "execute_result",
          "data": {
            "text/plain": [
              "(207, 61)"
            ]
          },
          "metadata": {},
          "execution_count": 132
        }
      ]
    },
    {
      "cell_type": "code",
      "metadata": {
        "colab": {
          "base_uri": "https://localhost:8080/"
        },
        "id": "piqf4FmlM-pD",
        "outputId": "a7a051a0-aebf-42da-ab69-026c8049c4f6"
      },
      "source": [
        "dataset = df.values                 # Берем только значения массива(без индексов)\n",
        "X = dataset[:,0:60].astype(float)   # Присваиваем им тип данных - float(с плавающей точкой) данным с 0 по 60 колонки\n",
        "Y = dataset[:,60]                   # Присваеваем значению Y данные из столбца с индексом 60\n",
        "Y[Y=='R']='0'                       # Если значение элемента столбца равно 'R', присваеваем ему значение '0'\n",
        "Y[Y=='M']='1'                       # Если значение элемента столбца равно 'Y', присваеваем ему значение '1'\n",
        "Y = Y.astype(int)                   # Меняем тип данных столбца на 'int'(целочисленный тип данных)\n",
        "print(X.shape)                      # Выводим размерность X\n",
        "print(Y.shape)                      # Выводим размерность Y\n",
        "print(Y)                            "
      ],
      "execution_count": null,
      "outputs": [
        {
          "output_type": "stream",
          "name": "stdout",
          "text": [
            "(207, 60)\n",
            "(207,)\n",
            "[0 0 0 0 0 0 0 0 0 0 0 0 0 0 0 0 0 0 0 0 0 0 0 0 0 0 0 0 0 0 0 0 0 0 0 0 0\n",
            " 0 0 0 0 0 0 0 0 0 0 0 0 0 0 0 0 0 0 0 0 0 0 0 0 0 0 0 0 0 0 0 0 0 0 0 0 0\n",
            " 0 0 0 0 0 0 0 0 0 0 0 0 0 0 0 0 0 0 0 0 0 0 1 1 1 1 1 1 1 1 1 1 1 1 1 1 1\n",
            " 1 1 1 1 1 1 1 1 1 1 1 1 1 1 1 1 1 1 1 1 1 1 1 1 1 1 1 1 1 1 1 1 1 1 1 1 1\n",
            " 1 1 1 1 1 1 1 1 1 1 1 1 1 1 1 1 1 1 1 1 1 1 1 1 1 1 1 1 1 1 1 1 1 1 1 1 1\n",
            " 1 1 1 1 1 1 1 1 1 1 1 1 1 1 1 1 1 1 1 1 1 1]\n"
          ]
        }
      ]
    },
    {
      "cell_type": "code",
      "metadata": {
        "colab": {
          "base_uri": "https://localhost:8080/"
        },
        "id": "h9kg0OrBM-sM",
        "outputId": "c5f4ac6f-7023-441a-ccc7-1842f9073bc0"
      },
      "source": [
        "# sklearn - популярная библиотека для машинного обучения\n",
        "# train_test_split - функция разделения на обучающую и проверочную/тестовую выборку\n",
        "from sklearn.model_selection import train_test_split\n",
        "\n",
        "\n",
        "# test_size=0.2 - будет выделено 20% от тренировочных данных \n",
        "# shuffle=True - перемешать данные\n",
        "# x_train - данные для обучения\n",
        "# x_test - данные для проверки\n",
        "# y_train - правильные ответы для обучения\n",
        "# y_test - правильные ответы для проверки\n",
        "x_train, x_test, y_train, y_test = train_test_split(X, Y, test_size=0.2, shuffle=True)    \n",
        "print (x_train.shape)\n",
        "print (x_test.shape)\n",
        "print (y_train.shape)\n",
        "print (y_test.shape)"
      ],
      "execution_count": null,
      "outputs": [
        {
          "output_type": "stream",
          "name": "stdout",
          "text": [
            "(165, 60)\n",
            "(42, 60)\n",
            "(165,)\n",
            "(42,)\n"
          ]
        }
      ]
    },
    {
      "cell_type": "code",
      "metadata": {
        "id": "fgxt3zwLM-ve"
      },
      "source": [
        "# Функция пересоздаёт пустую сеть\n",
        "def createModel():\n",
        "\n",
        "  # Создаем сеть\n",
        "  model = Sequential()\n",
        "\n",
        "  # Добавляем слои\n",
        "  model.add(BatchNormalization(input_shape=(60, )))\n",
        "  model.add(Dense(60, activation='relu'))\n",
        "  model.add(Dropout(0.5, input_shape=(60,)))   \n",
        "  #model.add(Dense(30,  activation='relu'))\n",
        "  #model.add(Dropout(0.25, input_shape=(60,))) \n",
        "  model.add(Dense(1, activation='sigmoid'))\n",
        "\n",
        "  # Компилируем сеть\n",
        "  model.compile(loss='binary_crossentropy', optimizer=Adam(lr=0.001), metrics=['accuracy'])\n",
        "\n",
        "  return model # Возвращаем созданную сеть"
      ],
      "execution_count": null,
      "outputs": []
    },
    {
      "cell_type": "code",
      "metadata": {
        "colab": {
          "base_uri": "https://localhost:8080/"
        },
        "id": "3N1IhXaNM-x-",
        "outputId": "e9962ba1-7b16-4594-dc6b-eae2c30121eb"
      },
      "source": [
        "# Обучаем сеть\n",
        "model.fit(x_train, \n",
        "          y_train,\n",
        "          batch_size=15, \n",
        "          epochs=100,\n",
        "          validation_split=0.2, # Указываем 20% случайных примеров для проверочной выборки из обучающей выборки. Тестовую сохраняем.\n",
        "          verbose=1)"
      ],
      "execution_count": null,
      "outputs": [
        {
          "output_type": "stream",
          "name": "stdout",
          "text": [
            "Epoch 1/100\n",
            "9/9 [==============================] - 0s 8ms/step - loss: 3.1582e-04 - accuracy: 1.0000 - val_loss: 1.1244e-04 - val_accuracy: 1.0000\n",
            "Epoch 2/100\n",
            "9/9 [==============================] - 0s 4ms/step - loss: 2.0594e-04 - accuracy: 1.0000 - val_loss: 1.2701e-04 - val_accuracy: 1.0000\n",
            "Epoch 3/100\n",
            "9/9 [==============================] - 0s 4ms/step - loss: 1.4251e-04 - accuracy: 1.0000 - val_loss: 1.4067e-04 - val_accuracy: 1.0000\n",
            "Epoch 4/100\n",
            "9/9 [==============================] - 0s 4ms/step - loss: 1.1645e-04 - accuracy: 1.0000 - val_loss: 1.5470e-04 - val_accuracy: 1.0000\n",
            "Epoch 5/100\n",
            "9/9 [==============================] - 0s 4ms/step - loss: 9.9551e-05 - accuracy: 1.0000 - val_loss: 1.5722e-04 - val_accuracy: 1.0000\n",
            "Epoch 6/100\n",
            "9/9 [==============================] - 0s 4ms/step - loss: 8.9237e-05 - accuracy: 1.0000 - val_loss: 1.5965e-04 - val_accuracy: 1.0000\n",
            "Epoch 7/100\n",
            "9/9 [==============================] - 0s 4ms/step - loss: 8.5528e-05 - accuracy: 1.0000 - val_loss: 1.6296e-04 - val_accuracy: 1.0000\n",
            "Epoch 8/100\n",
            "9/9 [==============================] - 0s 4ms/step - loss: 8.0716e-05 - accuracy: 1.0000 - val_loss: 1.6444e-04 - val_accuracy: 1.0000\n",
            "Epoch 9/100\n",
            "9/9 [==============================] - 0s 5ms/step - loss: 7.7590e-05 - accuracy: 1.0000 - val_loss: 1.6764e-04 - val_accuracy: 1.0000\n",
            "Epoch 10/100\n",
            "9/9 [==============================] - 0s 4ms/step - loss: 7.5231e-05 - accuracy: 1.0000 - val_loss: 1.7391e-04 - val_accuracy: 1.0000\n",
            "Epoch 11/100\n",
            "9/9 [==============================] - 0s 4ms/step - loss: 7.3590e-05 - accuracy: 1.0000 - val_loss: 1.7646e-04 - val_accuracy: 1.0000\n",
            "Epoch 12/100\n",
            "9/9 [==============================] - 0s 4ms/step - loss: 7.1421e-05 - accuracy: 1.0000 - val_loss: 1.8043e-04 - val_accuracy: 1.0000\n",
            "Epoch 13/100\n",
            "9/9 [==============================] - 0s 4ms/step - loss: 7.0829e-05 - accuracy: 1.0000 - val_loss: 1.8251e-04 - val_accuracy: 1.0000\n",
            "Epoch 14/100\n",
            "9/9 [==============================] - 0s 4ms/step - loss: 6.9058e-05 - accuracy: 1.0000 - val_loss: 1.8401e-04 - val_accuracy: 1.0000\n",
            "Epoch 15/100\n",
            "9/9 [==============================] - 0s 4ms/step - loss: 6.7923e-05 - accuracy: 1.0000 - val_loss: 1.8673e-04 - val_accuracy: 1.0000\n",
            "Epoch 16/100\n",
            "9/9 [==============================] - 0s 4ms/step - loss: 6.6825e-05 - accuracy: 1.0000 - val_loss: 1.8638e-04 - val_accuracy: 1.0000\n",
            "Epoch 17/100\n",
            "9/9 [==============================] - 0s 4ms/step - loss: 6.6117e-05 - accuracy: 1.0000 - val_loss: 1.9058e-04 - val_accuracy: 1.0000\n",
            "Epoch 18/100\n",
            "9/9 [==============================] - 0s 4ms/step - loss: 6.5566e-05 - accuracy: 1.0000 - val_loss: 1.8975e-04 - val_accuracy: 1.0000\n",
            "Epoch 19/100\n",
            "9/9 [==============================] - 0s 4ms/step - loss: 6.4575e-05 - accuracy: 1.0000 - val_loss: 1.9066e-04 - val_accuracy: 1.0000\n",
            "Epoch 20/100\n",
            "9/9 [==============================] - 0s 4ms/step - loss: 6.3658e-05 - accuracy: 1.0000 - val_loss: 1.9474e-04 - val_accuracy: 1.0000\n",
            "Epoch 21/100\n",
            "9/9 [==============================] - 0s 5ms/step - loss: 6.2882e-05 - accuracy: 1.0000 - val_loss: 1.9596e-04 - val_accuracy: 1.0000\n",
            "Epoch 22/100\n",
            "9/9 [==============================] - 0s 4ms/step - loss: 6.2339e-05 - accuracy: 1.0000 - val_loss: 1.9789e-04 - val_accuracy: 1.0000\n",
            "Epoch 23/100\n",
            "9/9 [==============================] - 0s 4ms/step - loss: 6.1496e-05 - accuracy: 1.0000 - val_loss: 1.9874e-04 - val_accuracy: 1.0000\n",
            "Epoch 24/100\n",
            "9/9 [==============================] - 0s 4ms/step - loss: 6.0889e-05 - accuracy: 1.0000 - val_loss: 1.9957e-04 - val_accuracy: 1.0000\n",
            "Epoch 25/100\n",
            "9/9 [==============================] - 0s 4ms/step - loss: 6.0487e-05 - accuracy: 1.0000 - val_loss: 1.9907e-04 - val_accuracy: 1.0000\n",
            "Epoch 26/100\n",
            "9/9 [==============================] - 0s 4ms/step - loss: 5.9700e-05 - accuracy: 1.0000 - val_loss: 2.0183e-04 - val_accuracy: 1.0000\n",
            "Epoch 27/100\n",
            "9/9 [==============================] - 0s 4ms/step - loss: 5.9308e-05 - accuracy: 1.0000 - val_loss: 2.0446e-04 - val_accuracy: 1.0000\n",
            "Epoch 28/100\n",
            "9/9 [==============================] - 0s 4ms/step - loss: 5.8742e-05 - accuracy: 1.0000 - val_loss: 2.0420e-04 - val_accuracy: 1.0000\n",
            "Epoch 29/100\n",
            "9/9 [==============================] - 0s 5ms/step - loss: 5.8097e-05 - accuracy: 1.0000 - val_loss: 2.0424e-04 - val_accuracy: 1.0000\n",
            "Epoch 30/100\n",
            "9/9 [==============================] - 0s 5ms/step - loss: 5.7680e-05 - accuracy: 1.0000 - val_loss: 2.0581e-04 - val_accuracy: 1.0000\n",
            "Epoch 31/100\n",
            "9/9 [==============================] - 0s 4ms/step - loss: 5.7116e-05 - accuracy: 1.0000 - val_loss: 2.0589e-04 - val_accuracy: 1.0000\n",
            "Epoch 32/100\n",
            "9/9 [==============================] - 0s 7ms/step - loss: 5.7115e-05 - accuracy: 1.0000 - val_loss: 2.0381e-04 - val_accuracy: 1.0000\n",
            "Epoch 33/100\n",
            "9/9 [==============================] - 0s 5ms/step - loss: 5.6293e-05 - accuracy: 1.0000 - val_loss: 2.0529e-04 - val_accuracy: 1.0000\n",
            "Epoch 34/100\n",
            "9/9 [==============================] - 0s 5ms/step - loss: 5.5804e-05 - accuracy: 1.0000 - val_loss: 2.0775e-04 - val_accuracy: 1.0000\n",
            "Epoch 35/100\n",
            "9/9 [==============================] - 0s 4ms/step - loss: 5.5404e-05 - accuracy: 1.0000 - val_loss: 2.0854e-04 - val_accuracy: 1.0000\n",
            "Epoch 36/100\n",
            "9/9 [==============================] - 0s 4ms/step - loss: 5.4963e-05 - accuracy: 1.0000 - val_loss: 2.1191e-04 - val_accuracy: 1.0000\n",
            "Epoch 37/100\n",
            "9/9 [==============================] - 0s 4ms/step - loss: 5.4593e-05 - accuracy: 1.0000 - val_loss: 2.1355e-04 - val_accuracy: 1.0000\n",
            "Epoch 38/100\n",
            "9/9 [==============================] - 0s 4ms/step - loss: 5.4129e-05 - accuracy: 1.0000 - val_loss: 2.1262e-04 - val_accuracy: 1.0000\n",
            "Epoch 39/100\n",
            "9/9 [==============================] - 0s 4ms/step - loss: 5.3828e-05 - accuracy: 1.0000 - val_loss: 2.1199e-04 - val_accuracy: 1.0000\n",
            "Epoch 40/100\n",
            "9/9 [==============================] - 0s 4ms/step - loss: 5.3335e-05 - accuracy: 1.0000 - val_loss: 2.1432e-04 - val_accuracy: 1.0000\n",
            "Epoch 41/100\n",
            "9/9 [==============================] - 0s 5ms/step - loss: 5.2862e-05 - accuracy: 1.0000 - val_loss: 2.1513e-04 - val_accuracy: 1.0000\n",
            "Epoch 42/100\n",
            "9/9 [==============================] - 0s 5ms/step - loss: 5.2486e-05 - accuracy: 1.0000 - val_loss: 2.1552e-04 - val_accuracy: 1.0000\n",
            "Epoch 43/100\n",
            "9/9 [==============================] - 0s 5ms/step - loss: 5.2129e-05 - accuracy: 1.0000 - val_loss: 2.1617e-04 - val_accuracy: 1.0000\n",
            "Epoch 44/100\n",
            "9/9 [==============================] - 0s 5ms/step - loss: 5.1771e-05 - accuracy: 1.0000 - val_loss: 2.1694e-04 - val_accuracy: 1.0000\n",
            "Epoch 45/100\n",
            "9/9 [==============================] - 0s 4ms/step - loss: 5.1370e-05 - accuracy: 1.0000 - val_loss: 2.1857e-04 - val_accuracy: 1.0000\n",
            "Epoch 46/100\n",
            "9/9 [==============================] - 0s 4ms/step - loss: 5.1143e-05 - accuracy: 1.0000 - val_loss: 2.1761e-04 - val_accuracy: 1.0000\n",
            "Epoch 47/100\n",
            "9/9 [==============================] - 0s 5ms/step - loss: 5.0950e-05 - accuracy: 1.0000 - val_loss: 2.2089e-04 - val_accuracy: 1.0000\n",
            "Epoch 48/100\n",
            "9/9 [==============================] - 0s 5ms/step - loss: 5.0454e-05 - accuracy: 1.0000 - val_loss: 2.2055e-04 - val_accuracy: 1.0000\n",
            "Epoch 49/100\n",
            "9/9 [==============================] - 0s 4ms/step - loss: 5.0218e-05 - accuracy: 1.0000 - val_loss: 2.1958e-04 - val_accuracy: 1.0000\n",
            "Epoch 50/100\n",
            "9/9 [==============================] - 0s 4ms/step - loss: 4.9583e-05 - accuracy: 1.0000 - val_loss: 2.2118e-04 - val_accuracy: 1.0000\n",
            "Epoch 51/100\n",
            "9/9 [==============================] - 0s 4ms/step - loss: 4.9373e-05 - accuracy: 1.0000 - val_loss: 2.2316e-04 - val_accuracy: 1.0000\n",
            "Epoch 52/100\n",
            "9/9 [==============================] - 0s 5ms/step - loss: 4.8993e-05 - accuracy: 1.0000 - val_loss: 2.2319e-04 - val_accuracy: 1.0000\n",
            "Epoch 53/100\n",
            "9/9 [==============================] - 0s 7ms/step - loss: 4.8602e-05 - accuracy: 1.0000 - val_loss: 2.2335e-04 - val_accuracy: 1.0000\n",
            "Epoch 54/100\n",
            "9/9 [==============================] - 0s 6ms/step - loss: 4.8346e-05 - accuracy: 1.0000 - val_loss: 2.2279e-04 - val_accuracy: 1.0000\n",
            "Epoch 55/100\n",
            "9/9 [==============================] - 0s 4ms/step - loss: 4.8418e-05 - accuracy: 1.0000 - val_loss: 2.2571e-04 - val_accuracy: 1.0000\n",
            "Epoch 56/100\n",
            "9/9 [==============================] - 0s 4ms/step - loss: 4.7766e-05 - accuracy: 1.0000 - val_loss: 2.2385e-04 - val_accuracy: 1.0000\n",
            "Epoch 57/100\n",
            "9/9 [==============================] - 0s 4ms/step - loss: 4.7512e-05 - accuracy: 1.0000 - val_loss: 2.2590e-04 - val_accuracy: 1.0000\n",
            "Epoch 58/100\n",
            "9/9 [==============================] - 0s 5ms/step - loss: 4.7079e-05 - accuracy: 1.0000 - val_loss: 2.2562e-04 - val_accuracy: 1.0000\n",
            "Epoch 59/100\n",
            "9/9 [==============================] - 0s 4ms/step - loss: 4.6847e-05 - accuracy: 1.0000 - val_loss: 2.2525e-04 - val_accuracy: 1.0000\n",
            "Epoch 60/100\n",
            "9/9 [==============================] - 0s 5ms/step - loss: 4.6501e-05 - accuracy: 1.0000 - val_loss: 2.2581e-04 - val_accuracy: 1.0000\n",
            "Epoch 61/100\n",
            "9/9 [==============================] - 0s 6ms/step - loss: 4.6306e-05 - accuracy: 1.0000 - val_loss: 2.2839e-04 - val_accuracy: 1.0000\n",
            "Epoch 62/100\n",
            "9/9 [==============================] - 0s 4ms/step - loss: 4.5920e-05 - accuracy: 1.0000 - val_loss: 2.2854e-04 - val_accuracy: 1.0000\n",
            "Epoch 63/100\n",
            "9/9 [==============================] - 0s 5ms/step - loss: 4.5674e-05 - accuracy: 1.0000 - val_loss: 2.2816e-04 - val_accuracy: 1.0000\n",
            "Epoch 64/100\n",
            "9/9 [==============================] - 0s 5ms/step - loss: 4.5291e-05 - accuracy: 1.0000 - val_loss: 2.2958e-04 - val_accuracy: 1.0000\n",
            "Epoch 65/100\n",
            "9/9 [==============================] - 0s 4ms/step - loss: 4.5043e-05 - accuracy: 1.0000 - val_loss: 2.3149e-04 - val_accuracy: 1.0000\n",
            "Epoch 66/100\n",
            "9/9 [==============================] - 0s 5ms/step - loss: 4.4892e-05 - accuracy: 1.0000 - val_loss: 2.3218e-04 - val_accuracy: 1.0000\n",
            "Epoch 67/100\n",
            "9/9 [==============================] - 0s 4ms/step - loss: 4.4586e-05 - accuracy: 1.0000 - val_loss: 2.3219e-04 - val_accuracy: 1.0000\n",
            "Epoch 68/100\n",
            "9/9 [==============================] - 0s 4ms/step - loss: 4.4538e-05 - accuracy: 1.0000 - val_loss: 2.3579e-04 - val_accuracy: 1.0000\n",
            "Epoch 69/100\n",
            "9/9 [==============================] - 0s 5ms/step - loss: 4.4093e-05 - accuracy: 1.0000 - val_loss: 2.3449e-04 - val_accuracy: 1.0000\n",
            "Epoch 70/100\n",
            "9/9 [==============================] - 0s 4ms/step - loss: 4.4037e-05 - accuracy: 1.0000 - val_loss: 2.3213e-04 - val_accuracy: 1.0000\n",
            "Epoch 71/100\n",
            "9/9 [==============================] - 0s 4ms/step - loss: 4.3548e-05 - accuracy: 1.0000 - val_loss: 2.3373e-04 - val_accuracy: 1.0000\n",
            "Epoch 72/100\n",
            "9/9 [==============================] - 0s 4ms/step - loss: 4.3396e-05 - accuracy: 1.0000 - val_loss: 2.3494e-04 - val_accuracy: 1.0000\n",
            "Epoch 73/100\n",
            "9/9 [==============================] - 0s 5ms/step - loss: 4.3168e-05 - accuracy: 1.0000 - val_loss: 2.3324e-04 - val_accuracy: 1.0000\n",
            "Epoch 74/100\n",
            "9/9 [==============================] - 0s 5ms/step - loss: 4.2961e-05 - accuracy: 1.0000 - val_loss: 2.3379e-04 - val_accuracy: 1.0000\n",
            "Epoch 75/100\n",
            "9/9 [==============================] - 0s 7ms/step - loss: 4.2698e-05 - accuracy: 1.0000 - val_loss: 2.3489e-04 - val_accuracy: 1.0000\n",
            "Epoch 76/100\n",
            "9/9 [==============================] - 0s 7ms/step - loss: 4.2521e-05 - accuracy: 1.0000 - val_loss: 2.3541e-04 - val_accuracy: 1.0000\n",
            "Epoch 77/100\n",
            "9/9 [==============================] - 0s 5ms/step - loss: 4.2267e-05 - accuracy: 1.0000 - val_loss: 2.3453e-04 - val_accuracy: 1.0000\n",
            "Epoch 78/100\n",
            "9/9 [==============================] - 0s 5ms/step - loss: 4.2220e-05 - accuracy: 1.0000 - val_loss: 2.3751e-04 - val_accuracy: 1.0000\n",
            "Epoch 79/100\n",
            "9/9 [==============================] - 0s 5ms/step - loss: 4.1969e-05 - accuracy: 1.0000 - val_loss: 2.3653e-04 - val_accuracy: 1.0000\n",
            "Epoch 80/100\n",
            "9/9 [==============================] - 0s 6ms/step - loss: 4.1618e-05 - accuracy: 1.0000 - val_loss: 2.3740e-04 - val_accuracy: 1.0000\n",
            "Epoch 81/100\n",
            "9/9 [==============================] - 0s 5ms/step - loss: 4.1641e-05 - accuracy: 1.0000 - val_loss: 2.3930e-04 - val_accuracy: 1.0000\n",
            "Epoch 82/100\n",
            "9/9 [==============================] - 0s 4ms/step - loss: 4.1268e-05 - accuracy: 1.0000 - val_loss: 2.3631e-04 - val_accuracy: 1.0000\n",
            "Epoch 83/100\n",
            "9/9 [==============================] - 0s 4ms/step - loss: 4.0917e-05 - accuracy: 1.0000 - val_loss: 2.3661e-04 - val_accuracy: 1.0000\n",
            "Epoch 84/100\n",
            "9/9 [==============================] - 0s 4ms/step - loss: 4.0855e-05 - accuracy: 1.0000 - val_loss: 2.3842e-04 - val_accuracy: 1.0000\n",
            "Epoch 85/100\n",
            "9/9 [==============================] - 0s 4ms/step - loss: 4.0534e-05 - accuracy: 1.0000 - val_loss: 2.3753e-04 - val_accuracy: 1.0000\n",
            "Epoch 86/100\n",
            "9/9 [==============================] - 0s 4ms/step - loss: 4.0267e-05 - accuracy: 1.0000 - val_loss: 2.3658e-04 - val_accuracy: 1.0000\n",
            "Epoch 87/100\n",
            "9/9 [==============================] - 0s 5ms/step - loss: 4.0407e-05 - accuracy: 1.0000 - val_loss: 2.3915e-04 - val_accuracy: 1.0000\n",
            "Epoch 88/100\n",
            "9/9 [==============================] - 0s 4ms/step - loss: 3.9905e-05 - accuracy: 1.0000 - val_loss: 2.3893e-04 - val_accuracy: 1.0000\n",
            "Epoch 89/100\n",
            "9/9 [==============================] - 0s 4ms/step - loss: 3.9710e-05 - accuracy: 1.0000 - val_loss: 2.3909e-04 - val_accuracy: 1.0000\n",
            "Epoch 90/100\n",
            "9/9 [==============================] - 0s 4ms/step - loss: 3.9566e-05 - accuracy: 1.0000 - val_loss: 2.3752e-04 - val_accuracy: 1.0000\n",
            "Epoch 91/100\n",
            "9/9 [==============================] - 0s 4ms/step - loss: 3.9354e-05 - accuracy: 1.0000 - val_loss: 2.3811e-04 - val_accuracy: 1.0000\n",
            "Epoch 92/100\n",
            "9/9 [==============================] - 0s 4ms/step - loss: 3.9202e-05 - accuracy: 1.0000 - val_loss: 2.3918e-04 - val_accuracy: 1.0000\n",
            "Epoch 93/100\n",
            "9/9 [==============================] - 0s 5ms/step - loss: 3.8992e-05 - accuracy: 1.0000 - val_loss: 2.3909e-04 - val_accuracy: 1.0000\n",
            "Epoch 94/100\n",
            "9/9 [==============================] - 0s 5ms/step - loss: 3.8862e-05 - accuracy: 1.0000 - val_loss: 2.3781e-04 - val_accuracy: 1.0000\n",
            "Epoch 95/100\n",
            "9/9 [==============================] - 0s 5ms/step - loss: 3.8691e-05 - accuracy: 1.0000 - val_loss: 2.4022e-04 - val_accuracy: 1.0000\n",
            "Epoch 96/100\n",
            "9/9 [==============================] - 0s 5ms/step - loss: 3.8387e-05 - accuracy: 1.0000 - val_loss: 2.4029e-04 - val_accuracy: 1.0000\n",
            "Epoch 97/100\n",
            "9/9 [==============================] - 0s 4ms/step - loss: 3.8276e-05 - accuracy: 1.0000 - val_loss: 2.3915e-04 - val_accuracy: 1.0000\n",
            "Epoch 98/100\n",
            "9/9 [==============================] - 0s 4ms/step - loss: 3.8019e-05 - accuracy: 1.0000 - val_loss: 2.4133e-04 - val_accuracy: 1.0000\n",
            "Epoch 99/100\n",
            "9/9 [==============================] - 0s 5ms/step - loss: 3.7909e-05 - accuracy: 1.0000 - val_loss: 2.4068e-04 - val_accuracy: 1.0000\n",
            "Epoch 100/100\n",
            "9/9 [==============================] - 0s 4ms/step - loss: 3.7708e-05 - accuracy: 1.0000 - val_loss: 2.4245e-04 - val_accuracy: 1.0000\n"
          ]
        },
        {
          "output_type": "execute_result",
          "data": {
            "text/plain": [
              "<keras.callbacks.History at 0x7fc688806910>"
            ]
          },
          "metadata": {},
          "execution_count": 136
        }
      ]
    }
  ]
}