{
  "nbformat": 4,
  "nbformat_minor": 0,
  "metadata": {
    "colab": {
      "name": "\"\"Решение задачи регрессии (Университет искусственного интеллекта)\" Pro\"\"",
      "provenance": [],
      "collapsed_sections": [],
      "machine_shape": "hm"
    },
    "kernelspec": {
      "name": "python3",
      "display_name": "Python 3"
    }
  },
  "cells": [
    {
      "cell_type": "markdown",
      "metadata": {
        "id": "Xls0bGCyT7aM"
      },
      "source": [
        "В одной из баз: hh или квартир, сделайте callback, который будет выводить на каждой эпохе следующее:\n",
        "\n",
        "Текущую mae.\n",
        "График mae по всем эпохам на обучающей и проверочной выборках.\n",
        "Текущий scatterplot, где отображаются предсказанные и истинные значения.\n",
        "Время обучения на эпохе, время обучения суммарное и сколько времени остаётся до конца обучения.\n",
        "Изменял бы шаг обучения, если начинается “пила” на графике ошибки (mae), или график выходит на плато.\n",
        "Сохраняет сеть с лучшей точностью в .h5 файл.\n",
        "*желательно использовать clear_output и verbose=0"
      ]
    },
    {
      "cell_type": "code",
      "metadata": {
        "id": "SkQ2zSVRR_De"
      },
      "source": [
        "import numpy as np #Библиотека работы с массивами\n",
        "import pandas as pd # Библиотека для работы с базами\n",
        "\n",
        "from tensorflow.keras.models import Sequential, Model # \n",
        "from tensorflow.keras.layers import concatenate, Input, Dense, Dropout, BatchNormalization, Flatten #\n",
        "from tensorflow.keras import utils #Используем для to_categoricall\n",
        "from tensorflow.keras.optimizers import Adam,Adadelta,SGD,Adagrad,RMSprop #\n",
        "from tensorflow.keras.preprocessing.text import Tokenizer, text_to_word_sequence #\n",
        "from tensorflow.keras.preprocessing.sequence import pad_sequences #\n",
        "from tensorflow.keras.callbacks import LambdaCallback # подключаем колбэки\n",
        "from tensorflow.keras.callbacks import EarlyStopping, ReduceLROnPlateau, ModelCheckpoint\n",
        "\n",
        "from sklearn.preprocessing import StandardScaler # \n",
        "from sklearn.model_selection import train_test_split # Для разбивки на выборки\n",
        "from sklearn.metrics import mean_squared_error, mean_absolute_error #\n",
        "\n",
        "import time\n",
        "import datetime\n",
        "import sys\n",
        "\n",
        "#import random #Для генерации случайных чисел \n",
        "#import math # Для округления\n",
        "#import os #Для работы с файлами \n",
        "import re #\n",
        "import matplotlib.pyplot as plt #\n",
        "%matplotlib inline\n",
        "\n",
        "from IPython.display import clear_output\n"
      ],
      "execution_count": null,
      "outputs": []
    },
    {
      "cell_type": "code",
      "metadata": {
        "id": "3Ywrz1ojUx1-",
        "colab": {
          "base_uri": "https://localhost:8080/"
        },
        "outputId": "dc63c34e-e66f-42b1-8113-da49045b8234"
      },
      "source": [
        "from google.colab import drive # Подключаем диск\n",
        "drive.mount('/content/drive')"
      ],
      "execution_count": null,
      "outputs": [
        {
          "output_type": "stream",
          "name": "stdout",
          "text": [
            "Drive already mounted at /content/drive; to attempt to forcibly remount, call drive.mount(\"/content/drive\", force_remount=True).\n"
          ]
        }
      ]
    },
    {
      "cell_type": "markdown",
      "metadata": {
        "id": "sToPAfpCGz58"
      },
      "source": [
        "Внимание! Запуск всех разделов сразу, может привести к недостатку памяти и сессия перезапустится."
      ]
    },
    {
      "cell_type": "markdown",
      "metadata": {
        "id": "DQqa8snjeA7p"
      },
      "source": [
        "Оценка стоимости квартир"
      ]
    },
    {
      "cell_type": "code",
      "metadata": {
        "id": "106DlPFbeKv9"
      },
      "source": [
        "df = pd.read_csv('/content/drive/MyDrive/moscow.csv',  sep=\";\") # Загружаем данные в data frame\n",
        "df = df.iloc[::2,:] # Выбираем нечётные строки, в чётных строках в исходном фрейме пустые строки для комментариев\n",
        "data = df.values # Переводим данные в numpy array"
      ],
      "execution_count": null,
      "outputs": []
    },
    {
      "cell_type": "code",
      "metadata": {
        "id": "GV510wy8ePuS",
        "colab": {
          "base_uri": "https://localhost:8080/",
          "height": 355
        },
        "outputId": "18571440-f83d-43f6-eacf-646f1d8155fe"
      },
      "source": [
        "df.head(10) #Показываем пример данных (первые 6 колонок)"
      ],
      "execution_count": null,
      "outputs": [
        {
          "output_type": "execute_result",
          "data": {
            "text/html": [
              "\n",
              "  <div id=\"df-23014fe9-e404-4a7e-993d-8a153a00c3b0\">\n",
              "    <div class=\"colab-df-container\">\n",
              "      <div>\n",
              "<style scoped>\n",
              "    .dataframe tbody tr th:only-of-type {\n",
              "        vertical-align: middle;\n",
              "    }\n",
              "\n",
              "    .dataframe tbody tr th {\n",
              "        vertical-align: top;\n",
              "    }\n",
              "\n",
              "    .dataframe thead th {\n",
              "        text-align: right;\n",
              "    }\n",
              "</style>\n",
              "<table border=\"1\" class=\"dataframe\">\n",
              "  <thead>\n",
              "    <tr style=\"text-align: right;\">\n",
              "      <th></th>\n",
              "      <th>Комнат</th>\n",
              "      <th>Метро / ЖД станции</th>\n",
              "      <th>От станции</th>\n",
              "      <th>Дом</th>\n",
              "      <th>Балкон</th>\n",
              "      <th>Санузел</th>\n",
              "      <th>Площадь</th>\n",
              "      <th>Цена, руб.</th>\n",
              "      <th>ГРМ</th>\n",
              "      <th>Бонус агенту</th>\n",
              "      <th>Дата</th>\n",
              "      <th>Кол-во дней в экспозиции</th>\n",
              "      <th>Источник</th>\n",
              "      <th>Примечание</th>\n",
              "    </tr>\n",
              "  </thead>\n",
              "  <tbody>\n",
              "    <tr>\n",
              "      <th>0</th>\n",
              "      <td>1</td>\n",
              "      <td>Шелепиха м.</td>\n",
              "      <td>12п</td>\n",
              "      <td>35/37 М</td>\n",
              "      <td>NaN</td>\n",
              "      <td>2</td>\n",
              "      <td>64.1/23/20</td>\n",
              "      <td>19500000.0</td>\n",
              "      <td>NaN</td>\n",
              "      <td>NaN</td>\n",
              "      <td>25.07.2019</td>\n",
              "      <td>1.0</td>\n",
              "      <td>Привлекательные</td>\n",
              "      <td>Собственность оформлена! Ключи на руках! Опера...</td>\n",
              "    </tr>\n",
              "    <tr>\n",
              "      <th>2</th>\n",
              "      <td>1</td>\n",
              "      <td>Пятницкое шоссе м.</td>\n",
              "      <td>30т</td>\n",
              "      <td>11/14 П</td>\n",
              "      <td>Л</td>\n",
              "      <td>Р</td>\n",
              "      <td>38.4/17/9</td>\n",
              "      <td>4800000.0</td>\n",
              "      <td>NaN</td>\n",
              "      <td>NaN</td>\n",
              "      <td>25.07.2019</td>\n",
              "      <td>2.0</td>\n",
              "      <td>Привлекательные</td>\n",
              "      <td>Зеленоград к.1820 однокомнатная квартира общ.3...</td>\n",
              "    </tr>\n",
              "    <tr>\n",
              "      <th>4</th>\n",
              "      <td>1</td>\n",
              "      <td>Планерная м.</td>\n",
              "      <td>5т</td>\n",
              "      <td>11/22 П</td>\n",
              "      <td>Б</td>\n",
              "      <td>С</td>\n",
              "      <td>38.2/19.9/9.9</td>\n",
              "      <td>7990000.0</td>\n",
              "      <td>NaN</td>\n",
              "      <td>NaN</td>\n",
              "      <td>25.07.2019</td>\n",
              "      <td>4.0</td>\n",
              "      <td>Привлекательные</td>\n",
              "      <td>Уютная, светлая квартира, застекленный балкон ...</td>\n",
              "    </tr>\n",
              "    <tr>\n",
              "      <th>6</th>\n",
              "      <td>1</td>\n",
              "      <td>Шаболовская м.</td>\n",
              "      <td>12п</td>\n",
              "      <td>8/12 ?</td>\n",
              "      <td>Б</td>\n",
              "      <td>Р</td>\n",
              "      <td>38/15/7</td>\n",
              "      <td>11200000.0</td>\n",
              "      <td>NaN</td>\n",
              "      <td>NaN</td>\n",
              "      <td>25.07.2019</td>\n",
              "      <td>7.0</td>\n",
              "      <td>Привлекательные</td>\n",
              "      <td>Предлагаю 1- комн квартиру, в шаговой доступно...</td>\n",
              "    </tr>\n",
              "    <tr>\n",
              "      <th>8</th>\n",
              "      <td>1</td>\n",
              "      <td>Бабушкинская м.</td>\n",
              "      <td>15п</td>\n",
              "      <td>4/14 П</td>\n",
              "      <td>NaN</td>\n",
              "      <td>С</td>\n",
              "      <td>34/17/8</td>\n",
              "      <td>6250000.0</td>\n",
              "      <td>NaN</td>\n",
              "      <td>NaN</td>\n",
              "      <td>25.07.2019</td>\n",
              "      <td>11.0</td>\n",
              "      <td>Привлекательные</td>\n",
              "      <td>Продается хорошая 1 комнатная квартира. 1 взро...</td>\n",
              "    </tr>\n",
              "    <tr>\n",
              "      <th>10</th>\n",
              "      <td>1</td>\n",
              "      <td>Шелепиха м.</td>\n",
              "      <td>15п</td>\n",
              "      <td>9/36 К</td>\n",
              "      <td>NaN</td>\n",
              "      <td>NaN</td>\n",
              "      <td>44/14.7/19.2</td>\n",
              "      <td>12700000.0</td>\n",
              "      <td>NaN</td>\n",
              "      <td>NaN</td>\n",
              "      <td>25.07.2019</td>\n",
              "      <td>11.0</td>\n",
              "      <td>Привлекательные</td>\n",
              "      <td>1-комн. квартира в ЖК \"Сердце столицы\" на 9 эт...</td>\n",
              "    </tr>\n",
              "    <tr>\n",
              "      <th>12</th>\n",
              "      <td>1</td>\n",
              "      <td>Улица Дмитриевского м.</td>\n",
              "      <td>2п</td>\n",
              "      <td>7/16 П</td>\n",
              "      <td>Л</td>\n",
              "      <td>Р</td>\n",
              "      <td>43/20/8</td>\n",
              "      <td>6500000.0</td>\n",
              "      <td>NaN</td>\n",
              "      <td>NaN</td>\n",
              "      <td>25.07.2019</td>\n",
              "      <td>14.0</td>\n",
              "      <td>Привлекательные</td>\n",
              "      <td>Предлагаю купить Однокомнатную квартиру с удоб...</td>\n",
              "    </tr>\n",
              "    <tr>\n",
              "      <th>14</th>\n",
              "      <td>1</td>\n",
              "      <td>Бульвар Рокоссовского м.</td>\n",
              "      <td>2п</td>\n",
              "      <td>2/5 К</td>\n",
              "      <td>Б</td>\n",
              "      <td>С</td>\n",
              "      <td>31/17/6</td>\n",
              "      <td>6000000.0</td>\n",
              "      <td>NaN</td>\n",
              "      <td>NaN</td>\n",
              "      <td>25.07.2019</td>\n",
              "      <td>15.0</td>\n",
              "      <td>Привлекательные</td>\n",
              "      <td>Теплая, светлая квартира с высоким потолком в ...</td>\n",
              "    </tr>\n",
              "    <tr>\n",
              "      <th>16</th>\n",
              "      <td>1</td>\n",
              "      <td>Марьина Роща м.</td>\n",
              "      <td>10п</td>\n",
              "      <td>7/14 П</td>\n",
              "      <td>2Б</td>\n",
              "      <td>NaN</td>\n",
              "      <td>38.9/20.9/8.5</td>\n",
              "      <td>8900000.0</td>\n",
              "      <td>NaN</td>\n",
              "      <td>NaN</td>\n",
              "      <td>25.07.2019</td>\n",
              "      <td>16.0</td>\n",
              "      <td>Привлекательные</td>\n",
              "      <td>Продается 1-комн. квартира, площадью 38.9 м2 в...</td>\n",
              "    </tr>\n",
              "    <tr>\n",
              "      <th>18</th>\n",
              "      <td>1</td>\n",
              "      <td>Марьино м.</td>\n",
              "      <td>20п</td>\n",
              "      <td>10/24 М-К</td>\n",
              "      <td>NaN</td>\n",
              "      <td>-</td>\n",
              "      <td>30.9/17.9/10</td>\n",
              "      <td>5999984.0</td>\n",
              "      <td>NaN</td>\n",
              "      <td>NaN</td>\n",
              "      <td>25.07.2019</td>\n",
              "      <td>16.0</td>\n",
              "      <td>Привлекательные</td>\n",
              "      <td>Предлагается уютная квартира в ЖК комфорт клас...</td>\n",
              "    </tr>\n",
              "  </tbody>\n",
              "</table>\n",
              "</div>\n",
              "      <button class=\"colab-df-convert\" onclick=\"convertToInteractive('df-23014fe9-e404-4a7e-993d-8a153a00c3b0')\"\n",
              "              title=\"Convert this dataframe to an interactive table.\"\n",
              "              style=\"display:none;\">\n",
              "        \n",
              "  <svg xmlns=\"http://www.w3.org/2000/svg\" height=\"24px\"viewBox=\"0 0 24 24\"\n",
              "       width=\"24px\">\n",
              "    <path d=\"M0 0h24v24H0V0z\" fill=\"none\"/>\n",
              "    <path d=\"M18.56 5.44l.94 2.06.94-2.06 2.06-.94-2.06-.94-.94-2.06-.94 2.06-2.06.94zm-11 1L8.5 8.5l.94-2.06 2.06-.94-2.06-.94L8.5 2.5l-.94 2.06-2.06.94zm10 10l.94 2.06.94-2.06 2.06-.94-2.06-.94-.94-2.06-.94 2.06-2.06.94z\"/><path d=\"M17.41 7.96l-1.37-1.37c-.4-.4-.92-.59-1.43-.59-.52 0-1.04.2-1.43.59L10.3 9.45l-7.72 7.72c-.78.78-.78 2.05 0 2.83L4 21.41c.39.39.9.59 1.41.59.51 0 1.02-.2 1.41-.59l7.78-7.78 2.81-2.81c.8-.78.8-2.07 0-2.86zM5.41 20L4 18.59l7.72-7.72 1.47 1.35L5.41 20z\"/>\n",
              "  </svg>\n",
              "      </button>\n",
              "      \n",
              "  <style>\n",
              "    .colab-df-container {\n",
              "      display:flex;\n",
              "      flex-wrap:wrap;\n",
              "      gap: 12px;\n",
              "    }\n",
              "\n",
              "    .colab-df-convert {\n",
              "      background-color: #E8F0FE;\n",
              "      border: none;\n",
              "      border-radius: 50%;\n",
              "      cursor: pointer;\n",
              "      display: none;\n",
              "      fill: #1967D2;\n",
              "      height: 32px;\n",
              "      padding: 0 0 0 0;\n",
              "      width: 32px;\n",
              "    }\n",
              "\n",
              "    .colab-df-convert:hover {\n",
              "      background-color: #E2EBFA;\n",
              "      box-shadow: 0px 1px 2px rgba(60, 64, 67, 0.3), 0px 1px 3px 1px rgba(60, 64, 67, 0.15);\n",
              "      fill: #174EA6;\n",
              "    }\n",
              "\n",
              "    [theme=dark] .colab-df-convert {\n",
              "      background-color: #3B4455;\n",
              "      fill: #D2E3FC;\n",
              "    }\n",
              "\n",
              "    [theme=dark] .colab-df-convert:hover {\n",
              "      background-color: #434B5C;\n",
              "      box-shadow: 0px 1px 3px 1px rgba(0, 0, 0, 0.15);\n",
              "      filter: drop-shadow(0px 1px 2px rgba(0, 0, 0, 0.3));\n",
              "      fill: #FFFFFF;\n",
              "    }\n",
              "  </style>\n",
              "\n",
              "      <script>\n",
              "        const buttonEl =\n",
              "          document.querySelector('#df-23014fe9-e404-4a7e-993d-8a153a00c3b0 button.colab-df-convert');\n",
              "        buttonEl.style.display =\n",
              "          google.colab.kernel.accessAllowed ? 'block' : 'none';\n",
              "\n",
              "        async function convertToInteractive(key) {\n",
              "          const element = document.querySelector('#df-23014fe9-e404-4a7e-993d-8a153a00c3b0');\n",
              "          const dataTable =\n",
              "            await google.colab.kernel.invokeFunction('convertToInteractive',\n",
              "                                                     [key], {});\n",
              "          if (!dataTable) return;\n",
              "\n",
              "          const docLinkHtml = 'Like what you see? Visit the ' +\n",
              "            '<a target=\"_blank\" href=https://colab.research.google.com/notebooks/data_table.ipynb>data table notebook</a>'\n",
              "            + ' to learn more about interactive tables.';\n",
              "          element.innerHTML = '';\n",
              "          dataTable['output_type'] = 'display_data';\n",
              "          await google.colab.output.renderOutput(dataTable, element);\n",
              "          const docLink = document.createElement('div');\n",
              "          docLink.innerHTML = docLinkHtml;\n",
              "          element.appendChild(docLink);\n",
              "        }\n",
              "      </script>\n",
              "    </div>\n",
              "  </div>\n",
              "  "
            ],
            "text/plain": [
              "   Комнат  ...                                         Примечание\n",
              "0       1  ...  Собственность оформлена! Ключи на руках! Опера...\n",
              "2       1  ...  Зеленоград к.1820 однокомнатная квартира общ.3...\n",
              "4       1  ...  Уютная, светлая квартира, застекленный балкон ...\n",
              "6       1  ...  Предлагаю 1- комн квартиру, в шаговой доступно...\n",
              "8       1  ...  Продается хорошая 1 комнатная квартира. 1 взро...\n",
              "10      1  ...  1-комн. квартира в ЖК \"Сердце столицы\" на 9 эт...\n",
              "12      1  ...  Предлагаю купить Однокомнатную квартиру с удоб...\n",
              "14      1  ...  Теплая, светлая квартира с высоким потолком в ...\n",
              "16      1  ...  Продается 1-комн. квартира, площадью 38.9 м2 в...\n",
              "18      1  ...  Предлагается уютная квартира в ЖК комфорт клас...\n",
              "\n",
              "[10 rows x 14 columns]"
            ]
          },
          "metadata": {},
          "execution_count": 746
        }
      ]
    },
    {
      "cell_type": "code",
      "source": [
        "print(df.columns)\n",
        "#Мы будем использовать: \n",
        "# xTrain - база числовых значений: комнат, Метро / ЖД станции, От станции, Дом, Балкон, Санузел, Площадь\n",
        "# xTrainC - база текстов о квартирах\n",
        "# yTrain\n",
        "# Цена, руб.\n",
        "#Остальные данные игнорируем"
      ],
      "metadata": {
        "colab": {
          "base_uri": "https://localhost:8080/"
        },
        "id": "uOj5GF3d8rSl",
        "outputId": "fa1bc7ee-6d9c-4004-9799-e7417811b215"
      },
      "execution_count": null,
      "outputs": [
        {
          "output_type": "stream",
          "name": "stdout",
          "text": [
            "Index(['Комнат', 'Метро / ЖД станции', 'От станции', 'Дом', 'Балкон',\n",
            "       'Санузел', 'Площадь', 'Цена, руб.', 'ГРМ', 'Бонус агенту', 'Дата',\n",
            "       'Кол-во дней в экспозиции', 'Источник', 'Примечание'],\n",
            "      dtype='object')\n"
          ]
        }
      ]
    },
    {
      "cell_type": "code",
      "source": [
        "#Во всех функция дальше:\n",
        "#d - описание квартиры, одна строка из data1\n",
        "#Вычисляем количество комнат\n",
        "#maxRoomCount - максимальное число комнат в квартире\n",
        "def getRoomsCount(d, maxRoomCount):\n",
        "  roomsCountStr = d[0] #Получаем строку с числом комнат\n",
        "  roomsCount = 0\n",
        "  try:\n",
        "    roomsCount = int(roomsCountStr) #Пробуем превратить строку в число\n",
        "    if (roomsCount > maxRoomCount): \n",
        "      roomsCount = maxRoomCount #Если число комнат больше максимального, то присваиваем максимальное\n",
        "  except: #Если не получается превратить строку в число\n",
        "    if (roomsCountStr == roomsCountStr): #Проверяем строку на nan (сравнение с самим собой)\n",
        "      if (\"Ст\" in roomsCountStr): #Еcть строка = \"Ст\", значит это Студия\n",
        "        roomsCount = maxRoomCount + 1\n",
        "\n",
        "  return roomsCount\n",
        "\n",
        "# Превращаем число комнат в категорию\n",
        "def getRoomsCountCategory(d, maxRoomCount):\n",
        "  roomsCount = getRoomsCount(d, maxRoomCount) #Получаем число комнат\n",
        "  roomsCount = utils.to_categorical(roomsCount, maxRoomCount+2) #Превращаем в категорию\n",
        "  #maxRoomCount+2 потому что 0 зарезервирован на неопознаное число комнат, а maxRoomCount+1 на \"Студию\"\n",
        "  return roomsCount\n",
        "\n"
      ],
      "metadata": {
        "id": "0pEjEVVJTbmV"
      },
      "execution_count": null,
      "outputs": []
    },
    {
      "cell_type": "code",
      "source": [
        "#Получаем индекс станции метро\n",
        "#allMetroNames - все уникальные названия метро в базе\n",
        "def getMetro(d, allMetroNames):\n",
        "  metroStr = d[1] #Получаем строку метро\n",
        "  metro = 0\n",
        "  \n",
        "  if (metroStr in allMetroNames): #Если находим метро во всех названиях\n",
        "    metro = allMetroNames.index(metroStr)+1 #Присваиваем индекс\n",
        "    #+1 так как 0 зарезервирован на неопознанное метро\n",
        "    \n",
        "  return metro\n",
        "\n",
        "#Получаем тип метро\n",
        "#0 - внутри кольца\n",
        "#1 - кольцо\n",
        "#2 - 1-3 станции от конца\n",
        "#3 - 4-8 станций от кольца\n",
        "#4 - больше 8 станций от кольца\n",
        "def getMetroType(d):\n",
        "  metroTypeStr = d[1] #Получаем строку метро\n",
        "  metroTypeClasses = 5 #Число классов метро\n",
        "  metroType = metroTypeClasses - 1 #Изначально считаем последний класс\n",
        "  \n",
        "  #Метро внутри кольца\n",
        "  metroNamesInsideCircle = [\"Площадь Революции\", \"Арбатская\", \"Смоленская\", \"Красные Ворота\", \"Чистые пруды\", \"Лубянка\", \"Охотный Ряд\", \"Библиотека имени Ленина\", \"Кропоткинская\", \"Сухаревская\", \"Тургеневская\", \"Китай-город\", \"Третьяковская\", \"Трубная\", \"Сретенский бульвар\", \"Цветной бульвар\", \"Чеховская\", \"Боровицкая\", \"Полянка\", \"Маяковская\", \"Тверская\", \"Театральная\", \"Новокузнецкая\", \"Пушкинская\", \"Кузнецкий Мост\", \"Китай-город\", \"Александровский сад\"]\n",
        "  #Метро на кольце\n",
        "  metroNamesCircle = [\"Киевская\", \"Парк Культуры\", \"Октябрьская\", \"Добрынинская\", \"Павелецкая\", \"Таганская\", \"Курская\", \"Комсомольская\", \"Проспект Мира\", \"Новослободская\", \"Белорусская\", \"Краснопресненская\"]\n",
        "  #Метро 1-3 станции от кольца\n",
        "  metroNames13FromCircle = [\"Бауманская\", \"Электрозаводская\", \"Семёновская\", \"Площадь Ильича\", \"Авиамоторная\", \"Шоссе Энтузиастов\", \"Римская\", \"Крестьянская Застава\", \"Дубровка\", \"Пролетарская\", \"Волгоградский проспект\", \"Текстильщики\", \"Автозаводская\", \"Технопарк\", \"Коломенская\", \"Тульская\", \"Нагатинская\", \"Нагорная\", \"Шаболовская\", \"Ленинский проспект\", \"Академическая\", \"Фрунзенская\", \"Спортивная\", \"Воробьёвы горы\", \"Студенческая\", \"Кутузовская\", \"Фили\", \"Парк Победы\", \"Выставочная\", \"Международная\", \"Улица 1905 года\", \"Беговая\", \"Полежаевская\", \"Динамо\", \"Аэропорт\", \"Сокол\", \"Деловой центр\", \"Шелепиха\", \"Хорошёвская\", \"ЦСКА\", \"Петровский парк\", \"Савёловская\", \"Дмитровская\", \"Тимирязевская\", \"Достоевская\", \"Марьина Роща\", \"Бутырская\", \"Фонвизинская\", \"Рижская\", \"Алексеевская\", \"ВДНХ\", \"Красносельская\", \"Сокольники\", \"Преображенская площадь\"]\n",
        "  #Метро 4-8 станций от кольа\n",
        "  metroNames48FromCircle = [\"Партизанская\", \"Измайловская\", \"Первомайская\", \"Щёлковская\", \"Новокосино\", \"Новогиреево\", \"Перово\", \"Кузьминки\", \"Рязанский проспект\", \"Выхино\", \"Лермонтовский проспект\", \"Жулебино\", \"Партизанская\", \"Измайловская\", \"Первомайская\", \"Щёлковская\", \"Новокосино\", \"Новогиреево\", \"Перово\", \"Кузьминки\", \"Рязанский проспект\", \"Выхино\", \"Лермонтовский проспект\", \"Жулебино\", \"Улица Дмитриевского\", \"Кожуховская\", \"Печатники\", \"Волжская\", \"Люблино\", \"Братиславская\", \"Коломенская\", \"Каширская\", \"Кантемировская\", \"Царицыно\", \"Орехово\", \"Севастопольская\", \"Чертановская\", \"Южная\", \"Пражская\", \"Варшавская\", \"Профсоюзная\", \"Новые Черёмушки\", \"Калужская\", \"Беляево\", \"Коньково\", \"Университет\", \"Багратионовская\", \"Филёвский парк\", \"Пионерская\", \"Кунцевская\", \"Молодёжная\", \"Октябрьское Поле\", \"Щукинская\", \"Спартак\", \"Тушинская\", \"Сходненская\", \"Войковская\", \"Водный стадион\", \"Речной вокзал\", \"Беломорская\", \"Ховрино\", \"Петровско-Разумовская\", \"Владыкино\", \"Отрадное\", \"Бибирево\", \"Алтуфьево\", \"Фонвизинская\", \"Окружная\", \"Верхние Лихоборы\", \"Селигерская\", \"ВДНХ\", \"Ботанический сад\", \"Свиблово\", \"Бабушкинская\", \"Медведково\", \"Преображенская площадь\", \"Черкизовская\", \"Бульвар Рокоссовского\"]\n",
        "  \n",
        "  #Проверяем, в какую категорию попадает наша станция\n",
        "  if (metroTypeStr in metroNamesInsideCircle):\n",
        "    metroType = 0\n",
        "  if (metroTypeStr in metroNamesCircle):\n",
        "    metroType = 1\n",
        "  if (metroTypeStr in metroNames13FromCircle):\n",
        "    metroType = 2\n",
        "  if (metroTypeStr in metroNames48FromCircle):\n",
        "    metroType = 3\n",
        "  \n",
        "  #Превращаем результат в категорию\n",
        "  metroType = utils.to_categorical(metroType, metroTypeClasses)\n",
        "  return metroType"
      ],
      "metadata": {
        "id": "3cWf0EdrTnYT"
      },
      "execution_count": null,
      "outputs": []
    },
    {
      "cell_type": "code",
      "source": [
        "# Вычисляем растояние до метро\n",
        "def getMetroDistance(d):\n",
        "  metroDistanceStr = d[2] #Получаем строку  \n",
        "  metroDistance = 0 #Расстояние до метро\n",
        "  metroDistanceType = 0 #Тип расстояния - пешком или на транспорте\n",
        "  \n",
        "  # Если строка не равна nan  \n",
        "  if (metroDistanceStr == metroDistanceStr):\n",
        "    if (len(metroDistanceStr) > 0):\n",
        "      # Определяем тип расстояния\n",
        "      if (metroDistanceStr[-1] == \"п\"):\n",
        "        metroDistanceType = 1 #Пешком\n",
        "      elif (metroDistanceStr[-1] == \"т\"):\n",
        "        metroDistanceType = 2 #На транспорте\n",
        "\n",
        "      # Выбрасываем последний символ, чтобы осталось только число\n",
        "      metroDistanceStr = metroDistanceStr[:-1]\n",
        "      try:\n",
        "        # Разделяем дистанции на категории\n",
        "        metroDistance = int(metroDistanceStr)\n",
        "        if (metroDistance < 3):\n",
        "          metroDistance = 1\n",
        "        elif (metroDistance < 6):\n",
        "          metroDistance = 2\n",
        "        elif (metroDistance < 10):\n",
        "          metroDistance = 3\n",
        "        elif (metroDistance < 15):\n",
        "          metroDistance = 4\n",
        "        elif (metroDistance < 20):\n",
        "          metroDistance = 5\n",
        "        else:\n",
        "          metroDistance = 6\n",
        "      except: # Если в строке не число, то категория 0\n",
        "        metroDistance = 0\n",
        "  \n",
        "  # Число классов дистанции\n",
        "  metroDistanceClasses = 7\n",
        "  \n",
        "  #  7 категорий дистанции по расстоянию\n",
        "  # 3 типа дистанции - неопознанный, пешком и транспортом\n",
        "  # Мы создадим вектор длины 3*7 = 21\n",
        "  # Преобразуем индекс расстояния 0-6 в 0-20\n",
        "  # Для типа \"Пешком\" - ничего не меняем\n",
        "  if (metroDistanceType == 2):\n",
        "    metroDistance += metroDistanceClasses # Для типа \"Транспортом\" добавляем 7\n",
        "  if (metroDistanceType == 0):\n",
        "    metroDistance += 2*metroDistanceClasses # Для неопознанного типа добавляем 14\n",
        "    \n",
        "  # Превращаем в категории\n",
        "  metroDistance = utils.to_categorical(metroDistance, 3*metroDistanceClasses)\n",
        "  return metroDistance"
      ],
      "metadata": {
        "id": "74dQDFQhTzAd"
      },
      "execution_count": null,
      "outputs": []
    },
    {
      "cell_type": "code",
      "source": [
        "# Получаем 4 вида данных:\n",
        "#- этаж квартиры\n",
        "#- этажность дома\n",
        "#- индикатор, что последний этаж\n",
        "#- тип дома\n",
        "def getHouseTypeAndFloor(d):\n",
        "  try:\n",
        "    houseStr = d[3] #Получаем строку типа дома и этажей\n",
        "  except:\n",
        "    houseStr = \"\"\n",
        "  \n",
        "  houseType = 0 #Тип дома\n",
        "  floor = 0 #Этаж квартиры\n",
        "  floors = 0 #Этажность дома\n",
        "  isLastFloor = 0 #Индикатор последнего этажа\n",
        "  \n",
        "  # Проверяем строку на nan\n",
        "  if (houseStr == houseStr):\n",
        "    if (len(houseStr) > 1):\n",
        "    \n",
        "      try:\n",
        "        slashIndex = houseStr.index(\"/\") # Ищем разделитель /\n",
        "      except:\n",
        "        print(houseStr)\n",
        "\n",
        "      try:\n",
        "        spaceIndex = houseStr.index(\" \") # Ищем разделитель \" \"\n",
        "      except:\n",
        "        print(houseStr)\n",
        "\n",
        "      # Вытаскиваем строки\n",
        "      floorStr = houseStr[:slashIndex] #С трока этажа\n",
        "      floorsStr = houseStr[slashIndex+1:spaceIndex] # Строка этажнгости дома\n",
        "      houseTypeStr = houseStr[spaceIndex+1:] # Строка типа дома\n",
        "\n",
        "      # Выбираем категорию этажа\n",
        "      try:\n",
        "        floor = int(floorStr) # Превращаем строку в число\n",
        "        floorSave = floor\n",
        "        if (floorSave < 5):\n",
        "          floor = 2\n",
        "        if (floorSave < 10):\n",
        "          floor = 3\n",
        "        if (floorSave < 20):\n",
        "          floor = 4\n",
        "        if (floorSave >= 20):\n",
        "          floor = 5\n",
        "        if (floorSave == 1): # Первый этаж выделяем в отдельную категорию\n",
        "          floor = 1 \n",
        "\n",
        "        if (int(floorStr) == int(floorsStr)): # Если этаж последний, включаем индикатор последнего этажа\n",
        "          isLastFloor = 1 \n",
        "      except:\n",
        "        floor = 0 # Если строка не парсится в число, то категория этажа = 0 (отдельная)\n",
        "\n",
        "      # Выбираем категорию этажности дома\n",
        "      try:\n",
        "        floors = int(floorsStr) # Превращаем строку в число\n",
        "        floorsSave = floors\n",
        "        if (floorsSave < 5):\n",
        "          floors = 1\n",
        "        if (floorsSave < 10):\n",
        "          floors = 2\n",
        "        if (floorsSave < 20):\n",
        "          floors = 3\n",
        "        if (floorsSave >= 20):\n",
        "          floors = 4\n",
        "      except:\n",
        "        floors = 0 # Если строка не парсится в число, то категория этажности = 0 (отдельная)\n",
        "\n",
        "      # Определяем категорию типа дома\n",
        "      if (len(houseTypeStr) > 0):\n",
        "        if (\"М\" in houseTypeStr): \n",
        "          houseType = 1\n",
        "        if (\"К\" in houseTypeStr): \n",
        "          houseType = 2\n",
        "        if (\"П\" in houseTypeStr): \n",
        "          houseType = 3\n",
        "        if (\"Б\" in houseTypeStr): \n",
        "          houseType = 4\n",
        "        if (\"?\" in houseTypeStr): \n",
        "          houseType = 5\n",
        "        if (\"-\" in houseTypeStr): \n",
        "          houseType = 6\n",
        "    \n",
        "    # Превращаем все категории в one hot encoding\n",
        "    floor = utils.to_categorical(floor, 6)\n",
        "    floors = utils.to_categorical(floors, 5)\n",
        "    houseType = utils.to_categorical(houseType, 7)\n",
        "    \n",
        "    \n",
        "  return floor, floors, isLastFloor, houseType\n"
      ],
      "metadata": {
        "id": "2hjP_DcPUDfK"
      },
      "execution_count": null,
      "outputs": []
    },
    {
      "cell_type": "code",
      "source": [
        "# Вычисляем тип балкона\n",
        "def getBalcony(d):\n",
        "  balconyStr = d[4] #Полуаем строку\n",
        "  # Выписываем все варианты балконов в базе\n",
        "  balconyVariants = ['Л', 'Б', '2Б', '-', '2Б2Л', 'БЛ', '3Б', '2Л', 'Эрк', 'Б2Л', 'ЭркЛ', '3Л', '4Л', '*Л', '*Б']\n",
        "  # Проверяем на nan\n",
        "  if (balconyStr == balconyStr):\n",
        "    balcony = balconyVariants.index(balconyStr)+1 # Находим индекс строки балкона во всех строках\n",
        "  else:\n",
        "    balcony = 0 # Индекс 0 выделяем на строку nan\n",
        "  \n",
        "  # Превращаем в one hot encoding\n",
        "  balcony = utils.to_categorical(balcony, 16)\n",
        "  \n",
        "  return balcony\n"
      ],
      "metadata": {
        "id": "qSfMZ64rUImp"
      },
      "execution_count": null,
      "outputs": []
    },
    {
      "cell_type": "code",
      "source": [
        "# Определяем тип санузла\n",
        "def getWC(d):\n",
        "  wcStr = d[5] #Получаем строку\n",
        "  #Выписываем все варианты санузлов в базе\n",
        "  wcVariants = ['2', 'Р', 'С', '-', '2С', '+', '4Р', '2Р', '3С', '4С', '4', '3', '3Р']\n",
        "  #Проверяем на nan\n",
        "  if (wcStr == wcStr):\n",
        "    wc = wcVariants.index(wcStr)+1 #Находим индекс строки санузла во всех строках\n",
        "  else:\n",
        "    wc = 0 #Индекс 0 выделяем на строку nan\n",
        "  \n",
        "  #Превращаем в one hot encoding\n",
        "  wc = utils.to_categorical(wc, 14)\n",
        "  \n",
        "  return wc"
      ],
      "metadata": {
        "id": "ohXoe6bNUIrh"
      },
      "execution_count": null,
      "outputs": []
    },
    {
      "cell_type": "code",
      "source": [
        "# Определяем площадь\n",
        "def getArea(d):\n",
        "  areaStr = d[6] #Поулачем строку площади\n",
        "  \n",
        "  if (\"/\" in areaStr):\n",
        "    slashIndex = areaStr.index(\"/\") #Находим разделитель /\n",
        "    try:\n",
        "      area = float(areaStr[:slashIndex]) #Берём число до разделителя и превращаем в число\n",
        "    except:\n",
        "      area = 0 #Если не получается, возвращаем 0\n",
        "  else:\n",
        "    area = 0 #Или если нет разделителя, возвращаем 0\n",
        "  \n",
        "  \n",
        "    \n",
        "  return area"
      ],
      "metadata": {
        "id": "Ss1YmGfHUIxJ"
      },
      "execution_count": null,
      "outputs": []
    },
    {
      "cell_type": "code",
      "source": [
        "# Получаем цену\n",
        "def getCost(d):\n",
        "  costStr = d[7] #Загружаем строку\n",
        "  \n",
        "  try:\n",
        "    cost = float(costStr) #Пробуем превратить в число\n",
        "  except:\n",
        "    cost = 0 #Если не получается, возвращаем 0\n",
        "  \n",
        "  return cost\n",
        "\n",
        "# Получаем комментарий\n",
        "def getComment(d):\n",
        "  commentStr = d[-1] #Возвращаем данные из последней колонки\n",
        "  \n",
        "  return commentStr"
      ],
      "metadata": {
        "id": "pLu7VDhhURlx"
      },
      "execution_count": null,
      "outputs": []
    },
    {
      "cell_type": "code",
      "source": [
        "# Объединяем все числовые параметры вместе\n",
        "def getAllParameters(d, allMetroNames):\n",
        "  # Загружаем все данные по отдельности\n",
        "  roomsCountType = getRoomsCountCategory(d, 30)\n",
        "  metro = getMetro(d, allMetroNames)\n",
        "  metroType = getMetroType(d)\n",
        "  metroDistance = getMetroDistance(d)\n",
        "  floor, floors, isLastFloor, houseType = getHouseTypeAndFloor(d)\n",
        "  balcony = getBalcony(d)\n",
        "  wc = getWC(d)\n",
        "  area = getArea(d)\n",
        "\n",
        "  # Объединяем в один лист\n",
        "  out = list(roomsCountType)\n",
        "  out.append(metro)\n",
        "  out.extend(metroType)\n",
        "  out.extend(metroDistance)\n",
        "  out.extend(floor)\n",
        "  out.extend(floors)\n",
        "  out.append(isLastFloor)\n",
        "  out.extend(houseType)\n",
        "  out.extend(balcony)\n",
        "  out.extend(wc)\n",
        "  out.append(area)\n",
        "  \n",
        "  return out\n",
        "\n",
        "# Генерируем обучающаюу выборку - xTrain\n",
        "def getXTrain(data):\n",
        "  \n",
        "  # Получаем строку во всеми вариантами метро\n",
        "  allMertroNames = list(df[\"Метро / ЖД станции\"].unique())\n",
        "  \n",
        "  # Всевращаем все строки в data1 в векторы параметров и записываем в xTrain\n",
        "  xTrain = [getAllParameters(d, allMertroNames) for d in data]\n",
        "  xTrain = np.array(xTrain)\n",
        "  \n",
        "  return xTrain\n",
        "\n",
        "# Генерируем обучающую выборку - yTrain\n",
        "def getYTrain(data):\n",
        "  \n",
        "  # Зашружаем лист всех цен квартир по всем строкам data1\n",
        "  costList = [getCost(d) for d in data] \n",
        "  yTrain = np.array(costList)\n",
        "  \n",
        "  return yTrain"
      ],
      "metadata": {
        "id": "--wmxaKt9Jcr"
      },
      "execution_count": null,
      "outputs": []
    },
    {
      "cell_type": "markdown",
      "metadata": {
        "id": "Zn7GMVQylEJD"
      },
      "source": [
        "Формируем обучающую выборку"
      ]
    },
    {
      "cell_type": "code",
      "source": [
        "oneRoomMask = [getRoomsCount(d, 30) == 1 for d in data] #Делаем маску однокомнатных квартир, принцип (getRoomsCount(d, 30) == 1)\n",
        "data1 = data[oneRoomMask] #В data1 оставляем только однокомнатные квартиры\n",
        "print(data.shape)\n",
        "print(data1.shape)"
      ],
      "metadata": {
        "colab": {
          "base_uri": "https://localhost:8080/"
        },
        "id": "i6ByWhyN9Rvh",
        "outputId": "94213f36-67e7-4ba3-fae6-77f56e8a7592"
      },
      "execution_count": null,
      "outputs": [
        {
          "output_type": "stream",
          "name": "stdout",
          "text": [
            "(126268, 14)\n",
            "(62504, 14)\n"
          ]
        }
      ]
    },
    {
      "cell_type": "code",
      "source": [
        "xTrain = getXTrain(data1)\n",
        "yTrain = getYTrain(data1)"
      ],
      "metadata": {
        "id": "ZvFBemF0gaOC"
      },
      "execution_count": null,
      "outputs": []
    },
    {
      "cell_type": "code",
      "source": [
        "print(xTrain.shape)"
      ],
      "metadata": {
        "colab": {
          "base_uri": "https://localhost:8080/"
        },
        "id": "PjzejFhP9Uow",
        "outputId": "6ca2257e-a26d-4ccd-8324-18a9756d9a3b"
      },
      "execution_count": null,
      "outputs": [
        {
          "output_type": "stream",
          "name": "stdout",
          "text": [
            "(62504, 109)\n"
          ]
        }
      ]
    },
    {
      "cell_type": "markdown",
      "metadata": {
        "id": "s29aVC-mlTXi"
      },
      "source": [
        "Парсинг текста"
      ]
    },
    {
      "cell_type": "code",
      "source": [
        "# Очистка текста и превращение в набор слов\n",
        "\n",
        "def text2Words(text):\n",
        "  # Удаляем лишние символы\n",
        "  text = text.replace(\".\", \"\")# удаляем лишние символы\n",
        "  text = text.replace(\"—\", \"\")\n",
        "  text = text.replace(\",\", \"\")\n",
        "  text = text.replace(\"!\", \"\")\n",
        "  text = text.replace(\"?\", \"\")\n",
        "  text = text.replace(\"…\", \"\")\n",
        "  text = text.lower() # Переводим в нижний регистр\n",
        "    \n",
        "  words = [] # Тут будут все слова\n",
        "  currWord = \"\" # Тут будет накапливаться текущее слово, между двумя пробелами  \n",
        "  # идём по всем символам\n",
        "  for symbol in text:    \n",
        "    if (symbol != \"\\ufeff\"): # Игнорируем системынй символ в начале строки\n",
        "      if (symbol != \" \"): # Если символ не пробел\n",
        "        currWord += symbol # То добавляем вимвол в текущее слово\n",
        "      else: # Если символ пробел\n",
        "        if (currWord != \"\"): \n",
        "          words.append(currWord) # Добавляем тккущее слово в список слов\n",
        "          currWord = \"\" # И обнуляем текущее слово\n",
        "\n",
        "  # Добавляем финальное слово, если оно не пустое\n",
        "  # Если не сделать, то потеряем финальное слово, потому что текст чаще всего заканчивается на не пробел\n",
        "  if (currWord != \"\"):\n",
        "        words.append(currWord)\n",
        "  \n",
        "  return words\n",
        "\n",
        "# Создание словаря - все слова, упорядоченные по частоте появления\n",
        "def createVocabulary(allWords):  \n",
        "  # Создаём словарь, в котором будут слова и количество их поялвений во всём текста\n",
        "  # Ключи - все наши слова\n",
        "  # Количество появлений пока везде 0\n",
        "  wCount = dict.fromkeys(allWords, 0)\n",
        "\n",
        "  # Проходим по всем словам\n",
        "  for word in allWords:\n",
        "    wCount[word] += 1 # И увеличиаем количество появлений текущего слова на 1\n",
        "\n",
        "  # Выцепляем лист из словаря\n",
        "  wordsList = list(wCount.items())\n",
        "  # И сортируем по частоте появления\n",
        "  wordsList.sort(key = lambda i:i[1], reverse=1)\n",
        "  # key = lambda i:i[1] - говорит, что сортировать надо по частоте появления\n",
        "  # В i[0] у нас слово, в i[1] - частота появления\n",
        "  # reverse=1 говорить сортироваться по убыванию\n",
        "\n",
        "  sortedWords = [] # Тут будет лист всех отсортированных слов\n",
        "\n",
        "  # Проходим по всем словам в отсортированном списке\n",
        "  for word in wordsList:\n",
        "    sortedWords.append(word[0]) #Докидываем слово в лист отсортированных слов\n",
        "\n",
        "  #Это словарь слово - индекс\n",
        "  #Изначально заполнен всеми словами\n",
        "  #У всех индекс 0\n",
        "  wordIndexes = dict.fromkeys(allWords, 0)\n",
        "  #Проходим по всем словам\n",
        "  for word in wordIndexes.keys():\n",
        "    wordIndexes[word] = sortedWords.index(word)+1 #Ставим индекс = индекс слова в отсортированном листе слов + 1\n",
        "    #+1 потому, что индекс 0 резервируем под неопознанные слова\n",
        "\n",
        "  return wordIndexes\n",
        "\n",
        "\n",
        "# Преобразования листа слов в лист индексов\n",
        "\n",
        "def words2Indexes(words, vocabulary, maxWordsCount):\n",
        "  wordsIndexes = []\n",
        "  \n",
        "  #Идём по всем словая\n",
        "  for word in words:\n",
        "    \n",
        "    wordIndex = 0 #Тут будет индекс слова, изначально 0 - слово неопознано\n",
        "    wordInVocabulary = word in vocabulary #Проверяем, есть ли слово в словаре\n",
        "    \n",
        "    #Если слово есть в словаре\n",
        "    if (wordInVocabulary):\n",
        "      index = vocabulary[word] #Индекс = индексу слова в словаре\n",
        "      if (index < maxWordsCount): #Если индекс ниже maxWordsCount - черты отсечения слов\n",
        "        wordIndex = index #То записываем индекс\n",
        "      #Иначе останется значение 0\n",
        "        \n",
        "    wordsIndexes.append(wordIndex)\n",
        "    \n",
        "  return wordsIndexes\n",
        "\n",
        "\n",
        "# Преобразование одного короткого вектора в вектор из 0 и 1\n",
        "# По принципу words bag\n",
        "\n",
        "def changeXTo01(trainVector, wordsCount):\n",
        "  #Создаём вектор длины wordsCount с нулями\n",
        "  out = np.zeros(wordsCount)\n",
        "  \n",
        "  #Идём по всем индексам в строке\n",
        "  for x in trainVector:\n",
        "    out[x] = 1 #В позицию нужного индекса ставим 1\n",
        "    \n",
        "  return out\n",
        "\n",
        "\n",
        "# Преобразование выборки (обучающей или проверочной) к виду 0 и 1\n",
        "# По принципу words bag\n",
        "\n",
        "def changeSetTo01(trainSet, wordsCount):\n",
        "  out = []\n",
        "  \n",
        "  #Проходим по всем векторам в наборе\n",
        "  for x in trainSet:\n",
        "    out.append(changeXTo01(x, wordsCount)) #Добавляем в итоговый набор текущий вектор, преобразованный в bag of words\n",
        "    \n",
        "  return np.array(out)\n",
        "\n",
        "\n",
        "# Формируем обучающую выборку из примечаний к квартирам\n",
        "# Пока в виде слов\n",
        "\n",
        "def getXTrainComments(data):\n",
        "  xTrainComments = [] #Тут будет обучающся выборка\n",
        "  allTextComments = \"\" #Тут будуте все тексты вместе для словаря\n",
        "  \n",
        "  #Идём по всем строкам квартир в базе\n",
        "  for d in data:\n",
        "    currText = getComment(d) #Вытаскиваем примечание к квартире\n",
        "    try: \n",
        "      if (currText == currText): #Проверяем на nan\n",
        "        allTextComments += currText + \" \" #Добавляем текст в общий текст для словаря\n",
        "    except:\n",
        "      currText = \"Нет комментария\" #Если не получается, то делаем стандартный текст \"Нет комментария\"\n",
        "    xTrainComments.append(currText) #Добавляем примечание новой строкой в обучающую выборку\n",
        "  \n",
        "  xTrainComments = np.array(xTrainComments)\n",
        "  \n",
        "  return (xTrainComments, allTextComments)\n",
        "\n",
        "# Формируем обучающую выборку из примечаний к квартирам\n",
        "# Теперь в виде индексов\n",
        "\n",
        "def changeSetToIndexes(xTrainComments, vocabulary, maxWordsCount):\n",
        "  xTrainCommentsIndexes = [] #Тут будет итоговый xTrain примечаний в виде индексов\n",
        "  \n",
        "  # По всем текстам:\n",
        "  for text in xTrainComments:\n",
        "    currWords = text2Words(text) #Разбиваем текст на слова\n",
        "    currIndexes = words2Indexes(currWords, vocabulary, maxWordsCount) #Превращаем в лист индексов\n",
        "    currIndexes = np.array(currIndexes)\n",
        "    xTrainCommentsIndexes.append(currIndexes) #Добавляем в xTrain\n",
        "  \n",
        "  xTrainCommentsIndexes = np.array(xTrainCommentsIndexes)\n",
        "  xTrainCommentsIndexes = changeSetTo01(xTrainCommentsIndexes, maxWordsCount) #Превращаем в формат bag of words\n",
        "  return xTrainCommentsIndexes\n",
        "\n",
        "# Формируем обучающую выборку из примечаний к квартирам\n",
        "# Теперь в виде индексов\n",
        "# И с приведением к стандартной длине всех векторов - cropLen\n",
        "\n",
        "def changeSetToIndexesCrop(xTrainComments, vocabulary, maxWordsCount, cropLen):\n",
        "  xTrainCommentsIndexes = [] #Тут будет итоговый xTrain примечаний в виде индексов\n",
        "  \n",
        "  # По всем текстам:\n",
        "  for text in xTrainComments:\n",
        "    currWords = text2Words(text) # Разбиваем текст на слова\n",
        "    currIndexes = words2Indexes(currWords, vocabulary, maxWordsCount) # Превращаем в лист индексов\n",
        "    currIndexes = np.array(currIndexes)\n",
        "    xTrainCommentsIndexes.append(currIndexes) # Добавляем в xTrain\n",
        "  \n",
        "  xTrainCommentsIndexes = np.array(xTrainCommentsIndexes)\n",
        "  xTrainCommentsIndexes = pad_sequences(xTrainCommentsIndexes, maxlen=cropLen) # Приводим все вектора к стандартной длине\n",
        "  return xTrainCommentsIndexes"
      ],
      "metadata": {
        "id": "N2XOASSy9aux"
      },
      "execution_count": null,
      "outputs": []
    },
    {
      "cell_type": "markdown",
      "source": [
        "Соберем xTrain по текстам"
      ],
      "metadata": {
        "id": "chf5pF-F-OKn"
      }
    },
    {
      "cell_type": "code",
      "source": [
        "xTrainC, allTextComments = getXTrainComments(data1) # Создаём обучающую выборку по текстам и большо текст для словаря\n",
        "allWords = text2Words(allTextComments) # Собираем полный текст в слова\n",
        "allWords = allWords[::10] # Берём 10% слов (иначе словарь слишком долго формируется)\n",
        "vocabulary = createVocabulary(allWords) # Создаём словарь\n",
        "xTrainC01 = changeSetToIndexes(xTrainC, vocabulary, 2000) # Преобразеум xTrain в bag of words"
      ],
      "metadata": {
        "colab": {
          "base_uri": "https://localhost:8080/"
        },
        "id": "8GKTEWim97-E",
        "outputId": "b9b271b1-3d8a-4f6e-f317-781c928487fe"
      },
      "execution_count": null,
      "outputs": [
        {
          "output_type": "stream",
          "name": "stderr",
          "text": [
            "/usr/local/lib/python3.7/dist-packages/ipykernel_launcher.py:153: VisibleDeprecationWarning: Creating an ndarray from ragged nested sequences (which is a list-or-tuple of lists-or-tuples-or ndarrays with different lengths or shapes) is deprecated. If you meant to do this, you must specify 'dtype=object' when creating the ndarray\n"
          ]
        }
      ]
    },
    {
      "cell_type": "code",
      "source": [
        "#Выводим раземры обучающей выборки\n",
        "#Чтобы проверить, что мы всё правильно собрали\n",
        "print(xTrain.shape)\n",
        "print(xTrainC01.shape)\n",
        "print(yTrain.shape)"
      ],
      "metadata": {
        "colab": {
          "base_uri": "https://localhost:8080/"
        },
        "id": "rBSOU-if98Dm",
        "outputId": "c468ec26-635b-4687-8df1-acfad2677165"
      },
      "execution_count": null,
      "outputs": [
        {
          "output_type": "stream",
          "name": "stdout",
          "text": [
            "(62504, 109)\n",
            "(62504, 2000)\n",
            "(62504,)\n"
          ]
        }
      ]
    },
    {
      "cell_type": "markdown",
      "metadata": {
        "id": "7pgWTHEqlvdF"
      },
      "source": [
        "Нормировка данных"
      ]
    },
    {
      "cell_type": "code",
      "source": [
        "# Нормируем размер квартиры в xTrain\n",
        "xScaler = StandardScaler() #Создаём нормировщик нормальным распределением\n",
        "xScaler.fit(xTrain[:,-1].reshape(-1, 1)) #Обучаем его на площадях квартир (последня колонка в xTrain)\n",
        "xTrainScaled = xTrain.copy()\n",
        "xTrainScaled[:,-1] = xScaler.transform(xTrain[:,-1].reshape(-1, 1)).flatten() #Нормируем данные нормировщиком\n",
        " \n",
        "# Выводим размер и два примера для сравнения\n",
        "# Не нормированных данных и нормированных\n",
        "print(xTrainScaled.shape)\n",
        "print(xTrain[0])\n",
        "print(xTrainScaled[0])"
      ],
      "metadata": {
        "colab": {
          "base_uri": "https://localhost:8080/"
        },
        "id": "BXzqe_hD-boQ",
        "outputId": "a65fa134-1ee8-4d63-8596-200bb74aa940"
      },
      "execution_count": null,
      "outputs": [
        {
          "output_type": "stream",
          "name": "stdout",
          "text": [
            "(62504, 109)\n",
            "[ 0.   1.   0.   0.   0.   0.   0.   0.   0.   0.   0.   0.   0.   0.\n",
            "  0.   0.   0.   0.   0.   0.   0.   0.   0.   0.   0.   0.   0.   0.\n",
            "  0.   0.   0.   0.   1.   0.   0.   0.   0.   1.   0.   0.   0.   0.\n",
            "  1.   0.   0.   0.   0.   0.   0.   0.   0.   0.   0.   0.   0.   0.\n",
            "  0.   0.   0.   0.   0.   0.   0.   0.   1.   0.   0.   0.   0.   1.\n",
            "  0.   0.   1.   0.   0.   0.   0.   0.   1.   0.   0.   0.   0.   0.\n",
            "  0.   0.   0.   0.   0.   0.   0.   0.   0.   0.   0.   1.   0.   0.\n",
            "  0.   0.   0.   0.   0.   0.   0.   0.   0.   0.  64.1]\n",
            "[0.         1.         0.         0.         0.         0.\n",
            " 0.         0.         0.         0.         0.         0.\n",
            " 0.         0.         0.         0.         0.         0.\n",
            " 0.         0.         0.         0.         0.         0.\n",
            " 0.         0.         0.         0.         0.         0.\n",
            " 0.         0.         1.         0.         0.         0.\n",
            " 0.         1.         0.         0.         0.         0.\n",
            " 1.         0.         0.         0.         0.         0.\n",
            " 0.         0.         0.         0.         0.         0.\n",
            " 0.         0.         0.         0.         0.         0.\n",
            " 0.         0.         0.         0.         1.         0.\n",
            " 0.         0.         0.         1.         0.         0.\n",
            " 1.         0.         0.         0.         0.         0.\n",
            " 1.         0.         0.         0.         0.         0.\n",
            " 0.         0.         0.         0.         0.         0.\n",
            " 0.         0.         0.         0.         0.         1.\n",
            " 0.         0.         0.         0.         0.         0.\n",
            " 0.         0.         0.         0.         0.         0.\n",
            " 1.28438086]\n"
          ]
        }
      ]
    },
    {
      "cell_type": "code",
      "source": [
        "# Нормируем выход сети - цену квартиры\n",
        "yScaler = StandardScaler() # Делаемнормальный нормировщик\n",
        "yScaler.fit(yTrain.reshape(-1, 1)) # Обучаем на ценах квартир\n",
        "yTrainScaled = yScaler.transform(yTrain.reshape(-1, 1)) # Нормируем цены квартир\n",
        "\n",
        "# Выводим размер и два примера для сравнения\n",
        "# Не нормированных данных и нормированных\n",
        "print(yTrainScaled.shape)\n",
        "print(yTrain[0])\n",
        "print(yTrainScaled[0])"
      ],
      "metadata": {
        "colab": {
          "base_uri": "https://localhost:8080/"
        },
        "id": "CGlBS72e-wJE",
        "outputId": "99c1fe4a-4500-46ef-f83a-e48cc1f5be86"
      },
      "execution_count": null,
      "outputs": [
        {
          "output_type": "stream",
          "name": "stdout",
          "text": [
            "(62504, 1)\n",
            "19500000.0\n",
            "[0.45013]\n"
          ]
        }
      ]
    },
    {
      "cell_type": "code",
      "source": [
        "print(min(yTrain), max(yTrain))\n",
        "print(min(yTrainScaled), max(yTrainScaled))"
      ],
      "metadata": {
        "colab": {
          "base_uri": "https://localhost:8080/"
        },
        "id": "L5FOmwdZ-wMx",
        "outputId": "67e5858c-9f86-4ba5-d031-9f9b05319a78"
      },
      "execution_count": null,
      "outputs": [
        {
          "output_type": "stream",
          "name": "stdout",
          "text": [
            "1500000.0 3000000015.0\n",
            "[-0.3458729] [132.25494456]\n"
          ]
        }
      ]
    },
    {
      "cell_type": "markdown",
      "metadata": {
        "id": "PZAhclqgl_XP"
      },
      "source": [
        "Формируем проверочную выборку"
      ]
    },
    {
      "cell_type": "code",
      "source": [
        "splitVal = 0.2 # Процент, который выделяем в проверочную выборку\n",
        "valMask = np.random.sample(xTrainScaled.shape[0]) < splitVal # Создаём маску True-False для создания проверочной выборки"
      ],
      "metadata": {
        "id": "HNc7Au_7-2My"
      },
      "execution_count": null,
      "outputs": []
    },
    {
      "cell_type": "code",
      "source": [
        "np.save('/content/drive/MyDrive/Базы/x and y Trains/xTrainScaled',xTrainScaled)\n",
        "np.save('/content/drive/MyDrive/Базы/x and y Trains/xTrainC01',xTrainC01)\n",
        "np.save('/content/drive/MyDrive/Базы/x and y Trains/yTrainScaled',yTrainScaled)"
      ],
      "metadata": {
        "id": "NMoU2_GQ-2Rt"
      },
      "execution_count": null,
      "outputs": []
    },
    {
      "cell_type": "markdown",
      "metadata": {
        "id": "VMjVNXbkmFv8"
      },
      "source": [
        "Нейронка"
      ]
    },
    {
      "cell_type": "code",
      "source": [
        "def on_epoch_end(epoch, logs):\n",
        "  pred = model.predict([xTrainScaled[valMask], xTrainC01[valMask]]) # Полуаем выход сети на проверочно выборке\n",
        "  predUnscaled = yScaler.inverse_transform(pred).flatten() # Делаем обратное нормирование выхода к изначальным величинам цен квартир\n",
        "  yTrainUnscaled = yScaler.inverse_transform(yTrainScaled[valMask]).flatten() # Делаем такое же обратное нормирование yTrain к базовым ценам\n",
        "  delta = predUnscaled - yTrainUnscaled # Считаем разность предсказания и правильных цен\n",
        "  absDelta = abs(delta) # Берём модуль отклонения\n",
        "  print(\"Эпоха\", epoch, \"Средняя абсолютная ошибка MAE на проверочном наборе\", round(sum(absDelta) / (len(absDelta)),3), ' рублей') # Выводим усреднённую ошибку в миллионах рублей\n",
        "\n",
        "  \n",
        "\n",
        "# Коллбэки\n",
        "pltMae = LambdaCallback(on_epoch_end=on_epoch_end)\n",
        "\n",
        "\n"
      ],
      "metadata": {
        "id": "3gsWKhBv_PWt"
      },
      "execution_count": null,
      "outputs": []
    },
    {
      "cell_type": "code",
      "source": [
        "import keras\n",
        "early_stop = EarlyStopping(monitor='val_mae', \n",
        "                           min_delta=0.001,\n",
        "                           patience=5, \n",
        "                           verbose=1, \n",
        "                           mode='auto')\n",
        "chkpt = ModelCheckpoint('model.h5', \n",
        "                        monitor='val_mae', \n",
        "                        verbose=1, \n",
        "                        save_best_only=True, \n",
        "                        mode='auto')\n",
        "lrPlato = ReduceLROnPlateau(monitor='val_mae', \n",
        "                            factor=0.2, \n",
        "                            patience=5, \n",
        "                            verbose=0, \n",
        "                            mode='auto', \n",
        "                            min_delta=0.0001, \n",
        "                            cooldown=20, \n",
        "                            min_lr=1e-5) "
      ],
      "metadata": {
        "id": "Ufw3Cep5QFo9"
      },
      "execution_count": null,
      "outputs": []
    },
    {
      "cell_type": "code",
      "source": [
        "print(type(xTrainScaled))\n",
        "print(type(xTrainC01))\n",
        "print(type(yTrainScaled))"
      ],
      "metadata": {
        "colab": {
          "base_uri": "https://localhost:8080/"
        },
        "id": "qDF0RjTS_Pa6",
        "outputId": "988a8163-257f-4232-9a2f-96c61149cd8f"
      },
      "execution_count": null,
      "outputs": [
        {
          "output_type": "stream",
          "name": "stdout",
          "text": [
            "<class 'numpy.ndarray'>\n",
            "<class 'numpy.ndarray'>\n",
            "<class 'numpy.ndarray'>\n"
          ]
        }
      ]
    },
    {
      "cell_type": "code",
      "source": [
        "def plttime(epoch, logs=False):\n",
        "  cur_time = time.time()  \n",
        "  print('Время обработки 1 эпохи: ', round(cur_time*1e-9, 2), 'c', sep='')    # Переводим время из наносекунд в секунды\n",
        "  print('Прошедшее время обработки: ', round(cur_time*1e-9 + cur_time*1e-9*epoch, 2), 'c', sep='')\n",
        "  print('Оставшеся время обработки: ', round(cur_time*1e-9 * 50 - cur_time*1e-9 - cur_time*1e-9*epoch, 2), 'с', sep='')\n",
        " "
      ],
      "metadata": {
        "id": "cYR5IgyN45jq"
      },
      "execution_count": null,
      "outputs": []
    },
    {
      "cell_type": "code",
      "source": [
        "plttime = LambdaCallback(on_epoch_end=plttime) "
      ],
      "metadata": {
        "id": "kRMzSVDIfr6s"
      },
      "execution_count": null,
      "outputs": []
    },
    {
      "cell_type": "code",
      "source": [
        "# Простая Dense сеть\n",
        "input1 = Input((xTrainScaled.shape[1],))\n",
        "input2 = Input((xTrainC01.shape[1],))\n",
        "\n",
        "x1 = Dense(10, activation=\"relu\")(input1)\n",
        "x2 = Dense(250, activation=\"relu\")(input2)\n",
        "\n",
        "x = concatenate([x1, x2])\n",
        "\n",
        "x = Dense(100, activation='relu')(x)\n",
        "x = Dense(10, activation='relu')(x)\n",
        "x = Dense(1, activation='linear')(x)\n",
        "\n",
        "model = Model((input1, input2), x)\n",
        "\n",
        "model.compile(optimizer=Adam(lr=1e-3), loss='mse', metrics=['mae'])\n",
        "history = model.fit([xTrainScaled[~valMask], xTrainC01[~valMask]], \n",
        "                    yTrainScaled[~valMask], \n",
        "                    epochs=50, \n",
        "                    validation_data=([xTrainScaled[valMask], xTrainC01[valMask]], \n",
        "                    yTrainScaled[valMask]), \n",
        "                    verbose=0,\n",
        "                    callbacks = [pltMae, plttime, lrPlato, chkpt])\n",
        "\n",
        "\n",
        "\n",
        "plt.plot(history.history['mae'], \n",
        "         label='Средняя абсолютная ошибка на обучающем наборе')\n",
        "plt.plot(history.history['val_mae'], \n",
        "         label='Средняя абсолютная ошибка на проверочном наборе')\n",
        "plt.xlabel('Эпоха обучения')\n",
        "plt.ylabel('Средняя абсолютная ошибка')\n",
        "plt.legend()\n",
        "plt.show()\n",
        "\n",
        "yy = yTrainScaled[~valMask] # Стоимость квартир\n",
        "pred = model.predict([xTrainScaled[~valMask], xTrainC01[~valMask]]) # Предсказанная стоимость квартир\n",
        "plt.scatter(yy, pred)\n",
        "plt.xlabel('Правильные значение')\n",
        "plt.ylabel('Предсказания')\n",
        "plt.axis('equal')\n",
        "plt.xlim(plt.xlim())\n",
        "plt.ylim(plt.ylim())\n",
        "plt.plot([-1000, 1000], [-1000, 1000])\n",
        "plt.show()\n",
        "\n",
        "print()\n",
        "print('Меняем шаг обучения на 1e-4')\n",
        "model.compile(optimizer=Adam(lr=1e-4), loss='mse', metrics=['mae'])\n",
        "history = model.fit([xTrainScaled[~valMask], xTrainC01[~valMask]], \n",
        "                    yTrainScaled[~valMask], \n",
        "                    epochs=50, \n",
        "                    validation_data=([xTrainScaled[valMask], xTrainC01[valMask]], \n",
        "                    yTrainScaled[valMask]), \n",
        "                    verbose=0,\n",
        "                    callbacks = [pltMae, plttime, lrPlato, early_stop, chkpt])\n",
        "                    \n",
        "\n",
        "plt.plot(history.history['mae'], \n",
        "         label='Средняя абсолютная ошибка на обучающем наборе')\n",
        "plt.plot(history.history['val_mae'], \n",
        "         label='Средняя абсолютная ошибка на проверочном наборе')\n",
        "plt.xlabel('Эпоха обучения')\n",
        "plt.ylabel('Средняя абсолютная ошибка')\n",
        "plt.legend()\n",
        "plt.show()\n",
        "\n",
        "yy = yTrainScaled[~valMask] # стоимость квартир\n",
        "pred = model.predict([xTrainScaled[~valMask], xTrainC01[~valMask]]) # Предсказанная стоимость квартир\n",
        "plt.scatter(yy, pred)\n",
        "plt.xlabel('Правильные значение')\n",
        "plt.ylabel('Предсказания')\n",
        "plt.axis('equal')\n",
        "plt.xlim(plt.xlim())\n",
        "plt.ylim(plt.ylim())\n",
        "plt.plot([-1000, 1000], [-1000, 1000])\n",
        "plt.show()\n",
        "\n",
        "print()\n",
        "\n",
        "\n",
        "\n",
        "\n",
        "# Проверяем результаты\n",
        "pred = model.predict([xTrainScaled[valMask], xTrainC01[valMask]]) # Полуаем выход сети на проверочной выборке\n",
        "predUnscaled = yScaler.inverse_transform(pred).flatten() # Делаем обратное нормирование выхода к изначальным величинам цен квартир\n",
        "yTrainUnscaled = yScaler.inverse_transform(yTrainScaled[valMask]).flatten() # Делаем такое же обратное нормирование yTrain к базовым ценам\n",
        "#delta = predUnscaled - yTrainUnscaled # Считаем разность предсказания и правильных цен\n",
        "#absDelta = abs(delta) # Берём модуль отклонения\n",
        "\n"
      ],
      "metadata": {
        "colab": {
          "base_uri": "https://localhost:8080/",
          "height": 1000
        },
        "id": "IodroWiA_Pe8",
        "outputId": "366e7aaa-1ae8-4578-eac6-e7644f5f32ec"
      },
      "execution_count": null,
      "outputs": [
        {
          "output_type": "stream",
          "name": "stderr",
          "text": [
            "/usr/local/lib/python3.7/dist-packages/keras/optimizer_v2/adam.py:105: UserWarning: The `lr` argument is deprecated, use `learning_rate` instead.\n",
            "  super(Adam, self).__init__(name, **kwargs)\n"
          ]
        },
        {
          "output_type": "stream",
          "name": "stdout",
          "text": [
            "Эпоха 0 Средняя абсолютная ошибка MAE на проверочном наборе 1999529.048  рублей\n",
            "Время обработки 1 эпохи: 1.64c\n",
            "Прошедшее время обработки: 1.64c\n",
            "Оставшеся время обработки: 80.46с\n",
            "\n",
            "Epoch 00001: val_mae did not improve from 0.03714\n",
            "Эпоха 1 Средняя абсолютная ошибка MAE на проверочном наборе 1952563.893  рублей\n",
            "Время обработки 1 эпохи: 1.64c\n",
            "Прошедшее время обработки: 3.28c\n",
            "Оставшеся время обработки: 78.82с\n",
            "\n",
            "Epoch 00002: val_mae did not improve from 0.03714\n",
            "Эпоха 2 Средняя абсолютная ошибка MAE на проверочном наборе 1695897.135  рублей\n",
            "Время обработки 1 эпохи: 1.64c\n",
            "Прошедшее время обработки: 4.93c\n",
            "Оставшеся время обработки: 77.18с\n",
            "\n",
            "Epoch 00003: val_mae did not improve from 0.03714\n",
            "Эпоха 3 Средняя абсолютная ошибка MAE на проверочном наборе 1636202.993  рублей\n",
            "Время обработки 1 эпохи: 1.64c\n",
            "Прошедшее время обработки: 6.57c\n",
            "Оставшеся время обработки: 75.54с\n",
            "\n",
            "Epoch 00004: val_mae did not improve from 0.03714\n",
            "Эпоха 4 Средняя абсолютная ошибка MAE на проверочном наборе 2924881.958  рублей\n",
            "Время обработки 1 эпохи: 1.64c\n",
            "Прошедшее время обработки: 8.21c\n",
            "Оставшеся время обработки: 73.89с\n",
            "\n",
            "Epoch 00005: val_mae did not improve from 0.03714\n",
            "Эпоха 5 Средняя абсолютная ошибка MAE на проверочном наборе 1185550.68  рублей\n",
            "Время обработки 1 эпохи: 1.64c\n",
            "Прошедшее время обработки: 9.85c\n",
            "Оставшеся время обработки: 72.25с\n",
            "\n",
            "Epoch 00006: val_mae did not improve from 0.03714\n",
            "Эпоха 6 Средняя абсолютная ошибка MAE на проверочном наборе 1302322.266  рублей\n",
            "Время обработки 1 эпохи: 1.64c\n",
            "Прошедшее время обработки: 11.49c\n",
            "Оставшеся время обработки: 70.61с\n",
            "\n",
            "Epoch 00007: val_mae did not improve from 0.03714\n",
            "Эпоха 7 Средняя абсолютная ошибка MAE на проверочном наборе 1092276.923  рублей\n",
            "Время обработки 1 эпохи: 1.64c\n",
            "Прошедшее время обработки: 13.14c\n",
            "Оставшеся время обработки: 68.97с\n",
            "\n",
            "Epoch 00008: val_mae did not improve from 0.03714\n",
            "Эпоха 8 Средняя абсолютная ошибка MAE на проверочном наборе 1222504.839  рублей\n",
            "Время обработки 1 эпохи: 1.64c\n",
            "Прошедшее время обработки: 14.78c\n",
            "Оставшеся время обработки: 67.32с\n",
            "\n",
            "Epoch 00009: val_mae did not improve from 0.03714\n",
            "Эпоха 9 Средняя абсолютная ошибка MAE на проверочном наборе 1123604.871  рублей\n",
            "Время обработки 1 эпохи: 1.64c\n",
            "Прошедшее время обработки: 16.42c\n",
            "Оставшеся время обработки: 65.68с\n",
            "\n",
            "Epoch 00010: val_mae did not improve from 0.03714\n",
            "Эпоха 10 Средняя абсолютная ошибка MAE на проверочном наборе 1622336.735  рублей\n",
            "Время обработки 1 эпохи: 1.64c\n",
            "Прошедшее время обработки: 18.06c\n",
            "Оставшеся время обработки: 64.04с\n",
            "\n",
            "Epoch 00011: val_mae did not improve from 0.03714\n",
            "Эпоха 11 Средняя абсолютная ошибка MAE на проверочном наборе 1086209.224  рублей\n",
            "Время обработки 1 эпохи: 1.64c\n",
            "Прошедшее время обработки: 19.7c\n",
            "Оставшеся время обработки: 62.4с\n",
            "\n",
            "Epoch 00012: val_mae did not improve from 0.03714\n",
            "Эпоха 12 Средняя абсолютная ошибка MAE на проверочном наборе 1197312.384  рублей\n",
            "Время обработки 1 эпохи: 1.64c\n",
            "Прошедшее время обработки: 21.35c\n",
            "Оставшеся время обработки: 60.76с\n",
            "\n",
            "Epoch 00013: val_mae did not improve from 0.03714\n",
            "Эпоха 13 Средняя абсолютная ошибка MAE на проверочном наборе 1196333.425  рублей\n",
            "Время обработки 1 эпохи: 1.64c\n",
            "Прошедшее время обработки: 22.99c\n",
            "Оставшеся время обработки: 59.11с\n",
            "\n",
            "Epoch 00014: val_mae did not improve from 0.03714\n",
            "Эпоха 14 Средняя абсолютная ошибка MAE на проверочном наборе 1558481.184  рублей\n",
            "Время обработки 1 эпохи: 1.64c\n",
            "Прошедшее время обработки: 24.63c\n",
            "Оставшеся время обработки: 57.47с\n",
            "\n",
            "Epoch 00015: val_mae did not improve from 0.03714\n",
            "Эпоха 15 Средняя абсолютная ошибка MAE на проверочном наборе 1084657.226  рублей\n",
            "Время обработки 1 эпохи: 1.64c\n",
            "Прошедшее время обработки: 26.27c\n",
            "Оставшеся время обработки: 55.83с\n",
            "\n",
            "Epoch 00016: val_mae did not improve from 0.03714\n",
            "Эпоха 16 Средняя абсолютная ошибка MAE на проверочном наборе 984239.041  рублей\n",
            "Время обработки 1 эпохи: 1.64c\n",
            "Прошедшее время обработки: 27.92c\n",
            "Оставшеся время обработки: 54.19с\n",
            "\n",
            "Epoch 00017: val_mae did not improve from 0.03714\n",
            "Эпоха 17 Средняя абсолютная ошибка MAE на проверочном наборе 1085787.338  рублей\n",
            "Время обработки 1 эпохи: 1.64c\n",
            "Прошедшее время обработки: 29.56c\n",
            "Оставшеся время обработки: 52.55с\n",
            "\n",
            "Epoch 00018: val_mae did not improve from 0.03714\n",
            "Эпоха 18 Средняя абсолютная ошибка MAE на проверочном наборе 981640.061  рублей\n",
            "Время обработки 1 эпохи: 1.64c\n",
            "Прошедшее время обработки: 31.2c\n",
            "Оставшеся время обработки: 50.9с\n",
            "\n",
            "Epoch 00019: val_mae did not improve from 0.03714\n",
            "Эпоха 19 Средняя абсолютная ошибка MAE на проверочном наборе 1002475.065  рублей\n",
            "Время обработки 1 эпохи: 1.64c\n",
            "Прошедшее время обработки: 32.84c\n",
            "Оставшеся время обработки: 49.26с\n",
            "\n",
            "Epoch 00020: val_mae did not improve from 0.03714\n",
            "Эпоха 20 Средняя абсолютная ошибка MAE на проверочном наборе 959799.159  рублей\n",
            "Время обработки 1 эпохи: 1.64c\n",
            "Прошедшее время обработки: 34.48c\n",
            "Оставшеся время обработки: 47.62с\n",
            "\n",
            "Epoch 00021: val_mae did not improve from 0.03714\n",
            "Эпоха 21 Средняя абсолютная ошибка MAE на проверочном наборе 995317.058  рублей\n",
            "Время обработки 1 эпохи: 1.64c\n",
            "Прошедшее время обработки: 36.13c\n",
            "Оставшеся время обработки: 45.98с\n",
            "\n",
            "Epoch 00022: val_mae did not improve from 0.03714\n",
            "Эпоха 22 Средняя абсолютная ошибка MAE на проверочном наборе 983623.695  рублей\n",
            "Время обработки 1 эпохи: 1.64c\n",
            "Прошедшее время обработки: 37.77c\n",
            "Оставшеся время обработки: 44.34с\n",
            "\n",
            "Epoch 00023: val_mae did not improve from 0.03714\n",
            "Эпоха 23 Средняя абсолютная ошибка MAE на проверочном наборе 990020.632  рублей\n",
            "Время обработки 1 эпохи: 1.64c\n",
            "Прошедшее время обработки: 39.41c\n",
            "Оставшеся время обработки: 42.69с\n",
            "\n",
            "Epoch 00024: val_mae did not improve from 0.03714\n",
            "Эпоха 24 Средняя абсолютная ошибка MAE на проверочном наборе 1209016.863  рублей\n",
            "Время обработки 1 эпохи: 1.64c\n",
            "Прошедшее время обработки: 41.05c\n",
            "Оставшеся время обработки: 41.05с\n",
            "\n",
            "Epoch 00025: val_mae did not improve from 0.03714\n",
            "Эпоха 25 Средняя абсолютная ошибка MAE на проверочном наборе 1036890.357  рублей\n",
            "Время обработки 1 эпохи: 1.64c\n",
            "Прошедшее время обработки: 42.69c\n",
            "Оставшеся время обработки: 39.41с\n",
            "\n",
            "Epoch 00026: val_mae did not improve from 0.03714\n",
            "Эпоха 26 Средняя абсолютная ошибка MAE на проверочном наборе 874866.012  рублей\n",
            "Время обработки 1 эпохи: 1.64c\n",
            "Прошедшее время обработки: 44.34c\n",
            "Оставшеся время обработки: 37.77с\n",
            "\n",
            "Epoch 00027: val_mae did not improve from 0.03714\n",
            "Эпоха 27 Средняя абсолютная ошибка MAE на проверочном наборе 847603.71  рублей\n",
            "Время обработки 1 эпохи: 1.64c\n",
            "Прошедшее время обработки: 45.98c\n",
            "Оставшеся время обработки: 36.13с\n",
            "\n",
            "Epoch 00028: val_mae did not improve from 0.03714\n",
            "Эпоха 28 Средняя абсолютная ошибка MAE на проверочном наборе 846064.543  рублей\n",
            "Время обработки 1 эпохи: 1.64c\n",
            "Прошедшее время обработки: 47.62c\n",
            "Оставшеся время обработки: 34.48с\n",
            "\n",
            "Epoch 00029: val_mae did not improve from 0.03714\n",
            "Эпоха 29 Средняя абсолютная ошибка MAE на проверочном наборе 833271.642  рублей\n",
            "Время обработки 1 эпохи: 1.64c\n",
            "Прошедшее время обработки: 49.26c\n",
            "Оставшеся время обработки: 32.84с\n",
            "\n",
            "Epoch 00030: val_mae improved from 0.03714 to 0.03685, saving model to model.h5\n",
            "Эпоха 30 Средняя абсолютная ошибка MAE на проверочном наборе 826468.407  рублей\n",
            "Время обработки 1 эпохи: 1.64c\n",
            "Прошедшее время обработки: 50.9c\n",
            "Оставшеся время обработки: 31.2с\n",
            "\n",
            "Epoch 00031: val_mae improved from 0.03685 to 0.03655, saving model to model.h5\n",
            "Эпоха 31 Средняя абсолютная ошибка MAE на проверочном наборе 823969.95  рублей\n",
            "Время обработки 1 эпохи: 1.64c\n",
            "Прошедшее время обработки: 52.55c\n",
            "Оставшеся время обработки: 29.56с\n",
            "\n",
            "Epoch 00032: val_mae improved from 0.03655 to 0.03644, saving model to model.h5\n",
            "Эпоха 32 Средняя абсолютная ошибка MAE на проверочном наборе 821425.199  рублей\n",
            "Время обработки 1 эпохи: 1.64c\n",
            "Прошедшее время обработки: 54.19c\n",
            "Оставшеся время обработки: 27.92с\n",
            "\n",
            "Epoch 00033: val_mae improved from 0.03644 to 0.03633, saving model to model.h5\n",
            "Эпоха 33 Средняя абсолютная ошибка MAE на проверочном наборе 876733.085  рублей\n",
            "Время обработки 1 эпохи: 1.64c\n",
            "Прошедшее время обработки: 55.83c\n",
            "Оставшеся время обработки: 26.27с\n",
            "\n",
            "Epoch 00034: val_mae did not improve from 0.03633\n",
            "Эпоха 34 Средняя абсолютная ошибка MAE на проверочном наборе 840009.952  рублей\n",
            "Время обработки 1 эпохи: 1.64c\n",
            "Прошедшее время обработки: 57.47c\n",
            "Оставшеся время обработки: 24.63с\n",
            "\n",
            "Epoch 00035: val_mae did not improve from 0.03633\n",
            "Эпоха 35 Средняя абсолютная ошибка MAE на проверочном наборе 818174.925  рублей\n",
            "Время обработки 1 эпохи: 1.64c\n",
            "Прошедшее время обработки: 59.11c\n",
            "Оставшеся время обработки: 22.99с\n",
            "\n",
            "Epoch 00036: val_mae improved from 0.03633 to 0.03618, saving model to model.h5\n",
            "Эпоха 36 Средняя абсолютная ошибка MAE на проверочном наборе 822989.413  рублей\n",
            "Время обработки 1 эпохи: 1.64c\n",
            "Прошедшее время обработки: 60.76c\n",
            "Оставшеся время обработки: 21.35с\n",
            "\n",
            "Epoch 00037: val_mae did not improve from 0.03618\n",
            "Эпоха 37 Средняя абсолютная ошибка MAE на проверочном наборе 824092.385  рублей\n",
            "Время обработки 1 эпохи: 1.64c\n",
            "Прошедшее время обработки: 62.4c\n",
            "Оставшеся время обработки: 19.7с\n",
            "\n",
            "Epoch 00038: val_mae did not improve from 0.03618\n",
            "Эпоха 38 Средняя абсолютная ошибка MAE на проверочном наборе 829102.034  рублей\n",
            "Время обработки 1 эпохи: 1.64c\n",
            "Прошедшее время обработки: 64.04c\n",
            "Оставшеся время обработки: 18.06с\n",
            "\n",
            "Epoch 00039: val_mae did not improve from 0.03618\n",
            "Эпоха 39 Средняя абсолютная ошибка MAE на проверочном наборе 857980.099  рублей\n",
            "Время обработки 1 эпохи: 1.64c\n",
            "Прошедшее время обработки: 65.68c\n",
            "Оставшеся время обработки: 16.42с\n",
            "\n",
            "Epoch 00040: val_mae did not improve from 0.03618\n",
            "Эпоха 40 Средняя абсолютная ошибка MAE на проверочном наборе 814749.51  рублей\n",
            "Время обработки 1 эпохи: 1.64c\n",
            "Прошедшее время обработки: 67.32c\n",
            "Оставшеся время обработки: 14.78с\n",
            "\n",
            "Epoch 00041: val_mae improved from 0.03618 to 0.03603, saving model to model.h5\n",
            "Эпоха 41 Средняя абсолютная ошибка MAE на проверочном наборе 830792.411  рублей\n",
            "Время обработки 1 эпохи: 1.64c\n",
            "Прошедшее время обработки: 68.97c\n",
            "Оставшеся время обработки: 13.14с\n",
            "\n",
            "Epoch 00042: val_mae did not improve from 0.03603\n",
            "Эпоха 42 Средняя абсолютная ошибка MAE на проверочном наборе 812815.245  рублей\n",
            "Время обработки 1 эпохи: 1.64c\n",
            "Прошедшее время обработки: 70.61c\n",
            "Оставшеся время обработки: 11.49с\n",
            "\n",
            "Epoch 00043: val_mae improved from 0.03603 to 0.03594, saving model to model.h5\n",
            "Эпоха 43 Средняя абсолютная ошибка MAE на проверочном наборе 812694.685  рублей\n",
            "Время обработки 1 эпохи: 1.64c\n",
            "Прошедшее время обработки: 72.25c\n",
            "Оставшеся время обработки: 9.85с\n",
            "\n",
            "Epoch 00044: val_mae improved from 0.03594 to 0.03594, saving model to model.h5\n",
            "Эпоха 44 Средняя абсолютная ошибка MAE на проверочном наборе 812828.236  рублей\n",
            "Время обработки 1 эпохи: 1.64c\n",
            "Прошедшее время обработки: 73.89c\n",
            "Оставшеся время обработки: 8.21с\n",
            "\n",
            "Epoch 00045: val_mae did not improve from 0.03594\n",
            "Эпоха 45 Средняя абсолютная ошибка MAE на проверочном наборе 820113.934  рублей\n",
            "Время обработки 1 эпохи: 1.64c\n",
            "Прошедшее время обработки: 75.54c\n",
            "Оставшеся время обработки: 6.57с\n",
            "\n",
            "Epoch 00046: val_mae did not improve from 0.03594\n",
            "Эпоха 46 Средняя абсолютная ошибка MAE на проверочном наборе 813249.57  рублей\n",
            "Время обработки 1 эпохи: 1.64c\n",
            "Прошедшее время обработки: 77.18c\n",
            "Оставшеся время обработки: 4.93с\n",
            "\n",
            "Epoch 00047: val_mae did not improve from 0.03594\n",
            "Эпоха 47 Средняя абсолютная ошибка MAE на проверочном наборе 823175.036  рублей\n",
            "Время обработки 1 эпохи: 1.64c\n",
            "Прошедшее время обработки: 78.82c\n",
            "Оставшеся время обработки: 3.28с\n",
            "\n",
            "Epoch 00048: val_mae did not improve from 0.03594\n",
            "Эпоха 48 Средняя абсолютная ошибка MAE на проверочном наборе 807970.734  рублей\n",
            "Время обработки 1 эпохи: 1.64c\n",
            "Прошедшее время обработки: 80.46c\n",
            "Оставшеся время обработки: 1.64с\n",
            "\n",
            "Epoch 00049: val_mae improved from 0.03594 to 0.03573, saving model to model.h5\n",
            "Эпоха 49 Средняя абсолютная ошибка MAE на проверочном наборе 830007.569  рублей\n",
            "Время обработки 1 эпохи: 1.64c\n",
            "Прошедшее время обработки: 82.1c\n",
            "Оставшеся время обработки: 0.0с\n",
            "\n",
            "Epoch 00050: val_mae did not improve from 0.03573\n"
          ]
        },
        {
          "output_type": "display_data",
          "data": {
            "image/png": "[encoded data removed]",
            "text/plain": [
              "<Figure size 432x288 with 1 Axes>"
            ]
          },
          "metadata": {
            "needs_background": "light"
          }
        },
        {
          "output_type": "display_data",
          "data": {
            "image/png": "[encoded data removed]",
            "text/plain": [
              "<Figure size 432x288 with 1 Axes>"
            ]
          },
          "metadata": {
            "needs_background": "light"
          }
        },
        {
          "output_type": "stream",
          "name": "stdout",
          "text": [
            "\n",
            "Меняем шаг обучения на 1e-4\n"
          ]
        },
        {
          "output_type": "stream",
          "name": "stderr",
          "text": [
            "/usr/local/lib/python3.7/dist-packages/keras/optimizer_v2/adam.py:105: UserWarning: The `lr` argument is deprecated, use `learning_rate` instead.\n",
            "  super(Adam, self).__init__(name, **kwargs)\n"
          ]
        },
        {
          "output_type": "stream",
          "name": "stdout",
          "text": [
            "Эпоха 0 Средняя абсолютная ошибка MAE на проверочном наборе 809543.094  рублей\n",
            "Время обработки 1 эпохи: 1.64c\n",
            "Прошедшее время обработки: 1.64c\n",
            "Оставшеся время обработки: 80.46с\n",
            "\n",
            "Epoch 00001: val_mae did not improve from 0.03573\n",
            "Эпоха 1 Средняя абсолютная ошибка MAE на проверочном наборе 805672.25  рублей\n",
            "Время обработки 1 эпохи: 1.64c\n",
            "Прошедшее время обработки: 3.28c\n",
            "Оставшеся время обработки: 78.82с\n",
            "\n",
            "Epoch 00002: val_mae improved from 0.03573 to 0.03563, saving model to model.h5\n",
            "Эпоха 2 Средняя абсолютная ошибка MAE на проверочном наборе 798916.276  рублей\n",
            "Время обработки 1 эпохи: 1.64c\n",
            "Прошедшее время обработки: 4.93c\n",
            "Оставшеся время обработки: 77.18с\n",
            "\n",
            "Epoch 00003: val_mae improved from 0.03563 to 0.03533, saving model to model.h5\n",
            "Эпоха 3 Средняя абсолютная ошибка MAE на проверочном наборе 796982.209  рублей\n",
            "Время обработки 1 эпохи: 1.64c\n",
            "Прошедшее время обработки: 6.57c\n",
            "Оставшеся время обработки: 75.54с\n",
            "\n",
            "Epoch 00004: val_mae improved from 0.03533 to 0.03524, saving model to model.h5\n",
            "Эпоха 4 Средняя абсолютная ошибка MAE на проверочном наборе 802468.529  рублей\n",
            "Время обработки 1 эпохи: 1.64c\n",
            "Прошедшее время обработки: 8.21c\n",
            "Оставшеся время обработки: 73.89с\n",
            "\n",
            "Epoch 00005: val_mae did not improve from 0.03524\n",
            "Эпоха 5 Средняя абсолютная ошибка MAE на проверочном наборе 811364.142  рублей\n",
            "Время обработки 1 эпохи: 1.64c\n",
            "Прошедшее время обработки: 9.85c\n",
            "Оставшеся время обработки: 72.25с\n",
            "\n",
            "Epoch 00006: val_mae did not improve from 0.03524\n",
            "Epoch 00006: early stopping\n"
          ]
        },
        {
          "output_type": "display_data",
          "data": {
            "image/png": "[encoded data removed]",
            "text/plain": [
              "<Figure size 432x288 with 1 Axes>"
            ]
          },
          "metadata": {
            "needs_background": "light"
          }
        },
        {
          "output_type": "display_data",
          "data": {
            "image/png": "[encoded data removed]",
            "text/plain": [
              "<Figure size 432x288 with 1 Axes>"
            ]
          },
          "metadata": {
            "needs_background": "light"
          }
        },
        {
          "output_type": "stream",
          "name": "stdout",
          "text": [
            "\n"
          ]
        }
      ]
    },
    {
      "cell_type": "code",
      "source": [
        "from tensorflow.keras.utils import plot_model\n",
        "plot_model(model, dpi=90,  show_shapes=True)"
      ],
      "metadata": {
        "colab": {
          "base_uri": "https://localhost:8080/",
          "height": 604
        },
        "id": "NutYXgdQbamx",
        "outputId": "9db8a270-75b7-4e60-b245-af1a98dd94d0"
      },
      "execution_count": null,
      "outputs": [
        {
          "output_type": "execute_result",
          "data": {
            "image/png": "[encoded data removed]",
            "text/plain": [
              "<IPython.core.display.Image object>"
            ]
          },
          "metadata": {},
          "execution_count": 106
        }
      ]
    }
  ]
}