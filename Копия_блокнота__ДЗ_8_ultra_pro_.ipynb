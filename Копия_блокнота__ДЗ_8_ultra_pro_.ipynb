{
  "nbformat": 4,
  "nbformat_minor": 0,
  "metadata": {
    "colab": {
      "name": "Копия блокнота \"ДЗ 8. ultra pro\"",
      "provenance": [],
      "collapsed_sections": []
    },
    "kernelspec": {
      "name": "python3",
      "display_name": "Python 3"
    }
  },
  "cells": [
    {
      "cell_type": "code",
      "metadata": {
        "id": "ft_aZI3JcEkv"
      },
      "source": [
        "def P(n): #(факториaл)\n",
        "  f =1\n",
        "  for x in range(2,n+1):\n",
        "    f*=x\n",
        "  return f\n",
        "\n",
        "# Сочетание \n",
        "def C_n_m(n,m):\n",
        "  return P(n)/ (P(n-m)* P(m))\n",
        "\n",
        "# Размещение \n",
        "def A_(n,m):\n",
        "  return C_n_m(n,m) * P(m)\n",
        "\n",
        "# Перестановка с повторением\n",
        "def P_rep(n,m):\n",
        "  add = 1\n",
        "  for x in m:\n",
        "    add*=P(x)\n",
        "  return P(n)/ add\n",
        "\n",
        "# Сочетание с повторением\n",
        "def C_n_m_rep(n,m):\n",
        "  return P(n+m-1)/ (P(n-1)* P(m))\n",
        "\n",
        "# Размещение с повторением\n",
        "def A_rep(n,m):\n",
        "  return n**m\n",
        "\n",
        "\n"
      ],
      "execution_count": null,
      "outputs": []
    },
    {
      "cell_type": "markdown",
      "metadata": {
        "id": "k4-R0Bi7a7q7"
      },
      "source": [
        "#Комбинаторика"
      ]
    },
    {
      "cell_type": "markdown",
      "metadata": {
        "id": "9U674MWTyE5u"
      },
      "source": [
        "###Задача 1\n",
        "\n",
        "Юноша занимается спортом по следующей программе:\n",
        " 3 дня в неделю - легкая атлетика.\n",
        " 2 дня - силовые тренировки. \n",
        " 1 день - плавание.\n",
        " 1 день - отдых. \n",
        " \n",
        "* Сколькими способами он может составить себе расписание занятий на неделю?\n",
        "* Сколькими способами он может составить себе расписание занятий на неделю, если нужно 2 дня на плавание, а не 1?"
      ]
    },
    {
      "cell_type": "code",
      "metadata": {
        "id": "VFiFsQBwyfVa",
        "colab": {
          "base_uri": "https://localhost:8080/"
        },
        "outputId": "63a4b1a3-bee5-47e1-8402-cbb690fcac17"
      },
      "source": [
        "C_n_m(7,3)*C_n_m(7,2)*C_n_m(7,1)*C_n_m(7,1)"
      ],
      "execution_count": null,
      "outputs": [
        {
          "output_type": "execute_result",
          "data": {
            "text/plain": [
              "36015.0"
            ]
          },
          "metadata": {},
          "execution_count": 23
        }
      ]
    },
    {
      "cell_type": "code",
      "metadata": {
        "colab": {
          "base_uri": "https://localhost:8080/"
        },
        "id": "iLUA7XHxLuel",
        "outputId": "93171f43-c20a-478f-ab5a-13ae89de4529"
      },
      "source": [
        "C_n_m(7,3)*C_n_m(7,2)*C_n_m(7,2)"
      ],
      "execution_count": null,
      "outputs": [
        {
          "output_type": "execute_result",
          "data": {
            "text/plain": [
              "15435.0"
            ]
          },
          "metadata": {},
          "execution_count": 24
        }
      ]
    },
    {
      "cell_type": "markdown",
      "metadata": {
        "id": "gAMyvdaeyFBk"
      },
      "source": [
        "###Задача 2\n",
        "Сколько различных сочетаний можно получить перестановкой букв в следующем словосочетании: НУЖНО ЛЮБИТЬ МАТЕМАТИКУ И КОТИКОВ?"
      ]
    },
    {
      "cell_type": "code",
      "metadata": {
        "id": "frLN-aMCeA7e",
        "colab": {
          "base_uri": "https://localhost:8080/"
        },
        "outputId": "d94e5fb2-937e-4bd5-9256-74d45196d664"
      },
      "source": [
        "C_n_m_rep(5,5) * C_n_m_rep(6,6) * C_n_m_rep(10,10) * C_n_m_rep(1,1) * C_n_m_rep(7,7) # перестановкой букв внутри слов"
      ],
      "execution_count": null,
      "outputs": [
        {
          "output_type": "execute_result",
          "data": {
            "text/plain": [
              "9227803961376.0"
            ]
          },
          "metadata": {},
          "execution_count": 25
        }
      ]
    },
    {
      "cell_type": "code",
      "metadata": {
        "colab": {
          "base_uri": "https://localhost:8080/"
        },
        "id": "N5Wgo5ARorBV",
        "outputId": "ae9e2ab7-6f4b-49d1-9fb9-ad88b422b609"
      },
      "source": [
        "A_rep(29,29) # перестановкой букв с перемещением по словам внутри строки"
      ],
      "execution_count": null,
      "outputs": [
        {
          "output_type": "execute_result",
          "data": {
            "text/plain": [
              "2567686153161211134561828214731016126483469"
            ]
          },
          "metadata": {},
          "execution_count": 27
        }
      ]
    },
    {
      "cell_type": "markdown",
      "metadata": {
        "id": "0q9uVZC5a6KU"
      },
      "source": [
        "#Множества"
      ]
    },
    {
      "cell_type": "markdown",
      "metadata": {
        "id": "G3WaP_OSu8Kw"
      },
      "source": [
        "###Задача 1\n",
        "\n",
        "Доказать, что $ A \\(A\\B) = A\\cap B $."
      ]
    },
    {
      "cell_type": "code",
      "metadata": {
        "id": "EhMfD-xQJxMY"
      },
      "source": [
        "A - (A - B) = A ∩ B \n",
        "А{x,y} B{y,z} \n",
        "A ∩ B = {y}\n",
        "Раскроем скобки А - А + В = А{x,y} - (А{x,y} - B{y,z}) = {x,y}-{x} = {y}\n",
        "Следовательно A - (A - B) = A ∩ B т.к. A - (A - B) = y, и A ∩ B = y"
      ],
      "execution_count": null,
      "outputs": []
    },
    {
      "cell_type": "markdown",
      "metadata": {
        "id": "emTEZyOPu8Sg"
      },
      "source": [
        "###Задача 2\n",
        "\n",
        "Доказать, что $ A = (A\\cap B) \\cup (A\\B) $."
      ]
    },
    {
      "cell_type": "code",
      "metadata": {
        "id": "lJTPCJR8Jr3X"
      },
      "source": [
        "А = ( A ∩ B) ∪ (A \\ B)\n",
        "(А{x,y} - B{y,z}) ∪ (A{x,y} - B{y,z})\n",
        "{y} ∪ {x} = {y,x}\n",
        "{x,y} = {y,x}, следовательно А = ( A ∩ B) ∪ (A \\ B)"
      ],
      "execution_count": null,
      "outputs": []
    }
  ]
}