{
  "nbformat": 4,
  "nbformat_minor": 0,
  "metadata": {
    "colab": {
      "name": "Копия блокнота \"Копия блокнота  \"First_my_layer_Light.ipynb\"",
      "provenance": [],
      "collapsed_sections": []
    },
    "kernelspec": {
      "name": "python3",
      "display_name": "Python 3"
    },
    "language_info": {
      "name": "python"
    }
  },
  "cells": [
    {
      "cell_type": "code",
      "metadata": {
        "id": "-EB5Fvic0qKv"
      },
      "source": [
        "from tensorflow.keras.datasets import mnist #Библиотека с базой Mnist\n",
        "from tensorflow.keras.models import Sequential # Подлючаем класс создания модели Sequential\n",
        "from tensorflow.keras.layers import Dense # Подключаем класс Dense - полносвязный слой\n",
        "from tensorflow.keras.optimizers import Adam # Подключаем оптимизатор Adam\n",
        "from tensorflow.keras import utils #Утилиты для to_categorical\n",
        "from tensorflow.keras.preprocessing import image #Для отрисовки изображения\n",
        "import numpy as np # Подключаем библиотеку numpy\n",
        "import pylab # Модуль для построения графиков\n",
        "from mpl_toolkits.mplot3d import Axes3D # Модуль для трехмерной графики\n",
        "from google.colab import files #Для загрузки своей картинки\n",
        "import matplotlib.pyplot as plt #Отрисовка изображений\n",
        "from PIL import Image #Отрисовка изображений\n",
        "#Отрисовывать изображения в ноутбуке, а не в консоль или файл\n",
        "%matplotlib inline \n",
        "from tensorflow.keras.models import save_model, load_model\n"
      ],
      "execution_count": null,
      "outputs": []
    },
    {
      "cell_type": "code",
      "metadata": {
        "colab": {
          "base_uri": "https://localhost:8080/"
        },
        "id": "Tif2kBJ8thPF",
        "outputId": "7ccd9032-25c1-4584-9331-8cf216a18455"
      },
      "source": [
        "# Для загрузки данных используем drive\n",
        "from google.colab import drive\n",
        "drive.mount('/content/drive')"
      ],
      "execution_count": null,
      "outputs": [
        {
          "output_type": "stream",
          "name": "stdout",
          "text": [
            "Mounted at /content/drive\n"
          ]
        }
      ]
    },
    {
      "cell_type": "code",
      "metadata": {
        "id": "kr3uVTwUtj1g"
      },
      "source": [
        "#imgf = image.load_img('/content/drive/MyDrive/FotoFour.jpg', target_size=(28,28), color_mode = 'grayscale') # Загружаю картинку"
      ],
      "execution_count": null,
      "outputs": []
    },
    {
      "cell_type": "code",
      "metadata": {
        "id": "mq96eUXg0vQm"
      },
      "source": [
        "(x_train_org, y_train_org), (x_test_org, y_test_org) = mnist.load_data()   # Загрузил данные"
      ],
      "execution_count": null,
      "outputs": []
    },
    {
      "cell_type": "code",
      "metadata": {
        "colab": {
          "base_uri": "https://localhost:8080/"
        },
        "id": "yBhjr0IP0vTj",
        "outputId": "9b638f86-8441-4969-f2ab-2db414d4f2e1"
      },
      "source": [
        "print(x_train_org.shape)\n",
        "print(x_test_org.shape)"
      ],
      "execution_count": null,
      "outputs": [
        {
          "output_type": "stream",
          "name": "stdout",
          "text": [
            "(60000, 28, 28)\n",
            "(10000, 28, 28)\n"
          ]
        }
      ]
    },
    {
      "cell_type": "code",
      "metadata": {
        "colab": {
          "base_uri": "https://localhost:8080/",
          "height": 265
        },
        "id": "Mt9J3kJb0vXQ",
        "outputId": "c4364338-6276-47f2-c461-91f2df07873f"
      },
      "source": [
        "n = 777  # номер картинки\n",
        "plt.imshow(Image.fromarray(x_train_org[n]).convert('RGB'))   # отрисовка картинки\n",
        "plt.show()  # вывод картинки"
      ],
      "execution_count": null,
      "outputs": [
        {
          "output_type": "display_data",
          "data": {
            "image/png": "[encoded data removed]",
            "text/plain": [
              "<Figure size 432x288 with 1 Axes>"
            ]
          },
          "metadata": {
            "needs_background": "light"
          }
        }
      ]
    },
    {
      "cell_type": "code",
      "metadata": {
        "colab": {
          "base_uri": "https://localhost:8080/"
        },
        "id": "Ez-8zRiT0vZ1",
        "outputId": "d93b611a-ae55-4d11-a329-5732dd60ee64"
      },
      "source": [
        "y_train_org[n]"
      ],
      "execution_count": null,
      "outputs": [
        {
          "output_type": "execute_result",
          "data": {
            "text/plain": [
              "8"
            ]
          },
          "metadata": {},
          "execution_count": 123
        }
      ]
    },
    {
      "cell_type": "code",
      "metadata": {
        "colab": {
          "base_uri": "https://localhost:8080/"
        },
        "id": "FyR6KMVS0vc4",
        "outputId": "f93ad22e-aa9c-4a61-8e0a-46f77703c2aa"
      },
      "source": [
        "x_train = x_train_org.reshape(60000, 784)     # Меняем размер формата входных \n",
        "x_test = x_test_org.reshape(10000, 784)       # данных\n",
        "print(x_train_org.shape)\n",
        "print(x_train.shape)"
      ],
      "execution_count": null,
      "outputs": [
        {
          "output_type": "stream",
          "name": "stdout",
          "text": [
            "(60000, 28, 28)\n",
            "(60000, 784)\n"
          ]
        }
      ]
    },
    {
      "cell_type": "code",
      "metadata": {
        "colab": {
          "base_uri": "https://localhost:8080/"
        },
        "id": "C-dpElIpvW1R",
        "outputId": "84619fb8-3908-4684-a756-39d6902b40bc"
      },
      "source": [
        "x_train[0].shape"
      ],
      "execution_count": null,
      "outputs": [
        {
          "output_type": "execute_result",
          "data": {
            "text/plain": [
              "(784,)"
            ]
          },
          "metadata": {},
          "execution_count": 125
        }
      ]
    },
    {
      "cell_type": "code",
      "metadata": {
        "id": "dU3_vz3F3E7Z"
      },
      "source": [
        "x_train = x_train.astype('float32')   #Блок нормализации данных входных картинок\n",
        "x_train = x_train / 255               # На 255 делим, чтобы диапазон был от 0 до\n",
        "x_test = x_test.astype('float32')     #  1. Т.к. диапазон цвета от 0 до 255\n",
        "x_test = x_test / 255"
      ],
      "execution_count": null,
      "outputs": []
    },
    {
      "cell_type": "code",
      "metadata": {
        "colab": {
          "base_uri": "https://localhost:8080/"
        },
        "id": "Avv-E4Vc3E-B",
        "outputId": "5d646a2e-ba85-41d5-b0db-9efd68eeb624"
      },
      "source": [
        "y_train_org[7777]"
      ],
      "execution_count": null,
      "outputs": [
        {
          "output_type": "execute_result",
          "data": {
            "text/plain": [
              "8"
            ]
          },
          "metadata": {},
          "execution_count": 127
        }
      ]
    },
    {
      "cell_type": "code",
      "metadata": {
        "id": "me5wPcjP3FBj"
      },
      "source": [
        "y_train = utils.to_categorical(y_train_org, 10)   # One hot encoding\n",
        "y_test = utils.to_categorical(y_test_org, 10)"
      ],
      "execution_count": null,
      "outputs": []
    },
    {
      "cell_type": "code",
      "metadata": {
        "colab": {
          "base_uri": "https://localhost:8080/"
        },
        "id": "I_B0PkJJxxdG",
        "outputId": "7185a463-d8ea-4054-c70b-5b4c09b7863e"
      },
      "source": [
        "x_test .shape"
      ],
      "execution_count": null,
      "outputs": [
        {
          "output_type": "execute_result",
          "data": {
            "text/plain": [
              "(10000, 784)"
            ]
          },
          "metadata": {},
          "execution_count": 129
        }
      ]
    },
    {
      "cell_type": "code",
      "metadata": {
        "colab": {
          "base_uri": "https://localhost:8080/"
        },
        "id": "tQ4F54KJ3FDr",
        "outputId": "bae62c24-b1fa-4c3b-8226-4057edf6f3ce"
      },
      "source": [
        "print(y_train[9])  #Пример выходного вектора\n",
        "print(y_test[9])"
      ],
      "execution_count": null,
      "outputs": [
        {
          "output_type": "stream",
          "name": "stdout",
          "text": [
            "[0. 0. 0. 0. 1. 0. 0. 0. 0. 0.]\n",
            "[0. 0. 0. 0. 0. 0. 0. 0. 0. 1.]\n"
          ]
        }
      ]
    },
    {
      "cell_type": "code",
      "metadata": {
        "colab": {
          "base_uri": "https://localhost:8080/"
        },
        "id": "8j0C8ZXk3FGt",
        "outputId": "41cc6982-cc4b-4bf3-a972-265eca11bde1"
      },
      "source": [
        "print(y_train_org.shape)\n",
        "print(y_test_org.shape)"
      ],
      "execution_count": null,
      "outputs": [
        {
          "output_type": "stream",
          "name": "stdout",
          "text": [
            "(60000,)\n",
            "(10000,)\n"
          ]
        }
      ]
    },
    {
      "cell_type": "code",
      "metadata": {
        "id": "p3jsbiox5hZS"
      },
      "source": [
        "x_train_new = x_train_org[:50000]\n",
        "y_train_new = y_train[:50000]                  \n",
        "x_test_new = x_train_org[50000:]\n",
        "y_test_new = y_train[50000:]"
      ],
      "execution_count": null,
      "outputs": []
    },
    {
      "cell_type": "code",
      "metadata": {
        "colab": {
          "base_uri": "https://localhost:8080/"
        },
        "id": "01UHYE3u6PNb",
        "outputId": "66f01aef-a102-45fb-8b02-6818a9cc7a11"
      },
      "source": [
        "print(x_train_new.shape)\n",
        "print(y_train_new.shape)\n",
        "print(x_test_new.shape)\n",
        "print(y_test_new.shape)"
      ],
      "execution_count": null,
      "outputs": [
        {
          "output_type": "stream",
          "name": "stdout",
          "text": [
            "(50000, 28, 28)\n",
            "(50000, 10)\n",
            "(10000, 28, 28)\n",
            "(10000, 10)\n"
          ]
        }
      ]
    },
    {
      "cell_type": "code",
      "metadata": {
        "id": "fh7fs1187vde"
      },
      "source": [
        "x_train_new = x_train_new.reshape(50000, 784)\n",
        "x_test_new = x_test_new.reshape(10000,784)"
      ],
      "execution_count": null,
      "outputs": []
    },
    {
      "cell_type": "code",
      "metadata": {
        "colab": {
          "base_uri": "https://localhost:8080/"
        },
        "id": "EjUHRHnD8mAk",
        "outputId": "11ac7f32-2708-45f0-c827-593406322191"
      },
      "source": [
        "print(x_train_new.shape)\n",
        "print(y_train_new.shape)\n",
        "print(x_test_new.shape)\n",
        "print(y_test_new.shape)"
      ],
      "execution_count": null,
      "outputs": [
        {
          "output_type": "stream",
          "name": "stdout",
          "text": [
            "(50000, 784)\n",
            "(50000, 10)\n",
            "(10000, 784)\n",
            "(10000, 10)\n"
          ]
        }
      ]
    },
    {
      "cell_type": "code",
      "metadata": {
        "colab": {
          "base_uri": "https://localhost:8080/"
        },
        "id": "Y3Rnsv4_3FJE",
        "outputId": "b4967e14-e88a-4f31-fc57-36de8675cf5a"
      },
      "source": [
        "print(y_train_org[99])\n",
        "print(y_test_org[99])"
      ],
      "execution_count": null,
      "outputs": [
        {
          "output_type": "stream",
          "name": "stdout",
          "text": [
            "1\n",
            "9\n"
          ]
        }
      ]
    },
    {
      "cell_type": "code",
      "metadata": {
        "colab": {
          "base_uri": "https://localhost:8080/"
        },
        "id": "DP8tLudW7eIg",
        "outputId": "87ccfe7e-09c9-4e73-b96d-c509b253aa15"
      },
      "source": [
        "model = Sequential()    #Создаем пустую нейронную сеть\n",
        "model.add(Dense(800, input_dim = 784, activation='relu'))  #  Полносвязный слой на 800 нейронов\n",
        "model.add(Dense(400, activation='relu'))   #Полносвязный слой на 400 нейронов\n",
        "model.add(Dense(10,activation='softmax'))\n",
        "\n",
        "model.compile(loss='categorical_crossentropy', optimizer='adam', metrics=['accuracy'])  # Компиляция сети\n",
        "print(model.summary())"
      ],
      "execution_count": null,
      "outputs": [
        {
          "output_type": "stream",
          "name": "stdout",
          "text": [
            "Model: \"sequential_3\"\n",
            "_________________________________________________________________\n",
            " Layer (type)                Output Shape              Param #   \n",
            "=================================================================\n",
            " dense_9 (Dense)             (None, 800)               628000    \n",
            "                                                                 \n",
            " dense_10 (Dense)            (None, 400)               320400    \n",
            "                                                                 \n",
            " dense_11 (Dense)            (None, 10)                4010      \n",
            "                                                                 \n",
            "=================================================================\n",
            "Total params: 952,410\n",
            "Trainable params: 952,410\n",
            "Non-trainable params: 0\n",
            "_________________________________________________________________\n",
            "None\n"
          ]
        }
      ]
    },
    {
      "cell_type": "code",
      "metadata": {
        "colab": {
          "base_uri": "https://localhost:8080/"
        },
        "id": "kTBL6BXK7eMl",
        "outputId": "c32d4eb5-c43d-4507-f326-440847870345"
      },
      "source": [
        "model.fit(x_train_new, y_train_new, batch_size=196, epochs=20,  validation_data=(x_test_new, y_test_new), verbose=1) # Указываем 10000 случайных примеров для проверочной выборки"
      ],
      "execution_count": null,
      "outputs": [
        {
          "output_type": "stream",
          "name": "stdout",
          "text": [
            "Epoch 1/20\n",
            "256/256 [==============================] - 7s 24ms/step - loss: 3.8303 - accuracy: 0.8909 - val_loss: 0.4483 - val_accuracy: 0.9363\n",
            "Epoch 2/20\n",
            "256/256 [==============================] - 6s 24ms/step - loss: 0.2584 - accuracy: 0.9558 - val_loss: 0.3510 - val_accuracy: 0.9438\n",
            "Epoch 3/20\n",
            "256/256 [==============================] - 6s 24ms/step - loss: 0.1506 - accuracy: 0.9682 - val_loss: 0.2865 - val_accuracy: 0.9567\n",
            "Epoch 4/20\n",
            "256/256 [==============================] - 6s 24ms/step - loss: 0.0971 - accuracy: 0.9777 - val_loss: 0.2714 - val_accuracy: 0.9581\n",
            "Epoch 5/20\n",
            "256/256 [==============================] - 6s 25ms/step - loss: 0.0865 - accuracy: 0.9802 - val_loss: 0.2161 - val_accuracy: 0.9658\n",
            "Epoch 6/20\n",
            "256/256 [==============================] - 6s 24ms/step - loss: 0.0550 - accuracy: 0.9855 - val_loss: 0.2934 - val_accuracy: 0.9636\n",
            "Epoch 7/20\n",
            "256/256 [==============================] - 6s 24ms/step - loss: 0.0790 - accuracy: 0.9829 - val_loss: 0.3337 - val_accuracy: 0.9590\n",
            "Epoch 8/20\n",
            "256/256 [==============================] - 6s 24ms/step - loss: 0.0854 - accuracy: 0.9823 - val_loss: 0.2619 - val_accuracy: 0.9674\n",
            "Epoch 9/20\n",
            "256/256 [==============================] - 6s 24ms/step - loss: 0.0723 - accuracy: 0.9841 - val_loss: 0.2850 - val_accuracy: 0.9690\n",
            "Epoch 10/20\n",
            "256/256 [==============================] - 6s 24ms/step - loss: 0.0556 - accuracy: 0.9873 - val_loss: 0.2566 - val_accuracy: 0.9695\n",
            "Epoch 11/20\n",
            "256/256 [==============================] - 6s 24ms/step - loss: 0.0873 - accuracy: 0.9824 - val_loss: 0.3018 - val_accuracy: 0.9656\n",
            "Epoch 12/20\n",
            "256/256 [==============================] - 6s 24ms/step - loss: 0.0790 - accuracy: 0.9842 - val_loss: 0.2352 - val_accuracy: 0.9680\n",
            "Epoch 13/20\n",
            "256/256 [==============================] - 6s 24ms/step - loss: 0.0806 - accuracy: 0.9834 - val_loss: 0.2641 - val_accuracy: 0.9679\n",
            "Epoch 14/20\n",
            "256/256 [==============================] - 6s 24ms/step - loss: 0.0637 - accuracy: 0.9869 - val_loss: 0.2116 - val_accuracy: 0.9714\n",
            "Epoch 15/20\n",
            "256/256 [==============================] - 6s 24ms/step - loss: 0.0574 - accuracy: 0.9870 - val_loss: 0.2638 - val_accuracy: 0.9680\n",
            "Epoch 16/20\n",
            "256/256 [==============================] - 6s 24ms/step - loss: 0.0892 - accuracy: 0.9821 - val_loss: 0.2327 - val_accuracy: 0.9711\n",
            "Epoch 17/20\n",
            "256/256 [==============================] - 6s 24ms/step - loss: 0.0553 - accuracy: 0.9873 - val_loss: 0.2432 - val_accuracy: 0.9692\n",
            "Epoch 18/20\n",
            "256/256 [==============================] - 6s 24ms/step - loss: 0.0748 - accuracy: 0.9846 - val_loss: 0.2005 - val_accuracy: 0.9752\n",
            "Epoch 19/20\n",
            "256/256 [==============================] - 6s 24ms/step - loss: 0.0473 - accuracy: 0.9896 - val_loss: 0.2111 - val_accuracy: 0.9721\n",
            "Epoch 20/20\n",
            "256/256 [==============================] - 6s 24ms/step - loss: 0.0351 - accuracy: 0.9918 - val_loss: 0.1869 - val_accuracy: 0.9738\n"
          ]
        },
        {
          "output_type": "execute_result",
          "data": {
            "text/plain": [
              "<keras.callbacks.History at 0x7fdbae542ad0>"
            ]
          },
          "metadata": {},
          "execution_count": 96
        }
      ]
    },
    {
      "cell_type": "code",
      "metadata": {
        "id": "TqYotlY6A699"
      },
      "source": [
        "x_train_new = x_train_org[:10000]\n",
        "y_train_new = y_train[:10000]                  \n",
        "x_test_new = x_train_org[10000:]\n",
        "y_test_new = y_train[10000:]"
      ],
      "execution_count": null,
      "outputs": []
    },
    {
      "cell_type": "code",
      "metadata": {
        "colab": {
          "base_uri": "https://localhost:8080/"
        },
        "id": "pSLS9zrdBD51",
        "outputId": "dbd2f0ae-1c1a-4355-9e30-58c827c9741c"
      },
      "source": [
        "print(x_train_new.shape)\n",
        "print(y_train_new.shape)\n",
        "print(x_test_new.shape)\n",
        "print(y_test_new.shape)"
      ],
      "execution_count": null,
      "outputs": [
        {
          "output_type": "stream",
          "name": "stdout",
          "text": [
            "(10000, 28, 28)\n",
            "(10000, 10)\n",
            "(50000, 28, 28)\n",
            "(50000, 10)\n"
          ]
        }
      ]
    },
    {
      "cell_type": "code",
      "metadata": {
        "id": "KcODsNDzBD9B"
      },
      "source": [
        "x_train_new = x_train_new.reshape(10000, 784)\n",
        "x_test_new = x_test_new.reshape(50000,784)"
      ],
      "execution_count": null,
      "outputs": []
    },
    {
      "cell_type": "code",
      "metadata": {
        "colab": {
          "base_uri": "https://localhost:8080/"
        },
        "id": "pALuGSN9BD_d",
        "outputId": "9654054c-6b08-45fa-b650-a30c58c71aae"
      },
      "source": [
        "print(x_train_new.shape)\n",
        "print(y_train_new.shape)\n",
        "print(x_test_new.shape)\n",
        "print(y_test_new.shape)"
      ],
      "execution_count": null,
      "outputs": [
        {
          "output_type": "stream",
          "name": "stdout",
          "text": [
            "(10000, 784)\n",
            "(10000, 10)\n",
            "(50000, 784)\n",
            "(50000, 10)\n"
          ]
        }
      ]
    },
    {
      "cell_type": "code",
      "metadata": {
        "colab": {
          "base_uri": "https://localhost:8080/"
        },
        "id": "vXH3dBXiBEEk",
        "outputId": "481c050a-c0cd-4aca-b615-e77d75a60379"
      },
      "source": [
        "model = Sequential()    #Создаем пустую нейронную сеть\n",
        "model.add(Dense(800, input_dim = 784, activation='relu'))  #  Полносвязный слой на 800 нейронов\n",
        "model.add(Dense(400, activation='relu'))   #Полносвязный слой на 400 нейронов\n",
        "model.add(Dense(10,activation='softmax'))\n",
        "\n",
        "model.compile(loss='categorical_crossentropy', optimizer='adam', metrics=['accuracy'])  # Компиляция сети\n",
        "print(model.summary())"
      ],
      "execution_count": null,
      "outputs": [
        {
          "output_type": "stream",
          "name": "stdout",
          "text": [
            "Model: \"sequential_4\"\n",
            "_________________________________________________________________\n",
            " Layer (type)                Output Shape              Param #   \n",
            "=================================================================\n",
            " dense_12 (Dense)            (None, 800)               628000    \n",
            "                                                                 \n",
            " dense_13 (Dense)            (None, 400)               320400    \n",
            "                                                                 \n",
            " dense_14 (Dense)            (None, 10)                4010      \n",
            "                                                                 \n",
            "=================================================================\n",
            "Total params: 952,410\n",
            "Trainable params: 952,410\n",
            "Non-trainable params: 0\n",
            "_________________________________________________________________\n",
            "None\n"
          ]
        }
      ]
    },
    {
      "cell_type": "code",
      "metadata": {
        "colab": {
          "base_uri": "https://localhost:8080/"
        },
        "id": "igFrzS2cBEHh",
        "outputId": "4b10edc6-9014-4be6-9090-5d897c33ad77"
      },
      "source": [
        "model.fit(x_train_new, y_train_new, batch_size=196, epochs=20,  validation_data=(x_test_new, y_test_new), verbose=1) "
      ],
      "execution_count": null,
      "outputs": [
        {
          "output_type": "stream",
          "name": "stdout",
          "text": [
            "Epoch 1/20\n",
            "52/52 [==============================] - 4s 70ms/step - loss: 13.8193 - accuracy: 0.8002 - val_loss: 2.3137 - val_accuracy: 0.9019\n",
            "Epoch 2/20\n",
            "52/52 [==============================] - 3s 66ms/step - loss: 1.0223 - accuracy: 0.9358 - val_loss: 1.3935 - val_accuracy: 0.9187\n",
            "Epoch 3/20\n",
            "52/52 [==============================] - 3s 65ms/step - loss: 0.3338 - accuracy: 0.9674 - val_loss: 1.2435 - val_accuracy: 0.9259\n",
            "Epoch 4/20\n",
            "52/52 [==============================] - 3s 65ms/step - loss: 0.1745 - accuracy: 0.9783 - val_loss: 1.1493 - val_accuracy: 0.9275\n",
            "Epoch 5/20\n",
            "52/52 [==============================] - 3s 66ms/step - loss: 0.1015 - accuracy: 0.9858 - val_loss: 1.0755 - val_accuracy: 0.9329\n",
            "Epoch 6/20\n",
            "52/52 [==============================] - 3s 66ms/step - loss: 0.1064 - accuracy: 0.9843 - val_loss: 1.1218 - val_accuracy: 0.9331\n",
            "Epoch 7/20\n",
            "52/52 [==============================] - 3s 66ms/step - loss: 0.0583 - accuracy: 0.9904 - val_loss: 1.0803 - val_accuracy: 0.9349\n",
            "Epoch 8/20\n",
            "52/52 [==============================] - 3s 65ms/step - loss: 0.0291 - accuracy: 0.9932 - val_loss: 1.0332 - val_accuracy: 0.9393\n",
            "Epoch 9/20\n",
            "52/52 [==============================] - 3s 67ms/step - loss: 0.0373 - accuracy: 0.9934 - val_loss: 1.0662 - val_accuracy: 0.9379\n",
            "Epoch 10/20\n",
            "52/52 [==============================] - 3s 66ms/step - loss: 0.0635 - accuracy: 0.9895 - val_loss: 1.0882 - val_accuracy: 0.9391\n",
            "Epoch 11/20\n",
            "52/52 [==============================] - 3s 65ms/step - loss: 0.0695 - accuracy: 0.9896 - val_loss: 1.1811 - val_accuracy: 0.9394\n",
            "Epoch 12/20\n",
            "52/52 [==============================] - 3s 66ms/step - loss: 0.0833 - accuracy: 0.9882 - val_loss: 1.1943 - val_accuracy: 0.9362\n",
            "Epoch 13/20\n",
            "52/52 [==============================] - 3s 66ms/step - loss: 0.1032 - accuracy: 0.9874 - val_loss: 1.0859 - val_accuracy: 0.9421\n",
            "Epoch 14/20\n",
            "52/52 [==============================] - 3s 66ms/step - loss: 0.0817 - accuracy: 0.9877 - val_loss: 1.2911 - val_accuracy: 0.9338\n",
            "Epoch 15/20\n",
            "52/52 [==============================] - 3s 66ms/step - loss: 0.1006 - accuracy: 0.9881 - val_loss: 1.2278 - val_accuracy: 0.9377\n",
            "Epoch 16/20\n",
            "52/52 [==============================] - 3s 66ms/step - loss: 0.1449 - accuracy: 0.9840 - val_loss: 1.3465 - val_accuracy: 0.9313\n",
            "Epoch 17/20\n",
            "52/52 [==============================] - 3s 67ms/step - loss: 0.6585 - accuracy: 0.9584 - val_loss: 1.4524 - val_accuracy: 0.9300\n",
            "Epoch 18/20\n",
            "52/52 [==============================] - 3s 66ms/step - loss: 0.1978 - accuracy: 0.9821 - val_loss: 1.3234 - val_accuracy: 0.9338\n",
            "Epoch 19/20\n",
            "52/52 [==============================] - 3s 66ms/step - loss: 0.0856 - accuracy: 0.9895 - val_loss: 1.1833 - val_accuracy: 0.9424\n",
            "Epoch 20/20\n",
            "52/52 [==============================] - 3s 66ms/step - loss: 0.0478 - accuracy: 0.9930 - val_loss: 1.1545 - val_accuracy: 0.9417\n"
          ]
        },
        {
          "output_type": "execute_result",
          "data": {
            "text/plain": [
              "<keras.callbacks.History at 0x7fdbb9e90550>"
            ]
          },
          "metadata": {},
          "execution_count": 119
        }
      ]
    },
    {
      "cell_type": "code",
      "metadata": {
        "id": "LCWGxqnbBESZ"
      },
      "source": [
        "x_train_new = x_train_org[:500]\n",
        "y_train_new = y_train[:500]                  \n",
        "x_test_new = x_train_org[500:]\n",
        "y_test_new = y_train[500:]"
      ],
      "execution_count": null,
      "outputs": []
    },
    {
      "cell_type": "code",
      "metadata": {
        "colab": {
          "base_uri": "https://localhost:8080/"
        },
        "id": "5aKUvy8dBEWR",
        "outputId": "f5a3ea8c-1799-45a0-81e4-3362f354fd89"
      },
      "source": [
        "print(x_train_new.shape)\n",
        "print(y_train_new.shape)\n",
        "print(x_test_new.shape)\n",
        "print(y_test_new.shape)"
      ],
      "execution_count": null,
      "outputs": [
        {
          "output_type": "stream",
          "name": "stdout",
          "text": [
            "(500, 28, 28)\n",
            "(500, 10)\n",
            "(59500, 28, 28)\n",
            "(59500, 10)\n"
          ]
        }
      ]
    },
    {
      "cell_type": "code",
      "metadata": {
        "id": "nu9u7pUQC-vJ"
      },
      "source": [
        "x_train_new = x_train_new.reshape(500, 784)\n",
        "x_test_new = x_test_new.reshape(59500,784)"
      ],
      "execution_count": null,
      "outputs": []
    },
    {
      "cell_type": "code",
      "metadata": {
        "colab": {
          "base_uri": "https://localhost:8080/"
        },
        "id": "BT7Iz83lC-zM",
        "outputId": "4718329b-b422-406c-ce7e-8bc80d6257e7"
      },
      "source": [
        "print(x_train_new.shape)\n",
        "print(y_train_new.shape)\n",
        "print(x_test_new.shape)\n",
        "print(y_test_new.shape)"
      ],
      "execution_count": null,
      "outputs": [
        {
          "output_type": "stream",
          "name": "stdout",
          "text": [
            "(500, 784)\n",
            "(500, 10)\n",
            "(59500, 784)\n",
            "(59500, 10)\n"
          ]
        }
      ]
    },
    {
      "cell_type": "code",
      "metadata": {
        "colab": {
          "base_uri": "https://localhost:8080/"
        },
        "id": "pE55E5gBC-4a",
        "outputId": "5c0a7a29-63a0-4c73-a710-ffc0f8302f88"
      },
      "source": [
        "model = Sequential()    #Создаем пустую нейронную сеть\n",
        "model.add(Dense(800, input_dim = 784, activation='relu'))  #  Полносвязный слой на 800 нейронов\n",
        "model.add(Dense(400, activation='relu'))   #Полносвязный слой на 400 нейронов\n",
        "model.add(Dense(10,activation='softmax'))\n",
        "\n",
        "model.compile(loss='categorical_crossentropy', optimizer='adam', metrics=['accuracy'])  # Компиляция сети\n",
        "print(model.summary())"
      ],
      "execution_count": null,
      "outputs": [
        {
          "output_type": "stream",
          "name": "stdout",
          "text": [
            "Model: \"sequential_5\"\n",
            "_________________________________________________________________\n",
            " Layer (type)                Output Shape              Param #   \n",
            "=================================================================\n",
            " dense_15 (Dense)            (None, 800)               628000    \n",
            "                                                                 \n",
            " dense_16 (Dense)            (None, 400)               320400    \n",
            "                                                                 \n",
            " dense_17 (Dense)            (None, 10)                4010      \n",
            "                                                                 \n",
            "=================================================================\n",
            "Total params: 952,410\n",
            "Trainable params: 952,410\n",
            "Non-trainable params: 0\n",
            "_________________________________________________________________\n",
            "None\n"
          ]
        }
      ]
    },
    {
      "cell_type": "code",
      "metadata": {
        "colab": {
          "base_uri": "https://localhost:8080/"
        },
        "id": "j9bSOoUAC-8b",
        "outputId": "ea82a277-3bf6-47e9-a1ea-e31d3f295376"
      },
      "source": [
        "model.fit(x_train_new, y_train_new, batch_size=196, epochs=20,  validation_data=(x_test_new, y_test_new), verbose=1) "
      ],
      "execution_count": null,
      "outputs": [
        {
          "output_type": "stream",
          "name": "stdout",
          "text": [
            "Epoch 1/20\n",
            "3/3 [==============================] - 3s 1s/step - loss: 90.7250 - accuracy: 0.2260 - val_loss: 93.0249 - val_accuracy: 0.4406\n",
            "Epoch 2/20\n",
            "3/3 [==============================] - 3s 1s/step - loss: 43.7426 - accuracy: 0.6640 - val_loss: 33.0693 - val_accuracy: 0.6788\n",
            "Epoch 3/20\n",
            "3/3 [==============================] - 3s 1s/step - loss: 11.0889 - accuracy: 0.8260 - val_loss: 17.8802 - val_accuracy: 0.7195\n",
            "Epoch 4/20\n",
            "3/3 [==============================] - 3s 1s/step - loss: 4.6419 - accuracy: 0.8700 - val_loss: 19.0648 - val_accuracy: 0.6877\n",
            "Epoch 5/20\n",
            "3/3 [==============================] - 3s 1s/step - loss: 2.8964 - accuracy: 0.8980 - val_loss: 12.0439 - val_accuracy: 0.7725\n",
            "Epoch 6/20\n",
            "3/3 [==============================] - 3s 1s/step - loss: 0.8429 - accuracy: 0.9700 - val_loss: 10.0667 - val_accuracy: 0.7930\n",
            "Epoch 7/20\n",
            "3/3 [==============================] - 3s 1s/step - loss: 0.2370 - accuracy: 0.9800 - val_loss: 9.9801 - val_accuracy: 0.7883\n",
            "Epoch 8/20\n",
            "3/3 [==============================] - 3s 1s/step - loss: 0.2544 - accuracy: 0.9800 - val_loss: 10.1148 - val_accuracy: 0.7842\n",
            "Epoch 9/20\n",
            "3/3 [==============================] - 3s 1s/step - loss: 0.1394 - accuracy: 0.9840 - val_loss: 9.8223 - val_accuracy: 0.7897\n",
            "Epoch 10/20\n",
            "3/3 [==============================] - 3s 1s/step - loss: 0.0562 - accuracy: 0.9940 - val_loss: 9.4137 - val_accuracy: 0.7975\n",
            "Epoch 11/20\n",
            "3/3 [==============================] - 3s 1s/step - loss: 0.0163 - accuracy: 0.9980 - val_loss: 8.8457 - val_accuracy: 0.8071\n",
            "Epoch 12/20\n",
            "3/3 [==============================] - 3s 1s/step - loss: 2.4971e-06 - accuracy: 1.0000 - val_loss: 8.6432 - val_accuracy: 0.8102\n",
            "Epoch 13/20\n",
            "3/3 [==============================] - 3s 1s/step - loss: 1.4085e-04 - accuracy: 1.0000 - val_loss: 8.6043 - val_accuracy: 0.8103\n",
            "Epoch 14/20\n",
            "3/3 [==============================] - 3s 1s/step - loss: 1.8237e-05 - accuracy: 1.0000 - val_loss: 8.6341 - val_accuracy: 0.8102\n",
            "Epoch 15/20\n",
            "3/3 [==============================] - 3s 1s/step - loss: 1.2168e-05 - accuracy: 1.0000 - val_loss: 8.6903 - val_accuracy: 0.8092\n",
            "Epoch 16/20\n",
            "3/3 [==============================] - 3s 1s/step - loss: 1.7372e-04 - accuracy: 1.0000 - val_loss: 8.7349 - val_accuracy: 0.8088\n",
            "Epoch 17/20\n",
            "3/3 [==============================] - 3s 1s/step - loss: 2.0528e-04 - accuracy: 1.0000 - val_loss: 8.7484 - val_accuracy: 0.8086\n",
            "Epoch 18/20\n",
            "3/3 [==============================] - 3s 1s/step - loss: 3.9169e-05 - accuracy: 1.0000 - val_loss: 8.7569 - val_accuracy: 0.8086\n",
            "Epoch 19/20\n",
            "3/3 [==============================] - 3s 1s/step - loss: 1.5456e-05 - accuracy: 1.0000 - val_loss: 8.7644 - val_accuracy: 0.8085\n",
            "Epoch 20/20\n",
            "3/3 [==============================] - 3s 1s/step - loss: 1.2900e-05 - accuracy: 1.0000 - val_loss: 8.7693 - val_accuracy: 0.8085\n"
          ]
        },
        {
          "output_type": "execute_result",
          "data": {
            "text/plain": [
              "<keras.callbacks.History at 0x7fdbaf6d90d0>"
            ]
          },
          "metadata": {},
          "execution_count": 137
        }
      ]
    },
    {
      "cell_type": "code",
      "metadata": {
        "id": "V7oAFceWE-vW"
      },
      "source": [
        "from tensorflow.keras.layers import Dense, Activation, Dropout, BatchNormalization # Основные слои"
      ],
      "execution_count": null,
      "outputs": []
    },
    {
      "cell_type": "code",
      "metadata": {
        "colab": {
          "base_uri": "https://localhost:8080/"
        },
        "id": "znJOziPHC_AJ",
        "outputId": "5ca2465c-94c3-4640-b1c7-51ff50cf89c8"
      },
      "source": [
        "model = Sequential()    #Создаем пустую нейронную сеть\n",
        "model.add(Dense(1200, input_dim = 784, activation='relu'))  #  Полносвязный слой на 1200 нейронов\n",
        "model.add(Dropout(0.5, input_shape=(784,)))    # 0.5 означает, что 50% нейронов будут 'выключены'\n",
        "model.add(Dense(300, activation='relu'))   #Полносвязный слой на 300 нейронов\n",
        "model.add(Dense(10,activation='softmax'))\n",
        "\n",
        "model.compile(loss='categorical_crossentropy', optimizer='adam', metrics=['accuracy'])  # Компиляция сети\n",
        "print(model.summary())"
      ],
      "execution_count": null,
      "outputs": [
        {
          "output_type": "stream",
          "name": "stdout",
          "text": [
            "Model: \"sequential_7\"\n",
            "_________________________________________________________________\n",
            " Layer (type)                Output Shape              Param #   \n",
            "=================================================================\n",
            " dense_19 (Dense)            (None, 1200)              942000    \n",
            "                                                                 \n",
            " dropout (Dropout)           (None, 1200)              0         \n",
            "                                                                 \n",
            " dense_20 (Dense)            (None, 300)               360300    \n",
            "                                                                 \n",
            " dense_21 (Dense)            (None, 10)                3010      \n",
            "                                                                 \n",
            "=================================================================\n",
            "Total params: 1,305,310\n",
            "Trainable params: 1,305,310\n",
            "Non-trainable params: 0\n",
            "_________________________________________________________________\n",
            "None\n"
          ]
        }
      ]
    },
    {
      "cell_type": "code",
      "metadata": {
        "colab": {
          "base_uri": "https://localhost:8080/"
        },
        "id": "tACLYyGbD6X1",
        "outputId": "84f1aa22-a765-4cd9-84a8-e9105f27cea4"
      },
      "source": [
        "model.fit(x_train_new, y_train_new, batch_size=196, epochs=20,  validation_data=(x_test_new, y_test_new), verbose=1) "
      ],
      "execution_count": null,
      "outputs": [
        {
          "output_type": "stream",
          "name": "stdout",
          "text": [
            "Epoch 1/20\n",
            "3/3 [==============================] - 4s 2s/step - loss: 126.3423 - accuracy: 0.1500 - val_loss: 63.9914 - val_accuracy: 0.4320\n",
            "Epoch 2/20\n",
            "3/3 [==============================] - 3s 2s/step - loss: 49.7309 - accuracy: 0.5660 - val_loss: 16.2812 - val_accuracy: 0.7018\n",
            "Epoch 3/20\n",
            "3/3 [==============================] - 3s 2s/step - loss: 13.7139 - accuracy: 0.7720 - val_loss: 20.9398 - val_accuracy: 0.6704\n",
            "Epoch 4/20\n",
            "3/3 [==============================] - 3s 2s/step - loss: 9.8290 - accuracy: 0.8020 - val_loss: 16.2975 - val_accuracy: 0.7233\n",
            "Epoch 5/20\n",
            "3/3 [==============================] - 4s 2s/step - loss: 7.8198 - accuracy: 0.8340 - val_loss: 11.5559 - val_accuracy: 0.7826\n",
            "Epoch 6/20\n",
            "3/3 [==============================] - 3s 2s/step - loss: 5.8544 - accuracy: 0.8620 - val_loss: 9.3705 - val_accuracy: 0.7893\n",
            "Epoch 7/20\n",
            "3/3 [==============================] - 3s 2s/step - loss: 3.2361 - accuracy: 0.9160 - val_loss: 9.2475 - val_accuracy: 0.7863\n",
            "Epoch 8/20\n",
            "3/3 [==============================] - 3s 2s/step - loss: 3.2784 - accuracy: 0.9040 - val_loss: 9.4960 - val_accuracy: 0.7889\n",
            "Epoch 9/20\n",
            "3/3 [==============================] - 3s 2s/step - loss: 2.8525 - accuracy: 0.9400 - val_loss: 9.0072 - val_accuracy: 0.7991\n",
            "Epoch 10/20\n",
            "3/3 [==============================] - 3s 2s/step - loss: 1.6904 - accuracy: 0.9320 - val_loss: 7.7567 - val_accuracy: 0.8190\n",
            "Epoch 11/20\n",
            "3/3 [==============================] - 4s 2s/step - loss: 0.8816 - accuracy: 0.9580 - val_loss: 8.4823 - val_accuracy: 0.8056\n",
            "Epoch 12/20\n",
            "3/3 [==============================] - 3s 2s/step - loss: 1.2126 - accuracy: 0.9500 - val_loss: 7.9108 - val_accuracy: 0.8187\n",
            "Epoch 13/20\n",
            "3/3 [==============================] - 3s 2s/step - loss: 1.0878 - accuracy: 0.9540 - val_loss: 7.6643 - val_accuracy: 0.8310\n",
            "Epoch 14/20\n",
            "3/3 [==============================] - 3s 2s/step - loss: 0.4947 - accuracy: 0.9700 - val_loss: 7.7805 - val_accuracy: 0.8329\n",
            "Epoch 15/20\n",
            "3/3 [==============================] - 4s 2s/step - loss: 0.8417 - accuracy: 0.9560 - val_loss: 7.4002 - val_accuracy: 0.8371\n",
            "Epoch 16/20\n",
            "3/3 [==============================] - 3s 2s/step - loss: 0.5468 - accuracy: 0.9760 - val_loss: 7.3512 - val_accuracy: 0.8354\n",
            "Epoch 17/20\n",
            "3/3 [==============================] - 4s 2s/step - loss: 0.5232 - accuracy: 0.9720 - val_loss: 7.2926 - val_accuracy: 0.8357\n",
            "Epoch 18/20\n",
            "3/3 [==============================] - 3s 2s/step - loss: 0.2523 - accuracy: 0.9840 - val_loss: 7.0243 - val_accuracy: 0.8418\n",
            "Epoch 19/20\n",
            "3/3 [==============================] - 4s 2s/step - loss: 0.3391 - accuracy: 0.9840 - val_loss: 7.1966 - val_accuracy: 0.8416\n",
            "Epoch 20/20\n",
            "3/3 [==============================] - 4s 2s/step - loss: 0.5628 - accuracy: 0.9680 - val_loss: 7.3181 - val_accuracy: 0.8445\n"
          ]
        },
        {
          "output_type": "execute_result",
          "data": {
            "text/plain": [
              "<keras.callbacks.History at 0x7fdbb114e110>"
            ]
          },
          "metadata": {},
          "execution_count": 141
        }
      ]
    },
    {
      "cell_type": "code",
      "metadata": {
        "colab": {
          "base_uri": "https://localhost:8080/"
        },
        "id": "PbMAVGoaHX5q",
        "outputId": "f5a8dcd4-4829-4cda-ace0-19171332aaa2"
      },
      "source": [
        "model = Sequential()    #Создаем пустую нейронную сеть\n",
        "model.add(Dense(1200, input_dim = 784, activation='relu'))  #  Полносвязный слой на 1200 нейронов\n",
        "model.add(Dropout(0.5, input_shape=(784,)))    # 0.5 означает, что 50% нейронов будут 'выключены'\n",
        "model.add(BatchNormalization(input_shape=(784, )))\n",
        "model.add(Dense(800, activation='relu'))   #Полносвязный слой на 800 нейронов\n",
        "model.add(Dropout(0.25, input_shape=(784,)))    # 0.25 означает, что 25% нейронов будут 'выключены'\n",
        "model.add(BatchNormalization(input_shape=(784, )))\n",
        "model.add(Dense(400, activation='relu'))   #Полносвязный слой на 400 нейронов\n",
        "model.add(Dropout(0.25, input_shape=(784,)))    # 0.25 означает, что 25% нейронов будут 'выключены'\n",
        "model.add(BatchNormalization(input_shape=(784, )))\n",
        "model.add(Dense(10,activation='softmax'))\n",
        "\n",
        "model.compile(loss='categorical_crossentropy', optimizer='adam', metrics=['accuracy'])  # Компиляция сети\n",
        "print(model.summary())"
      ],
      "execution_count": null,
      "outputs": [
        {
          "output_type": "stream",
          "name": "stdout",
          "text": [
            "Model: \"sequential_8\"\n",
            "_________________________________________________________________\n",
            " Layer (type)                Output Shape              Param #   \n",
            "=================================================================\n",
            " dense_22 (Dense)            (None, 1200)              942000    \n",
            "                                                                 \n",
            " dropout_1 (Dropout)         (None, 1200)              0         \n",
            "                                                                 \n",
            " batch_normalization (BatchN  (None, 1200)             4800      \n",
            " ormalization)                                                   \n",
            "                                                                 \n",
            " dense_23 (Dense)            (None, 800)               960800    \n",
            "                                                                 \n",
            " dropout_2 (Dropout)         (None, 800)               0         \n",
            "                                                                 \n",
            " batch_normalization_1 (Batc  (None, 800)              3200      \n",
            " hNormalization)                                                 \n",
            "                                                                 \n",
            " dense_24 (Dense)            (None, 400)               320400    \n",
            "                                                                 \n",
            " dropout_3 (Dropout)         (None, 400)               0         \n",
            "                                                                 \n",
            " batch_normalization_2 (Batc  (None, 400)              1600      \n",
            " hNormalization)                                                 \n",
            "                                                                 \n",
            " dense_25 (Dense)            (None, 10)                4010      \n",
            "                                                                 \n",
            "=================================================================\n",
            "Total params: 2,236,810\n",
            "Trainable params: 2,232,010\n",
            "Non-trainable params: 4,800\n",
            "_________________________________________________________________\n",
            "None\n"
          ]
        }
      ]
    },
    {
      "cell_type": "code",
      "metadata": {
        "colab": {
          "base_uri": "https://localhost:8080/"
        },
        "id": "etAZE2xXHZvx",
        "outputId": "401a1401-2ede-4f4c-a8ac-efad16b2271d"
      },
      "source": [
        "model.fit(x_train_new, y_train_new, batch_size=196, epochs=20,  validation_data=(x_test_new, y_test_new), verbose=1) "
      ],
      "execution_count": null,
      "outputs": [
        {
          "output_type": "stream",
          "name": "stdout",
          "text": [
            "Epoch 1/20\n",
            "3/3 [==============================] - 7s 3s/step - loss: 2.3130 - accuracy: 0.2920 - val_loss: 2.9147 - val_accuracy: 0.5745\n",
            "Epoch 2/20\n",
            "3/3 [==============================] - 6s 3s/step - loss: 0.8532 - accuracy: 0.7360 - val_loss: 2.7711 - val_accuracy: 0.6281\n",
            "Epoch 3/20\n",
            "3/3 [==============================] - 6s 3s/step - loss: 0.4966 - accuracy: 0.8320 - val_loss: 2.5701 - val_accuracy: 0.6473\n",
            "Epoch 4/20\n",
            "3/3 [==============================] - 6s 3s/step - loss: 0.3161 - accuracy: 0.8940 - val_loss: 2.3921 - val_accuracy: 0.6523\n",
            "Epoch 5/20\n",
            "3/3 [==============================] - 6s 3s/step - loss: 0.2430 - accuracy: 0.9400 - val_loss: 2.3113 - val_accuracy: 0.6534\n",
            "Epoch 6/20\n",
            "3/3 [==============================] - 6s 3s/step - loss: 0.1388 - accuracy: 0.9640 - val_loss: 2.1714 - val_accuracy: 0.6637\n",
            "Epoch 7/20\n",
            "3/3 [==============================] - 6s 3s/step - loss: 0.1472 - accuracy: 0.9600 - val_loss: 1.9774 - val_accuracy: 0.6797\n",
            "Epoch 8/20\n",
            "3/3 [==============================] - 6s 3s/step - loss: 0.1034 - accuracy: 0.9660 - val_loss: 1.7200 - val_accuracy: 0.7168\n",
            "Epoch 9/20\n",
            "3/3 [==============================] - 6s 3s/step - loss: 0.0797 - accuracy: 0.9820 - val_loss: 1.5146 - val_accuracy: 0.7550\n",
            "Epoch 10/20\n",
            "3/3 [==============================] - 6s 3s/step - loss: 0.0606 - accuracy: 0.9900 - val_loss: 1.3568 - val_accuracy: 0.7783\n",
            "Epoch 11/20\n",
            "3/3 [==============================] - 6s 3s/step - loss: 0.0439 - accuracy: 0.9880 - val_loss: 1.2334 - val_accuracy: 0.7952\n",
            "Epoch 12/20\n",
            "3/3 [==============================] - 6s 3s/step - loss: 0.0459 - accuracy: 0.9920 - val_loss: 1.1393 - val_accuracy: 0.8063\n",
            "Epoch 13/20\n",
            "3/3 [==============================] - 6s 3s/step - loss: 0.0278 - accuracy: 0.9960 - val_loss: 1.0641 - val_accuracy: 0.8140\n",
            "Epoch 14/20\n",
            "3/3 [==============================] - 6s 3s/step - loss: 0.0268 - accuracy: 0.9960 - val_loss: 0.9955 - val_accuracy: 0.8216\n",
            "Epoch 15/20\n",
            "3/3 [==============================] - 6s 3s/step - loss: 0.0219 - accuracy: 0.9980 - val_loss: 0.9335 - val_accuracy: 0.8290\n",
            "Epoch 16/20\n",
            "3/3 [==============================] - 6s 3s/step - loss: 0.0185 - accuracy: 0.9940 - val_loss: 0.8885 - val_accuracy: 0.8333\n",
            "Epoch 17/20\n",
            "3/3 [==============================] - 6s 3s/step - loss: 0.0181 - accuracy: 0.9960 - val_loss: 0.8497 - val_accuracy: 0.8363\n",
            "Epoch 18/20\n",
            "3/3 [==============================] - 6s 3s/step - loss: 0.0151 - accuracy: 0.9980 - val_loss: 0.8137 - val_accuracy: 0.8399\n",
            "Epoch 19/20\n",
            "3/3 [==============================] - 6s 3s/step - loss: 0.0177 - accuracy: 0.9960 - val_loss: 0.7823 - val_accuracy: 0.8430\n",
            "Epoch 20/20\n",
            "3/3 [==============================] - 6s 3s/step - loss: 0.0132 - accuracy: 1.0000 - val_loss: 0.7534 - val_accuracy: 0.8463\n"
          ]
        },
        {
          "output_type": "execute_result",
          "data": {
            "text/plain": [
              "<keras.callbacks.History at 0x7fdbb0f77510>"
            ]
          },
          "metadata": {},
          "execution_count": 143
        }
      ]
    }
  ]
}