{
  "nbformat": 4,
  "nbformat_minor": 0,
  "metadata": {
    "colab": {
      "name": " \"Обработка текстов с помощью нейросетей  | УИИ_Pro\"",
      "provenance": [],
      "collapsed_sections": [],
      "machine_shape": "hm"
    },
    "kernelspec": {
      "name": "python3",
      "display_name": "Python 3"
    }
  },
  "cells": [
    {
      "cell_type": "markdown",
      "source": [
        "Добейтесь точности распознавания 97% и верно распознанных всех писателей с помощью любой нейронной сети. \n",
        "\n",
        "Подсказка: Попробуйте менять размер окна и шаг."
      ],
      "metadata": {
        "id": "qc-6NI4zCB3T"
      }
    },
    {
      "cell_type": "code",
      "metadata": {
        "id": "VdQmQRVFqXXk"
      },
      "source": [
        "from google.colab import files # Для работы с файлами \n",
        "import numpy as np # Для работы с данными \n",
        "import pandas as pd # Для работы с таблицами\n",
        "import matplotlib.pyplot as plt # Для вывода графиков\n",
        "import os # Для работы с файлами\n",
        "%matplotlib inline\n",
        "\n",
        "from tensorflow.keras import utils # Для работы с категориальными данными\n",
        "from tensorflow.keras.models import Sequential # Полносвязная модель\n",
        "from tensorflow.keras.optimizers import Adam\n",
        "from tensorflow.keras.layers import Dense, Dropout, SpatialDropout1D, BatchNormalization, Embedding, Flatten, Activation # Слои для сети\n",
        "from tensorflow.keras.preprocessing.text import Tokenizer # Методы для работы с текстами и преобразования их в последовательности\n",
        "from tensorflow.keras.preprocessing.sequence import pad_sequences # Метод для работы с последовательностями\n",
        "\n",
        "from sklearn.preprocessing import LabelEncoder # Метод кодирования тестовых лейблов\n",
        "from sklearn.model_selection import train_test_split # Для разделения выборки на тестовую и обучающую\n",
        "from google.colab import drive # Для работы с Google Drive\n",
        "import time # Импортируем библиотеку time"
      ],
      "execution_count": null,
      "outputs": []
    },
    {
      "cell_type": "code",
      "metadata": {
        "id": "7gzuN38krngD",
        "colab": {
          "base_uri": "https://localhost:8080/"
        },
        "outputId": "d2908a8d-27d1-4697-f1b6-fbe66b4976b9"
      },
      "source": [
        "drive.mount('/content/drive')"
      ],
      "execution_count": null,
      "outputs": [
        {
          "output_type": "stream",
          "name": "stdout",
          "text": [
            "Mounted at /content/drive\n"
          ]
        }
      ]
    },
    {
      "cell_type": "code",
      "source": [
        "!rm -R '/content/texts' # Проверка наличия папки texts. Если есть, удаляем ее."
      ],
      "metadata": {
        "id": "wAhMQ89wJ5PQ",
        "colab": {
          "base_uri": "https://localhost:8080/"
        },
        "outputId": "4ff37636-0b35-47f7-a007-335a697e198d"
      },
      "execution_count": null,
      "outputs": [
        {
          "output_type": "stream",
          "name": "stdout",
          "text": [
            "rm: cannot remove '/content/texts': No such file or directory\n"
          ]
        }
      ]
    },
    {
      "cell_type": "code",
      "source": [
        "!unzip -q '/content/drive/MyDrive/Базы/Тексты писателей.zip' -d '/content/texts' #Указываем путь к базе Google Drive, создаем папку texts  и извлекаем туда базу"
      ],
      "metadata": {
        "id": "8hsYjXfeJ5TG"
      },
      "execution_count": null,
      "outputs": []
    },
    {
      "cell_type": "code",
      "source": [
        "def readText(fileName): # Объявляем функции для чтения файла. На вход отправляем путь к файлу\n",
        "  f = open(fileName, 'r')        # Задаем открытие нужного файла в режиме чтения\n",
        "  text = f.read()                # Читаем текст\n",
        "  text = text.replace(\"\\n\", \" \") # Переносы строки переводим в пробелы\n",
        "  \n",
        "  return text                    # Возвращаем текст файла\n",
        "\n",
        "className = [\"О. Генри\", \"Стругацкие\", \"Булгаков\", \"Саймак\", \"Фрай\", \"Брэдберри\"] # Объявляем интересующие нас классы\n",
        "nClasses = len(className) # Считаем количество классов\n",
        "nClasses"
      ],
      "metadata": {
        "id": "wZVpEgt9J5Wn",
        "colab": {
          "base_uri": "https://localhost:8080/"
        },
        "outputId": "00abc135-d3f6-4dce-b701-7c7fc17b2612"
      },
      "execution_count": null,
      "outputs": [
        {
          "output_type": "execute_result",
          "data": {
            "text/plain": [
              "6"
            ]
          },
          "metadata": {},
          "execution_count": 5
        }
      ]
    },
    {
      "cell_type": "code",
      "source": [
        "#Загружаем обучающие тексты\n",
        "\n",
        "trainText = [] #Формируем обучающие тексты\n",
        "testText = [] #Формируем тестовые тексты\n",
        "\n",
        "#Формирование необходимо произвести следующим образом \n",
        "#Класс каждого i-ого эллемента в обучающей выборке должен соответствовать \n",
        "#классу каждого i-ого эллемента в тестовой выборке\n",
        "\n",
        "for i in className: #Проходим по каждому классу\n",
        "  for j in os.listdir('texts/Тексты писателей/'): #Проходим по каждому файлу в папке с текстами #\n",
        "    if i in j: #Проверяем, содержит ли файл j в названии имя класса i\n",
        "      \n",
        "      if 'Обучающая' in j: #Если в имени найденного класса есть строка \"Обучающая\" \n",
        "        trainText.append(readText('texts/Тексты писателей/' + j)) #добавляем в обучающую выборку\n",
        "        print(j, 'добавлен в обучающую выборку') #Выводим информацию\n",
        "      if 'Тестовая' in j: #Если в имени найденного класса есть строка \"Тестовая\"\n",
        "        testText.append(readText('texts/Тексты писателей/' + j)) #добавляем в обучающую выборку\n",
        "        print(j, 'добавлен в тестовую выборку') #Выводим информацию\n",
        "  print()"
      ],
      "metadata": {
        "id": "l3uaWurQJ5Zx",
        "colab": {
          "base_uri": "https://localhost:8080/"
        },
        "outputId": "d1e5b418-674e-4765-eee3-6be9405433bb"
      },
      "execution_count": null,
      "outputs": [
        {
          "output_type": "stream",
          "name": "stdout",
          "text": [
            "(О. Генри) Тестовая_20 вместе.txt добавлен в тестовую выборку\n",
            "(О. Генри) Обучающая_50 вместе.txt добавлен в обучающую выборку\n",
            "\n",
            "(Стругацкие) Тестовая_2 вместе.txt добавлен в тестовую выборку\n",
            "(Стругацкие) Обучающая_5 вместе.txt добавлен в обучающую выборку\n",
            "\n",
            "(Булгаков) Обучающая_5 вместе.txt добавлен в обучающую выборку\n",
            "(Булгаков) Тестовая_2 вместе.txt добавлен в тестовую выборку\n",
            "\n",
            "(Клиффорд_Саймак) Обучающая_5 вместе.txt добавлен в обучающую выборку\n",
            "(Клиффорд_Саймак) Тестовая_2 вместе.txt добавлен в тестовую выборку\n",
            "\n",
            "(Макс Фрай) Тестовая_2 вместе.txt добавлен в тестовую выборку\n",
            "(Макс Фрай) Обучающая_5 вместе.txt добавлен в обучающую выборку\n",
            "\n",
            "(Рэй Брэдберри) Тестовая_8 вместе.txt добавлен в тестовую выборку\n",
            "(Рэй Брэдберри) Обучающая_22 вместе.txt добавлен в обучающую выборку\n",
            "\n"
          ]
        }
      ]
    },
    {
      "cell_type": "code",
      "source": [
        "print(len(trainText))     # количество элементов в trainText\n",
        "print(len(trainText[0]))  # количество символов в первом источнике(?) в trainText"
      ],
      "metadata": {
        "id": "XRh74-RSJ5dG",
        "colab": {
          "base_uri": "https://localhost:8080/"
        },
        "outputId": "36374a07-256b-4141-f3a0-e012d9d37c4f"
      },
      "execution_count": null,
      "outputs": [
        {
          "output_type": "stream",
          "name": "stdout",
          "text": [
            "6\n",
            "1049517\n"
          ]
        }
      ]
    },
    {
      "cell_type": "code",
      "source": [
        "sample_text = ['один два три четыре пять два Три три четыре четыре четыре пять пять пять пять шесть семь восемь']\n",
        "maxWordsCount = 50\n",
        "tokenizer = Tokenizer(num_words=maxWordsCount, filters='!\"#$%&()*+,-–—./…:;<=>?@[\\\\]^_`{|}~«»\\t\\n\\xa0\\ufeff', lower=True, split=' ', oov_token='unknown', char_level=False)\n",
        "\n",
        "tokenizer.fit_on_texts(sample_text)     # передаем тексты в обработку методу, который соберет словать частотности\n",
        "\n",
        "\n",
        "# Воспользуемся встроенной в Keras функцией Tokenizer для разбиения текста и превращения в матрицу числовых значений\n",
        "# num_words=maxWordsCount - определяем максимальное количество слов/индексов, учитываемое при обучении текстов\n",
        "# filters='!\"#$%&()*+,-./:;<=>?@[\\\\]^_`{|}~\\t\\n' - избавляемся от ненужных символов\n",
        "# lower=True - приводим слова к нижнему регистру\n",
        "# split=' ' - разделяем слова по пробелу\n",
        "# char_level=False - токенизируем по словам (Если будет True - каждый символ будет рассматриваться как отдельный токен )"
      ],
      "metadata": {
        "id": "1DN1vx5SJ5f_"
      },
      "execution_count": null,
      "outputs": []
    },
    {
      "cell_type": "code",
      "source": [
        "print(len(sample_text[0].split()))"
      ],
      "metadata": {
        "colab": {
          "base_uri": "https://localhost:8080/"
        },
        "id": "MKBK5oFR-6s4",
        "outputId": "ebc5540e-5d71-495f-c41f-9eb738ad4f35"
      },
      "execution_count": null,
      "outputs": [
        {
          "output_type": "stream",
          "name": "stdout",
          "text": [
            "18\n"
          ]
        }
      ]
    },
    {
      "cell_type": "code",
      "source": [
        "tokenizer.word_index"
      ],
      "metadata": {
        "id": "_32A-pbrJ5j-",
        "colab": {
          "base_uri": "https://localhost:8080/"
        },
        "outputId": "49b2734f-a9ea-4620-f2a2-559c0f42cc87"
      },
      "execution_count": null,
      "outputs": [
        {
          "output_type": "execute_result",
          "data": {
            "text/plain": [
              "{'unknown': 1,\n",
              " 'восемь': 9,\n",
              " 'два': 5,\n",
              " 'один': 6,\n",
              " 'пять': 2,\n",
              " 'семь': 8,\n",
              " 'три': 4,\n",
              " 'четыре': 3,\n",
              " 'шесть': 7}"
            ]
          },
          "metadata": {},
          "execution_count": 10
        }
      ]
    },
    {
      "cell_type": "code",
      "source": [
        "k = tokenizer.texts_to_sequences(sample_text)\n",
        "print(k)\n",
        "print(len(k[0]))  "
      ],
      "metadata": {
        "id": "x8fzSkMITfhK",
        "colab": {
          "base_uri": "https://localhost:8080/"
        },
        "outputId": "d330cf2f-15d0-435b-9631-7e1d860ef24b"
      },
      "execution_count": null,
      "outputs": [
        {
          "output_type": "stream",
          "name": "stdout",
          "text": [
            "[[6, 5, 4, 3, 2, 5, 4, 4, 3, 3, 3, 2, 2, 2, 2, 7, 8, 9]]\n",
            "18\n"
          ]
        }
      ]
    },
    {
      "cell_type": "code",
      "source": [
        "xTrain = []\n",
        "k2 = k[0]\n",
        "while len(k2) >= 3:\n",
        "  xTrain.append(k2[:3])\n",
        "  k2 = k2[3:]\n",
        "xTrain"
      ],
      "metadata": {
        "id": "ShS60LVmTflb",
        "colab": {
          "base_uri": "https://localhost:8080/"
        },
        "outputId": "d8c425ff-78aa-4479-858a-564b619fcc5f"
      },
      "execution_count": null,
      "outputs": [
        {
          "output_type": "execute_result",
          "data": {
            "text/plain": [
              "[[6, 5, 4], [3, 2, 5], [4, 4, 3], [3, 3, 2], [2, 2, 2], [7, 8, 9]]"
            ]
          },
          "metadata": {},
          "execution_count": 12
        }
      ]
    },
    {
      "cell_type": "code",
      "source": [
        "tokenizer.sequences_to_matrix(xTrain)"
      ],
      "metadata": {
        "id": "LGksJrVxTfqQ",
        "colab": {
          "base_uri": "https://localhost:8080/"
        },
        "outputId": "43b8d82f-8e33-4763-d5a1-fb6b0afd40ba"
      },
      "execution_count": null,
      "outputs": [
        {
          "output_type": "execute_result",
          "data": {
            "text/plain": [
              "array([[0., 0., 0., 0., 1., 1., 1., 0., 0., 0., 0., 0., 0., 0., 0., 0.,\n",
              "        0., 0., 0., 0., 0., 0., 0., 0., 0., 0., 0., 0., 0., 0., 0., 0.,\n",
              "        0., 0., 0., 0., 0., 0., 0., 0., 0., 0., 0., 0., 0., 0., 0., 0.,\n",
              "        0., 0.],\n",
              "       [0., 0., 1., 1., 0., 1., 0., 0., 0., 0., 0., 0., 0., 0., 0., 0.,\n",
              "        0., 0., 0., 0., 0., 0., 0., 0., 0., 0., 0., 0., 0., 0., 0., 0.,\n",
              "        0., 0., 0., 0., 0., 0., 0., 0., 0., 0., 0., 0., 0., 0., 0., 0.,\n",
              "        0., 0.],\n",
              "       [0., 0., 0., 1., 1., 0., 0., 0., 0., 0., 0., 0., 0., 0., 0., 0.,\n",
              "        0., 0., 0., 0., 0., 0., 0., 0., 0., 0., 0., 0., 0., 0., 0., 0.,\n",
              "        0., 0., 0., 0., 0., 0., 0., 0., 0., 0., 0., 0., 0., 0., 0., 0.,\n",
              "        0., 0.],\n",
              "       [0., 0., 1., 1., 0., 0., 0., 0., 0., 0., 0., 0., 0., 0., 0., 0.,\n",
              "        0., 0., 0., 0., 0., 0., 0., 0., 0., 0., 0., 0., 0., 0., 0., 0.,\n",
              "        0., 0., 0., 0., 0., 0., 0., 0., 0., 0., 0., 0., 0., 0., 0., 0.,\n",
              "        0., 0.],\n",
              "       [0., 0., 1., 0., 0., 0., 0., 0., 0., 0., 0., 0., 0., 0., 0., 0.,\n",
              "        0., 0., 0., 0., 0., 0., 0., 0., 0., 0., 0., 0., 0., 0., 0., 0.,\n",
              "        0., 0., 0., 0., 0., 0., 0., 0., 0., 0., 0., 0., 0., 0., 0., 0.,\n",
              "        0., 0.],\n",
              "       [0., 0., 0., 0., 0., 0., 0., 1., 1., 1., 0., 0., 0., 0., 0., 0.,\n",
              "        0., 0., 0., 0., 0., 0., 0., 0., 0., 0., 0., 0., 0., 0., 0., 0.,\n",
              "        0., 0., 0., 0., 0., 0., 0., 0., 0., 0., 0., 0., 0., 0., 0., 0.,\n",
              "        0., 0.]])"
            ]
          },
          "metadata": {},
          "execution_count": 13
        }
      ]
    },
    {
      "cell_type": "code",
      "source": [
        "cur_time = time.time() # Засекаем текущее время\n",
        "maxWordsCount = 20000 # Определяем максимальное количество слов/индексов, учитываемое при обучении текстов\n",
        "\n",
        "# Воспользуемся встроенной в Keras функцией Tokenizer для разбиения текста и превращения в матрицу числовых значений\n",
        "# num_words=maxWordsCount - определяем максимальное количество слов/индексов, учитываемое при обучении текстов\n",
        "# filters='!\"#$%&()*+,-./:;<=>?@[\\\\]^_`{|}~\\t\\n' - избавляемся от ненужных символов\n",
        "# lower=True - приводим слова к нижнему регистру\n",
        "# split=' ' - разделяем слова по пробелу\n",
        "# char_level=False - токенизируем по словам (Если будет True - каждый символ будет рассматриваться как отдельный токен )\n",
        "tokenizer = Tokenizer(num_words=maxWordsCount, filters='!\"#$%&()*+,-–—./…:;<=>?@[\\\\]^_`{|}~«»\\t\\n\\xa0\\ufeff', lower=True, split=' ', oov_token='unknown', char_level=False)\n",
        "\n",
        "tokenizer.fit_on_texts(trainText) # Передаём в обработку методу, который соберет словарь частотности\n",
        "items = list(tokenizer.word_index.items()) #  Извлекаем индексы слов для просмотра\n",
        "print('Время обработки: ', round(time.time() - cur_time, 2), 'c', sep='')"
      ],
      "metadata": {
        "id": "ghmpKr6lTfua",
        "colab": {
          "base_uri": "https://localhost:8080/"
        },
        "outputId": "f59ed1e1-8e4d-42cc-b2c7-e2e5084af4ec"
      },
      "execution_count": null,
      "outputs": [
        {
          "output_type": "stream",
          "name": "stdout",
          "text": [
            "Время обработки: 3.76c\n"
          ]
        }
      ]
    },
    {
      "cell_type": "code",
      "source": [
        "print(items[:120])   # вывод 120 самых часто встречающихся слов\n",
        "print(\"Размер словаря\", len(items))   # длина словаря"
      ],
      "metadata": {
        "id": "gJO5cpB-Tfya",
        "colab": {
          "base_uri": "https://localhost:8080/"
        },
        "outputId": "bc51425c-d196-4651-98e3-63dd7b774904"
      },
      "execution_count": null,
      "outputs": [
        {
          "output_type": "stream",
          "name": "stdout",
          "text": [
            "[('unknown', 1), ('и', 2), ('в', 3), ('не', 4), ('я', 5), ('что', 6), ('на', 7), ('с', 8), ('он', 9), ('а', 10), ('как', 11), ('то', 12), ('это', 13), ('но', 14), ('все', 15), ('у', 16), ('по', 17), ('его', 18), ('к', 19), ('так', 20), ('мне', 21), ('из', 22), ('за', 23), ('меня', 24), ('ты', 25), ('же', 26), ('бы', 27), ('сказал', 28), ('вы', 29), ('было', 30), ('от', 31), ('они', 32), ('мы', 33), ('только', 34), ('да', 35), ('еще', 36), ('она', 37), ('о', 38), ('вот', 39), ('когда', 40), ('если', 41), ('уже', 42), ('был', 43), ('нет', 44), ('ни', 45), ('их', 46), ('ну', 47), ('чтобы', 48), ('до', 49), ('для', 50), ('ему', 51), ('ничего', 52), ('может', 53), ('или', 54), ('даже', 55), ('там', 56), ('очень', 57), ('кто', 58), ('ее', 59), ('тут', 60), ('потом', 61), ('просто', 62), ('чем', 63), ('него', 64), ('быть', 65), ('теперь', 66), ('под', 67), ('где', 68), ('нас', 69), ('есть', 70), ('тебя', 71), ('ли', 72), ('время', 73), ('тебе', 74), ('вас', 75), ('со', 76), ('нибудь', 77), ('во', 78), ('раз', 79), ('этот', 80), ('сейчас', 81), ('вам', 82), ('себя', 83), ('здесь', 84), ('себе', 85), ('этого', 86), ('уж', 87), ('надо', 88), ('будет', 89), ('том', 90), ('можно', 91), ('сам', 92), ('нам', 93), ('были', 94), ('была', 95), ('тоже', 96), ('того', 97), ('один', 98), ('без', 99), ('спросил', 100), ('больше', 101), ('них', 102), ('через', 103), ('ведь', 104), ('человек', 105), ('знаю', 106), ('этом', 107), ('конечно', 108), ('какой', 109), ('почему', 110), ('дело', 111), ('пока', 112), ('глаза', 113), ('андрей', 114), ('потому', 115), ('чего', 116), ('им', 117), ('несколько', 118), ('при', 119), ('совершенно', 120)]\n",
            "Размер словаря 133070\n"
          ]
        }
      ]
    },
    {
      "cell_type": "code",
      "source": [
        "print(\"Интересующее слово имеет индекс: \", tokenizer.word_index[input(\"Уточните слово: \")]) # тестирование словаря частотности"
      ],
      "metadata": {
        "id": "MEdoNf5YTf4A",
        "colab": {
          "base_uri": "https://localhost:8080/"
        },
        "outputId": "267e4720-f39e-4aee-e42d-f79e729aaa35"
      },
      "execution_count": null,
      "outputs": [
        {
          "output_type": "stream",
          "name": "stdout",
          "text": [
            "Уточните слово: как\n",
            "Интересующее слово имеет индекс:  11\n"
          ]
        }
      ]
    },
    {
      "cell_type": "code",
      "source": [
        "# преобразование текста в последовательность индексов согласно частотному словарю (т.е. в индексы)\n",
        "trainWordIndexes = tokenizer.texts_to_sequences(trainText)\n",
        "testWordIndexes = tokenizer.texts_to_sequences(testText)\n",
        "\n",
        "print(\"Взглянем на фрагмент обучающего текста: \")\n",
        "print(\"В виде оригинального текста: \", trainText[1][:87])\n",
        "print(\"Он же в виде последовательности индексов: \", trainWordIndexes[1][:20], '\\n')"
      ],
      "metadata": {
        "id": "-LmpmuMHTf73",
        "colab": {
          "base_uri": "https://localhost:8080/"
        },
        "outputId": "4b6f384e-b5dd-447d-e8a1-b6278bbba8d6"
      },
      "execution_count": null,
      "outputs": [
        {
          "output_type": "stream",
          "name": "stdout",
          "text": [
            "Взглянем на фрагмент обучающего текста: \n",
            "В виде оригинального текста:  Парень из преисподней     1     Ну и деревня! Сроду я таких деревень не видел и не знал\n",
            "Он же в виде последовательности индексов:  [473, 22, 1, 1508, 47, 2, 12834, 7800, 5, 415, 1, 4, 251, 2, 4, 249, 55, 6, 240, 9472] \n",
            "\n"
          ]
        }
      ]
    },
    {
      "cell_type": "code",
      "source": [
        "print(\"Статистика по обучающим текстам: \")\n",
        "\n",
        "symbolsTrainText = 0 # объявляем переменную для подсчета симвоволов в обучающих текстах\n",
        "wordsTrainText = 0 # объявляем переменную для подсчета слов в обучающих текстах\n",
        "\n",
        "for i in range(nClasses):    # проходим по всем классам\n",
        "  print(className[i], \" \"*(10-len(className[i])), len(trainText[i]), \"символов, \", len(trainWordIndexes[i]), \"слов\")   \n",
        "  symbolsTrainText += len(trainText[i])       # считаем символы\n",
        "  wordsTrainText += len(trainWordIndexes[i])  # считаем слова\n",
        "\n",
        "print('_ _ _ _')\n",
        "print('В сумме ', symbolsTrainText, \"символов, \", wordsTrainText, \"слов \\n\")\n",
        "print()\n",
        "print(\"Статистика по текстовым текстам:\")\n",
        "\n",
        "symbolsTestText = 0 # Объявляем переменную для для подсчета симвоволов в тестовых текстах\n",
        "wordTestText = 0    # Объявляем переменную для для подсчета слов в тестовых текстах\n",
        "\n",
        "for i in range(nClasses):\n",
        "  print(className[i], ' '*(10-len(className[i])), len(testText[i]), \"символов, \", len(testWordIndexes[i]), \"слов\")\n",
        "  \n",
        "  symbolsTestText += len(testText[i]) \n",
        "  wordTestText += len(testWordIndexes[i])\n",
        "print('_ _ _ _')\n",
        "print('В сумме ', symbolsTrainText, \"символов, \", wordsTrainText, \"слов\")"
      ],
      "metadata": {
        "id": "fRxUwJa1Tf_h",
        "colab": {
          "base_uri": "https://localhost:8080/"
        },
        "outputId": "ec13b18c-fa58-4599-eabb-03035968277c"
      },
      "execution_count": null,
      "outputs": [
        {
          "output_type": "stream",
          "name": "stdout",
          "text": [
            "Статистика по обучающим текстам: \n",
            "О. Генри    1049517 символов,  160607 слов\n",
            "Стругацкие  2042469 символов,  313012 слов\n",
            "Булгаков    1765648 символов,  261465 слов\n",
            "Саймак      1609507 символов,  251502 слов\n",
            "Фрай        3700010 символов,  568533 слов\n",
            "Брэдберри   1386454 символов,  214454 слов\n",
            "_ _ _ _\n",
            "В сумме  11553605 символов,  1769573 слов \n",
            "\n",
            "\n",
            "Статистика по текстовым текстам:\n",
            "О. Генри    349662 символов,  53238 слов\n",
            "Стругацкие  704846 символов,  108621 слов\n",
            "Булгаков    875042 символов,  132730 слов\n",
            "Саймак      318811 символов,  50360 слов\n",
            "Фрай        1278191 символов,  196731 слов\n",
            "Брэдберри   868673 символов,  132524 слов\n",
            "_ _ _ _\n",
            "В сумме  11553605 символов,  1769573 слов\n"
          ]
        }
      ]
    },
    {
      "cell_type": "markdown",
      "source": [
        "Обучающая и тестовая выборки"
      ],
      "metadata": {
        "id": "tN8Zwesvkgor"
      }
    },
    {
      "cell_type": "code",
      "source": [
        "# Формирование обучающей выборки по листу индексов слов\n",
        "# (разделение на короткие векторы)\n",
        "def getSetFromIndexes(wordIndexes, xLen, step): # функция принимает последовательность индексов, размер окна, шаг окна\n",
        "  xSample = [] # Объявляем переменную для векторов\n",
        "  wordsLen = len(wordIndexes) # Считаем количество слов\n",
        "  index = 0 # Задаем начальный индекс \n",
        "\n",
        "  while (index + xLen <= wordsLen):# Идём по всей длине вектора индексов\n",
        "    xSample.append(wordIndexes[index:index+xLen]) # отделяем векторы длины xLen\n",
        "    index += step # смещаеммся вперёд на step\n",
        "    \n",
        "  return xSample"
      ],
      "metadata": {
        "id": "Snfa8oH1TgDs"
      },
      "execution_count": null,
      "outputs": []
    },
    {
      "cell_type": "code",
      "source": [
        "# Формирование обучающей и проверочной выборки\n",
        "# Из двух листов индексов от двух классов\n",
        "def createSetsMultiClasses(wordIndexes, xLen, step): # Функция принимает последовательность индексов, размер окна, шаг окна\n",
        "\n",
        "  # Для каждого из 6 классов\n",
        "  # Создаём обучающую/проверочную выборку из индексов\n",
        "  nClasses = len(wordIndexes) # Задаем количество классов выборки\n",
        "  classesXSamples = []        # Здесь будет список размером \"кол-во классов*кол-во окон в тексте*длину окна (например, 6 по 1341*1000)\"\n",
        "  for wI in wordIndexes:      # Для каждого текста выборки из последовательности индексов\n",
        "    classesXSamples.append(getSetFromIndexes(wI, xLen, step)) # Добавляем в список очередной текст индексов, разбитый на \"кол-во окон*длину окна\" \n",
        "\n",
        "  # Формируем один общий xSamples\n",
        "  xSamples = [] # Здесь будет список размером \"суммарное кол-во окон во всех текстах*длину окна (например, 15779*1000)\"\n",
        "  ySamples = [] # Здесь будет список размером \"суммарное кол-во окон во всех текстах*вектор длиной 6\"\n",
        "  \n",
        "  for t in range(nClasses): # В диапазоне кол-ва классов(6)\n",
        "    xT = classesXSamples[t] # Берем очередной текст вида \"кол-во окон в тексте*длину окна\"(например, 1341*1000)\n",
        "    for i in range(len(xT)): # И каждое его окно\n",
        "      xSamples.append(xT[i]) # Добавляем в общий список выборки\n",
        "      ySamples.append(utils.to_categorical(t, nClasses)) # Добавляем соответствующий вектор класса\n",
        "\n",
        "  xSamples = np.array(xSamples) # Переводим в массив numpy для подачи в нейронку\n",
        "  ySamples = np.array(ySamples) # Переводим в массив numpy для подачи в нейронку\n",
        "\n",
        "  \n",
        "  return (xSamples, ySamples) #Функция возвращает выборку и соответствующие векторы классов"
      ],
      "metadata": {
        "id": "_XMYVExpTgHx"
      },
      "execution_count": null,
      "outputs": []
    },
    {
      "cell_type": "markdown",
      "source": [
        "ПОДГОТОВКА ДАННЫХ"
      ],
      "metadata": {
        "id": "D1RuhnWTrrhR"
      }
    },
    {
      "cell_type": "code",
      "source": [
        "# Задаем базовые парметры\n",
        "xLen = 7000 # Длина отрезка текста, по которой анализируем, в словарях\n",
        "step = 700 # Шаг разбития исходного текста на обучающие векторы"
      ],
      "metadata": {
        "id": "1pJOE6wJrtxr"
      },
      "execution_count": null,
      "outputs": []
    },
    {
      "cell_type": "code",
      "source": [
        "cur_time = time.time() # Засекаем текущее время\n",
        "#Формируем обучающую и тестовую выборку\n",
        "xTrain, yTrain = createSetsMultiClasses(trainWordIndexes, xLen, step) #извлекаем обучающую выборку\n",
        "xTest, yTest = createSetsMultiClasses(testWordIndexes, xLen, step)    #извлекаем тестовую выборку\n",
        "print(xTrain.shape)\n",
        "print(yTrain.shape)\n",
        "print(xTest.shape)\n",
        "print(yTest.shape)\n",
        "#получили обучающий/тестовый набор, достаточный для запуска Embedding, но для Bag of Words нужно xTrain и xTest представить в виде векторов из 0 и 1\n",
        "print('Время обработки: ', round(time.time() - cur_time, 2), 'c', sep='')"
      ],
      "metadata": {
        "id": "xj7a6Ejtrt1W",
        "colab": {
          "base_uri": "https://localhost:8080/"
        },
        "outputId": "7b44b70c-7515-4d15-9e69-f95f29008cd5"
      },
      "execution_count": null,
      "outputs": [
        {
          "output_type": "stream",
          "name": "stdout",
          "text": [
            "(2472, 7000)\n",
            "(2472, 6)\n",
            "(907, 7000)\n",
            "(907, 6)\n",
            "Время обработки: 4.08c\n"
          ]
        }
      ]
    },
    {
      "cell_type": "code",
      "source": [
        "print(xTrain[0])"
      ],
      "metadata": {
        "id": "3JX80-wart5c",
        "colab": {
          "base_uri": "https://localhost:8080/"
        },
        "outputId": "2f5e11f1-273b-4df0-984e-d81231c093aa"
      },
      "execution_count": null,
      "outputs": [
        {
          "output_type": "stream",
          "name": "stdout",
          "text": [
            "[ 4725     7  2449 ...   210   384 15576]\n"
          ]
        }
      ]
    },
    {
      "cell_type": "code",
      "source": [
        "cur_time = time.time() # Засекаем текущее время\n",
        "# Преобразуем полученные выборки из последовательности индексов в матрицы нулей и цифр по принципу Bag of Words\n",
        "xTrain01 = tokenizer.sequences_to_matrix(xTrain.tolist())   # Подаем xTrain в виде списка, чтобы метод успешно работал\n",
        "xTest01 = tokenizer.sequences_to_matrix(xTest.tolist())     # Подаем xTest в виде списка, чтобы метод успешно работал\n",
        "\n",
        "print(xTrain01.shape)   # Размер обучающей выборки\n",
        "print(xTrain01[0][0:100])  # Фрагмент набора слов в виде Bag of Words\n",
        "print('Время обработки: ', round(time.time() - cur_time, 2), 'c', sep='')"
      ],
      "metadata": {
        "id": "-1zAtCSVrt9i",
        "colab": {
          "base_uri": "https://localhost:8080/"
        },
        "outputId": "c220d9d7-ec29-4b5b-a103-8f9b8d596437"
      },
      "execution_count": null,
      "outputs": [
        {
          "output_type": "stream",
          "name": "stdout",
          "text": [
            "(2472, 20000)\n",
            "[0. 1. 1. 1. 1. 1. 1. 1. 1. 1. 1. 1. 1. 1. 1. 1. 1. 1. 1. 1. 1. 1. 1. 1.\n",
            " 1. 1. 1. 1. 1. 1. 1. 1. 1. 1. 1. 1. 1. 1. 1. 1. 1. 1. 1. 1. 1. 1. 1. 1.\n",
            " 1. 1. 1. 1. 1. 1. 1. 1. 1. 1. 1. 1. 1. 1. 1. 1. 1. 1. 1. 1. 1. 1. 1. 0.\n",
            " 1. 1. 0. 1. 1. 1. 1. 1. 1. 0. 1. 1. 1. 1. 1. 1. 1. 1. 1. 1. 1. 0. 1. 1.\n",
            " 1. 1. 1. 1.]\n",
            "Время обработки: 9.14c\n"
          ]
        }
      ]
    },
    {
      "cell_type": "code",
      "source": [
        "for i in range(100):\n",
        "  print(int(i in xTrain[0]), end=' ')"
      ],
      "metadata": {
        "id": "T9k9m-C2ruBN",
        "colab": {
          "base_uri": "https://localhost:8080/"
        },
        "outputId": "9c9da3f3-e8b1-4e58-cde6-a81dfed5fec0"
      },
      "execution_count": null,
      "outputs": [
        {
          "output_type": "stream",
          "name": "stdout",
          "text": [
            "0 1 1 1 1 1 1 1 1 1 1 1 1 1 1 1 1 1 1 1 1 1 1 1 1 1 1 1 1 1 1 1 1 1 1 1 1 1 1 1 1 1 1 1 1 1 1 1 1 1 1 1 1 1 1 1 1 1 1 1 1 1 1 1 1 1 1 1 1 1 1 0 1 1 0 1 1 1 1 1 1 0 1 1 1 1 1 1 1 1 1 1 1 0 1 1 1 1 1 1 "
          ]
        }
      ]
    },
    {
      "cell_type": "markdown",
      "source": [
        "РАСПОЗНАВАНИЕ ПРОВЕРОЧНОЙ ВЫБОРКИ\n",
        "\n",
        "1.   Новый пункт\n",
        "2.   Новый пункт\n",
        "\n"
      ],
      "metadata": {
        "id": "Y7H3SpEIxi-j"
      }
    },
    {
      "cell_type": "code",
      "source": [
        "# Представляем тестовую выборку в удобных для распознавания размерах\n",
        "def createTestMultiClasses(wordIndexes, xLen, step): #функция принимает последовательность индексов, размер окна, шаг окна\n",
        "\n",
        "  #Для каждого из 6 классов\n",
        "  #Создаём тестовую выборку из индексов\n",
        "  nClasses = len(wordIndexes) #Задаем количество классов\n",
        "  xTest6Classes01 = []               #Здесь будет список из всех классов, каждый размером \"кол-во окон в тексте * 20000 (при maxWordsCount=20000)\"\n",
        "  xTest6Classes = []                 #Здесь будет список массивов, каждый размером \"кол-во окон в тексте * длину окна\"(6 по 420*1000)\n",
        "  for wI in wordIndexes:                       #Для каждого тестового текста из последовательности индексов\n",
        "    sample = (getSetFromIndexes(wI, xLen, step)) #Тестовая выборка размером \"кол-во окон*длину окна\"(например, 420*1000)\n",
        "    xTest6Classes.append(sample)              # Добавляем в список\n",
        "    xTest6Classes01.append(tokenizer.sequences_to_matrix(sample)) #Трансформируется в Bag of Words в виде \"кол-во окон в тексте * 20000\"\n",
        "  xTest6Classes01 = np.array(xTest6Classes01)                     #И добавляется к нашему списку, \n",
        "  xTest6Classes = np.array(xTest6Classes)                     #И добавляется к нашему списку, \n",
        "  \n",
        "  return xTest6Classes01, xTest6Classes  #функция вернёт тестовые данные: TestBag 6 классов на n*20000 и xTestEm 6 по n*1000\n",
        "\n",
        "# Распознаём тестовую выборку и выводим результаты\n",
        "def recognizeMultiClass(model, xTest, modelName):\n",
        "  print(\"НЕЙРОНКА: \", modelName)\n",
        "  print()\n",
        "  \n",
        "  totalSumRec = 0 # Сумма всех правильных ответов\n",
        "  \n",
        "  #Проходим по всем классам\n",
        "  for i in range(nClasses):\n",
        "    #Получаем результаты распознавания класса по блокам слов длины xLen\n",
        "    currPred = model.predict(xTest[i])\n",
        "    #Определяем номер распознанного класса для каждохо блока слов длины xLen\n",
        "    currOut = np.argmax(currPred, axis=1)\n",
        "\n",
        "    evVal = []\n",
        "    for j in range(nClasses):\n",
        "      evVal.append(len(currOut[currOut==j])/len(xTest[i]))\n",
        "\n",
        "    totalSumRec += len(currOut[currOut==i])\n",
        "    recognizedClass = np.argmax(evVal) #Определяем, какой класс в итоге за какой был распознан\n",
        "    \n",
        "    #Выводим результаты распознавания по текущему классу\n",
        "    isRecognized = \"Это НЕПРАВИЛЬНЫЙ ответ!\"\n",
        "    if (recognizedClass == i):\n",
        "      isRecognized = \"Это ПРАВИЛЬНЫЙ ответ!\"\n",
        "    str1 = 'Класс: ' + className[i] + \" \" * (11 - len(className[i])) + str(int(100*evVal[i])) + \"% сеть отнесла к классу \" + className[recognizedClass]\n",
        "    print(str1, \" \" * (55-len(str1)), isRecognized, sep='')\n",
        "  \n",
        "  #Выводим средний процент распознавания по всем классам вместе\n",
        "  print()\n",
        "  sumCount = 0\n",
        "  for i in range(nClasses):\n",
        "    sumCount += len(xTest[i])\n",
        "  print(\"Средний процент распознавания \", int(100*totalSumRec/sumCount), \"%\", sep='')\n",
        "\n",
        "  print()\n",
        "  \n",
        "  return totalSumRec/sumCount\n"
      ],
      "metadata": {
        "id": "9xKsIYWTxqri"
      },
      "execution_count": null,
      "outputs": []
    },
    {
      "cell_type": "code",
      "source": [
        "xTest6Classes01, x2 = createTestMultiClasses(testWordIndexes, xLen, step)  #Преобразование тестовой выборки"
      ],
      "metadata": {
        "id": "Yg27g9l3xqwP",
        "colab": {
          "base_uri": "https://localhost:8080/"
        },
        "outputId": "c800b108-25fc-41b1-f65c-c9e4fd0afcad"
      },
      "execution_count": null,
      "outputs": [
        {
          "output_type": "stream",
          "name": "stderr",
          "text": [
            "/usr/local/lib/python3.7/dist-packages/ipykernel_launcher.py:13: VisibleDeprecationWarning: Creating an ndarray from ragged nested sequences (which is a list-or-tuple of lists-or-tuples-or ndarrays with different lengths or shapes) is deprecated. If you meant to do this, you must specify 'dtype=object' when creating the ndarray\n",
            "  del sys.path[0]\n",
            "/usr/local/lib/python3.7/dist-packages/ipykernel_launcher.py:14: VisibleDeprecationWarning: Creating an ndarray from ragged nested sequences (which is a list-or-tuple of lists-or-tuples-or ndarrays with different lengths or shapes) is deprecated. If you meant to do this, you must specify 'dtype=object' when creating the ndarray\n",
            "  \n"
          ]
        }
      ]
    },
    {
      "cell_type": "code",
      "source": [
        "I = np.array(xTest6Classes01)\n",
        "np.save('xTestPredictBow', I)\n",
        "np.save('xTestPredictEmbedding', x2)"
      ],
      "metadata": {
        "id": "vYPuBNv5xq1T"
      },
      "execution_count": null,
      "outputs": []
    },
    {
      "cell_type": "markdown",
      "source": [
        "BagofWords + softmax"
      ],
      "metadata": {
        "id": "wTp7fWq0An07"
      }
    },
    {
      "cell_type": "code",
      "source": [
        "#Создаём полносвязную сеть\n",
        "model01 = Sequential()\n",
        "#Первый полносвязный слой\n",
        "model01.add(Dense(200, input_dim=maxWordsCount, activation=\"relu\"))\n",
        "#Слой регуляризации Dropout\n",
        "model01.add(Dropout(0.25))\n",
        "#Слой пакетной нормализации\n",
        "model01.add(BatchNormalization())\n",
        "#Выходной полносвязный слой\n",
        "model01.add(Dense(6, activation='sigmoid'))\n",
        "\n",
        "model01.compile(optimizer='adam', \n",
        "              loss='categorical_crossentropy', \n",
        "              metrics=['accuracy'])"
      ],
      "metadata": {
        "id": "orjt-bo0xq5R"
      },
      "execution_count": null,
      "outputs": []
    },
    {
      "cell_type": "code",
      "source": [
        "#Обучаем сеть на выборке, сформированной по bag of words - xTrain01\n",
        "history = model01.fit(xTrain01, yTrain, epochs=10, batch_size=128, validation_data=(xTest01, yTest))"
      ],
      "metadata": {
        "colab": {
          "base_uri": "https://localhost:8080/"
        },
        "id": "BrFFnCAki-bh",
        "outputId": "f7cf9edd-c58f-4d33-9d19-d96eb82b7ae0"
      },
      "execution_count": null,
      "outputs": [
        {
          "output_type": "stream",
          "name": "stdout",
          "text": [
            "Epoch 1/10\n",
            "20/20 [==============================] - 0s 25ms/step - loss: 2.6795e-05 - accuracy: 1.0000 - val_loss: 0.1573 - val_accuracy: 0.9713\n",
            "Epoch 2/10\n",
            "20/20 [==============================] - 0s 17ms/step - loss: 2.6200e-05 - accuracy: 1.0000 - val_loss: 0.1566 - val_accuracy: 0.9724\n",
            "Epoch 3/10\n",
            "20/20 [==============================] - 0s 17ms/step - loss: 3.2451e-05 - accuracy: 1.0000 - val_loss: 0.1557 - val_accuracy: 0.9713\n",
            "Epoch 4/10\n",
            "20/20 [==============================] - 0s 17ms/step - loss: 2.6145e-05 - accuracy: 1.0000 - val_loss: 0.1557 - val_accuracy: 0.9713\n",
            "Epoch 5/10\n",
            "20/20 [==============================] - 0s 17ms/step - loss: 2.6166e-05 - accuracy: 1.0000 - val_loss: 0.1564 - val_accuracy: 0.9713\n",
            "Epoch 6/10\n",
            "20/20 [==============================] - 0s 21ms/step - loss: 2.2280e-05 - accuracy: 1.0000 - val_loss: 0.1561 - val_accuracy: 0.9713\n",
            "Epoch 7/10\n",
            "20/20 [==============================] - 0s 17ms/step - loss: 2.2398e-05 - accuracy: 1.0000 - val_loss: 0.1560 - val_accuracy: 0.9702\n",
            "Epoch 8/10\n",
            "20/20 [==============================] - 0s 16ms/step - loss: 2.2756e-05 - accuracy: 1.0000 - val_loss: 0.1563 - val_accuracy: 0.9713\n",
            "Epoch 9/10\n",
            "20/20 [==============================] - 0s 21ms/step - loss: 1.8513e-05 - accuracy: 1.0000 - val_loss: 0.1579 - val_accuracy: 0.9702\n",
            "Epoch 10/10\n",
            "20/20 [==============================] - 0s 17ms/step - loss: 2.3197e-05 - accuracy: 1.0000 - val_loss: 0.1572 - val_accuracy: 0.9702\n"
          ]
        }
      ]
    },
    {
      "cell_type": "code",
      "source": [
        "plt.figure(figsize=(14,7))\n",
        "plt.plot(history.history['accuracy'],\n",
        "         label='Доля верных ответов на обучающем наборе')\n",
        "plt.plot(history.history['val_accuracy'],\n",
        "         label='Доля верных ответов на проверочном наборе')\n",
        "plt.xlabel('Эпоха обучения')\n",
        "plt.ylabel('Доля верных ответов')\n",
        "plt.legend()\n",
        "plt.show()"
      ],
      "metadata": {
        "id": "0vi9yjtkxq-Z",
        "colab": {
          "base_uri": "https://localhost:8080/",
          "height": 442
        },
        "outputId": "ece6eced-39ed-4037-c8e5-fd9f9ed8d491"
      },
      "execution_count": null,
      "outputs": [
        {
          "output_type": "display_data",
          "data": {
            "image/png": "[encoded data removed]",
            "text/plain": [
              "<Figure size 1008x504 with 1 Axes>"
            ]
          },
          "metadata": {
            "needs_background": "light"
          }
        }
      ]
    },
    {
      "cell_type": "code",
      "source": [
        "model01.summary()"
      ],
      "metadata": {
        "colab": {
          "base_uri": "https://localhost:8080/"
        },
        "id": "4Es2Wou1Fb-A",
        "outputId": "bc0a43fa-988b-4187-f053-f9d940faafd9"
      },
      "execution_count": null,
      "outputs": [
        {
          "output_type": "stream",
          "name": "stdout",
          "text": [
            "Model: \"sequential_1\"\n",
            "_________________________________________________________________\n",
            " Layer (type)                Output Shape              Param #   \n",
            "=================================================================\n",
            " dense_2 (Dense)             (None, 200)               4000200   \n",
            "                                                                 \n",
            " dropout_1 (Dropout)         (None, 200)               0         \n",
            "                                                                 \n",
            " batch_normalization_1 (Batc  (None, 200)              800       \n",
            " hNormalization)                                                 \n",
            "                                                                 \n",
            " dense_3 (Dense)             (None, 6)                 1206      \n",
            "                                                                 \n",
            "=================================================================\n",
            "Total params: 4,002,206\n",
            "Trainable params: 4,001,806\n",
            "Non-trainable params: 400\n",
            "_________________________________________________________________\n"
          ]
        }
      ]
    },
    {
      "cell_type": "code",
      "source": [
        "model01.save_weights('model.h5')\n"
      ],
      "metadata": {
        "id": "39uZj3DPEg3u"
      },
      "execution_count": null,
      "outputs": []
    },
    {
      "cell_type": "code",
      "source": [
        "model01.load_weights('model.h5')"
      ],
      "metadata": {
        "id": "8gQj-vozEhIL"
      },
      "execution_count": null,
      "outputs": []
    },
    {
      "cell_type": "code",
      "source": [
        "pred = recognizeMultiClass(model01, xTest6Classes01, \"Тексты 01 + Dense\")"
      ],
      "metadata": {
        "id": "fz2E0vu6Dc1s",
        "colab": {
          "base_uri": "https://localhost:8080/"
        },
        "outputId": "71b020ae-d7fd-4439-c18f-9d27cb09ff80"
      },
      "execution_count": null,
      "outputs": [
        {
          "output_type": "stream",
          "name": "stdout",
          "text": [
            "НЕЙРОНКА:  Тексты 01 + Dense\n",
            "\n",
            "Класс: О. Генри   100% сеть отнесла к классу О. Генри  Это ПРАВИЛЬНЫЙ ответ!\n",
            "Класс: Стругацкие 100% сеть отнесла к классу СтругацкиеЭто ПРАВИЛЬНЫЙ ответ!\n",
            "Класс: Булгаков   99% сеть отнесла к классу Булгаков   Это ПРАВИЛЬНЫЙ ответ!\n",
            "Класс: Саймак     100% сеть отнесла к классу Саймак    Это ПРАВИЛЬНЫЙ ответ!\n",
            "Класс: Фрай       90% сеть отнесла к классу Фрай       Это ПРАВИЛЬНЫЙ ответ!\n",
            "Класс: Брэдберри  100% сеть отнесла к классу Брэдберри Это ПРАВИЛЬНЫЙ ответ!\n",
            "\n",
            "Средний процент распознавания 97%\n",
            "\n"
          ]
        }
      ]
    },
    {
      "cell_type": "markdown",
      "source": [
        "EMBEDDING + DENSE"
      ],
      "metadata": {
        "id": "G9NSL7dqzMe2"
      }
    },
    {
      "cell_type": "code",
      "source": [
        "# Model with Embedding layer\n",
        "model02 = Sequential()\n",
        "model02.add(Embedding(maxWordsCount, 10, input_length=xLen))\n",
        "model02.add(SpatialDropout1D(0.2))\n",
        "model02.add(Flatten())\n",
        "model02.add(BatchNormalization())\n",
        "model02.add(Dense(200, activation=\"relu\"))\n",
        "model02.add(Dropout(0.2))\n",
        "model02.add(BatchNormalization())\n",
        "model02.add(Dense(6, activation='softmax'))\n",
        "\n",
        "model02.compile(optimizer='adam', loss='categorical_crossentropy', metrics=['accuracy'])\n"
      ],
      "metadata": {
        "id": "K11fnXn3zJ-g"
      },
      "execution_count": null,
      "outputs": []
    },
    {
      "cell_type": "code",
      "source": [
        "model02.summary()"
      ],
      "metadata": {
        "id": "bGxG4gXyzKJU",
        "colab": {
          "base_uri": "https://localhost:8080/"
        },
        "outputId": "403c1e54-7b80-4a59-d56d-d49441b9648c"
      },
      "execution_count": null,
      "outputs": [
        {
          "output_type": "stream",
          "name": "stdout",
          "text": [
            "Model: \"sequential_2\"\n",
            "_________________________________________________________________\n",
            " Layer (type)                Output Shape              Param #   \n",
            "=================================================================\n",
            " embedding (Embedding)       (None, 5000, 10)          200000    \n",
            "                                                                 \n",
            " spatial_dropout1d (SpatialD  (None, 5000, 10)         0         \n",
            " ropout1D)                                                       \n",
            "                                                                 \n",
            " flatten (Flatten)           (None, 50000)             0         \n",
            "                                                                 \n",
            " batch_normalization_2 (Batc  (None, 50000)            200000    \n",
            " hNormalization)                                                 \n",
            "                                                                 \n",
            " dense_4 (Dense)             (None, 200)               10000200  \n",
            "                                                                 \n",
            " dropout_2 (Dropout)         (None, 200)               0         \n",
            "                                                                 \n",
            " batch_normalization_3 (Batc  (None, 200)              800       \n",
            " hNormalization)                                                 \n",
            "                                                                 \n",
            " dense_5 (Dense)             (None, 6)                 1206      \n",
            "                                                                 \n",
            "=================================================================\n",
            "Total params: 10,402,206\n",
            "Trainable params: 10,301,806\n",
            "Non-trainable params: 100,400\n",
            "_________________________________________________________________\n"
          ]
        }
      ]
    },
    {
      "cell_type": "code",
      "source": [
        "history2 = model02.fit(xTrain, yTrain, epochs=10, batch_size=128, validation_data=(xTest, yTest))"
      ],
      "metadata": {
        "id": "EK9a4AoiB0HU",
        "colab": {
          "base_uri": "https://localhost:8080/"
        },
        "outputId": "fa0364f1-4e9a-49f2-b353-54adf2ace802"
      },
      "execution_count": null,
      "outputs": [
        {
          "output_type": "stream",
          "name": "stdout",
          "text": [
            "Epoch 1/10\n",
            "272/272 [==============================] - 59s 212ms/step - loss: 0.3186 - accuracy: 0.9041 - val_loss: 1.5068 - val_accuracy: 0.4342\n",
            "Epoch 2/10\n",
            "272/272 [==============================] - 58s 212ms/step - loss: 0.0092 - accuracy: 0.9980 - val_loss: 0.8191 - val_accuracy: 0.7109\n",
            "Epoch 3/10\n",
            "272/272 [==============================] - 57s 209ms/step - loss: 0.0048 - accuracy: 0.9990 - val_loss: 0.5358 - val_accuracy: 0.8282\n",
            "Epoch 4/10\n",
            "272/272 [==============================] - 57s 210ms/step - loss: 0.0034 - accuracy: 0.9994 - val_loss: 0.7307 - val_accuracy: 0.7613\n",
            "Epoch 5/10\n",
            "272/272 [==============================] - 56s 207ms/step - loss: 0.0025 - accuracy: 0.9993 - val_loss: 0.6807 - val_accuracy: 0.7709\n",
            "Epoch 6/10\n",
            "272/272 [==============================] - 57s 209ms/step - loss: 0.0023 - accuracy: 0.9995 - val_loss: 0.5736 - val_accuracy: 0.8185\n",
            "Epoch 7/10\n",
            "272/272 [==============================] - 57s 210ms/step - loss: 0.0017 - accuracy: 0.9996 - val_loss: 0.5936 - val_accuracy: 0.8217\n",
            "Epoch 8/10\n",
            "272/272 [==============================] - 56s 205ms/step - loss: 0.0018 - accuracy: 0.9995 - val_loss: 0.5072 - val_accuracy: 0.8316\n",
            "Epoch 9/10\n",
            "272/272 [==============================] - 57s 210ms/step - loss: 0.0029 - accuracy: 0.9990 - val_loss: 0.5675 - val_accuracy: 0.8064\n",
            "Epoch 10/10\n",
            "272/272 [==============================] - 56s 206ms/step - loss: 0.0015 - accuracy: 0.9996 - val_loss: 0.8719 - val_accuracy: 0.7420\n"
          ]
        }
      ]
    },
    {
      "cell_type": "code",
      "source": [
        "plt.figure(figsize=(14,7))\n",
        "plt.plot(history2.history['accuracy'],\n",
        "         label='Доля верных ответов на обучающем наборе')\n",
        "plt.plot(history2.history['val_accuracy'],\n",
        "         label='Доля верных ответов на проверочном наборе')\n",
        "plt.xlabel('Эпоха обучения')\n",
        "plt.ylabel('Доля верных ответов')\n",
        "plt.legend()\n",
        "plt.show()"
      ],
      "metadata": {
        "id": "pamKpMqJCFM2",
        "colab": {
          "base_uri": "https://localhost:8080/",
          "height": 442
        },
        "outputId": "086f951d-7ac3-4678-e426-a16a45c106b5"
      },
      "execution_count": null,
      "outputs": [
        {
          "output_type": "display_data",
          "data": {
            "image/png": "[encoded data removed]",
            "text/plain": [
              "<Figure size 1008x504 with 1 Axes>"
            ]
          },
          "metadata": {
            "needs_background": "light"
          }
        }
      ]
    },
    {
      "cell_type": "code",
      "source": [
        "model02.save_weights('model.h5')\n",
        "model02.load_weights('model.h5')"
      ],
      "metadata": {
        "id": "FqJFdxzFC_O2"
      },
      "execution_count": null,
      "outputs": []
    },
    {
      "cell_type": "code",
      "source": [
        "# Проверка результатов работы Embedding сети.\n",
        "_,xTest6Classes = createTestMultiClasses(testWordIndexes, xLen, step) # Преобразование тестовой выборки\n",
        "pred = recognizeMultiClass(model02, xTest6Classes, \"Embedding + Dense\")"
      ],
      "metadata": {
        "id": "GqZcUqL8C_TS",
        "colab": {
          "base_uri": "https://localhost:8080/"
        },
        "outputId": "80ca7b6f-7b04-4144-f4fa-bdddbb747361"
      },
      "execution_count": null,
      "outputs": [
        {
          "output_type": "stream",
          "name": "stderr",
          "text": [
            "/usr/local/lib/python3.7/dist-packages/ipykernel_launcher.py:13: VisibleDeprecationWarning: Creating an ndarray from ragged nested sequences (which is a list-or-tuple of lists-or-tuples-or ndarrays with different lengths or shapes) is deprecated. If you meant to do this, you must specify 'dtype=object' when creating the ndarray\n",
            "  del sys.path[0]\n",
            "/usr/local/lib/python3.7/dist-packages/ipykernel_launcher.py:14: VisibleDeprecationWarning: Creating an ndarray from ragged nested sequences (which is a list-or-tuple of lists-or-tuples-or ndarrays with different lengths or shapes) is deprecated. If you meant to do this, you must specify 'dtype=object' when creating the ndarray\n",
            "  \n"
          ]
        },
        {
          "output_type": "stream",
          "name": "stdout",
          "text": [
            "НЕЙРОНКА:  Embedding + Dense\n",
            "\n",
            "Класс: О. Генри   61% сеть отнесла к классу О. Генри   Это ПРАВИЛЬНЫЙ ответ!\n",
            "Класс: Стругацкие 52% сеть отнесла к классу Стругацкие Это ПРАВИЛЬНЫЙ ответ!\n",
            "Класс: Булгаков   70% сеть отнесла к классу Булгаков   Это ПРАВИЛЬНЫЙ ответ!\n",
            "Класс: Саймак     68% сеть отнесла к классу Саймак     Это ПРАВИЛЬНЫЙ ответ!\n",
            "Класс: Фрай       78% сеть отнесла к классу Фрай       Это ПРАВИЛЬНЫЙ ответ!\n",
            "Класс: Брэдберри  40% сеть отнесла к классу Брэдберри  Это ПРАВИЛЬНЫЙ ответ!\n",
            "\n",
            "Средний процент распознавания 63%\n",
            "\n"
          ]
        }
      ]
    },
    {
      "cell_type": "code",
      "source": [
        "#Создаём сеть с Embedding слоем\n",
        "model03 = Sequential()\n",
        "model03.add(Embedding(maxWordsCount, 200, input_length=xLen))\n",
        "model03.add(SpatialDropout1D(0.2))\n",
        "model03.add(Flatten())\n",
        "model03.add(BatchNormalization())\n",
        "model03.add(Dense(200, activation=\"relu\"))\n",
        "model03.add(Dropout(0.2))\n",
        "model03.add(BatchNormalization())\n",
        "model03.add(Dense(6, activation='sigmoid'))\n",
        "\n",
        "model03.compile(optimizer='adam', \n",
        "              loss='categorical_crossentropy', \n",
        "              metrics=['accuracy'])"
      ],
      "metadata": {
        "id": "MpPGL-k_UO0f"
      },
      "execution_count": null,
      "outputs": []
    },
    {
      "cell_type": "code",
      "source": [
        "model03.summary()"
      ],
      "metadata": {
        "colab": {
          "base_uri": "https://localhost:8080/"
        },
        "id": "HLVUb3CEUSH_",
        "outputId": "fcd91333-2a0b-4625-f2cf-0d312379475f"
      },
      "execution_count": null,
      "outputs": [
        {
          "output_type": "stream",
          "name": "stdout",
          "text": [
            "Model: \"sequential_1\"\n",
            "_________________________________________________________________\n",
            " Layer (type)                Output Shape              Param #   \n",
            "=================================================================\n",
            " embedding_1 (Embedding)     (None, 1000, 200)         4000000   \n",
            "                                                                 \n",
            " spatial_dropout1d_1 (Spatia  (None, 1000, 200)        0         \n",
            " lDropout1D)                                                     \n",
            "                                                                 \n",
            " flatten_1 (Flatten)         (None, 200000)            0         \n",
            "                                                                 \n",
            " batch_normalization_2 (Batc  (None, 200000)           800000    \n",
            " hNormalization)                                                 \n",
            "                                                                 \n",
            " dense_2 (Dense)             (None, 200)               40000200  \n",
            "                                                                 \n",
            " dropout_1 (Dropout)         (None, 200)               0         \n",
            "                                                                 \n",
            " batch_normalization_3 (Batc  (None, 200)              800       \n",
            " hNormalization)                                                 \n",
            "                                                                 \n",
            " dense_3 (Dense)             (None, 6)                 1206      \n",
            "                                                                 \n",
            "=================================================================\n",
            "Total params: 44,802,206\n",
            "Trainable params: 44,401,806\n",
            "Non-trainable params: 400,400\n",
            "_________________________________________________________________\n"
          ]
        }
      ]
    },
    {
      "cell_type": "code",
      "source": [
        "#Обучаем сеть c Embadding layers на xTrain\n",
        "history03 = model03.fit(xTrain, yTrain, epochs=10, batch_size=128, validation_data=(xTest, yTest))"
      ],
      "metadata": {
        "colab": {
          "base_uri": "https://localhost:8080/"
        },
        "id": "yQucO0cJUSSV",
        "outputId": "9cccbbc8-5580-4429-cea5-f49c0fecc3c0"
      },
      "execution_count": null,
      "outputs": [
        {
          "output_type": "stream",
          "name": "stdout",
          "text": [
            "Epoch 1/10\n",
            "138/138 [==============================] - 15s 100ms/step - loss: 0.6169 - accuracy: 0.8291 - val_loss: 1.6277 - val_accuracy: 0.3646\n",
            "Epoch 2/10\n",
            "138/138 [==============================] - 14s 100ms/step - loss: 0.0099 - accuracy: 0.9999 - val_loss: 1.5296 - val_accuracy: 0.3504\n",
            "Epoch 3/10\n",
            "138/138 [==============================] - 14s 99ms/step - loss: 0.0031 - accuracy: 1.0000 - val_loss: 1.1984 - val_accuracy: 0.5265\n",
            "Epoch 4/10\n",
            "138/138 [==============================] - 14s 101ms/step - loss: 0.0016 - accuracy: 1.0000 - val_loss: 0.9433 - val_accuracy: 0.6720\n",
            "Epoch 5/10\n",
            "138/138 [==============================] - 13s 98ms/step - loss: 0.0011 - accuracy: 1.0000 - val_loss: 0.8519 - val_accuracy: 0.7098\n",
            "Epoch 6/10\n",
            "138/138 [==============================] - 15s 106ms/step - loss: 7.4807e-04 - accuracy: 1.0000 - val_loss: 0.8488 - val_accuracy: 0.7175\n",
            "Epoch 7/10\n",
            "138/138 [==============================] - 15s 108ms/step - loss: 6.0234e-04 - accuracy: 1.0000 - val_loss: 0.8382 - val_accuracy: 0.7243\n",
            "Epoch 8/10\n",
            "138/138 [==============================] - 14s 104ms/step - loss: 4.8159e-04 - accuracy: 1.0000 - val_loss: 0.8491 - val_accuracy: 0.7224\n",
            "Epoch 9/10\n",
            "138/138 [==============================] - 15s 108ms/step - loss: 3.5103e-04 - accuracy: 1.0000 - val_loss: 0.8435 - val_accuracy: 0.7251\n",
            "Epoch 10/10\n",
            "138/138 [==============================] - 14s 103ms/step - loss: 2.8958e-04 - accuracy: 1.0000 - val_loss: 0.8419 - val_accuracy: 0.7278\n"
          ]
        }
      ]
    },
    {
      "cell_type": "code",
      "source": [
        "plt.figure(figsize=(14,7))\n",
        "plt.plot(history03.history['accuracy'],\n",
        "         label='Доля верных ответов на обучающем наборе')\n",
        "plt.plot(history03.history['val_accuracy'],\n",
        "         label='Доля верных ответов на проверочном наборе')\n",
        "plt.xlabel('Эпоха обучения')\n",
        "plt.ylabel('Доля верных ответов')\n",
        "plt.legend()\n",
        "plt.show()"
      ],
      "metadata": {
        "colab": {
          "base_uri": "https://localhost:8080/",
          "height": 442
        },
        "id": "eAQLBVWsk5hw",
        "outputId": "cd1cb004-3cfd-4a9c-cff4-e037b817ec32"
      },
      "execution_count": null,
      "outputs": [
        {
          "output_type": "display_data",
          "data": {
            "image/png": "[encoded data removed]",
            "text/plain": [
              "<Figure size 1008x504 with 1 Axes>"
            ]
          },
          "metadata": {
            "needs_background": "light"
          }
        }
      ]
    },
    {
      "cell_type": "code",
      "source": [
        "# Проверка результатов работы Embedding сети.\n",
        "_,xTest6Classes = createTestMultiClasses(testWordIndexes, xLen, step) # Преобразование тестовой выборки\n",
        "pred = recognizeMultiClass(model03, xTest6Classes, \"Embedding на xTrain\")"
      ],
      "metadata": {
        "colab": {
          "base_uri": "https://localhost:8080/"
        },
        "id": "3vCv3e6DlCcx",
        "outputId": "ed948d4e-d5f3-40e1-9f5e-50f4bcd87d00"
      },
      "execution_count": null,
      "outputs": [
        {
          "output_type": "stream",
          "name": "stderr",
          "text": [
            "/usr/local/lib/python3.7/dist-packages/ipykernel_launcher.py:13: VisibleDeprecationWarning: Creating an ndarray from ragged nested sequences (which is a list-or-tuple of lists-or-tuples-or ndarrays with different lengths or shapes) is deprecated. If you meant to do this, you must specify 'dtype=object' when creating the ndarray\n",
            "  del sys.path[0]\n",
            "/usr/local/lib/python3.7/dist-packages/ipykernel_launcher.py:14: VisibleDeprecationWarning: Creating an ndarray from ragged nested sequences (which is a list-or-tuple of lists-or-tuples-or ndarrays with different lengths or shapes) is deprecated. If you meant to do this, you must specify 'dtype=object' when creating the ndarray\n",
            "  \n"
          ]
        },
        {
          "output_type": "stream",
          "name": "stdout",
          "text": [
            "НЕЙРОНКА:  Embedding на xTrain\n",
            "\n",
            "Класс: О. Генри   85% сеть отнесла к классу О. Генри   Это ПРАВИЛЬНЫЙ ответ!\n",
            "Класс: Стругацкие 68% сеть отнесла к классу Стругацкие Это ПРАВИЛЬНЫЙ ответ!\n",
            "Класс: Булгаков   61% сеть отнесла к классу Булгаков   Это ПРАВИЛЬНЫЙ ответ!\n",
            "Класс: Саймак     69% сеть отнесла к классу Саймак     Это ПРАВИЛЬНЫЙ ответ!\n",
            "Класс: Фрай       83% сеть отнесла к классу Фрай       Это ПРАВИЛЬНЫЙ ответ!\n",
            "Класс: Брэдберри  68% сеть отнесла к классу Брэдберри  Это ПРАВИЛЬНЫЙ ответ!\n",
            "\n",
            "Средний процент распознавания 72%\n",
            "\n"
          ]
        }
      ]
    }
  ]
}