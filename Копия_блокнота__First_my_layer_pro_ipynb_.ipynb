{
  "nbformat": 4,
  "nbformat_minor": 0,
  "metadata": {
    "colab": {
      "name": "Копия блокнота \"First_my_layer_pro.ipynb\"",
      "provenance": [],
      "collapsed_sections": []
    },
    "kernelspec": {
      "name": "python3",
      "display_name": "Python 3"
    },
    "language_info": {
      "name": "python"
    }
  },
  "cells": [
    {
      "cell_type": "code",
      "metadata": {
        "id": "-EB5Fvic0qKv"
      },
      "source": [
        "from tensorflow.keras.datasets import mnist #Библиотека с базой Mnist\n",
        "from tensorflow.keras.models import Sequential # Подлючаем класс создания модели Sequential\n",
        "from tensorflow.keras.layers import Dense # Подключаем класс Dense - полносвязный слой\n",
        "from tensorflow.keras.optimizers import Adam # Подключаем оптимизатор Adam\n",
        "from tensorflow.keras import utils #Утилиты для to_categorical\n",
        "from tensorflow.keras.preprocessing import image #Для отрисовки изображения\n",
        "import numpy as np # Подключаем библиотеку numpy\n",
        "import pylab # Модуль для построения графиков\n",
        "from mpl_toolkits.mplot3d import Axes3D # Модуль для трехмерной графики\n",
        "from google.colab import files #Для загрузки своей картинки\n",
        "import matplotlib.pyplot as plt #Отрисовка изображений\n",
        "from PIL import Image #Отрисовка изображений\n",
        "#Отрисовывать изображения в ноутбуке, а не в консоль или файл\n",
        "%matplotlib inline \n",
        "from tensorflow.keras.models import save_model, load_model\n",
        "import PIL.ImageOps \n",
        "\n",
        "\n"
      ],
      "execution_count": null,
      "outputs": []
    },
    {
      "cell_type": "code",
      "metadata": {
        "colab": {
          "base_uri": "https://localhost:8080/"
        },
        "id": "Wt2RqU1_Ih6D",
        "outputId": "89b4a194-1ea3-4d86-f41e-a2ccb0672b2e"
      },
      "source": [
        "# Для загрузки данных используем drive\n",
        "from google.colab import drive\n",
        "drive.mount('/content/drive')"
      ],
      "execution_count": null,
      "outputs": [
        {
          "output_type": "stream",
          "name": "stdout",
          "text": [
            "Mounted at /content/drive\n"
          ]
        }
      ]
    },
    {
      "cell_type": "code",
      "metadata": {
        "id": "885KteVpLNVE"
      },
      "source": [
        "imgone = image.load_img('/content/drive/MyDrive/Цифра1.png', target_size=(28,28), color_mode = 'grayscale') # Загружаю картинку"
      ],
      "execution_count": null,
      "outputs": []
    },
    {
      "cell_type": "code",
      "metadata": {
        "id": "_cQ8YsHwI1Ri"
      },
      "source": [
        "imgs = image.load_img('/content/drive/MyDrive/Цифра.png', target_size=(28,28), color_mode = 'grayscale') # Загружаю картинку"
      ],
      "execution_count": null,
      "outputs": []
    },
    {
      "cell_type": "code",
      "metadata": {
        "id": "h80LGHtRS4x5"
      },
      "source": [
        "imgf = image.load_img('/content/drive/MyDrive/FotoFour.jpg', target_size=(28,28), color_mode = 'grayscale') # Загружаю картинку"
      ],
      "execution_count": null,
      "outputs": []
    },
    {
      "cell_type": "code",
      "metadata": {
        "colab": {
          "base_uri": "https://localhost:8080/",
          "height": 45
        },
        "id": "4vH-vdjZdmdV",
        "outputId": "02318d1a-defa-4d19-e2e7-ea4d958b87df"
      },
      "source": [
        "imgone"
      ],
      "execution_count": null,
      "outputs": [
        {
          "output_type": "execute_result",
          "data": {
            "image/png": "[encoded data removed]",
            "text/plain": [
              "<PIL.Image.Image image mode=L size=28x28 at 0x7F72724D2190>"
            ]
          },
          "metadata": {},
          "execution_count": 6
        }
      ]
    },
    {
      "cell_type": "code",
      "metadata": {
        "colab": {
          "base_uri": "https://localhost:8080/",
          "height": 45
        },
        "id": "9RdFJhEII75j",
        "outputId": "5e0a8091-2147-41ae-a968-d1d04373fd1e"
      },
      "source": [
        "imgs"
      ],
      "execution_count": null,
      "outputs": [
        {
          "output_type": "execute_result",
          "data": {
            "image/png": "[encoded data removed]",
            "text/plain": [
              "<PIL.Image.Image image mode=L size=28x28 at 0x7F727249C650>"
            ]
          },
          "metadata": {},
          "execution_count": 7
        }
      ]
    },
    {
      "cell_type": "code",
      "metadata": {
        "colab": {
          "base_uri": "https://localhost:8080/",
          "height": 45
        },
        "id": "xqebIwwsS6vS",
        "outputId": "3619e97d-5ec4-4f93-a09d-a22f74a35a5d"
      },
      "source": [
        "imgf"
      ],
      "execution_count": null,
      "outputs": [
        {
          "output_type": "execute_result",
          "data": {
            "image/png": "[encoded data removed]",
            "text/plain": [
              "<PIL.Image.Image image mode=L size=28x28 at 0x7F72724AF290>"
            ]
          },
          "metadata": {},
          "execution_count": 8
        }
      ]
    },
    {
      "cell_type": "code",
      "metadata": {
        "id": "vSdF3a8PVzUH"
      },
      "source": [
        "imgone = image.img_to_array(imgone)     # Преобразую в массив\n",
        "imgs = image.img_to_array(imgs) \n",
        "imgf = image.img_to_array(imgf)     # Преобразую в массив"
      ],
      "execution_count": null,
      "outputs": []
    },
    {
      "cell_type": "code",
      "metadata": {
        "colab": {
          "base_uri": "https://localhost:8080/"
        },
        "id": "OMGiWx_f9HLJ",
        "outputId": "d3f49713-6eed-4dd7-d94e-dd9b3ad65f14"
      },
      "source": [
        "imgone[0]       # Проверка содержимого. "
      ],
      "execution_count": null,
      "outputs": [
        {
          "output_type": "execute_result",
          "data": {
            "text/plain": [
              "array([[255.],\n",
              "       [255.],\n",
              "       [255.],\n",
              "       [255.],\n",
              "       [255.],\n",
              "       [255.],\n",
              "       [255.],\n",
              "       [255.],\n",
              "       [255.],\n",
              "       [255.],\n",
              "       [255.],\n",
              "       [255.],\n",
              "       [255.],\n",
              "       [255.],\n",
              "       [255.],\n",
              "       [255.],\n",
              "       [255.],\n",
              "       [255.],\n",
              "       [255.],\n",
              "       [255.],\n",
              "       [255.],\n",
              "       [255.],\n",
              "       [255.],\n",
              "       [255.],\n",
              "       [255.],\n",
              "       [255.],\n",
              "       [255.],\n",
              "       [255.]], dtype=float32)"
            ]
          },
          "metadata": {},
          "execution_count": 10
        }
      ]
    },
    {
      "cell_type": "code",
      "metadata": {
        "colab": {
          "base_uri": "https://localhost:8080/"
        },
        "id": "lC-5m3ympgrq",
        "outputId": "89a9fbd6-2c75-45fd-b1a9-8656cb8976c9"
      },
      "source": [
        "imgone.shape # Размерность"
      ],
      "execution_count": null,
      "outputs": [
        {
          "output_type": "execute_result",
          "data": {
            "text/plain": [
              "(28, 28, 1)"
            ]
          },
          "metadata": {},
          "execution_count": 11
        }
      ]
    },
    {
      "cell_type": "code",
      "metadata": {
        "colab": {
          "base_uri": "https://localhost:8080/"
        },
        "id": "jVEx_hOoJHuL",
        "outputId": "d58e2414-0908-48e5-95c7-4bf3bf015b07"
      },
      "source": [
        "imgs.shape"
      ],
      "execution_count": null,
      "outputs": [
        {
          "output_type": "execute_result",
          "data": {
            "text/plain": [
              "(28, 28, 1)"
            ]
          },
          "metadata": {},
          "execution_count": 12
        }
      ]
    },
    {
      "cell_type": "code",
      "metadata": {
        "id": "s6UcEhuz-KKo"
      },
      "source": [
        "imgone=255-imgone      # Инверсия цвета\n",
        "imgs=255-imgs\n",
        "imgf=255-imgf     # Инверсия цветов картинки"
      ],
      "execution_count": null,
      "outputs": []
    },
    {
      "cell_type": "code",
      "metadata": {
        "colab": {
          "base_uri": "https://localhost:8080/"
        },
        "id": "JoArDlE7PVH3",
        "outputId": "840d0bda-7888-4099-d080-71d3206f2c31"
      },
      "source": [
        "imgone"
      ],
      "execution_count": null,
      "outputs": [
        {
          "output_type": "execute_result",
          "data": {
            "text/plain": [
              "array([[[ 0.],\n",
              "        [ 0.],\n",
              "        [ 0.],\n",
              "        [ 0.],\n",
              "        [ 0.],\n",
              "        [ 0.],\n",
              "        [ 0.],\n",
              "        [ 0.],\n",
              "        [ 0.],\n",
              "        [ 0.],\n",
              "        [ 0.],\n",
              "        [ 0.],\n",
              "        [ 0.],\n",
              "        [ 0.],\n",
              "        [ 0.],\n",
              "        [ 0.],\n",
              "        [ 0.],\n",
              "        [ 0.],\n",
              "        [ 0.],\n",
              "        [ 0.],\n",
              "        [ 0.],\n",
              "        [ 0.],\n",
              "        [ 0.],\n",
              "        [ 0.],\n",
              "        [ 0.],\n",
              "        [ 0.],\n",
              "        [ 0.],\n",
              "        [ 0.]],\n",
              "\n",
              "       [[ 0.],\n",
              "        [ 0.],\n",
              "        [ 0.],\n",
              "        [ 0.],\n",
              "        [ 0.],\n",
              "        [ 0.],\n",
              "        [ 0.],\n",
              "        [ 0.],\n",
              "        [ 0.],\n",
              "        [ 0.],\n",
              "        [ 0.],\n",
              "        [ 0.],\n",
              "        [ 0.],\n",
              "        [ 0.],\n",
              "        [ 0.],\n",
              "        [ 0.],\n",
              "        [ 0.],\n",
              "        [ 0.],\n",
              "        [ 0.],\n",
              "        [ 0.],\n",
              "        [ 0.],\n",
              "        [ 0.],\n",
              "        [ 0.],\n",
              "        [ 0.],\n",
              "        [ 0.],\n",
              "        [ 0.],\n",
              "        [ 0.],\n",
              "        [ 0.]],\n",
              "\n",
              "       [[ 0.],\n",
              "        [ 0.],\n",
              "        [ 0.],\n",
              "        [ 0.],\n",
              "        [ 0.],\n",
              "        [ 0.],\n",
              "        [ 0.],\n",
              "        [ 0.],\n",
              "        [ 0.],\n",
              "        [ 0.],\n",
              "        [ 0.],\n",
              "        [ 0.],\n",
              "        [ 0.],\n",
              "        [ 0.],\n",
              "        [ 0.],\n",
              "        [ 0.],\n",
              "        [ 0.],\n",
              "        [ 0.],\n",
              "        [ 0.],\n",
              "        [ 0.],\n",
              "        [ 0.],\n",
              "        [ 0.],\n",
              "        [ 0.],\n",
              "        [ 0.],\n",
              "        [ 0.],\n",
              "        [ 0.],\n",
              "        [ 0.],\n",
              "        [ 0.]],\n",
              "\n",
              "       [[ 0.],\n",
              "        [ 0.],\n",
              "        [ 0.],\n",
              "        [ 0.],\n",
              "        [ 0.],\n",
              "        [ 0.],\n",
              "        [ 0.],\n",
              "        [ 0.],\n",
              "        [ 0.],\n",
              "        [ 0.],\n",
              "        [ 0.],\n",
              "        [ 0.],\n",
              "        [ 0.],\n",
              "        [ 0.],\n",
              "        [ 0.],\n",
              "        [ 0.],\n",
              "        [ 0.],\n",
              "        [ 9.],\n",
              "        [ 0.],\n",
              "        [ 0.],\n",
              "        [ 0.],\n",
              "        [ 0.],\n",
              "        [ 0.],\n",
              "        [ 0.],\n",
              "        [ 0.],\n",
              "        [ 0.],\n",
              "        [ 0.],\n",
              "        [ 0.]],\n",
              "\n",
              "       [[ 0.],\n",
              "        [ 0.],\n",
              "        [ 0.],\n",
              "        [ 0.],\n",
              "        [ 0.],\n",
              "        [ 0.],\n",
              "        [ 0.],\n",
              "        [ 0.],\n",
              "        [ 0.],\n",
              "        [ 0.],\n",
              "        [ 0.],\n",
              "        [ 0.],\n",
              "        [ 0.],\n",
              "        [ 0.],\n",
              "        [ 0.],\n",
              "        [ 0.],\n",
              "        [12.],\n",
              "        [84.],\n",
              "        [ 0.],\n",
              "        [ 0.],\n",
              "        [ 0.],\n",
              "        [ 0.],\n",
              "        [ 0.],\n",
              "        [ 0.],\n",
              "        [ 0.],\n",
              "        [ 0.],\n",
              "        [ 0.],\n",
              "        [ 0.]],\n",
              "\n",
              "       [[ 0.],\n",
              "        [ 0.],\n",
              "        [ 0.],\n",
              "        [ 0.],\n",
              "        [ 0.],\n",
              "        [ 0.],\n",
              "        [ 0.],\n",
              "        [ 0.],\n",
              "        [ 0.],\n",
              "        [ 0.],\n",
              "        [ 0.],\n",
              "        [ 0.],\n",
              "        [ 0.],\n",
              "        [ 0.],\n",
              "        [ 0.],\n",
              "        [ 0.],\n",
              "        [47.],\n",
              "        [92.],\n",
              "        [ 0.],\n",
              "        [ 0.],\n",
              "        [ 0.],\n",
              "        [ 0.],\n",
              "        [ 0.],\n",
              "        [ 0.],\n",
              "        [ 0.],\n",
              "        [ 0.],\n",
              "        [ 0.],\n",
              "        [ 0.]],\n",
              "\n",
              "       [[ 0.],\n",
              "        [ 0.],\n",
              "        [ 0.],\n",
              "        [ 0.],\n",
              "        [ 0.],\n",
              "        [ 0.],\n",
              "        [ 0.],\n",
              "        [ 0.],\n",
              "        [ 0.],\n",
              "        [ 0.],\n",
              "        [ 0.],\n",
              "        [ 0.],\n",
              "        [ 0.],\n",
              "        [ 0.],\n",
              "        [ 0.],\n",
              "        [ 0.],\n",
              "        [60.],\n",
              "        [43.],\n",
              "        [ 0.],\n",
              "        [ 0.],\n",
              "        [ 0.],\n",
              "        [ 0.],\n",
              "        [ 0.],\n",
              "        [ 0.],\n",
              "        [ 0.],\n",
              "        [ 0.],\n",
              "        [ 0.],\n",
              "        [ 0.]],\n",
              "\n",
              "       [[ 0.],\n",
              "        [ 0.],\n",
              "        [ 0.],\n",
              "        [ 0.],\n",
              "        [ 0.],\n",
              "        [ 0.],\n",
              "        [ 0.],\n",
              "        [ 0.],\n",
              "        [ 0.],\n",
              "        [ 0.],\n",
              "        [ 0.],\n",
              "        [ 0.],\n",
              "        [ 0.],\n",
              "        [ 0.],\n",
              "        [ 0.],\n",
              "        [27.],\n",
              "        [51.],\n",
              "        [30.],\n",
              "        [ 0.],\n",
              "        [ 0.],\n",
              "        [ 0.],\n",
              "        [ 0.],\n",
              "        [ 0.],\n",
              "        [ 0.],\n",
              "        [ 0.],\n",
              "        [ 0.],\n",
              "        [ 0.],\n",
              "        [ 0.]],\n",
              "\n",
              "       [[ 0.],\n",
              "        [ 0.],\n",
              "        [ 0.],\n",
              "        [ 0.],\n",
              "        [ 0.],\n",
              "        [ 0.],\n",
              "        [ 0.],\n",
              "        [ 0.],\n",
              "        [ 0.],\n",
              "        [ 0.],\n",
              "        [ 0.],\n",
              "        [ 0.],\n",
              "        [ 0.],\n",
              "        [ 0.],\n",
              "        [ 0.],\n",
              "        [47.],\n",
              "        [55.],\n",
              "        [ 6.],\n",
              "        [ 0.],\n",
              "        [ 0.],\n",
              "        [ 0.],\n",
              "        [ 0.],\n",
              "        [ 0.],\n",
              "        [ 0.],\n",
              "        [ 0.],\n",
              "        [ 0.],\n",
              "        [ 0.],\n",
              "        [ 0.]],\n",
              "\n",
              "       [[ 0.],\n",
              "        [ 0.],\n",
              "        [ 0.],\n",
              "        [ 0.],\n",
              "        [ 0.],\n",
              "        [ 0.],\n",
              "        [ 0.],\n",
              "        [ 0.],\n",
              "        [ 0.],\n",
              "        [ 0.],\n",
              "        [ 0.],\n",
              "        [ 0.],\n",
              "        [ 0.],\n",
              "        [ 0.],\n",
              "        [ 3.],\n",
              "        [63.],\n",
              "        [45.],\n",
              "        [ 0.],\n",
              "        [ 0.],\n",
              "        [ 0.],\n",
              "        [ 0.],\n",
              "        [ 0.],\n",
              "        [ 0.],\n",
              "        [ 0.],\n",
              "        [ 0.],\n",
              "        [ 0.],\n",
              "        [ 0.],\n",
              "        [ 0.]],\n",
              "\n",
              "       [[ 0.],\n",
              "        [ 0.],\n",
              "        [ 0.],\n",
              "        [ 0.],\n",
              "        [ 0.],\n",
              "        [ 0.],\n",
              "        [ 0.],\n",
              "        [ 0.],\n",
              "        [ 0.],\n",
              "        [ 0.],\n",
              "        [ 0.],\n",
              "        [ 0.],\n",
              "        [ 0.],\n",
              "        [ 0.],\n",
              "        [30.],\n",
              "        [75.],\n",
              "        [11.],\n",
              "        [ 0.],\n",
              "        [ 0.],\n",
              "        [ 0.],\n",
              "        [ 0.],\n",
              "        [ 0.],\n",
              "        [ 0.],\n",
              "        [ 0.],\n",
              "        [ 0.],\n",
              "        [ 0.],\n",
              "        [ 0.],\n",
              "        [ 0.]],\n",
              "\n",
              "       [[ 0.],\n",
              "        [ 0.],\n",
              "        [ 0.],\n",
              "        [ 0.],\n",
              "        [ 0.],\n",
              "        [ 0.],\n",
              "        [ 0.],\n",
              "        [ 0.],\n",
              "        [ 0.],\n",
              "        [ 0.],\n",
              "        [ 0.],\n",
              "        [ 0.],\n",
              "        [ 6.],\n",
              "        [36.],\n",
              "        [58.],\n",
              "        [52.],\n",
              "        [ 0.],\n",
              "        [ 0.],\n",
              "        [ 0.],\n",
              "        [ 0.],\n",
              "        [ 0.],\n",
              "        [ 0.],\n",
              "        [ 0.],\n",
              "        [ 0.],\n",
              "        [ 0.],\n",
              "        [ 0.],\n",
              "        [ 0.],\n",
              "        [ 0.]],\n",
              "\n",
              "       [[ 0.],\n",
              "        [ 0.],\n",
              "        [ 0.],\n",
              "        [ 0.],\n",
              "        [ 0.],\n",
              "        [ 0.],\n",
              "        [ 0.],\n",
              "        [ 0.],\n",
              "        [ 0.],\n",
              "        [ 0.],\n",
              "        [ 0.],\n",
              "        [24.],\n",
              "        [50.],\n",
              "        [34.],\n",
              "        [36.],\n",
              "        [28.],\n",
              "        [ 0.],\n",
              "        [ 0.],\n",
              "        [ 0.],\n",
              "        [ 0.],\n",
              "        [ 0.],\n",
              "        [ 0.],\n",
              "        [ 0.],\n",
              "        [ 0.],\n",
              "        [ 0.],\n",
              "        [ 0.],\n",
              "        [ 0.],\n",
              "        [ 0.]],\n",
              "\n",
              "       [[ 0.],\n",
              "        [ 0.],\n",
              "        [ 0.],\n",
              "        [ 0.],\n",
              "        [ 0.],\n",
              "        [ 0.],\n",
              "        [ 0.],\n",
              "        [ 0.],\n",
              "        [ 0.],\n",
              "        [ 0.],\n",
              "        [ 0.],\n",
              "        [27.],\n",
              "        [16.],\n",
              "        [ 0.],\n",
              "        [38.],\n",
              "        [20.],\n",
              "        [ 0.],\n",
              "        [ 0.],\n",
              "        [ 0.],\n",
              "        [ 0.],\n",
              "        [ 0.],\n",
              "        [ 0.],\n",
              "        [ 0.],\n",
              "        [ 0.],\n",
              "        [ 0.],\n",
              "        [ 0.],\n",
              "        [ 0.],\n",
              "        [ 0.]],\n",
              "\n",
              "       [[ 0.],\n",
              "        [ 0.],\n",
              "        [ 0.],\n",
              "        [ 0.],\n",
              "        [ 0.],\n",
              "        [ 0.],\n",
              "        [ 0.],\n",
              "        [ 0.],\n",
              "        [ 0.],\n",
              "        [ 0.],\n",
              "        [ 0.],\n",
              "        [ 0.],\n",
              "        [ 0.],\n",
              "        [ 0.],\n",
              "        [45.],\n",
              "        [18.],\n",
              "        [ 0.],\n",
              "        [ 0.],\n",
              "        [ 0.],\n",
              "        [ 0.],\n",
              "        [ 0.],\n",
              "        [ 0.],\n",
              "        [ 0.],\n",
              "        [ 0.],\n",
              "        [ 0.],\n",
              "        [ 0.],\n",
              "        [ 0.],\n",
              "        [ 0.]],\n",
              "\n",
              "       [[ 0.],\n",
              "        [ 0.],\n",
              "        [ 0.],\n",
              "        [ 0.],\n",
              "        [ 0.],\n",
              "        [ 0.],\n",
              "        [ 0.],\n",
              "        [ 0.],\n",
              "        [ 0.],\n",
              "        [ 0.],\n",
              "        [ 0.],\n",
              "        [ 0.],\n",
              "        [ 0.],\n",
              "        [ 0.],\n",
              "        [47.],\n",
              "        [20.],\n",
              "        [ 0.],\n",
              "        [ 0.],\n",
              "        [ 0.],\n",
              "        [ 0.],\n",
              "        [ 0.],\n",
              "        [ 0.],\n",
              "        [ 0.],\n",
              "        [ 0.],\n",
              "        [ 0.],\n",
              "        [ 0.],\n",
              "        [ 0.],\n",
              "        [ 0.]],\n",
              "\n",
              "       [[ 0.],\n",
              "        [ 0.],\n",
              "        [ 0.],\n",
              "        [ 0.],\n",
              "        [ 0.],\n",
              "        [ 0.],\n",
              "        [ 0.],\n",
              "        [ 0.],\n",
              "        [ 0.],\n",
              "        [ 0.],\n",
              "        [ 0.],\n",
              "        [ 0.],\n",
              "        [ 0.],\n",
              "        [ 0.],\n",
              "        [56.],\n",
              "        [17.],\n",
              "        [ 0.],\n",
              "        [ 0.],\n",
              "        [ 0.],\n",
              "        [ 0.],\n",
              "        [ 0.],\n",
              "        [ 0.],\n",
              "        [ 0.],\n",
              "        [ 0.],\n",
              "        [ 0.],\n",
              "        [ 0.],\n",
              "        [ 0.],\n",
              "        [ 0.]],\n",
              "\n",
              "       [[ 0.],\n",
              "        [ 0.],\n",
              "        [ 0.],\n",
              "        [ 0.],\n",
              "        [ 0.],\n",
              "        [ 0.],\n",
              "        [ 0.],\n",
              "        [ 0.],\n",
              "        [ 0.],\n",
              "        [ 0.],\n",
              "        [ 0.],\n",
              "        [ 0.],\n",
              "        [ 0.],\n",
              "        [ 0.],\n",
              "        [49.],\n",
              "        [ 4.],\n",
              "        [ 0.],\n",
              "        [ 0.],\n",
              "        [ 0.],\n",
              "        [ 0.],\n",
              "        [ 0.],\n",
              "        [ 0.],\n",
              "        [ 0.],\n",
              "        [ 0.],\n",
              "        [ 0.],\n",
              "        [ 0.],\n",
              "        [ 0.],\n",
              "        [ 0.]],\n",
              "\n",
              "       [[ 0.],\n",
              "        [ 0.],\n",
              "        [ 0.],\n",
              "        [ 0.],\n",
              "        [ 0.],\n",
              "        [ 0.],\n",
              "        [ 0.],\n",
              "        [ 0.],\n",
              "        [ 0.],\n",
              "        [ 0.],\n",
              "        [ 0.],\n",
              "        [ 0.],\n",
              "        [ 0.],\n",
              "        [ 0.],\n",
              "        [52.],\n",
              "        [ 0.],\n",
              "        [ 0.],\n",
              "        [ 0.],\n",
              "        [ 0.],\n",
              "        [ 0.],\n",
              "        [ 0.],\n",
              "        [ 0.],\n",
              "        [ 0.],\n",
              "        [ 0.],\n",
              "        [ 0.],\n",
              "        [ 0.],\n",
              "        [ 0.],\n",
              "        [ 0.]],\n",
              "\n",
              "       [[ 0.],\n",
              "        [ 0.],\n",
              "        [ 0.],\n",
              "        [ 0.],\n",
              "        [ 0.],\n",
              "        [ 0.],\n",
              "        [ 0.],\n",
              "        [ 0.],\n",
              "        [ 0.],\n",
              "        [ 0.],\n",
              "        [ 0.],\n",
              "        [ 0.],\n",
              "        [ 0.],\n",
              "        [ 0.],\n",
              "        [53.],\n",
              "        [ 0.],\n",
              "        [ 0.],\n",
              "        [ 0.],\n",
              "        [ 0.],\n",
              "        [ 0.],\n",
              "        [ 0.],\n",
              "        [ 0.],\n",
              "        [ 0.],\n",
              "        [ 0.],\n",
              "        [ 0.],\n",
              "        [ 0.],\n",
              "        [ 0.],\n",
              "        [ 0.]],\n",
              "\n",
              "       [[ 0.],\n",
              "        [ 0.],\n",
              "        [ 0.],\n",
              "        [ 0.],\n",
              "        [ 0.],\n",
              "        [ 0.],\n",
              "        [ 0.],\n",
              "        [ 0.],\n",
              "        [ 0.],\n",
              "        [ 0.],\n",
              "        [ 0.],\n",
              "        [ 0.],\n",
              "        [ 0.],\n",
              "        [ 2.],\n",
              "        [67.],\n",
              "        [ 0.],\n",
              "        [ 0.],\n",
              "        [ 0.],\n",
              "        [ 0.],\n",
              "        [ 0.],\n",
              "        [ 0.],\n",
              "        [ 0.],\n",
              "        [ 0.],\n",
              "        [ 0.],\n",
              "        [ 0.],\n",
              "        [ 0.],\n",
              "        [ 0.],\n",
              "        [ 0.]],\n",
              "\n",
              "       [[ 0.],\n",
              "        [ 0.],\n",
              "        [ 0.],\n",
              "        [ 0.],\n",
              "        [ 0.],\n",
              "        [ 0.],\n",
              "        [ 0.],\n",
              "        [ 0.],\n",
              "        [ 0.],\n",
              "        [ 0.],\n",
              "        [ 0.],\n",
              "        [ 0.],\n",
              "        [ 0.],\n",
              "        [16.],\n",
              "        [61.],\n",
              "        [ 0.],\n",
              "        [ 0.],\n",
              "        [ 0.],\n",
              "        [ 0.],\n",
              "        [ 0.],\n",
              "        [ 0.],\n",
              "        [ 0.],\n",
              "        [ 0.],\n",
              "        [ 0.],\n",
              "        [ 0.],\n",
              "        [ 0.],\n",
              "        [ 0.],\n",
              "        [ 0.]],\n",
              "\n",
              "       [[ 0.],\n",
              "        [ 0.],\n",
              "        [ 0.],\n",
              "        [ 0.],\n",
              "        [ 0.],\n",
              "        [ 0.],\n",
              "        [ 0.],\n",
              "        [ 0.],\n",
              "        [ 0.],\n",
              "        [ 0.],\n",
              "        [ 0.],\n",
              "        [ 0.],\n",
              "        [ 0.],\n",
              "        [51.],\n",
              "        [36.],\n",
              "        [ 0.],\n",
              "        [ 0.],\n",
              "        [ 0.],\n",
              "        [ 0.],\n",
              "        [ 0.],\n",
              "        [ 0.],\n",
              "        [ 0.],\n",
              "        [ 0.],\n",
              "        [ 0.],\n",
              "        [ 0.],\n",
              "        [ 0.],\n",
              "        [ 0.],\n",
              "        [ 0.]],\n",
              "\n",
              "       [[ 0.],\n",
              "        [ 0.],\n",
              "        [ 0.],\n",
              "        [ 0.],\n",
              "        [ 0.],\n",
              "        [ 0.],\n",
              "        [ 0.],\n",
              "        [ 0.],\n",
              "        [ 0.],\n",
              "        [ 0.],\n",
              "        [ 0.],\n",
              "        [ 0.],\n",
              "        [ 0.],\n",
              "        [13.],\n",
              "        [ 0.],\n",
              "        [ 0.],\n",
              "        [ 0.],\n",
              "        [ 0.],\n",
              "        [ 0.],\n",
              "        [ 0.],\n",
              "        [ 0.],\n",
              "        [ 0.],\n",
              "        [ 0.],\n",
              "        [ 0.],\n",
              "        [ 0.],\n",
              "        [ 0.],\n",
              "        [ 0.],\n",
              "        [ 0.]],\n",
              "\n",
              "       [[ 0.],\n",
              "        [ 0.],\n",
              "        [ 0.],\n",
              "        [ 0.],\n",
              "        [ 0.],\n",
              "        [ 0.],\n",
              "        [ 0.],\n",
              "        [ 0.],\n",
              "        [ 0.],\n",
              "        [ 0.],\n",
              "        [ 0.],\n",
              "        [ 0.],\n",
              "        [ 0.],\n",
              "        [ 0.],\n",
              "        [ 0.],\n",
              "        [ 0.],\n",
              "        [ 0.],\n",
              "        [ 0.],\n",
              "        [ 0.],\n",
              "        [ 0.],\n",
              "        [ 0.],\n",
              "        [ 0.],\n",
              "        [ 0.],\n",
              "        [ 0.],\n",
              "        [ 0.],\n",
              "        [ 0.],\n",
              "        [ 0.],\n",
              "        [ 0.]],\n",
              "\n",
              "       [[ 0.],\n",
              "        [ 0.],\n",
              "        [ 0.],\n",
              "        [ 0.],\n",
              "        [ 0.],\n",
              "        [ 0.],\n",
              "        [ 0.],\n",
              "        [ 0.],\n",
              "        [ 0.],\n",
              "        [ 0.],\n",
              "        [ 0.],\n",
              "        [ 0.],\n",
              "        [ 0.],\n",
              "        [ 0.],\n",
              "        [ 0.],\n",
              "        [ 0.],\n",
              "        [ 0.],\n",
              "        [ 0.],\n",
              "        [ 0.],\n",
              "        [ 0.],\n",
              "        [ 0.],\n",
              "        [ 0.],\n",
              "        [ 0.],\n",
              "        [ 0.],\n",
              "        [ 0.],\n",
              "        [ 0.],\n",
              "        [ 0.],\n",
              "        [ 0.]],\n",
              "\n",
              "       [[ 0.],\n",
              "        [ 0.],\n",
              "        [ 0.],\n",
              "        [ 0.],\n",
              "        [ 0.],\n",
              "        [ 0.],\n",
              "        [ 0.],\n",
              "        [ 0.],\n",
              "        [ 0.],\n",
              "        [ 0.],\n",
              "        [ 0.],\n",
              "        [ 0.],\n",
              "        [ 0.],\n",
              "        [ 0.],\n",
              "        [ 0.],\n",
              "        [ 0.],\n",
              "        [ 0.],\n",
              "        [ 0.],\n",
              "        [ 0.],\n",
              "        [ 0.],\n",
              "        [ 0.],\n",
              "        [ 0.],\n",
              "        [ 0.],\n",
              "        [ 0.],\n",
              "        [ 0.],\n",
              "        [ 0.],\n",
              "        [ 0.],\n",
              "        [ 0.]],\n",
              "\n",
              "       [[ 0.],\n",
              "        [ 0.],\n",
              "        [ 0.],\n",
              "        [ 0.],\n",
              "        [ 0.],\n",
              "        [ 0.],\n",
              "        [ 0.],\n",
              "        [ 0.],\n",
              "        [ 0.],\n",
              "        [ 0.],\n",
              "        [ 0.],\n",
              "        [ 0.],\n",
              "        [ 0.],\n",
              "        [ 0.],\n",
              "        [ 0.],\n",
              "        [ 0.],\n",
              "        [ 0.],\n",
              "        [ 0.],\n",
              "        [ 0.],\n",
              "        [ 0.],\n",
              "        [ 0.],\n",
              "        [ 0.],\n",
              "        [ 0.],\n",
              "        [ 0.],\n",
              "        [ 0.],\n",
              "        [ 0.],\n",
              "        [ 0.],\n",
              "        [ 0.]]], dtype=float32)"
            ]
          },
          "metadata": {},
          "execution_count": 14
        }
      ]
    },
    {
      "cell_type": "code",
      "metadata": {
        "id": "oU2EXOHLvhfN"
      },
      "source": [
        "imgone = imgone.astype('float32')   # Преобразую во Float32\n",
        "imgs = imgs.astype('float32')\n",
        "imgf = imgf.astype('float32')   # Преобразую во Float32"
      ],
      "execution_count": null,
      "outputs": []
    },
    {
      "cell_type": "code",
      "metadata": {
        "id": "mrp9TnFrprQi"
      },
      "source": [
        "imgone=imgone/255       # Нормализация данных\n",
        "imgs = imgs/255\n",
        "imgf=imgf/255       # Нормализация данных"
      ],
      "execution_count": null,
      "outputs": []
    },
    {
      "cell_type": "code",
      "metadata": {
        "id": "8rOpri1h-gkl"
      },
      "source": [
        "imgone = imgone.reshape(1, 784)     #  Решейп\n",
        "imgs = imgs.reshape(1,784)\n",
        "imgf = imgf.reshape(1, 784)     #  Решейп"
      ],
      "execution_count": null,
      "outputs": []
    },
    {
      "cell_type": "code",
      "metadata": {
        "colab": {
          "base_uri": "https://localhost:8080/"
        },
        "id": "gKsz0NYZqC-C",
        "outputId": "5a798f00-ee73-4681-f92c-9419f2fcb944"
      },
      "source": [
        "print(imgone.shape)      # Проверка рзмера. Размер правильный\n",
        "print(imgs.shape)\n",
        "print(imgf.shape)"
      ],
      "execution_count": null,
      "outputs": [
        {
          "output_type": "stream",
          "name": "stdout",
          "text": [
            "(1, 784)\n",
            "(1, 784)\n",
            "(1, 784)\n"
          ]
        }
      ]
    },
    {
      "cell_type": "code",
      "metadata": {
        "colab": {
          "base_uri": "https://localhost:8080/"
        },
        "id": "AmKcvKmeqMUb",
        "outputId": "fe3f2120-1b11-497c-bcbb-b415564f9540"
      },
      "source": [
        "imgone[0]          # Контроль содержимого"
      ],
      "execution_count": null,
      "outputs": [
        {
          "output_type": "execute_result",
          "data": {
            "text/plain": [
              "array([0.        , 0.        , 0.        , 0.        , 0.        ,\n",
              "       0.        , 0.        , 0.        , 0.        , 0.        ,\n",
              "       0.        , 0.        , 0.        , 0.        , 0.        ,\n",
              "       0.        , 0.        , 0.        , 0.        , 0.        ,\n",
              "       0.        , 0.        , 0.        , 0.        , 0.        ,\n",
              "       0.        , 0.        , 0.        , 0.        , 0.        ,\n",
              "       0.        , 0.        , 0.        , 0.        , 0.        ,\n",
              "       0.        , 0.        , 0.        , 0.        , 0.        ,\n",
              "       0.        , 0.        , 0.        , 0.        , 0.        ,\n",
              "       0.        , 0.        , 0.        , 0.        , 0.        ,\n",
              "       0.        , 0.        , 0.        , 0.        , 0.        ,\n",
              "       0.        , 0.        , 0.        , 0.        , 0.        ,\n",
              "       0.        , 0.        , 0.        , 0.        , 0.        ,\n",
              "       0.        , 0.        , 0.        , 0.        , 0.        ,\n",
              "       0.        , 0.        , 0.        , 0.        , 0.        ,\n",
              "       0.        , 0.        , 0.        , 0.        , 0.        ,\n",
              "       0.        , 0.        , 0.        , 0.        , 0.        ,\n",
              "       0.        , 0.        , 0.        , 0.        , 0.        ,\n",
              "       0.        , 0.        , 0.        , 0.        , 0.        ,\n",
              "       0.        , 0.        , 0.        , 0.        , 0.        ,\n",
              "       0.        , 0.03529412, 0.        , 0.        , 0.        ,\n",
              "       0.        , 0.        , 0.        , 0.        , 0.        ,\n",
              "       0.        , 0.        , 0.        , 0.        , 0.        ,\n",
              "       0.        , 0.        , 0.        , 0.        , 0.        ,\n",
              "       0.        , 0.        , 0.        , 0.        , 0.        ,\n",
              "       0.        , 0.        , 0.        , 0.04705882, 0.32941177,\n",
              "       0.        , 0.        , 0.        , 0.        , 0.        ,\n",
              "       0.        , 0.        , 0.        , 0.        , 0.        ,\n",
              "       0.        , 0.        , 0.        , 0.        , 0.        ,\n",
              "       0.        , 0.        , 0.        , 0.        , 0.        ,\n",
              "       0.        , 0.        , 0.        , 0.        , 0.        ,\n",
              "       0.        , 0.18431373, 0.36078432, 0.        , 0.        ,\n",
              "       0.        , 0.        , 0.        , 0.        , 0.        ,\n",
              "       0.        , 0.        , 0.        , 0.        , 0.        ,\n",
              "       0.        , 0.        , 0.        , 0.        , 0.        ,\n",
              "       0.        , 0.        , 0.        , 0.        , 0.        ,\n",
              "       0.        , 0.        , 0.        , 0.        , 0.23529412,\n",
              "       0.16862746, 0.        , 0.        , 0.        , 0.        ,\n",
              "       0.        , 0.        , 0.        , 0.        , 0.        ,\n",
              "       0.        , 0.        , 0.        , 0.        , 0.        ,\n",
              "       0.        , 0.        , 0.        , 0.        , 0.        ,\n",
              "       0.        , 0.        , 0.        , 0.        , 0.        ,\n",
              "       0.        , 0.10588235, 0.2       , 0.11764706, 0.        ,\n",
              "       0.        , 0.        , 0.        , 0.        , 0.        ,\n",
              "       0.        , 0.        , 0.        , 0.        , 0.        ,\n",
              "       0.        , 0.        , 0.        , 0.        , 0.        ,\n",
              "       0.        , 0.        , 0.        , 0.        , 0.        ,\n",
              "       0.        , 0.        , 0.        , 0.        , 0.18431373,\n",
              "       0.21568628, 0.02352941, 0.        , 0.        , 0.        ,\n",
              "       0.        , 0.        , 0.        , 0.        , 0.        ,\n",
              "       0.        , 0.        , 0.        , 0.        , 0.        ,\n",
              "       0.        , 0.        , 0.        , 0.        , 0.        ,\n",
              "       0.        , 0.        , 0.        , 0.        , 0.        ,\n",
              "       0.        , 0.01176471, 0.24705882, 0.1764706 , 0.        ,\n",
              "       0.        , 0.        , 0.        , 0.        , 0.        ,\n",
              "       0.        , 0.        , 0.        , 0.        , 0.        ,\n",
              "       0.        , 0.        , 0.        , 0.        , 0.        ,\n",
              "       0.        , 0.        , 0.        , 0.        , 0.        ,\n",
              "       0.        , 0.        , 0.        , 0.        , 0.11764706,\n",
              "       0.29411766, 0.04313726, 0.        , 0.        , 0.        ,\n",
              "       0.        , 0.        , 0.        , 0.        , 0.        ,\n",
              "       0.        , 0.        , 0.        , 0.        , 0.        ,\n",
              "       0.        , 0.        , 0.        , 0.        , 0.        ,\n",
              "       0.        , 0.        , 0.        , 0.        , 0.        ,\n",
              "       0.02352941, 0.14117648, 0.22745098, 0.20392157, 0.        ,\n",
              "       0.        , 0.        , 0.        , 0.        , 0.        ,\n",
              "       0.        , 0.        , 0.        , 0.        , 0.        ,\n",
              "       0.        , 0.        , 0.        , 0.        , 0.        ,\n",
              "       0.        , 0.        , 0.        , 0.        , 0.        ,\n",
              "       0.        , 0.        , 0.09411765, 0.19607843, 0.13333334,\n",
              "       0.14117648, 0.10980392, 0.        , 0.        , 0.        ,\n",
              "       0.        , 0.        , 0.        , 0.        , 0.        ,\n",
              "       0.        , 0.        , 0.        , 0.        , 0.        ,\n",
              "       0.        , 0.        , 0.        , 0.        , 0.        ,\n",
              "       0.        , 0.        , 0.        , 0.        , 0.        ,\n",
              "       0.10588235, 0.0627451 , 0.        , 0.14901961, 0.07843138,\n",
              "       0.        , 0.        , 0.        , 0.        , 0.        ,\n",
              "       0.        , 0.        , 0.        , 0.        , 0.        ,\n",
              "       0.        , 0.        , 0.        , 0.        , 0.        ,\n",
              "       0.        , 0.        , 0.        , 0.        , 0.        ,\n",
              "       0.        , 0.        , 0.        , 0.        , 0.        ,\n",
              "       0.        , 0.1764706 , 0.07058824, 0.        , 0.        ,\n",
              "       0.        , 0.        , 0.        , 0.        , 0.        ,\n",
              "       0.        , 0.        , 0.        , 0.        , 0.        ,\n",
              "       0.        , 0.        , 0.        , 0.        , 0.        ,\n",
              "       0.        , 0.        , 0.        , 0.        , 0.        ,\n",
              "       0.        , 0.        , 0.        , 0.        , 0.18431373,\n",
              "       0.07843138, 0.        , 0.        , 0.        , 0.        ,\n",
              "       0.        , 0.        , 0.        , 0.        , 0.        ,\n",
              "       0.        , 0.        , 0.        , 0.        , 0.        ,\n",
              "       0.        , 0.        , 0.        , 0.        , 0.        ,\n",
              "       0.        , 0.        , 0.        , 0.        , 0.        ,\n",
              "       0.        , 0.        , 0.21960784, 0.06666667, 0.        ,\n",
              "       0.        , 0.        , 0.        , 0.        , 0.        ,\n",
              "       0.        , 0.        , 0.        , 0.        , 0.        ,\n",
              "       0.        , 0.        , 0.        , 0.        , 0.        ,\n",
              "       0.        , 0.        , 0.        , 0.        , 0.        ,\n",
              "       0.        , 0.        , 0.        , 0.        , 0.        ,\n",
              "       0.19215687, 0.01568628, 0.        , 0.        , 0.        ,\n",
              "       0.        , 0.        , 0.        , 0.        , 0.        ,\n",
              "       0.        , 0.        , 0.        , 0.        , 0.        ,\n",
              "       0.        , 0.        , 0.        , 0.        , 0.        ,\n",
              "       0.        , 0.        , 0.        , 0.        , 0.        ,\n",
              "       0.        , 0.        , 0.        , 0.20392157, 0.        ,\n",
              "       0.        , 0.        , 0.        , 0.        , 0.        ,\n",
              "       0.        , 0.        , 0.        , 0.        , 0.        ,\n",
              "       0.        , 0.        , 0.        , 0.        , 0.        ,\n",
              "       0.        , 0.        , 0.        , 0.        , 0.        ,\n",
              "       0.        , 0.        , 0.        , 0.        , 0.        ,\n",
              "       0.        , 0.20784314, 0.        , 0.        , 0.        ,\n",
              "       0.        , 0.        , 0.        , 0.        , 0.        ,\n",
              "       0.        , 0.        , 0.        , 0.        , 0.        ,\n",
              "       0.        , 0.        , 0.        , 0.        , 0.        ,\n",
              "       0.        , 0.        , 0.        , 0.        , 0.        ,\n",
              "       0.        , 0.        , 0.        , 0.00784314, 0.2627451 ,\n",
              "       0.        , 0.        , 0.        , 0.        , 0.        ,\n",
              "       0.        , 0.        , 0.        , 0.        , 0.        ,\n",
              "       0.        , 0.        , 0.        , 0.        , 0.        ,\n",
              "       0.        , 0.        , 0.        , 0.        , 0.        ,\n",
              "       0.        , 0.        , 0.        , 0.        , 0.        ,\n",
              "       0.        , 0.0627451 , 0.23921569, 0.        , 0.        ,\n",
              "       0.        , 0.        , 0.        , 0.        , 0.        ,\n",
              "       0.        , 0.        , 0.        , 0.        , 0.        ,\n",
              "       0.        , 0.        , 0.        , 0.        , 0.        ,\n",
              "       0.        , 0.        , 0.        , 0.        , 0.        ,\n",
              "       0.        , 0.        , 0.        , 0.        , 0.2       ,\n",
              "       0.14117648, 0.        , 0.        , 0.        , 0.        ,\n",
              "       0.        , 0.        , 0.        , 0.        , 0.        ,\n",
              "       0.        , 0.        , 0.        , 0.        , 0.        ,\n",
              "       0.        , 0.        , 0.        , 0.        , 0.        ,\n",
              "       0.        , 0.        , 0.        , 0.        , 0.        ,\n",
              "       0.        , 0.        , 0.05098039, 0.        , 0.        ,\n",
              "       0.        , 0.        , 0.        , 0.        , 0.        ,\n",
              "       0.        , 0.        , 0.        , 0.        , 0.        ,\n",
              "       0.        , 0.        , 0.        , 0.        , 0.        ,\n",
              "       0.        , 0.        , 0.        , 0.        , 0.        ,\n",
              "       0.        , 0.        , 0.        , 0.        , 0.        ,\n",
              "       0.        , 0.        , 0.        , 0.        , 0.        ,\n",
              "       0.        , 0.        , 0.        , 0.        , 0.        ,\n",
              "       0.        , 0.        , 0.        , 0.        , 0.        ,\n",
              "       0.        , 0.        , 0.        , 0.        , 0.        ,\n",
              "       0.        , 0.        , 0.        , 0.        , 0.        ,\n",
              "       0.        , 0.        , 0.        , 0.        , 0.        ,\n",
              "       0.        , 0.        , 0.        , 0.        , 0.        ,\n",
              "       0.        , 0.        , 0.        , 0.        , 0.        ,\n",
              "       0.        , 0.        , 0.        , 0.        , 0.        ,\n",
              "       0.        , 0.        , 0.        , 0.        , 0.        ,\n",
              "       0.        , 0.        , 0.        , 0.        , 0.        ,\n",
              "       0.        , 0.        , 0.        , 0.        , 0.        ,\n",
              "       0.        , 0.        , 0.        , 0.        , 0.        ,\n",
              "       0.        , 0.        , 0.        , 0.        , 0.        ,\n",
              "       0.        , 0.        , 0.        , 0.        , 0.        ,\n",
              "       0.        , 0.        , 0.        , 0.        , 0.        ,\n",
              "       0.        , 0.        , 0.        , 0.        , 0.        ,\n",
              "       0.        , 0.        , 0.        , 0.        , 0.        ,\n",
              "       0.        , 0.        , 0.        , 0.        , 0.        ,\n",
              "       0.        , 0.        , 0.        , 0.        ], dtype=float32)"
            ]
          },
          "metadata": {},
          "execution_count": 19
        }
      ]
    },
    {
      "cell_type": "code",
      "metadata": {
        "id": "mq96eUXg0vQm",
        "colab": {
          "base_uri": "https://localhost:8080/"
        },
        "outputId": "ce3b3a96-bf77-4b9a-91be-59be334f1677"
      },
      "source": [
        "(x_train_org, y_train_org), (x_test_org, y_test_org) = mnist.load_data()   # Загрузил данные для нейронки"
      ],
      "execution_count": null,
      "outputs": [
        {
          "output_type": "stream",
          "name": "stdout",
          "text": [
            "Downloading data from https://storage.googleapis.com/tensorflow/tf-keras-datasets/mnist.npz\n",
            "11493376/11490434 [==============================] - 0s 0us/step\n",
            "11501568/11490434 [==============================] - 0s 0us/step\n"
          ]
        }
      ]
    },
    {
      "cell_type": "code",
      "metadata": {
        "colab": {
          "base_uri": "https://localhost:8080/"
        },
        "id": "yBhjr0IP0vTj",
        "outputId": "8aa51d65-c9e8-4145-8296-4060ea7e543e"
      },
      "source": [
        "print(x_train_org.shape)\n",
        "print(x_test_org.shape)"
      ],
      "execution_count": null,
      "outputs": [
        {
          "output_type": "stream",
          "name": "stdout",
          "text": [
            "(60000, 28, 28)\n",
            "(10000, 28, 28)\n"
          ]
        }
      ]
    },
    {
      "cell_type": "code",
      "metadata": {
        "colab": {
          "base_uri": "https://localhost:8080/",
          "height": 265
        },
        "id": "Mt9J3kJb0vXQ",
        "outputId": "9c256b28-3dce-486f-f437-323d16e4d5eb"
      },
      "source": [
        "n = 777  # номер картинки\n",
        "plt.imshow(Image.fromarray(x_train_org[n]).convert('RGB'))   # отрисовка картинки\n",
        "plt.show()  # вывод картинки"
      ],
      "execution_count": null,
      "outputs": [
        {
          "output_type": "display_data",
          "data": {
            "image/png": "[encoded data removed]",
            "text/plain": [
              "<Figure size 432x288 with 1 Axes>"
            ]
          },
          "metadata": {
            "needs_background": "light"
          }
        }
      ]
    },
    {
      "cell_type": "code",
      "metadata": {
        "colab": {
          "base_uri": "https://localhost:8080/"
        },
        "id": "Ez-8zRiT0vZ1",
        "outputId": "400ecf2b-c7e2-45ec-c040-6a2031bea5e0"
      },
      "source": [
        "y_train_org[n]"
      ],
      "execution_count": null,
      "outputs": [
        {
          "output_type": "execute_result",
          "data": {
            "text/plain": [
              "8"
            ]
          },
          "metadata": {},
          "execution_count": 24
        }
      ]
    },
    {
      "cell_type": "code",
      "metadata": {
        "colab": {
          "base_uri": "https://localhost:8080/"
        },
        "id": "FyR6KMVS0vc4",
        "outputId": "418d3f8d-0ab0-49c2-b6c0-5fd29cf87d61"
      },
      "source": [
        "x_train = x_train_org.reshape(60000, 784)     # Меняем размер формата входных \n",
        "x_test = x_test_org.reshape(10000, 784)       # данных\n",
        "print(x_train_org.shape)\n",
        "print(x_train.shape)"
      ],
      "execution_count": null,
      "outputs": [
        {
          "output_type": "stream",
          "name": "stdout",
          "text": [
            "(60000, 28, 28)\n",
            "(60000, 784)\n"
          ]
        }
      ]
    },
    {
      "cell_type": "code",
      "metadata": {
        "id": "dU3_vz3F3E7Z"
      },
      "source": [
        "x_train = x_train.astype('float32')   #Блок нормализации данных входных картинок\n",
        "x_train = x_train / 255               # На 255 делим, чтобы диапазон был от 0 до\n",
        "x_test = x_test.astype('float32')     #  1. Т.к. диапазон цвета от 0 до 255\n",
        "x_test = x_test / 255"
      ],
      "execution_count": null,
      "outputs": []
    },
    {
      "cell_type": "code",
      "metadata": {
        "colab": {
          "base_uri": "https://localhost:8080/"
        },
        "id": "Avv-E4Vc3E-B",
        "outputId": "9779ddde-6880-4e79-cd8b-0c3721b2ea79"
      },
      "source": [
        "y_train_org[88]"
      ],
      "execution_count": null,
      "outputs": [
        {
          "output_type": "execute_result",
          "data": {
            "text/plain": [
              "0"
            ]
          },
          "metadata": {},
          "execution_count": 27
        }
      ]
    },
    {
      "cell_type": "code",
      "metadata": {
        "id": "me5wPcjP3FBj"
      },
      "source": [
        "y_train = utils.to_categorical(y_train_org, 10)   # One hot encoding\n",
        "y_test = utils.to_categorical(y_test_org, 10)"
      ],
      "execution_count": null,
      "outputs": []
    },
    {
      "cell_type": "code",
      "metadata": {
        "colab": {
          "base_uri": "https://localhost:8080/"
        },
        "id": "-vwKpOuT_h8p",
        "outputId": "3a9499da-5545-462d-889c-ca3f9b54d6c9"
      },
      "source": [
        "y_train.shape"
      ],
      "execution_count": null,
      "outputs": [
        {
          "output_type": "execute_result",
          "data": {
            "text/plain": [
              "(60000, 10)"
            ]
          },
          "metadata": {},
          "execution_count": 29
        }
      ]
    },
    {
      "cell_type": "code",
      "metadata": {
        "colab": {
          "base_uri": "https://localhost:8080/"
        },
        "id": "tQ4F54KJ3FDr",
        "outputId": "e45f8aa9-d5c6-46a3-c602-5424659f4826"
      },
      "source": [
        "print(y_train[9])  #Пример выходного вектора \n",
        "print(y_test[9])"
      ],
      "execution_count": null,
      "outputs": [
        {
          "output_type": "stream",
          "name": "stdout",
          "text": [
            "[0. 0. 0. 0. 1. 0. 0. 0. 0. 0.]\n",
            "[0. 0. 0. 0. 0. 0. 0. 0. 0. 1.]\n"
          ]
        }
      ]
    },
    {
      "cell_type": "code",
      "metadata": {
        "colab": {
          "base_uri": "https://localhost:8080/"
        },
        "id": "_4MGxDKGsGQg",
        "outputId": "c12e854a-3b9c-40d4-f2a8-ca7e68de936c"
      },
      "source": [
        "y_test.shape"
      ],
      "execution_count": null,
      "outputs": [
        {
          "output_type": "execute_result",
          "data": {
            "text/plain": [
              "(10000, 10)"
            ]
          },
          "metadata": {},
          "execution_count": 31
        }
      ]
    },
    {
      "cell_type": "code",
      "metadata": {
        "colab": {
          "base_uri": "https://localhost:8080/"
        },
        "id": "CPtoWAkXKSkq",
        "outputId": "531d820a-5943-48b4-e89c-f90bcac1c24e"
      },
      "source": [
        "y_test.shape"
      ],
      "execution_count": null,
      "outputs": [
        {
          "output_type": "execute_result",
          "data": {
            "text/plain": [
              "(10000, 10)"
            ]
          },
          "metadata": {},
          "execution_count": 32
        }
      ]
    },
    {
      "cell_type": "code",
      "metadata": {
        "colab": {
          "base_uri": "https://localhost:8080/"
        },
        "id": "8j0C8ZXk3FGt",
        "outputId": "b518eebe-f7f5-4f34-e39f-a69992ca966f"
      },
      "source": [
        "print(y_train_org.shape)\n",
        "print(y_test_org.shape)"
      ],
      "execution_count": null,
      "outputs": [
        {
          "output_type": "stream",
          "name": "stdout",
          "text": [
            "(60000,)\n",
            "(10000,)\n"
          ]
        }
      ]
    },
    {
      "cell_type": "code",
      "metadata": {
        "colab": {
          "base_uri": "https://localhost:8080/"
        },
        "id": "Y3Rnsv4_3FJE",
        "outputId": "f8e68538-23af-4bbb-b6c5-dc63fe28e7b2"
      },
      "source": [
        "print(y_train_org[90])\n",
        "print(y_test_org[90])"
      ],
      "execution_count": null,
      "outputs": [
        {
          "output_type": "stream",
          "name": "stdout",
          "text": [
            "6\n",
            "3\n"
          ]
        }
      ]
    },
    {
      "cell_type": "code",
      "metadata": {
        "colab": {
          "base_uri": "https://localhost:8080/"
        },
        "id": "DP8tLudW7eIg",
        "outputId": "30000f19-5c65-407c-e15e-9c4863684f92"
      },
      "source": [
        "model = Sequential()    #Создаем пустую нейронную сеть\n",
        "model.add(Dense(800, input_dim = 784, activation='relu'))  #  Полносвязный слой на 800 нейронов\n",
        "#model.add(Dense(400, activation='relu'))   #Полносвязный слой на 400 нейронов\n",
        "model.add(Dense(10,activation='softmax'))\n",
        "\n",
        "model.compile(loss='categorical_crossentropy', optimizer='adam', metrics=['accuracy'])  # Компиляция сети\n",
        "print(model.summary())"
      ],
      "execution_count": null,
      "outputs": [
        {
          "output_type": "stream",
          "name": "stdout",
          "text": [
            "Model: \"sequential_2\"\n",
            "_________________________________________________________________\n",
            " Layer (type)                Output Shape              Param #   \n",
            "=================================================================\n",
            " dense_7 (Dense)             (None, 800)               628000    \n",
            "                                                                 \n",
            " dense_8 (Dense)             (None, 10)                8010      \n",
            "                                                                 \n",
            "=================================================================\n",
            "Total params: 636,010\n",
            "Trainable params: 636,010\n",
            "Non-trainable params: 0\n",
            "_________________________________________________________________\n",
            "None\n"
          ]
        }
      ]
    },
    {
      "cell_type": "code",
      "metadata": {
        "colab": {
          "base_uri": "https://localhost:8080/"
        },
        "id": "kTBL6BXK7eMl",
        "outputId": "89ea120a-0244-42fa-d6b3-131bf894cf87"
      },
      "source": [
        "model.fit(x_train, y_train, batch_size = 196, epochs=10,verbose=1)   # Обучаем нейронку"
      ],
      "execution_count": null,
      "outputs": [
        {
          "output_type": "stream",
          "name": "stdout",
          "text": [
            "Epoch 1/10\n",
            "307/307 [==============================] - 5s 15ms/step - loss: 0.0012 - accuracy: 0.9998\n",
            "Epoch 2/10\n",
            "307/307 [==============================] - 5s 15ms/step - loss: 3.5626e-04 - accuracy: 1.0000\n",
            "Epoch 3/10\n",
            "307/307 [==============================] - 5s 15ms/step - loss: 2.4672e-04 - accuracy: 1.0000\n",
            "Epoch 4/10\n",
            "307/307 [==============================] - 5s 15ms/step - loss: 1.8745e-04 - accuracy: 1.0000\n",
            "Epoch 5/10\n",
            "307/307 [==============================] - 5s 15ms/step - loss: 1.5822e-04 - accuracy: 1.0000\n",
            "Epoch 6/10\n",
            "307/307 [==============================] - 5s 15ms/step - loss: 1.3915e-04 - accuracy: 1.0000\n",
            "Epoch 7/10\n",
            "307/307 [==============================] - 5s 15ms/step - loss: 1.2284e-04 - accuracy: 1.0000\n",
            "Epoch 8/10\n",
            "307/307 [==============================] - 5s 15ms/step - loss: 1.0955e-04 - accuracy: 1.0000\n",
            "Epoch 9/10\n",
            "307/307 [==============================] - 5s 15ms/step - loss: 9.6405e-05 - accuracy: 1.0000\n",
            "Epoch 10/10\n",
            "307/307 [==============================] - 5s 15ms/step - loss: 9.1112e-05 - accuracy: 1.0000\n"
          ]
        },
        {
          "output_type": "execute_result",
          "data": {
            "text/plain": [
              "<keras.callbacks.History at 0x7f726de1da50>"
            ]
          },
          "metadata": {},
          "execution_count": 90
        }
      ]
    },
    {
      "cell_type": "code",
      "metadata": {
        "id": "C3pV-Deb7eP2"
      },
      "source": [
        "model.save_weights('model.Firsty_layer_Pro')    # Сохраняем модель\n"
      ],
      "execution_count": null,
      "outputs": []
    },
    {
      "cell_type": "code",
      "metadata": {
        "colab": {
          "base_uri": "https://localhost:8080/"
        },
        "id": "4JNXWdBuFV6L",
        "outputId": "c049ef3b-bbb1-49ad-a8a7-41e46af421ab"
      },
      "source": [
        "model.load_weights('model.Firsty_layer_Pro')"
      ],
      "execution_count": null,
      "outputs": [
        {
          "output_type": "execute_result",
          "data": {
            "text/plain": [
              "<tensorflow.python.training.tracking.util.CheckpointLoadStatus at 0x7f726e0d8590>"
            ]
          },
          "metadata": {},
          "execution_count": 58
        }
      ]
    },
    {
      "cell_type": "code",
      "metadata": {
        "colab": {
          "base_uri": "https://localhost:8080/"
        },
        "id": "CWY-VNMazvDu",
        "outputId": "fc718795-1d09-4111-fcfa-a43722be34ac"
      },
      "source": [
        "x_test[18].shape"
      ],
      "execution_count": null,
      "outputs": [
        {
          "output_type": "execute_result",
          "data": {
            "text/plain": [
              "(784,)"
            ]
          },
          "metadata": {},
          "execution_count": 59
        }
      ]
    },
    {
      "cell_type": "code",
      "metadata": {
        "colab": {
          "base_uri": "https://localhost:8080/",
          "height": 283
        },
        "id": "8q1pu2M0X5Sp",
        "outputId": "02859ba1-7304-4e89-ea23-a9d012ed3250"
      },
      "source": [
        "n_rec = 18\n",
        "plt.imshow(Image.fromarray(x_test_org[n_rec]).convert('RGBA'))\n",
        "plt.show"
      ],
      "execution_count": null,
      "outputs": [
        {
          "output_type": "execute_result",
          "data": {
            "text/plain": [
              "<function matplotlib.pyplot.show>"
            ]
          },
          "metadata": {},
          "execution_count": 60
        },
        {
          "output_type": "display_data",
          "data": {
            "image/png": "[encoded data removed]",
            "text/plain": [
              "<Figure size 432x288 with 1 Axes>"
            ]
          },
          "metadata": {
            "needs_background": "light"
          }
        }
      ]
    },
    {
      "cell_type": "code",
      "metadata": {
        "colab": {
          "base_uri": "https://localhost:8080/"
        },
        "id": "rDKduX-2Qild",
        "outputId": "c7f7b0aa-0251-4f34-a1dd-a4c9ef23e36c"
      },
      "source": [
        "imgone\n",
        "print(imgone.shape)"
      ],
      "execution_count": null,
      "outputs": [
        {
          "output_type": "stream",
          "name": "stdout",
          "text": [
            "(1, 784)\n"
          ]
        }
      ]
    },
    {
      "cell_type": "code",
      "metadata": {
        "colab": {
          "base_uri": "https://localhost:8080/",
          "height": 265
        },
        "id": "OgB46TiELy8e",
        "outputId": "26cfab0c-87bb-43f4-fbc8-dd6248f69122"
      },
      "source": [
        "n_rec = 33 #Номер тестовой цифры, которую будем распознавать\n",
        "plt.imshow(Image.fromarray(x_test_org[n_rec]).convert('RGBA')) # Нарисуем картинку из тестового набора под номером n_rec\n",
        "plt.show()"
      ],
      "execution_count": null,
      "outputs": [
        {
          "output_type": "display_data",
          "data": {
            "image/png": "[encoded data removed]",
            "text/plain": [
              "<Figure size 432x288 with 1 Axes>"
            ]
          },
          "metadata": {
            "needs_background": "light"
          }
        }
      ]
    },
    {
      "cell_type": "code",
      "metadata": {
        "colab": {
          "base_uri": "https://localhost:8080/"
        },
        "id": "nBocpk5nLqLz",
        "outputId": "6ccefb71-c9c0-4e84-a4a8-8c5568933c1c"
      },
      "source": [
        "x = x_test[n_rec]\n",
        "print(x.shape)"
      ],
      "execution_count": null,
      "outputs": [
        {
          "output_type": "stream",
          "name": "stdout",
          "text": [
            "(784,)\n"
          ]
        }
      ]
    },
    {
      "cell_type": "code",
      "metadata": {
        "colab": {
          "base_uri": "https://localhost:8080/"
        },
        "id": "jVOn5rgCLST1",
        "outputId": "7bc0fd0e-728a-42df-8663-766a71294bfd"
      },
      "source": [
        "x = np.expand_dims(x, axis=0)\n",
        "print(x.shape)"
      ],
      "execution_count": null,
      "outputs": [
        {
          "output_type": "stream",
          "name": "stdout",
          "text": [
            "(1, 784)\n"
          ]
        }
      ]
    },
    {
      "cell_type": "code",
      "metadata": {
        "id": "lBUoukVhQ8o8"
      },
      "source": [
        "prediction = model.predict(imgone)"
      ],
      "execution_count": null,
      "outputs": []
    },
    {
      "cell_type": "code",
      "metadata": {
        "colab": {
          "base_uri": "https://localhost:8080/"
        },
        "id": "K2SnCn8sRDTo",
        "outputId": "9c3a79ab-b264-481a-e4af-c7eff37271aa"
      },
      "source": [
        "print(prediction)"
      ],
      "execution_count": null,
      "outputs": [
        {
          "output_type": "stream",
          "name": "stdout",
          "text": [
            "[[0.01204089 0.29367483 0.01428727 0.0240959  0.17635964 0.13864085\n",
            "  0.01676723 0.02387573 0.22166245 0.07859513]]\n"
          ]
        }
      ]
    },
    {
      "cell_type": "code",
      "metadata": {
        "colab": {
          "base_uri": "https://localhost:8080/"
        },
        "id": "PTlKGXCoRJd1",
        "outputId": "f1066c6b-c0c2-4f2b-98d6-24a494c431ca"
      },
      "source": [
        "sum(prediction[0])"
      ],
      "execution_count": null,
      "outputs": [
        {
          "output_type": "execute_result",
          "data": {
            "text/plain": [
              "0.9999999143183231"
            ]
          },
          "metadata": {},
          "execution_count": 101
        }
      ]
    },
    {
      "cell_type": "code",
      "metadata": {
        "colab": {
          "base_uri": "https://localhost:8080/"
        },
        "id": "KPhyhB4bRNAl",
        "outputId": "46927d3e-dece-4a53-e662-acdbe65f55a5"
      },
      "source": [
        "pred = np.argmax(prediction)\n",
        "print(pred)"
      ],
      "execution_count": null,
      "outputs": [
        {
          "output_type": "stream",
          "name": "stdout",
          "text": [
            "1\n"
          ]
        }
      ]
    },
    {
      "cell_type": "code",
      "metadata": {
        "id": "GVs8XEpNpK49",
        "colab": {
          "base_uri": "https://localhost:8080/"
        },
        "outputId": "128f77d2-952e-482f-9130-847e2765530d"
      },
      "source": [
        "print(y_test_org[n_rec])"
      ],
      "execution_count": null,
      "outputs": [
        {
          "output_type": "stream",
          "name": "stdout",
          "text": [
            "4\n"
          ]
        }
      ]
    },
    {
      "cell_type": "code",
      "metadata": {
        "id": "iNQWvGtNcI2n"
      },
      "source": [
        "from tensorflow.keras.preprocessing.image import load_img\n",
        "#Выводим для примера картинки по каждому классу"
      ],
      "execution_count": null,
      "outputs": []
    },
    {
      "cell_type": "code",
      "metadata": {
        "colab": {
          "base_uri": "https://localhost:8080/",
          "height": 265
        },
        "id": "t-S6HFpucPIR",
        "outputId": "4b7d01c5-c0f7-4505-d711-a601953e98b6"
      },
      "source": [
        "img = load_img('/content/drive/MyDrive/Цифра1.png', target_size=(28, 28), color_mode = 'grayscale') \n",
        "plt.imshow(1 - np.array(img) / 255)\n",
        "plt.show() #Показываем изображения"
      ],
      "execution_count": null,
      "outputs": [
        {
          "output_type": "display_data",
          "data": {
            "image/png": "[encoded data removed]",
            "text/plain": [
              "<Figure size 432x288 with 1 Axes>"
            ]
          },
          "metadata": {
            "needs_background": "light"
          }
        }
      ]
    },
    {
      "cell_type": "code",
      "metadata": {
        "colab": {
          "base_uri": "https://localhost:8080/"
        },
        "id": "2YaiMLpvcSL4",
        "outputId": "e6391b78-43c7-4f92-c0a9-2708cfae6fe9"
      },
      "source": [
        "print('Число: 1. Cеть распознала:', np.argmax(model.predict(np.array(1 - np.array(img) / 255).reshape(1, 784))))"
      ],
      "execution_count": null,
      "outputs": [
        {
          "output_type": "stream",
          "name": "stdout",
          "text": [
            "Число: 1. Cеть распознала: 8\n"
          ]
        }
      ]
    }
  ]
}