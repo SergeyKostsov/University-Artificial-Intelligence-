{
  "nbformat": 4,
  "nbformat_minor": 0,
  "metadata": {
    "colab": {
      "name": "Копия блокнота \"Домашнее задание. Теория вероятностей. Часть 1. Ultra Pro.ipynb\"",
      "provenance": [],
      "collapsed_sections": []
    },
    "kernelspec": {
      "name": "python3",
      "display_name": "Python 3"
    }
  },
  "cells": [
    {
      "cell_type": "markdown",
      "metadata": {
        "id": "B3PcJ7EzvzUY"
      },
      "source": [
        "Домашнее задание. Теория вероятностей. Часть 1. Ultra Pro"
      ]
    },
    {
      "cell_type": "markdown",
      "metadata": {
        "id": "p12o2tAZv0UB"
      },
      "source": [
        "Задача 1\n",
        "\n",
        "Вероятность поражения цели первым стрелком при одном выстреле равна 0,6. Вероятность того, что цель не поражена после выполнения первым и вторым стрелками по одному выстрелу равна 0,06. Какова вероятность поражения цели вторым стрелком при одном выстреле?"
      ]
    },
    {
      "cell_type": "code",
      "metadata": {
        "id": "EVro93sVv0v7",
        "colab": {
          "base_uri": "https://localhost:8080/"
        },
        "outputId": "fb90d543-0f0f-4d70-a018-b11a0a685504"
      },
      "source": [
        "P = 0.6\n",
        "Pprom = 0.06\n",
        "Pprom1 = 1-P\n",
        "Pprom1 \n",
        "Pprom2 = (1-P-Pprom)/(1-P)\n",
        "Pprom2"
      ],
      "execution_count": null,
      "outputs": [
        {
          "output_type": "execute_result",
          "data": {
            "text/plain": [
              "0.85"
            ]
          },
          "metadata": {},
          "execution_count": 1
        }
      ]
    },
    {
      "cell_type": "code",
      "metadata": {
        "id": "B78pJ7XxEz33"
      },
      "source": [
        ""
      ],
      "execution_count": null,
      "outputs": []
    },
    {
      "cell_type": "markdown",
      "metadata": {
        "id": "caIvnv6kwY-1"
      },
      "source": [
        "Задача 2\n",
        "\n",
        "В коробке находится 60 лотерейных билетов, среди которых 16 выигрышных, причем 2 из них выигрывают по 1200 рублей, а остальные по 150. Составьте закон распределения случайной величины размера выигрыша, если из коробки наугад извлекается один билет."
      ]
    },
    {
      "cell_type": "code",
      "metadata": {
        "id": "_0COBHOXxuK_"
      },
      "source": [
        "tickets = {0:34/60, 150:14/60, 1200:2/60} # словарь выигрышей: ключ - сумма выигрыша, значение - количество выигрышных билетов "
      ],
      "execution_count": null,
      "outputs": []
    },
    {
      "cell_type": "code",
      "metadata": {
        "colab": {
          "base_uri": "https://localhost:8080/"
        },
        "id": "pSDd9Ysu2gjT",
        "outputId": "07714424-4884-4e4a-d809-ac603a43e87f"
      },
      "source": [
        "tickets[1200]"
      ],
      "execution_count": null,
      "outputs": [
        {
          "output_type": "execute_result",
          "data": {
            "text/plain": [
              "0.03333333333333333"
            ]
          },
          "metadata": {},
          "execution_count": 3
        }
      ]
    },
    {
      "cell_type": "markdown",
      "metadata": {
        "id": "Wu9tDnZLxuVc"
      },
      "source": [
        "Задача 3\n",
        "\n",
        "Дискретная случайная величина задана своим законом распределения:"
      ]
    },
    {
      "cell_type": "code",
      "metadata": {
        "id": "2cG64N4szDdK"
      },
      "source": [
        "W = {-2:0.4, 0:0.1, 3:0.3, 7:0.2}"
      ],
      "execution_count": null,
      "outputs": []
    },
    {
      "cell_type": "markdown",
      "metadata": {
        "id": "MHKIHwypzFg4"
      },
      "source": [
        "Найти её математическое ожидание, дисперсию и среднеквадратическое отклонение."
      ]
    },
    {
      "cell_type": "code",
      "metadata": {
        "id": "K7k6ZHRgzdI8",
        "colab": {
          "base_uri": "https://localhost:8080/"
        },
        "outputId": "3c4802f3-625b-4bda-dde4-0de1d93635d5"
      },
      "source": [
        "import numpy as np\n",
        "w = {-2:0.4, 0:0.1, 3:0.3, 7:0.2} # распределение случайной велечины\n",
        "E = sum([ key * w[key] for key in w.keys()]) # математическое ожидание (сумма произведения случайной величины и вероятности)\n",
        "E_x2 = sum([ (key**2) * w[key] for key in w.keys()]) # сумма произведения квадрата случайной величины и вероятности\n",
        "\n",
        "# выводим значения\n",
        "print('Мат.ожидание =', E)\n",
        "print('Дисперсия =', round(E_x2 - (E**2),4))\n",
        "print('Среднеквадратичное отклонение =', round(np.sqrt(E_x2 - (E**2)),3))"
      ],
      "execution_count": null,
      "outputs": [
        {
          "output_type": "stream",
          "name": "stdout",
          "text": [
            "Мат.ожидание = 1.5\n",
            "Дисперсия = 11.85\n",
            "Среднеквадратичное отклонение = 3.442\n"
          ]
        }
      ]
    },
    {
      "cell_type": "markdown",
      "metadata": {
        "id": "JxAARcunzdir"
      },
      "source": [
        "Задача 4\n",
        "\n",
        "Интревал движения трамвая с остановки N 15 минут, а интервал движения автобуса 7 минут. Вы подошли к остановке в произвольный момент времени.\n",
        "\n",
        "* Какова вероятность прождать автобус не более 3 минут?\n",
        "* Какова вероятность уехать с остановки ожидая транспорт не более 1 минуты?"
      ]
    },
    {
      "cell_type": "code",
      "metadata": {
        "id": "SbnyiYIK0gMO",
        "colab": {
          "base_uri": "https://localhost:8080/"
        },
        "outputId": "99da6090-31b9-4c9e-e8e3-8a573bbfb4af"
      },
      "source": [
        "Pavt = 3/7\n",
        "Pavt"
      ],
      "execution_count": null,
      "outputs": [
        {
          "output_type": "execute_result",
          "data": {
            "text/plain": [
              "0.42857142857142855"
            ]
          },
          "metadata": {},
          "execution_count": 1
        }
      ]
    },
    {
      "cell_type": "code",
      "metadata": {
        "colab": {
          "base_uri": "https://localhost:8080/"
        },
        "id": "fSInQHPx3Hj9",
        "outputId": "7bd230ff-b4bb-479c-a192-58587c7e58c9"
      },
      "source": [
        "Ptr = 1/7 + 1/15\n",
        "Ptr"
      ],
      "execution_count": null,
      "outputs": [
        {
          "output_type": "execute_result",
          "data": {
            "text/plain": [
              "0.2095238095238095"
            ]
          },
          "metadata": {},
          "execution_count": 7
        }
      ]
    },
    {
      "cell_type": "markdown",
      "metadata": {
        "id": "gnS2LpRg0gf5"
      },
      "source": [
        "Задача 5\n",
        "\n",
        "На восьмиместную круглую скамейку случайным образом рассаживается 8 человек. \n",
        "\n",
        "Какова вероятность того, что два определённых человека окажутся рядом?"
      ]
    },
    {
      "cell_type": "code",
      "metadata": {
        "id": "X7Zs5MCq2tNh"
      },
      "source": [
        "# Реализация факториала через цикл\n",
        "def factorial(n):\n",
        "  f = 1\n",
        "  for x in range(1, n+1):\n",
        "    f *= x\n",
        "  return f\n",
        "\n",
        "# Перестановки без повторений - n!\n",
        "def P(n):  \n",
        "  return factorial(n)\n",
        "\n",
        "# Сочетания без повторений - n! / ((n-m)! * m!)\n",
        "def C_n_m(n, m):\n",
        "  return factorial(n) / (factorial(n-m) * factorial(m))\n",
        "\n",
        "# Размещения без повторений - C_n_m * P_m\n",
        "def A_n_m(n, m):\n",
        "  return C_n_m(n, m) * P(m)\n",
        "\n",
        "# Перестановки с повторениями - n! / (n_1! * n_2! * n_3!...n_k!)\n",
        "def P_rep(n, m):  # m принимается списком в котором хранятся числа повторений очередного объекта\n",
        "  add = 1\n",
        "  for x in m:\n",
        "    add *= factorial(x)\n",
        "  return factorial(n) / add\n",
        "\n",
        "# Сочетания с повторениями - (n+m-1)! / ((n-1)! * m!)\n",
        "def C_n_m_rep(n, m):\n",
        "  return factorial(n+m-1) / (factorial(n-1) * factorial(m))\n",
        "\n",
        "# Размещения с повторениями - n ** m\n",
        "def A_n_m_rep(n, m):\n",
        "  return n ** m"
      ],
      "execution_count": null,
      "outputs": []
    },
    {
      "cell_type": "code",
      "metadata": {
        "colab": {
          "base_uri": "https://localhost:8080/"
        },
        "id": "vsG8dSaU3l_e",
        "outputId": "a6538a40-132d-49ff-a5f6-930f1969a616"
      },
      "source": [
        "A_n_m(8,2)"
      ],
      "execution_count": null,
      "outputs": [
        {
          "output_type": "execute_result",
          "data": {
            "text/plain": [
              "56.0"
            ]
          },
          "metadata": {},
          "execution_count": 13
        }
      ]
    },
    {
      "cell_type": "code",
      "metadata": {
        "id": "AmWVPbUf39PQ"
      },
      "source": [
        "P=2/56"
      ],
      "execution_count": null,
      "outputs": []
    }
  ]
}