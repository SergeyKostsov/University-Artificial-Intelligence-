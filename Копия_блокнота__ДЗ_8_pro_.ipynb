{
  "nbformat": 4,
  "nbformat_minor": 0,
  "metadata": {
    "colab": {
      "name": "Копия блокнота \"ДЗ 8. pro\"",
      "provenance": [],
      "collapsed_sections": []
    },
    "kernelspec": {
      "name": "python3",
      "display_name": "Python 3"
    }
  },
  "cells": [
    {
      "cell_type": "code",
      "metadata": {
        "id": "ft_aZI3JcEkv"
      },
      "source": [
        "def P(n): #(факториал)\n",
        "  f =1\n",
        "  for x in range(2,n+1):\n",
        "    f*=x\n",
        "  return f\n",
        "\n",
        "# Сочетание \n",
        "def C_n_m(n,m):\n",
        "  return P(n)/ (P(n-m)* P(m))\n",
        "\n",
        "# Размещение \n",
        "def A_(n,m):\n",
        "  return C_n_m(n,m) * P(m)\n",
        "\n",
        "# Перестановка с повторением\n",
        "def P_rep(n,m):\n",
        "  add = 1\n",
        "  for x in m:\n",
        "    add*=P(x)\n",
        "  return P(n)/ add\n",
        "\n",
        "# Сочетание с повторением\n",
        "def C_n_m_rep(n,m):\n",
        "  return P(n+m-1)/ (P(n-1)* P(m))\n",
        "\n",
        "# Размещение с повторением\n",
        "def A_rep(n,m):\n",
        "  return n**m\n",
        "\n",
        "\n"
      ],
      "execution_count": null,
      "outputs": []
    },
    {
      "cell_type": "markdown",
      "metadata": {
        "id": "3Mq5CACckeYC"
      },
      "source": [
        "# Комбинаторика"
      ]
    },
    {
      "cell_type": "markdown",
      "metadata": {
        "id": "zzwh_ja4yEaH"
      },
      "source": [
        "###Задача 1\n",
        "\n",
        "Сколько существует выигрышных комбинаций из двух карт при игре в 21 (Блекджек)? (выигрышными комбинациями считаются карта стоимостью 10 + туз. Валет, дама, король и десятка имеют одинаковую стоимость - 10)"
      ]
    },
    {
      "cell_type": "code",
      "metadata": {
        "id": "9P6rhPlpyd0b",
        "colab": {
          "base_uri": "https://localhost:8080/"
        },
        "outputId": "98df11ba-d8f7-43c3-e7f0-abac8a71122e"
      },
      "source": [
        "A = C_n_m(4,1)\n",
        "B = C_n_m(16,1)\n",
        "C = A*B\n",
        "print('в Блэкджеке ',C,' выигрышных комбинации')"
      ],
      "execution_count": null,
      "outputs": [
        {
          "output_type": "stream",
          "name": "stdout",
          "text": [
            "в Блэкджеке  64.0  выигрышных комбинации\n"
          ]
        }
      ]
    },
    {
      "cell_type": "markdown",
      "metadata": {
        "id": "uFHRu7aOyEmw"
      },
      "source": [
        "###Задача 2\n",
        "\n",
        "У Олега дома живут пять котов.\n",
        "\n",
        "а) Сколькими способами можно усадить четырех котов по углам комнаты?\n",
        "б) Сколькими способами можно выпустить котов погулять?\n",
        "в) Сколькими способами Вася может взять на руки двух котов (одного на левую, другого – на правую)?"
      ]
    },
    {
      "cell_type": "code",
      "metadata": {
        "id": "b-xBfAImyeS4",
        "colab": {
          "base_uri": "https://localhost:8080/"
        },
        "outputId": "6fcba535-ddcb-43a5-d5ed-3967b76077ff"
      },
      "source": [
        "print('котов по углам комнаты можно усадить ',A_(5,4),' способами')"
      ],
      "execution_count": null,
      "outputs": [
        {
          "output_type": "stream",
          "name": "stdout",
          "text": [
            "котов по углам комнаты можно усадить  120.0  способами\n"
          ]
        }
      ]
    },
    {
      "cell_type": "code",
      "metadata": {
        "colab": {
          "base_uri": "https://localhost:8080/"
        },
        "id": "WB87nw7GnFN1",
        "outputId": "67458f08-279c-4456-8289-4c7263a8e639"
      },
      "source": [
        "print('котов можно выпустить погулять ',C_n_m(5,1)+C_n_m(5,2)+C_n_m(5,3)+C_n_m(5,4)+C_n_m(5,5),' способами')"
      ],
      "execution_count": null,
      "outputs": [
        {
          "output_type": "stream",
          "name": "stdout",
          "text": [
            "котов можно выпустить погулять  31.0  способами\n"
          ]
        }
      ]
    },
    {
      "cell_type": "code",
      "metadata": {
        "colab": {
          "base_uri": "https://localhost:8080/"
        },
        "id": "5U1BmPsrFX3k",
        "outputId": "a5a74f11-a287-419c-d831-733989a733b6"
      },
      "source": [
        "P(5)"
      ],
      "execution_count": null,
      "outputs": [
        {
          "output_type": "execute_result",
          "data": {
            "text/plain": [
              "120"
            ]
          },
          "metadata": {},
          "execution_count": 27
        }
      ]
    },
    {
      "cell_type": "code",
      "metadata": {
        "colab": {
          "base_uri": "https://localhost:8080/"
        },
        "id": "mTJs-sq5nFnx",
        "outputId": "92e276ef-9b3e-447c-a9c2-c82b2a300ef6"
      },
      "source": [
        "print('Вася может взять двух котов на руки ',A_(5,2),' способами')"
      ],
      "execution_count": null,
      "outputs": [
        {
          "output_type": "stream",
          "name": "stdout",
          "text": [
            "Вася может взять двух котов на руки  20.0  способами\n"
          ]
        }
      ]
    },
    {
      "cell_type": "markdown",
      "metadata": {
        "id": "y24DK-TByExK"
      },
      "source": [
        "###Задача 3\n",
        "\n",
        "В лифт двенадцатиэтажного дома сели три пассажира. Каждый независимо от других с одинаковой вероятностью может выйти на любом (начиная со второго) этаже. \n",
        "1) Сколькими способами пассажиры могут выйти на одном и том же этаже (порядок выхода не имеет значения)?\n",
        "2) Сколькими способами два человека могут выйти на одном этаже, а третий – на другом?\n",
        "3) Сколькими способами люди могут выйти на разных этажах?\n",
        "4) Сколькими способами пассажиры могут выйти из лифта?"
      ]
    },
    {
      "cell_type": "code",
      "metadata": {
        "id": "HE39EaxHye3D",
        "colab": {
          "base_uri": "https://localhost:8080/"
        },
        "outputId": "cbabd080-0977-4371-adee-7b54aa7b84b7"
      },
      "source": [
        "print('пассажиры могут выйти' ,C_n_m(3,3)*C_n_m(11,1),' способами')"
      ],
      "execution_count": null,
      "outputs": [
        {
          "output_type": "stream",
          "name": "stdout",
          "text": [
            "пассажиры могут выйти 11.0  способами\n"
          ]
        }
      ]
    },
    {
      "cell_type": "code",
      "metadata": {
        "colab": {
          "base_uri": "https://localhost:8080/"
        },
        "id": "wdWW4V_kn_8S",
        "outputId": "de14088d-6abe-4375-874b-74471809f997"
      },
      "source": [
        "print('два человека могут выйти ',P(3)*C_n_m(11,2),' способами')"
      ],
      "execution_count": null,
      "outputs": [
        {
          "output_type": "stream",
          "name": "stdout",
          "text": [
            "два человека могут выйти  330.0  способами\n"
          ]
        }
      ]
    },
    {
      "cell_type": "code",
      "metadata": {
        "colab": {
          "base_uri": "https://localhost:8080/"
        },
        "id": "2iLQFx33oAAM",
        "outputId": "74a8f09f-ac7f-441a-f35d-5a63b29bcdaa"
      },
      "source": [
        "print('на разных этажах пассажиры могут выйти ',A_(3,2)*A_(3,1)*C_n_m(11,2), ' способами')"
      ],
      "execution_count": null,
      "outputs": [
        {
          "output_type": "stream",
          "name": "stdout",
          "text": [
            "на разных этажах пассажиры могут выйти  990.0  способами\n"
          ]
        }
      ]
    },
    {
      "cell_type": "code",
      "metadata": {
        "colab": {
          "base_uri": "https://localhost:8080/"
        },
        "id": "G_wOh37noAK5",
        "outputId": "0affc317-7cbb-46af-9bd5-4241de6ff3de"
      },
      "source": [
        "print('пассажиры могут выйти из лифта ',C_n_m(3,3)*C_n_m(11,1)+A_(3,2)*A_(3,1)*C_n_m(11,2)+P(3)*C_n_m(11,2), 'способами')"
      ],
      "execution_count": null,
      "outputs": [
        {
          "output_type": "stream",
          "name": "stdout",
          "text": [
            "пассажиры могут выйти из лифта  1331.0 способами\n"
          ]
        }
      ]
    },
    {
      "cell_type": "markdown",
      "metadata": {
        "id": "i-lUADpzvTMq"
      },
      "source": [
        "###Задача 4\n",
        "\n",
        "В кошельке находятся  одно-, двух- и десятирублевые монеты. Сколькими способами можно извлечь 4 монеты из кошелька?"
      ]
    },
    {
      "cell_type": "code",
      "metadata": {
        "id": "3jrYYLIAv09O",
        "colab": {
          "base_uri": "https://localhost:8080/"
        },
        "outputId": "84d39d24-66d4-47e8-ebd7-7496839ac1f0"
      },
      "source": [
        "print('извлечь 4 монеты можно ',C_n_m_rep(3,4),' способами')"
      ],
      "execution_count": null,
      "outputs": [
        {
          "output_type": "stream",
          "name": "stdout",
          "text": [
            "извлечь 4 монеты можно  15.0  способами\n"
          ]
        }
      ]
    },
    {
      "cell_type": "markdown",
      "metadata": {
        "id": "zYNvIKpOvTju"
      },
      "source": [
        "###Задача 5\n",
        "\n",
        "Сколько всего существует вариантов IPv4 адресов (https://ru.wikipedia.org/wiki/IPv4) ?"
      ]
    },
    {
      "cell_type": "code",
      "metadata": {
        "id": "yC6A35DKeAdJ"
      },
      "source": [
        "Цитата: \"IPv4 использует 32-битные (четырёхбайтные) адреса, ограничивающие адресное пространство 4 294 967 296  возможными уникальными адресами.\"\n"
      ],
      "execution_count": null,
      "outputs": []
    },
    {
      "cell_type": "code",
      "metadata": {
        "colab": {
          "base_uri": "https://localhost:8080/"
        },
        "id": "LzsGusYU04OH",
        "outputId": "26278984-4dbe-4558-c702-7620ed3de89a"
      },
      "source": [
        "C_n_m_rep(256,1)*C_n_m_rep(256,1)*C_n_m_rep(256,1)*C_n_m_rep(256,1) # 4 числа от 0ь до 255"
      ],
      "execution_count": null,
      "outputs": [
        {
          "output_type": "execute_result",
          "data": {
            "text/plain": [
              "4294967296.0"
            ]
          },
          "metadata": {},
          "execution_count": 18
        }
      ]
    },
    {
      "cell_type": "markdown",
      "metadata": {
        "id": "ozHQXry5n2IS"
      },
      "source": [
        "# Множества"
      ]
    },
    {
      "cell_type": "markdown",
      "metadata": {
        "id": "TgKIOnlDu8cd"
      },
      "source": [
        "###Задача 1\n",
        "\n",
        "В классе 36 учеников. Каждый из них пользуется хотя бы одним из видов городского транспорта: метро, автобусом и троллейбусом. Всеми тремя видами транспорта пользуются 5 учеников, метро и автобусом – 17 учеников, метро и троллейбусом – 15 учеников, троллейбусом и автобусом – 7 учеников.\n",
        "\n",
        "Сколько учеников пользуются только одним видом транспорта?\n"
      ]
    },
    {
      "cell_type": "code",
      "metadata": {
        "id": "I9KwweluvPWt",
        "colab": {
          "base_uri": "https://localhost:8080/"
        },
        "outputId": "b525214f-8fba-44be-9eef-17c151984f78"
      },
      "source": [
        "class_st = 36\n",
        "M_A = 17\n",
        "M_T = 15\n",
        "T_A = 7\n",
        "all = 5 \n",
        "one_tr = class_st - (M_A-all) - (M_T - all) - (T_A-all) - all\n",
        "print('только одним видом транспорта пользуются ', one_tr, ' учеников в классе')"
      ],
      "execution_count": null,
      "outputs": [
        {
          "output_type": "stream",
          "name": "stdout",
          "text": [
            "только одним видом транспорта пользуются  7  учеников в классе\n"
          ]
        }
      ]
    },
    {
      "cell_type": "markdown",
      "metadata": {
        "id": "yCl-xEaju8CI"
      },
      "source": [
        "###Задача 2\n",
        "\n",
        "Первую или вторую контрольную работу по математике успешно написали 33 студента, первую или третью – 32 студента, вторую или третью – 31 студент. Не менее двух контрольных работ выполнили 20 студентов.\n",
        "\n",
        "Сколько студентов успешно решили только одну контрольную работу?"
      ]
    },
    {
      "cell_type": "code",
      "metadata": {
        "id": "9KkSB0DOeAGh",
        "colab": {
          "base_uri": "https://localhost:8080/"
        },
        "outputId": "082576ad-6670-48ab-8615-5a0b85abd001"
      },
      "source": [
        "f_s = 33\n",
        "f_th = 32\n",
        "s_th = 31\n",
        "double = 20 #fs or fth or sth \n",
        "one = ((f_s-double) + (f_th-double) + (s_th - double))/2\n",
        "print('одну контрольную выполнили ', one, ' студентов')"
      ],
      "execution_count": null,
      "outputs": [
        {
          "output_type": "stream",
          "name": "stdout",
          "text": [
            "одну контрольную выполнили  18.0  студентов\n"
          ]
        }
      ]
    },
    {
      "cell_type": "markdown",
      "metadata": {
        "id": "YKz-zW2jum28"
      },
      "source": [
        "###Задача 3\n",
        "  Дано множество А={1, 2, 4}, существует множество B. Такое, что B\\E = {3} и $A\\cap B$ = {1}. \n",
        "\n",
        "Найти множество B, если его мощность равна 2."
      ]
    },
    {
      "cell_type": "code",
      "metadata": {
        "id": "zTcBhC5Qu4nY"
      },
      "source": [
        "Мощность множества В равна 2 следовательно множество содержит 2 элемента. \n",
        "A∩B  = {1} означает, что в значении равном 1 множества А и В пересекаются.\n",
        " B\\E = {3} означает, что из множества В вычли множество Е и осталось значение равное 3.\n",
        " Следовательно :\n",
        " B = {1,3}"
      ],
      "execution_count": null,
      "outputs": []
    }
  ]
}