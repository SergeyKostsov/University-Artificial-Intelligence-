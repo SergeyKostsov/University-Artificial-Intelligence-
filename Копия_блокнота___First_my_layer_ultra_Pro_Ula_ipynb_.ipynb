{
  "nbformat": 4,
  "nbformat_minor": 0,
  "metadata": {
    "colab": {
      "name": "Копия блокнота \"\"First_my_layer_ultra_Pro_Ula.ipynb\"",
      "provenance": [],
      "collapsed_sections": []
    },
    "kernelspec": {
      "name": "python3",
      "display_name": "Python 3"
    },
    "accelerator": "GPU"
  },
  "cells": [
    {
      "cell_type": "code",
      "metadata": {
        "id": "qrfd6FzSLrE2"
      },
      "source": [
        "from tensorflow.keras.models import Sequential # НС прямого распространения\n",
        "from tensorflow.keras.layers import Dense, Activation, Dropout, BatchNormalization # Основные слои\n",
        "from tensorflow.keras import utils # Утилиты для to_categorical\n",
        "from tensorflow.keras.preprocessing import image # Для отрисовки изображения\n",
        "from tensorflow.keras.optimizers import Adam, Adadelta # Алгоритмы оптимизации, для настройки скорости обучения\n",
        "import numpy as np # Библиотека работы с массивами\n",
        "import matplotlib.pyplot as plt # Отрисовка изображений\n",
        "from PIL import Image # Отрисовка изображений\n",
        "import pandas as pd # Библиотека pandas\n",
        "from google.colab import files # Импорт файлов\n",
        "from sklearn.preprocessing import LabelEncoder, StandardScaler # Функции для нормализации данных\n",
        "from sklearn import preprocessing # Пакет предварительной обработки данных\n",
        "\n",
        "# Отрисовывать изображения в ноутбуке, а не в консоль или файл\n",
        "%matplotlib inline\n"
      ],
      "execution_count": null,
      "outputs": []
    },
    {
      "cell_type": "code",
      "metadata": {
        "id": "5OpTfgGWiSzT",
        "colab": {
          "base_uri": "https://localhost:8080/"
        },
        "outputId": "a8d3709a-1ba1-4e01-dd89-d1fc33472d70"
      },
      "source": [
        "# Для загрузки данных используем drive\n",
        "from google.colab import drive\n",
        "drive.mount('/content/drive')"
      ],
      "execution_count": null,
      "outputs": [
        {
          "output_type": "stream",
          "name": "stdout",
          "text": [
            "Mounted at /content/drive\n"
          ]
        }
      ]
    },
    {
      "cell_type": "code",
      "metadata": {
        "colab": {
          "resources": {
            "http://localhost:8080/nbextensions/google.colab/files.js": {
              "data": "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",
              "ok": true,
              "headers": [
                [
                  "content-type",
                  "application/javascript"
                ]
              ],
              "status": 200,
              "status_text": ""
            }
          },
          "base_uri": "https://localhost:8080/",
          "height": 89
        },
        "id": "AIwRI6UaR1Bn",
        "outputId": "86fb2946-d8c4-4541-dd15-770125f05132"
      },
      "source": [
        "# Загружаем файлы\n",
        "files.upload()\n",
        "!ls # Выводим содержимое корневой папки"
      ],
      "execution_count": null,
      "outputs": [
        {
          "output_type": "display_data",
          "data": {
            "text/html": [
              "\n",
              "     <input type=\"file\" id=\"files-9c761e8f-b400-4a6d-a283-e9818773e6de\" name=\"files[]\" multiple disabled\n",
              "        style=\"border:none\" />\n",
              "     <output id=\"result-9c761e8f-b400-4a6d-a283-e9818773e6de\">\n",
              "      Upload widget is only available when the cell has been executed in the\n",
              "      current browser session. Please rerun this cell to enable.\n",
              "      </output>\n",
              "      <script src=\"/nbextensions/google.colab/files.js\"></script> "
            ],
            "text/plain": [
              "<IPython.core.display.HTML object>"
            ]
          },
          "metadata": {}
        },
        {
          "output_type": "stream",
          "name": "stdout",
          "text": [
            "Saving cars_new.csv to cars_new.csv\n",
            "cars_new.csv  sample_data\n"
          ]
        }
      ]
    },
    {
      "cell_type": "code",
      "metadata": {
        "colab": {
          "base_uri": "https://localhost:8080/",
          "height": 204
        },
        "id": "NED7-XkaS3TJ",
        "outputId": "27be5e13-99f8-4815-93f9-63746df5323e"
      },
      "source": [
        "# Считываем csv с помощью pandas\n",
        "cars = pd.read_csv('cars_new.csv', sep=',')\n",
        "cars[:5] # Выводим первые 5 машин "
      ],
      "execution_count": null,
      "outputs": [
        {
          "output_type": "execute_result",
          "data": {
            "text/html": [
              "<div>\n",
              "<style scoped>\n",
              "    .dataframe tbody tr th:only-of-type {\n",
              "        vertical-align: middle;\n",
              "    }\n",
              "\n",
              "    .dataframe tbody tr th {\n",
              "        vertical-align: top;\n",
              "    }\n",
              "\n",
              "    .dataframe thead th {\n",
              "        text-align: right;\n",
              "    }\n",
              "</style>\n",
              "<table border=\"1\" class=\"dataframe\">\n",
              "  <thead>\n",
              "    <tr style=\"text-align: right;\">\n",
              "      <th></th>\n",
              "      <th>mark</th>\n",
              "      <th>model</th>\n",
              "      <th>price</th>\n",
              "      <th>year</th>\n",
              "      <th>mileage</th>\n",
              "      <th>body</th>\n",
              "      <th>kpp</th>\n",
              "      <th>fuel</th>\n",
              "      <th>volume</th>\n",
              "      <th>power</th>\n",
              "    </tr>\n",
              "  </thead>\n",
              "  <tbody>\n",
              "    <tr>\n",
              "      <th>0</th>\n",
              "      <td>kia</td>\n",
              "      <td>cerato</td>\n",
              "      <td>996000</td>\n",
              "      <td>2018</td>\n",
              "      <td>28000</td>\n",
              "      <td>седан</td>\n",
              "      <td>автомат</td>\n",
              "      <td>бензин</td>\n",
              "      <td>2.0</td>\n",
              "      <td>150.0</td>\n",
              "    </tr>\n",
              "    <tr>\n",
              "      <th>1</th>\n",
              "      <td>daewoo</td>\n",
              "      <td>nexia 1 поколение [2-й рестайлинг]</td>\n",
              "      <td>140200</td>\n",
              "      <td>2012</td>\n",
              "      <td>60500</td>\n",
              "      <td>седан</td>\n",
              "      <td>механика</td>\n",
              "      <td>бензин</td>\n",
              "      <td>1.5</td>\n",
              "      <td>80.0</td>\n",
              "    </tr>\n",
              "    <tr>\n",
              "      <th>2</th>\n",
              "      <td>suzuki</td>\n",
              "      <td>jimny 3 поколение [рестайлинг]</td>\n",
              "      <td>750000</td>\n",
              "      <td>2011</td>\n",
              "      <td>29000</td>\n",
              "      <td>внедорожник</td>\n",
              "      <td>автомат</td>\n",
              "      <td>бензин</td>\n",
              "      <td>1.3</td>\n",
              "      <td>85.0</td>\n",
              "    </tr>\n",
              "    <tr>\n",
              "      <th>3</th>\n",
              "      <td>bmw</td>\n",
              "      <td>x1 18 e84 [рестайлинг]</td>\n",
              "      <td>970000</td>\n",
              "      <td>2014</td>\n",
              "      <td>49500</td>\n",
              "      <td>кроссовер</td>\n",
              "      <td>автомат</td>\n",
              "      <td>бензин</td>\n",
              "      <td>2.0</td>\n",
              "      <td>150.0</td>\n",
              "    </tr>\n",
              "    <tr>\n",
              "      <th>4</th>\n",
              "      <td>chevrolet</td>\n",
              "      <td>lacetti 1 поколение</td>\n",
              "      <td>205000</td>\n",
              "      <td>2007</td>\n",
              "      <td>151445</td>\n",
              "      <td>седан</td>\n",
              "      <td>механика</td>\n",
              "      <td>бензин</td>\n",
              "      <td>1.4</td>\n",
              "      <td>95.0</td>\n",
              "    </tr>\n",
              "  </tbody>\n",
              "</table>\n",
              "</div>"
            ],
            "text/plain": [
              "        mark                               model   price  ...    fuel  volume  power\n",
              "0        kia                              cerato  996000  ...  бензин     2.0  150.0\n",
              "1     daewoo  nexia 1 поколение [2-й рестайлинг]  140200  ...  бензин     1.5   80.0\n",
              "2     suzuki      jimny 3 поколение [рестайлинг]  750000  ...  бензин     1.3   85.0\n",
              "3        bmw              x1 18 e84 [рестайлинг]  970000  ...  бензин     2.0  150.0\n",
              "4  chevrolet                 lacetti 1 поколение  205000  ...  бензин     1.4   95.0\n",
              "\n",
              "[5 rows x 10 columns]"
            ]
          },
          "metadata": {},
          "execution_count": 4
        }
      ]
    },
    {
      "cell_type": "code",
      "metadata": {
        "colab": {
          "base_uri": "https://localhost:8080/"
        },
        "id": "V1HT4Ap2TPpn",
        "outputId": "3df2193c-9981-49a8-a868-821bcdf17560"
      },
      "source": [
        "print(cars.values.shape)"
      ],
      "execution_count": null,
      "outputs": [
        {
          "output_type": "stream",
          "name": "stdout",
          "text": [
            "(70119, 10)\n"
          ]
        }
      ]
    },
    {
      "cell_type": "code",
      "metadata": {
        "id": "Kjl2QcURTPt1"
      },
      "source": [
        "# Создаём словарь поле - его индекс\n",
        "def create_dict(s):\n",
        "  ret = {}                          # Создаём пустой словарь\n",
        "  for _id, name in enumerate(s):    # Проходим по всем парам - id и название\n",
        "    ret.update({name: _id})         # Добавляем в словарь\n",
        "  return ret\n",
        "\n",
        "# Функция преобразования в one hot encoding\n",
        "def to_ohe(value, d):\n",
        "  arr = [0] * len(d)\n",
        "  arr[d[value]] = 1\n",
        "  return arr"
      ],
      "execution_count": null,
      "outputs": []
    },
    {
      "cell_type": "code",
      "metadata": {
        "id": "ATC6pobbTPzX"
      },
      "source": [
        "# Создаём словари по всем текстовым колонкам\n",
        "marks_dict = create_dict(set(cars['mark']))\n",
        "models_dict = create_dict(set(cars['model']))\n",
        "bodies_dict = create_dict(set(cars['body']))\n",
        "kpps_dict = create_dict(set(cars['kpp']))\n",
        "fuels_dict = create_dict(set(cars['fuel']))\n",
        "\n",
        "# Запоминаем цены\n",
        "prices = np.array(cars['price'], dtype=np.float)\n",
        "\n",
        "# Запоминаем числовые параметры\n",
        "# и нормируем\n",
        "years = preprocessing.scale(cars['year'])\n",
        "mileages = preprocessing.scale(cars['mileage'])\n",
        "volumes = preprocessing.scale(cars['volume'])\n",
        "powers = preprocessing.scale(cars['power'])"
      ],
      "execution_count": null,
      "outputs": []
    },
    {
      "cell_type": "code",
      "metadata": {
        "colab": {
          "base_uri": "https://localhost:8080/"
        },
        "id": "wi1X38hDiKIR",
        "outputId": "13025b38-cf55-4560-e12b-1e5b22980319"
      },
      "source": [
        "len(models_dict) # Количество уникальных элементов по моделям авто"
      ],
      "execution_count": null,
      "outputs": [
        {
          "output_type": "execute_result",
          "data": {
            "text/plain": [
              "3156"
            ]
          },
          "metadata": {},
          "execution_count": 8
        }
      ]
    },
    {
      "cell_type": "code",
      "metadata": {
        "colab": {
          "base_uri": "https://localhost:8080/"
        },
        "id": "ma-VPR8ZTP34",
        "outputId": "5f677688-2fbc-4870-aff5-e161a5a16155"
      },
      "source": [
        "print(marks_dict)"
      ],
      "execution_count": null,
      "outputs": [
        {
          "output_type": "stream",
          "name": "stdout",
          "text": [
            "{'skoda': 0, 'audi': 1, 'mazda': 2, 'mercedes-benz': 3, 'suzuki': 4, 'chevrolet': 5, 'subaru': 6, 'kia': 7, 'peugeot': 8, 'nissan': 9, 'toyota': 10, 'opel': 11, 'honda': 12, 'renault': 13, 'daewoo': 14, 'volkswagen': 15, 'chery': 16, 'mitsubishi': 17, 'bmw': 18, 'hyundai': 19, 'ford': 20}\n"
          ]
        }
      ]
    },
    {
      "cell_type": "code",
      "metadata": {
        "colab": {
          "base_uri": "https://localhost:8080/"
        },
        "id": "UWfebHUbTP9W",
        "outputId": "0f8e130f-1ba2-44ec-a98f-a805b9b6cdd2"
      },
      "source": [
        "years.mean()"
      ],
      "execution_count": null,
      "outputs": [
        {
          "output_type": "execute_result",
          "data": {
            "text/plain": [
              "7.129646144783743e-15"
            ]
          },
          "metadata": {},
          "execution_count": 10
        }
      ]
    },
    {
      "cell_type": "code",
      "metadata": {
        "colab": {
          "base_uri": "https://localhost:8080/"
        },
        "id": "7WmbDrVFUYLo",
        "outputId": "749b3e74-c300-47d1-d593-343e0e74e921"
      },
      "source": [
        "years.std()"
      ],
      "execution_count": null,
      "outputs": [
        {
          "output_type": "execute_result",
          "data": {
            "text/plain": [
              "1.0"
            ]
          },
          "metadata": {},
          "execution_count": 11
        }
      ]
    },
    {
      "cell_type": "code",
      "metadata": {
        "colab": {
          "base_uri": "https://localhost:8080/"
        },
        "id": "oIqlsv2NUYSy",
        "outputId": "153bb073-e94e-4f8d-880b-35ae14eb334a"
      },
      "source": [
        "print(powers)"
      ],
      "execution_count": null,
      "outputs": [
        {
          "output_type": "stream",
          "name": "stdout",
          "text": [
            "[ 0.22905575 -0.95630346 -0.87163494 ...  0.22905575 -0.75309902\n",
            "  2.34576862]\n"
          ]
        }
      ]
    },
    {
      "cell_type": "code",
      "metadata": {
        "id": "ORZ8vJBhUYZg"
      },
      "source": [
        "# Создаём пустую обучающую выборку 1 version\n",
        "x_train = []\n",
        "y_train = []\n",
        "\n",
        "# Проходам по всем машинам\n",
        "for _id, car in enumerate(np.array(cars)):\n",
        "  # В y_train добавляем цену\n",
        "  y_train.append(prices[_id])\n",
        "  \n",
        "  # В x_train объединяем все параметры\n",
        "  # Категорийные параметры добавляем в виде ohe\n",
        "  # Числовые параметры добавляем напрямую\n",
        "  x_tr = to_ohe(car[0], marks_dict) + \\\n",
        "        to_ohe(car[1], models_dict) + \\\n",
        "        to_ohe(car[5], bodies_dict) + \\\n",
        "        to_ohe(car[6], kpps_dict) + \\\n",
        "        to_ohe(car[7], fuels_dict) + \\\n",
        "        [years[_id]] + \\\n",
        "        [mileages[_id]] + \\\n",
        "        [volumes[_id]] + \\\n",
        "        [powers[_id]]\n",
        "  \n",
        "  # Добавляем текущую строку в общий x_train\n",
        "  x_train.append(x_tr)\n",
        "\n",
        "# Превращаем лист в numpy.array\n",
        "x_train = np.array(x_train, dtype=np.float)\n",
        "y_train = np.array(y_train, dtype=np.float)"
      ],
      "execution_count": null,
      "outputs": []
    },
    {
      "cell_type": "code",
      "metadata": {
        "colab": {
          "base_uri": "https://localhost:8080/"
        },
        "id": "CL_Ge9NcUYev",
        "outputId": "71e650af-7807-4fa7-c860-cb13ada0e160"
      },
      "source": [
        "# Выводим размеры выборок\n",
        "print(x_train.shape)\n",
        "print(y_train.shape)"
      ],
      "execution_count": null,
      "outputs": [
        {
          "output_type": "stream",
          "name": "stdout",
          "text": [
            "(70119, 3208)\n",
            "(70119,)\n"
          ]
        }
      ]
    },
    {
      "cell_type": "code",
      "metadata": {
        "colab": {
          "base_uri": "https://localhost:8080/"
        },
        "id": "xnV6rVIzp40Z",
        "outputId": "03e8b1f0-d1ce-4891-a506-0f71919b4dad"
      },
      "source": [
        "y_train[65970]"
      ],
      "execution_count": null,
      "outputs": [
        {
          "output_type": "execute_result",
          "data": {
            "text/plain": [
              "2151000.0"
            ]
          },
          "metadata": {},
          "execution_count": 15
        }
      ]
    },
    {
      "cell_type": "code",
      "metadata": {
        "colab": {
          "base_uri": "https://localhost:8080/"
        },
        "id": "oIOWbn9IUYkk",
        "outputId": "065c4182-8cc6-4c34-fcff-a6ac4f6ef6e3"
      },
      "source": [
        "# Выводим один x_train\n",
        "print(x_train[0,:20])\n",
        "print(x_train[0,-20:])"
      ],
      "execution_count": null,
      "outputs": [
        {
          "output_type": "stream",
          "name": "stdout",
          "text": [
            "[0. 0. 0. 0. 0. 0. 0. 1. 0. 0. 0. 0. 0. 0. 0. 0. 0. 0. 0. 0.]\n",
            "[ 0.          0.          1.          0.          0.          0.\n",
            "  0.          1.          0.          0.          0.          0.\n",
            "  0.          1.          0.          0.          1.5200145  -1.40018212\n",
            "  0.12288486  0.22905575]\n"
          ]
        }
      ]
    },
    {
      "cell_type": "code",
      "metadata": {
        "colab": {
          "base_uri": "https://localhost:8080/"
        },
        "id": "H0VJEjoFUus3",
        "outputId": "86fd43bb-9c49-49bc-8231-c3b0fa39fc9c"
      },
      "source": [
        "# Выводим y_train\n",
        "print(y_train[:10])"
      ],
      "execution_count": null,
      "outputs": [
        {
          "output_type": "stream",
          "name": "stdout",
          "text": [
            "[ 996000.  140200.  750000.  970000.  205000.  985000.  589000.  500000.\n",
            " 1320000.  270000.]\n"
          ]
        }
      ]
    },
    {
      "cell_type": "code",
      "metadata": {
        "id": "OvCGkL7VUuyS"
      },
      "source": [
        "# Нормализуем y_train\n",
        "y_scaler = StandardScaler()\n",
        "y_train_scaled = y_scaler.fit_transform(y_train.reshape(-1,1)).flatten()\n",
        "\n",
        "# y_train.reshape(-1,1) добавляет одну размерность\n",
        "# Это нужно потому, что y_scaler.fit_transform\n",
        "# Требует двумерны вектор, массив примеров, которые надо нормализовать\n",
        "# Он не умеет работать с одним примеров\n",
        "# Поэтому мы делаем массив из одного примера\n",
        "# На выходе он так же выдаёт массив примеров\n",
        "# Но нам нужен только первый пример\n",
        "# Поэтому мы делаем flatten() - уменьшение размерности"
      ],
      "execution_count": null,
      "outputs": []
    },
    {
      "cell_type": "code",
      "metadata": {
        "colab": {
          "base_uri": "https://localhost:8080/"
        },
        "id": "5TPxNYZdUu3H",
        "outputId": "7092e030-354a-4292-cae0-377bfd891626"
      },
      "source": [
        "y_train_scaled.shape"
      ],
      "execution_count": null,
      "outputs": [
        {
          "output_type": "execute_result",
          "data": {
            "text/plain": [
              "(70119,)"
            ]
          },
          "metadata": {},
          "execution_count": 19
        }
      ]
    },
    {
      "cell_type": "code",
      "metadata": {
        "colab": {
          "base_uri": "https://localhost:8080/"
        },
        "id": "u0lybl4qml0U",
        "outputId": "29ed7022-204a-4510-9f31-33e1921119a0"
      },
      "source": [
        "y_train_scaled[:5]"
      ],
      "execution_count": null,
      "outputs": [
        {
          "output_type": "execute_result",
          "data": {
            "text/plain": [
              "array([ 0.75082432, -0.62135434,  0.3563911 ,  0.70913625, -0.51745486])"
            ]
          },
          "metadata": {},
          "execution_count": 20
        }
      ]
    },
    {
      "cell_type": "code",
      "metadata": {
        "colab": {
          "base_uri": "https://localhost:8080/"
        },
        "id": "gvMQm677cP69",
        "outputId": "82977c4a-483a-466a-9b44-ed998bd83730"
      },
      "source": [
        "y_train.shape"
      ],
      "execution_count": null,
      "outputs": [
        {
          "output_type": "execute_result",
          "data": {
            "text/plain": [
              "(70119,)"
            ]
          },
          "metadata": {},
          "execution_count": 21
        }
      ]
    },
    {
      "cell_type": "code",
      "metadata": {
        "colab": {
          "base_uri": "https://localhost:8080/"
        },
        "id": "DnXaMDXRUu7X",
        "outputId": "96871bcc-d4f4-45a9-850f-5a99de5daa2f"
      },
      "source": [
        "# Выводим базовый и нормированный y_train\n",
        "print(y_train[:10])\n",
        "print(y_train_scaled[:10])"
      ],
      "execution_count": null,
      "outputs": [
        {
          "output_type": "stream",
          "name": "stdout",
          "text": [
            "[ 996000.  140200.  750000.  970000.  205000.  985000.  589000.  500000.\n",
            " 1320000.  270000.]\n",
            "[ 0.75082432 -0.62135434  0.3563911   0.70913625 -0.51745486  0.73318706\n",
            "  0.09824578 -0.04445567  1.27032173 -0.4132347 ]\n"
          ]
        }
      ]
    },
    {
      "cell_type": "code",
      "metadata": {
        "colab": {
          "base_uri": "https://localhost:8080/"
        },
        "id": "Ml1weX0VnUyP",
        "outputId": "c432ddab-c88a-4a61-a8b7-2467c413a3e3"
      },
      "source": [
        "x_train.shape"
      ],
      "execution_count": null,
      "outputs": [
        {
          "output_type": "execute_result",
          "data": {
            "text/plain": [
              "(70119, 3208)"
            ]
          },
          "metadata": {},
          "execution_count": 23
        }
      ]
    },
    {
      "cell_type": "code",
      "metadata": {
        "id": "Bk1TwOGPY9en"
      },
      "source": [
        "x_test_new = x_train[60000:]\n",
        "x_train_new = x_train[:60000]"
      ],
      "execution_count": null,
      "outputs": []
    },
    {
      "cell_type": "code",
      "metadata": {
        "colab": {
          "base_uri": "https://localhost:8080/"
        },
        "id": "-hvOBx4trHhw",
        "outputId": "afdd68b9-9711-448a-f021-66dd9fd0c504"
      },
      "source": [
        "print(x_test_new.shape)\n",
        "print(x_train_new.shape)"
      ],
      "execution_count": null,
      "outputs": [
        {
          "output_type": "stream",
          "name": "stdout",
          "text": [
            "(10119, 3208)\n",
            "(60000, 3208)\n"
          ]
        }
      ]
    },
    {
      "cell_type": "code",
      "metadata": {
        "colab": {
          "base_uri": "https://localhost:8080/"
        },
        "id": "zs_zA30Krgra",
        "outputId": "fbaa0302-9ca7-4d13-be4d-ee9fb5347274"
      },
      "source": [
        "y_train_scaled[61000]"
      ],
      "execution_count": null,
      "outputs": [
        {
          "output_type": "execute_result",
          "data": {
            "text/plain": [
              "-0.22884518703548776"
            ]
          },
          "metadata": {},
          "execution_count": 26
        }
      ]
    },
    {
      "cell_type": "code",
      "metadata": {
        "id": "_XHsl59UoUPT"
      },
      "source": [
        "y_train_new = y_train_scaled[:60000]\n",
        "y_test_new = y_train_scaled[60000:]"
      ],
      "execution_count": null,
      "outputs": []
    },
    {
      "cell_type": "code",
      "metadata": {
        "colab": {
          "base_uri": "https://localhost:8080/"
        },
        "id": "xqOgqWK8rSYr",
        "outputId": "d10ad5ad-1666-4f79-f064-3ebfb7270ad1"
      },
      "source": [
        "y_train_new[5]\n",
        "#print(y_train_new.shape)"
      ],
      "execution_count": null,
      "outputs": [
        {
          "output_type": "execute_result",
          "data": {
            "text/plain": [
              "0.7331870610811585"
            ]
          },
          "metadata": {},
          "execution_count": 28
        }
      ]
    },
    {
      "cell_type": "code",
      "metadata": {
        "colab": {
          "base_uri": "https://localhost:8080/"
        },
        "id": "QHVR1mbfcBoc",
        "outputId": "2be9e843-80ba-40ca-b04c-4734d390ce9a"
      },
      "source": [
        "y_train_new = np.array(y_train_new)\n",
        "y_test_new = np.array(y_test_new)\n",
        "print(x_train_new.shape)\n",
        "print(x_test_new.shape)\n",
        "print(y_train_new.shape)\n",
        "print(y_test_new.shape)"
      ],
      "execution_count": null,
      "outputs": [
        {
          "output_type": "stream",
          "name": "stdout",
          "text": [
            "(60000, 3208)\n",
            "(10119, 3208)\n",
            "(60000,)\n",
            "(10119,)\n"
          ]
        }
      ]
    },
    {
      "cell_type": "code",
      "metadata": {
        "colab": {
          "base_uri": "https://localhost:8080/"
        },
        "id": "rQxksR7nt_zQ",
        "outputId": "921a56ec-ee72-4b7c-c0c9-aff5681a6f55"
      },
      "source": [
        "y_test_new[1:].shape"
      ],
      "execution_count": null,
      "outputs": [
        {
          "output_type": "execute_result",
          "data": {
            "text/plain": [
              "(10118,)"
            ]
          },
          "metadata": {},
          "execution_count": 30
        }
      ]
    },
    {
      "cell_type": "code",
      "metadata": {
        "colab": {
          "base_uri": "https://localhost:8080/"
        },
        "id": "TCU5Fp7-XCxj",
        "outputId": "82a58d07-3ed2-4270-adb6-c14a3472a1c9"
      },
      "source": [
        "print(x_train_new.shape[1:])\n",
        "print(x_test_new.shape[1:])\n",
        "print(y_train_new.shape[1:])\n",
        "print(y_test_new.shape[1:])"
      ],
      "execution_count": null,
      "outputs": [
        {
          "output_type": "stream",
          "name": "stdout",
          "text": [
            "(3208,)\n",
            "(3208,)\n",
            "()\n",
            "()\n"
          ]
        }
      ]
    },
    {
      "cell_type": "code",
      "metadata": {
        "colab": {
          "base_uri": "https://localhost:8080/"
        },
        "id": "rNR4zUTaEv_E",
        "outputId": "be4879ef-2e20-4e0b-a704-5dae040906ad"
      },
      "source": [
        "x_train.shape[1:]"
      ],
      "execution_count": null,
      "outputs": [
        {
          "output_type": "execute_result",
          "data": {
            "text/plain": [
              "(3208,)"
            ]
          },
          "metadata": {},
          "execution_count": 32
        }
      ]
    },
    {
      "cell_type": "code",
      "metadata": {
        "id": "oxTOY7A_Uu_q",
        "colab": {
          "base_uri": "https://localhost:8080/"
        },
        "outputId": "83a26e15-ae45-4844-e67e-81a58c4129d6"
      },
      "source": [
        "model_ula = Sequential()\n",
        "model_ula.add(BatchNormalization(input_shape=x_train.shape[1:]))\n",
        "model_ula.add(Dense(3300, activation = 'relu', ))\n",
        "model_ula.add(Dropout(0.5, input_shape=(3208,)))\n",
        "model_ula.add(Dense(300, activation = 'relu'))\n",
        "model_ula.add(Dropout(0.25, input_shape=(3208,)))\n",
        "model_ula.add(Dense(1, activation='linear'))\n",
        "model_ula.compile(optimizer = 'adam', loss = 'mse')\n",
        "\n",
        "print(model_ula.summary())\n",
        "\n",
        "\n"
      ],
      "execution_count": null,
      "outputs": [
        {
          "output_type": "stream",
          "name": "stdout",
          "text": [
            "Model: \"sequential\"\n",
            "_________________________________________________________________\n",
            " Layer (type)                Output Shape              Param #   \n",
            "=================================================================\n",
            " batch_normalization (BatchN  (None, 3208)             12832     \n",
            " ormalization)                                                   \n",
            "                                                                 \n",
            " dense (Dense)               (None, 3300)              10589700  \n",
            "                                                                 \n",
            " dropout (Dropout)           (None, 3300)              0         \n",
            "                                                                 \n",
            " dense_1 (Dense)             (None, 300)               990300    \n",
            "                                                                 \n",
            " dropout_1 (Dropout)         (None, 300)               0         \n",
            "                                                                 \n",
            " dense_2 (Dense)             (None, 1)                 301       \n",
            "                                                                 \n",
            "=================================================================\n",
            "Total params: 11,593,133\n",
            "Trainable params: 11,586,717\n",
            "Non-trainable params: 6,416\n",
            "_________________________________________________________________\n",
            "None\n"
          ]
        }
      ]
    },
    {
      "cell_type": "code",
      "metadata": {
        "colab": {
          "base_uri": "https://localhost:8080/"
        },
        "id": "uQ5UUiSFf3b-",
        "outputId": "37aa3b24-7179-45c7-c2f9-bda657c76bae"
      },
      "source": [
        "# training\n",
        "history = model_ula.fit(x_train, y_train_scaled, epochs = 125, batch_size = 320800, validation_split = 0.1,  verbose=1)\n"
      ],
      "execution_count": null,
      "outputs": [
        {
          "output_type": "stream",
          "name": "stdout",
          "text": [
            "Epoch 1/125\n",
            "1/1 [==============================] - 5s 5s/step - loss: 1.4365 - val_loss: 1.6203\n",
            "Epoch 2/125\n",
            "1/1 [==============================] - 2s 2s/step - loss: 31.4336 - val_loss: 1.0013\n",
            "Epoch 3/125\n",
            "1/1 [==============================] - 2s 2s/step - loss: 3.4075 - val_loss: 0.8914\n",
            "Epoch 4/125\n",
            "1/1 [==============================] - 2s 2s/step - loss: 3.3488 - val_loss: 0.9154\n",
            "Epoch 5/125\n",
            "1/1 [==============================] - 2s 2s/step - loss: 5.3006 - val_loss: 0.9301\n",
            "Epoch 6/125\n",
            "1/1 [==============================] - 2s 2s/step - loss: 2.6744 - val_loss: 0.9687\n",
            "Epoch 7/125\n",
            "1/1 [==============================] - 2s 2s/step - loss: 1.1596 - val_loss: 1.0113\n",
            "Epoch 8/125\n",
            "1/1 [==============================] - 2s 2s/step - loss: 0.7405 - val_loss: 1.0415\n",
            "Epoch 9/125\n",
            "1/1 [==============================] - 2s 2s/step - loss: 0.6820 - val_loss: 1.0597\n",
            "Epoch 10/125\n",
            "1/1 [==============================] - 2s 2s/step - loss: 0.7105 - val_loss: 1.0695\n",
            "Epoch 11/125\n",
            "1/1 [==============================] - 2s 2s/step - loss: 0.7384 - val_loss: 1.0739\n",
            "Epoch 12/125\n",
            "1/1 [==============================] - 2s 2s/step - loss: 0.7611 - val_loss: 1.0750\n",
            "Epoch 13/125\n",
            "1/1 [==============================] - 2s 2s/step - loss: 0.7706 - val_loss: 1.0737\n",
            "Epoch 14/125\n",
            "1/1 [==============================] - 3s 3s/step - loss: 0.7723 - val_loss: 1.0704\n",
            "Epoch 15/125\n",
            "1/1 [==============================] - 2s 2s/step - loss: 0.7633 - val_loss: 1.0652\n",
            "Epoch 16/125\n",
            "1/1 [==============================] - 2s 2s/step - loss: 0.7542 - val_loss: 1.0583\n",
            "Epoch 17/125\n",
            "1/1 [==============================] - 2s 2s/step - loss: 0.7311 - val_loss: 1.0496\n",
            "Epoch 18/125\n",
            "1/1 [==============================] - 2s 2s/step - loss: 0.7064 - val_loss: 1.0391\n",
            "Epoch 19/125\n",
            "1/1 [==============================] - 2s 2s/step - loss: 0.6784 - val_loss: 1.0266\n",
            "Epoch 20/125\n",
            "1/1 [==============================] - 2s 2s/step - loss: 0.6455 - val_loss: 1.0122\n",
            "Epoch 21/125\n",
            "1/1 [==============================] - 2s 2s/step - loss: 0.6085 - val_loss: 0.9956\n",
            "Epoch 22/125\n",
            "1/1 [==============================] - 3s 3s/step - loss: 0.5723 - val_loss: 0.9770\n",
            "Epoch 23/125\n",
            "1/1 [==============================] - 2s 2s/step - loss: 0.5341 - val_loss: 0.9567\n",
            "Epoch 24/125\n",
            "1/1 [==============================] - 2s 2s/step - loss: 0.4935 - val_loss: 0.9347\n",
            "Epoch 25/125\n",
            "1/1 [==============================] - 3s 3s/step - loss: 0.4620 - val_loss: 0.9114\n",
            "Epoch 26/125\n",
            "1/1 [==============================] - 3s 3s/step - loss: 0.4216 - val_loss: 0.8869\n",
            "Epoch 27/125\n",
            "1/1 [==============================] - 3s 3s/step - loss: 0.3895 - val_loss: 0.8617\n",
            "Epoch 28/125\n",
            "1/1 [==============================] - 3s 3s/step - loss: 0.3623 - val_loss: 0.8363\n",
            "Epoch 29/125\n",
            "1/1 [==============================] - 2s 2s/step - loss: 0.3360 - val_loss: 0.8112\n",
            "Epoch 30/125\n",
            "1/1 [==============================] - 3s 3s/step - loss: 0.3212 - val_loss: 0.7870\n",
            "Epoch 31/125\n",
            "1/1 [==============================] - 3s 3s/step - loss: 0.3184 - val_loss: 0.7643\n",
            "Epoch 32/125\n",
            "1/1 [==============================] - 3s 3s/step - loss: 0.3070 - val_loss: 0.7436\n",
            "Epoch 33/125\n",
            "1/1 [==============================] - 3s 3s/step - loss: 0.3049 - val_loss: 0.7252\n",
            "Epoch 34/125\n",
            "1/1 [==============================] - 3s 3s/step - loss: 0.2975 - val_loss: 0.7092\n",
            "Epoch 35/125\n",
            "1/1 [==============================] - 3s 3s/step - loss: 0.2965 - val_loss: 0.6963\n",
            "Epoch 36/125\n",
            "1/1 [==============================] - 3s 3s/step - loss: 0.3053 - val_loss: 0.6866\n",
            "Epoch 37/125\n",
            "1/1 [==============================] - 3s 3s/step - loss: 0.2969 - val_loss: 0.6802\n",
            "Epoch 38/125\n",
            "1/1 [==============================] - 3s 3s/step - loss: 0.2917 - val_loss: 0.6766\n",
            "Epoch 39/125\n",
            "1/1 [==============================] - 3s 3s/step - loss: 0.2843 - val_loss: 0.6755\n",
            "Epoch 40/125\n",
            "1/1 [==============================] - 3s 3s/step - loss: 0.2613 - val_loss: 0.6762\n",
            "Epoch 41/125\n",
            "1/1 [==============================] - 3s 3s/step - loss: 0.2525 - val_loss: 0.6783\n",
            "Epoch 42/125\n",
            "1/1 [==============================] - 3s 3s/step - loss: 0.2373 - val_loss: 0.6810\n",
            "Epoch 43/125\n",
            "1/1 [==============================] - 3s 3s/step - loss: 0.2311 - val_loss: 0.6842\n",
            "Epoch 44/125\n",
            "1/1 [==============================] - 3s 3s/step - loss: 0.2232 - val_loss: 0.6872\n",
            "Epoch 45/125\n",
            "1/1 [==============================] - 3s 3s/step - loss: 0.2160 - val_loss: 0.6896\n",
            "Epoch 46/125\n",
            "1/1 [==============================] - 3s 3s/step - loss: 0.2108 - val_loss: 0.6910\n",
            "Epoch 47/125\n",
            "1/1 [==============================] - 3s 3s/step - loss: 0.1992 - val_loss: 0.6913\n",
            "Epoch 48/125\n",
            "1/1 [==============================] - 3s 3s/step - loss: 0.1944 - val_loss: 0.6901\n",
            "Epoch 49/125\n",
            "1/1 [==============================] - 3s 3s/step - loss: 0.1994 - val_loss: 0.6874\n",
            "Epoch 50/125\n",
            "1/1 [==============================] - 3s 3s/step - loss: 0.1910 - val_loss: 0.6831\n",
            "Epoch 51/125\n",
            "1/1 [==============================] - 3s 3s/step - loss: 0.1834 - val_loss: 0.6773\n",
            "Epoch 52/125\n",
            "1/1 [==============================] - 3s 3s/step - loss: 0.1793 - val_loss: 0.6701\n",
            "Epoch 53/125\n",
            "1/1 [==============================] - 3s 3s/step - loss: 0.1785 - val_loss: 0.6620\n",
            "Epoch 54/125\n",
            "1/1 [==============================] - 3s 3s/step - loss: 0.1753 - val_loss: 0.6536\n",
            "Epoch 55/125\n",
            "1/1 [==============================] - 3s 3s/step - loss: 0.1690 - val_loss: 0.6458\n",
            "Epoch 56/125\n",
            "1/1 [==============================] - 3s 3s/step - loss: 0.1716 - val_loss: 0.6396\n",
            "Epoch 57/125\n",
            "1/1 [==============================] - 3s 3s/step - loss: 0.1590 - val_loss: 0.6347\n",
            "Epoch 58/125\n",
            "1/1 [==============================] - 3s 3s/step - loss: 0.1634 - val_loss: 0.6310\n",
            "Epoch 59/125\n",
            "1/1 [==============================] - 3s 3s/step - loss: 0.1661 - val_loss: 0.6282\n",
            "Epoch 60/125\n",
            "1/1 [==============================] - 3s 3s/step - loss: 0.1529 - val_loss: 0.6257\n",
            "Epoch 61/125\n",
            "1/1 [==============================] - 3s 3s/step - loss: 0.1614 - val_loss: 0.6227\n",
            "Epoch 62/125\n",
            "1/1 [==============================] - 3s 3s/step - loss: 0.1488 - val_loss: 0.6193\n",
            "Epoch 63/125\n",
            "1/1 [==============================] - 3s 3s/step - loss: 0.1541 - val_loss: 0.6153\n",
            "Epoch 64/125\n",
            "1/1 [==============================] - 3s 3s/step - loss: 0.1543 - val_loss: 0.6110\n",
            "Epoch 65/125\n",
            "1/1 [==============================] - 3s 3s/step - loss: 0.1396 - val_loss: 0.6060\n",
            "Epoch 66/125\n",
            "1/1 [==============================] - 3s 3s/step - loss: 0.1487 - val_loss: 0.6006\n",
            "Epoch 67/125\n",
            "1/1 [==============================] - 3s 3s/step - loss: 0.1445 - val_loss: 0.5953\n",
            "Epoch 68/125\n",
            "1/1 [==============================] - 3s 3s/step - loss: 0.1392 - val_loss: 0.5907\n",
            "Epoch 69/125\n",
            "1/1 [==============================] - 3s 3s/step - loss: 0.1363 - val_loss: 0.5869\n",
            "Epoch 70/125\n",
            "1/1 [==============================] - 3s 3s/step - loss: 0.1379 - val_loss: 0.5840\n",
            "Epoch 71/125\n",
            "1/1 [==============================] - 3s 3s/step - loss: 0.1349 - val_loss: 0.5819\n",
            "Epoch 72/125\n",
            "1/1 [==============================] - 3s 3s/step - loss: 0.1315 - val_loss: 0.5804\n",
            "Epoch 73/125\n",
            "1/1 [==============================] - 3s 3s/step - loss: 0.1235 - val_loss: 0.5790\n",
            "Epoch 74/125\n",
            "1/1 [==============================] - 3s 3s/step - loss: 0.1267 - val_loss: 0.5775\n",
            "Epoch 75/125\n",
            "1/1 [==============================] - 3s 3s/step - loss: 0.1274 - val_loss: 0.5757\n",
            "Epoch 76/125\n",
            "1/1 [==============================] - 3s 3s/step - loss: 0.1246 - val_loss: 0.5738\n",
            "Epoch 77/125\n",
            "1/1 [==============================] - 3s 3s/step - loss: 0.1270 - val_loss: 0.5710\n",
            "Epoch 78/125\n",
            "1/1 [==============================] - 3s 3s/step - loss: 0.1196 - val_loss: 0.5676\n",
            "Epoch 79/125\n",
            "1/1 [==============================] - 3s 3s/step - loss: 0.1312 - val_loss: 0.5640\n",
            "Epoch 80/125\n",
            "1/1 [==============================] - 3s 3s/step - loss: 0.1217 - val_loss: 0.5605\n",
            "Epoch 81/125\n",
            "1/1 [==============================] - 3s 3s/step - loss: 0.1091 - val_loss: 0.5567\n",
            "Epoch 82/125\n",
            "1/1 [==============================] - 3s 3s/step - loss: 0.1196 - val_loss: 0.5533\n",
            "Epoch 83/125\n",
            "1/1 [==============================] - 3s 3s/step - loss: 0.1143 - val_loss: 0.5502\n",
            "Epoch 84/125\n",
            "1/1 [==============================] - 3s 3s/step - loss: 0.1135 - val_loss: 0.5477\n",
            "Epoch 85/125\n",
            "1/1 [==============================] - 3s 3s/step - loss: 0.1161 - val_loss: 0.5455\n",
            "Epoch 86/125\n",
            "1/1 [==============================] - 3s 3s/step - loss: 0.1143 - val_loss: 0.5436\n",
            "Epoch 87/125\n",
            "1/1 [==============================] - 3s 3s/step - loss: 0.1096 - val_loss: 0.5425\n",
            "Epoch 88/125\n",
            "1/1 [==============================] - 3s 3s/step - loss: 0.1152 - val_loss: 0.5416\n",
            "Epoch 89/125\n",
            "1/1 [==============================] - 3s 3s/step - loss: 0.1085 - val_loss: 0.5402\n",
            "Epoch 90/125\n",
            "1/1 [==============================] - 3s 3s/step - loss: 0.1065 - val_loss: 0.5382\n",
            "Epoch 91/125\n",
            "1/1 [==============================] - 3s 3s/step - loss: 0.1081 - val_loss: 0.5359\n",
            "Epoch 92/125\n",
            "1/1 [==============================] - 3s 3s/step - loss: 0.1076 - val_loss: 0.5337\n",
            "Epoch 93/125\n",
            "1/1 [==============================] - 3s 3s/step - loss: 0.1166 - val_loss: 0.5320\n",
            "Epoch 94/125\n",
            "1/1 [==============================] - 3s 3s/step - loss: 0.1027 - val_loss: 0.5300\n",
            "Epoch 95/125\n",
            "1/1 [==============================] - 3s 3s/step - loss: 0.1120 - val_loss: 0.5283\n",
            "Epoch 96/125\n",
            "1/1 [==============================] - 3s 3s/step - loss: 0.1087 - val_loss: 0.5268\n",
            "Epoch 97/125\n",
            "1/1 [==============================] - 3s 3s/step - loss: 0.1110 - val_loss: 0.5259\n",
            "Epoch 98/125\n",
            "1/1 [==============================] - 3s 3s/step - loss: 0.1060 - val_loss: 0.5254\n",
            "Epoch 99/125\n",
            "1/1 [==============================] - 3s 3s/step - loss: 0.1086 - val_loss: 0.5246\n",
            "Epoch 100/125\n",
            "1/1 [==============================] - 3s 3s/step - loss: 0.1031 - val_loss: 0.5235\n",
            "Epoch 101/125\n",
            "1/1 [==============================] - 3s 3s/step - loss: 0.1032 - val_loss: 0.5219\n",
            "Epoch 102/125\n",
            "1/1 [==============================] - 3s 3s/step - loss: 0.1044 - val_loss: 0.5198\n",
            "Epoch 103/125\n",
            "1/1 [==============================] - 3s 3s/step - loss: 0.1066 - val_loss: 0.5179\n",
            "Epoch 104/125\n",
            "1/1 [==============================] - 3s 3s/step - loss: 0.1039 - val_loss: 0.5158\n",
            "Epoch 105/125\n",
            "1/1 [==============================] - 3s 3s/step - loss: 0.1036 - val_loss: 0.5138\n",
            "Epoch 106/125\n",
            "1/1 [==============================] - 3s 3s/step - loss: 0.1114 - val_loss: 0.5125\n",
            "Epoch 107/125\n",
            "1/1 [==============================] - 3s 3s/step - loss: 0.1024 - val_loss: 0.5118\n",
            "Epoch 108/125\n",
            "1/1 [==============================] - 3s 3s/step - loss: 0.1012 - val_loss: 0.5114\n",
            "Epoch 109/125\n",
            "1/1 [==============================] - 3s 3s/step - loss: 0.1086 - val_loss: 0.5107\n",
            "Epoch 110/125\n",
            "1/1 [==============================] - 3s 3s/step - loss: 0.1065 - val_loss: 0.5104\n",
            "Epoch 111/125\n",
            "1/1 [==============================] - 3s 3s/step - loss: 0.1029 - val_loss: 0.5096\n",
            "Epoch 112/125\n",
            "1/1 [==============================] - 3s 3s/step - loss: 0.0999 - val_loss: 0.5083\n",
            "Epoch 113/125\n",
            "1/1 [==============================] - 3s 3s/step - loss: 0.1071 - val_loss: 0.5071\n",
            "Epoch 114/125\n",
            "1/1 [==============================] - 3s 3s/step - loss: 0.1016 - val_loss: 0.5064\n",
            "Epoch 115/125\n",
            "1/1 [==============================] - 3s 3s/step - loss: 0.1035 - val_loss: 0.5056\n",
            "Epoch 116/125\n",
            "1/1 [==============================] - 3s 3s/step - loss: 0.1022 - val_loss: 0.5048\n",
            "Epoch 117/125\n",
            "1/1 [==============================] - 3s 3s/step - loss: 0.0981 - val_loss: 0.5040\n",
            "Epoch 118/125\n",
            "1/1 [==============================] - 3s 3s/step - loss: 0.1015 - val_loss: 0.5033\n",
            "Epoch 119/125\n",
            "1/1 [==============================] - 3s 3s/step - loss: 0.1009 - val_loss: 0.5019\n",
            "Epoch 120/125\n",
            "1/1 [==============================] - 3s 3s/step - loss: 0.0963 - val_loss: 0.5003\n",
            "Epoch 121/125\n",
            "1/1 [==============================] - 3s 3s/step - loss: 0.1018 - val_loss: 0.4990\n",
            "Epoch 122/125\n",
            "1/1 [==============================] - 3s 3s/step - loss: 0.0965 - val_loss: 0.4980\n",
            "Epoch 123/125\n",
            "1/1 [==============================] - 3s 3s/step - loss: 0.0954 - val_loss: 0.4971\n",
            "Epoch 124/125\n",
            "1/1 [==============================] - 2s 2s/step - loss: 0.1055 - val_loss: 0.4962\n",
            "Epoch 125/125\n",
            "1/1 [==============================] - 2s 2s/step - loss: 0.1022 - val_loss: 0.4957\n"
          ]
        }
      ]
    },
    {
      "cell_type": "code",
      "metadata": {
        "id": "mWbk0Dm3U8qw",
        "colab": {
          "base_uri": "https://localhost:8080/"
        },
        "outputId": "8d4daeff-5c20-474d-a601-740560f3dad7"
      },
      "source": [
        "x = x_test_new[10][None,:]\n",
        "predict = model_ula.predict(x)\n",
        "predict_inverse = y_scaler.inverse_transform(predict).flatten()\n",
        "print(\"Нейронная сеть подсчитала результат: цена автомобиля\",predict_inverse, \"рублей\")"
      ],
      "execution_count": null,
      "outputs": [
        {
          "output_type": "stream",
          "name": "stdout",
          "text": [
            "Нейронная сеть подсчитала результат: цена автомобиля [450230.97] рублей\n"
          ]
        }
      ]
    },
    {
      "cell_type": "code",
      "metadata": {
        "colab": {
          "base_uri": "https://localhost:8080/"
        },
        "id": "7-HCajw8deUM",
        "outputId": "46eca060-5a86-4598-adfb-8494ae9c7b38"
      },
      "source": [
        "print(\"Тестовое значение цены автомобиля: \",y_train[60010], \"рублей\")"
      ],
      "execution_count": null,
      "outputs": [
        {
          "output_type": "stream",
          "name": "stdout",
          "text": [
            "Тестовое значение цены автомобиля:  319000.0 рублей\n"
          ]
        }
      ]
    },
    {
      "cell_type": "code",
      "metadata": {
        "id": "IgxHcvGej1UE"
      },
      "source": [
        "y=y_test_new[10].reshape(-1,1)"
      ],
      "execution_count": null,
      "outputs": []
    },
    {
      "cell_type": "code",
      "metadata": {
        "colab": {
          "base_uri": "https://localhost:8080/"
        },
        "id": "heffExbpjWV-",
        "outputId": "2de58d05-5c69-411e-ca23-2d72394233a6"
      },
      "source": [
        "test_price = y_scaler.inverse_transform(y).flatten()\n",
        "\"Тестовое значение цены автомобиля: \",test_price, \"рублей\""
      ],
      "execution_count": null,
      "outputs": [
        {
          "output_type": "execute_result",
          "data": {
            "text/plain": [
              "('Тестовое значение цены автомобиля: ', array([319000.]), 'рублей')"
            ]
          },
          "metadata": {},
          "execution_count": 38
        }
      ]
    },
    {
      "cell_type": "code",
      "metadata": {
        "id": "_ZvHaxC413zX"
      },
      "source": [
        "# Значения точности распознавания на проверочной выборке по эпохам\n",
        "val_loss_mae = []\n",
        "val_loss = history.history['val_loss']\n",
        "for i in range(len(val_loss)):\n",
        "  val_loss_mae.append(val_loss[i])\n",
        " "
      ],
      "execution_count": null,
      "outputs": []
    },
    {
      "cell_type": "code",
      "metadata": {
        "colab": {
          "base_uri": "https://localhost:8080/"
        },
        "id": "yJtYQcD0133J",
        "outputId": "6aa8c8ba-4de9-4e6f-e98e-249cf0d63a51"
      },
      "source": [
        "val_loss_mae = np.array(val_loss_mae) # Массив значений ошибк на тестовой выборке\n",
        "print('Среднее значение ошибки составило:', val_loss_mae.mean())"
      ],
      "execution_count": null,
      "outputs": [
        {
          "output_type": "stream",
          "name": "stdout",
          "text": [
            "Среднее значение ошибки составило: 0.6845497527122497\n"
          ]
        }
      ]
    },
    {
      "cell_type": "code",
      "metadata": {
        "colab": {
          "base_uri": "https://localhost:8080/"
        },
        "id": "0oLXfw8f137O",
        "outputId": "71ccd500-3bb0-4c20-a5ba-fe39282f2492"
      },
      "source": [
        "print('Средний процент ошибки составил: ', round(100*val_loss_mae.mean()), '%', sep=\"\")"
      ],
      "execution_count": null,
      "outputs": [
        {
          "output_type": "stream",
          "name": "stdout",
          "text": [
            "Средний процент ошибки составил: 68%\n"
          ]
        }
      ]
    },
    {
      "cell_type": "code",
      "metadata": {
        "colab": {
          "base_uri": "https://localhost:8080/",
          "height": 279
        },
        "id": "2ezSbrwc2EIZ",
        "outputId": "277e4e5e-f66d-46cf-fe12-93e45d47d01e"
      },
      "source": [
        "# Выводим графики ошибки\n",
        "plt.plot(history.history['loss'], \n",
        "         label='Ошибка на обучающем наборе')\n",
        "plt.plot(history.history['val_loss'], \n",
        "         label='Ошибка на проверочном наборе')\n",
        "plt.xlabel('Эпоха обучения')\n",
        "plt.ylabel('Ошибка')\n",
        "plt.legend()\n",
        "plt.show()"
      ],
      "execution_count": null,
      "outputs": [
        {
          "output_type": "display_data",
          "data": {
            "image/png": "[encoded data removed]",
            "text/plain": [
              "<Figure size 432x288 with 1 Axes>"
            ]
          },
          "metadata": {
            "needs_background": "light"
          }
        }
      ]
    },
    {
      "cell_type": "markdown",
      "metadata": {
        "id": "OQgNkNl_UKF0"
      },
      "source": [
        "Проанализировав данные выявил, что словарь \"модель\" содержит 3156 индексов что при выборке в 70 119 машин сильно засоряет данные мешая обучиться сети и увеличивает количество ошибок. Решил попробовать обучить сеть исключив данный столбец. Вероятно нужно с ним особо прорабатывать распарсивая его на важные ключи или добавляя в более сложных сетях иным способом. Вобщем стоит подумать над ним дополнительно."
      ]
    },
    {
      "cell_type": "code",
      "metadata": {
        "id": "1b5L2THVxWeQ"
      },
      "source": [
        "# Создаём пустую обучающую выборку 2 version\n",
        "x_train = []\n",
        "y_train = []\n",
        "\n",
        "# Проходам по всем машинам\n",
        "for _id, car in enumerate(np.array(cars)):\n",
        "  # В y_train добавляем цену\n",
        "  y_train.append(prices[_id])\n",
        "  \n",
        "  # В x_train объединяем все параметры\n",
        "  # Категорийные параметры добавляем в виде ohe\n",
        "  # Числовые параметры добавляем напрямую\n",
        "  x_tr = to_ohe(car[0], marks_dict) + \\\n",
        "        to_ohe(car[5], bodies_dict) + \\\n",
        "        to_ohe(car[6], kpps_dict) + \\\n",
        "        to_ohe(car[7], fuels_dict) + \\\n",
        "        [years[_id]] + \\\n",
        "        [mileages[_id]] + \\\n",
        "        [volumes[_id]] + \\\n",
        "        [powers[_id]]\n",
        "  \n",
        "  # Добавляем текущую строку в общий x_train\n",
        "  x_train.append(x_tr)\n",
        "\n",
        "# Превращаем лист в numpy.array\n",
        "x_train = np.array(x_train, dtype=np.float)\n",
        "y_train = np.array(y_train, dtype=np.float)"
      ],
      "execution_count": null,
      "outputs": []
    },
    {
      "cell_type": "code",
      "metadata": {
        "id": "oTUmHSHoJ0rt"
      },
      "source": [
        "# Нормализуем y_train\n",
        "y_scaler = StandardScaler()\n",
        "y_train_scaled = y_scaler.fit_transform(y_train.reshape(-1,1)).flatten()\n",
        "\n",
        "# y_train.reshape(-1,1) добавляет одну размерность\n",
        "# Это нужно потому, что y_scaler.fit_transform\n",
        "# Требует двумерны вектор, массив примеров, которые надо нормализовать\n",
        "# Он не умеет работать с одним примеров\n",
        "# Поэтому мы делаем массив из одного примера\n",
        "# На выходе он так же выдаёт массив примеров\n",
        "# Но нам нужен только первый пример\n",
        "# Поэтому мы делаем flatten() - уменьшение размерности"
      ],
      "execution_count": null,
      "outputs": []
    },
    {
      "cell_type": "code",
      "metadata": {
        "id": "-Vf-PUviJ0vO"
      },
      "source": [
        "x_test_new = x_train[60000:]\n",
        "x_train_new = x_train[:60000]"
      ],
      "execution_count": null,
      "outputs": []
    },
    {
      "cell_type": "code",
      "metadata": {
        "colab": {
          "base_uri": "https://localhost:8080/"
        },
        "id": "bOwfBfCUJ1Bj",
        "outputId": "4b21a9d0-a772-45bc-eba4-1e47dd8ab850"
      },
      "source": [
        "print(x_test_new.shape)\n",
        "print(x_train_new.shape)"
      ],
      "execution_count": null,
      "outputs": [
        {
          "output_type": "stream",
          "name": "stdout",
          "text": [
            "(10119, 52)\n",
            "(60000, 52)\n"
          ]
        }
      ]
    },
    {
      "cell_type": "code",
      "metadata": {
        "id": "qh9nMMCHJ1Ej"
      },
      "source": [
        "y_train_new = y_train_scaled[:60000]\n",
        "y_test_new = y_train_scaled[60000:]"
      ],
      "execution_count": null,
      "outputs": []
    },
    {
      "cell_type": "code",
      "metadata": {
        "colab": {
          "base_uri": "https://localhost:8080/"
        },
        "id": "ttOYPvDLLICO",
        "outputId": "11e9a102-f64a-4413-815d-858c672db1ac"
      },
      "source": [
        "y_train_new = np.array(y_train_new)\n",
        "y_test_new = np.array(y_test_new)\n",
        "print(x_train_new.shape)\n",
        "print(x_test_new.shape)\n",
        "print(y_train_new.shape)\n",
        "print(y_test_new.shape)"
      ],
      "execution_count": null,
      "outputs": [
        {
          "output_type": "stream",
          "name": "stdout",
          "text": [
            "(60000, 52)\n",
            "(10119, 52)\n",
            "(60000,)\n",
            "(10119,)\n"
          ]
        }
      ]
    },
    {
      "cell_type": "code",
      "metadata": {
        "colab": {
          "base_uri": "https://localhost:8080/"
        },
        "id": "srIO31Q0LILU",
        "outputId": "fc849e6c-5b78-4db3-e36c-471b52c0d6e8"
      },
      "source": [
        "print(x_train_new.shape[1:])\n",
        "print(x_test_new.shape[1:])\n",
        "print(y_train_new.shape[1:])\n",
        "print(y_test_new.shape[1:])"
      ],
      "execution_count": null,
      "outputs": [
        {
          "output_type": "stream",
          "name": "stdout",
          "text": [
            "(52,)\n",
            "(52,)\n",
            "()\n",
            "()\n"
          ]
        }
      ]
    },
    {
      "cell_type": "code",
      "metadata": {
        "id": "mC5MkduELIT6",
        "colab": {
          "base_uri": "https://localhost:8080/"
        },
        "outputId": "b62fd7e5-c518-4f86-ee6e-2d66a80faee3"
      },
      "source": [
        "model_ula = Sequential()\n",
        "model_ula.add(BatchNormalization(input_shape=(52,)))\n",
        "model_ula.add(Dense(52, activation = 'relu', ))\n",
        "model_ula.add(Dropout(0.5, input_shape=(52,)))\n",
        "model_ula.add(Dense(10, activation = 'relu'))\n",
        "model_ula.add(Dropout(0.25, input_shape=(52,)))\n",
        "model_ula.add(Dense(1, activation='linear'))\n",
        "model_ula.compile(optimizer = 'adam', loss = 'mae')\n",
        "\n",
        "print(model_ula.summary())"
      ],
      "execution_count": null,
      "outputs": [
        {
          "output_type": "stream",
          "name": "stdout",
          "text": [
            "Model: \"sequential_1\"\n",
            "_________________________________________________________________\n",
            " Layer (type)                Output Shape              Param #   \n",
            "=================================================================\n",
            " batch_normalization_1 (Batc  (None, 52)               208       \n",
            " hNormalization)                                                 \n",
            "                                                                 \n",
            " dense_3 (Dense)             (None, 52)                2756      \n",
            "                                                                 \n",
            " dropout_2 (Dropout)         (None, 52)                0         \n",
            "                                                                 \n",
            " dense_4 (Dense)             (None, 10)                530       \n",
            "                                                                 \n",
            " dropout_3 (Dropout)         (None, 10)                0         \n",
            "                                                                 \n",
            " dense_5 (Dense)             (None, 1)                 11        \n",
            "                                                                 \n",
            "=================================================================\n",
            "Total params: 3,505\n",
            "Trainable params: 3,401\n",
            "Non-trainable params: 104\n",
            "_________________________________________________________________\n",
            "None\n"
          ]
        }
      ]
    },
    {
      "cell_type": "code",
      "metadata": {
        "colab": {
          "base_uri": "https://localhost:8080/"
        },
        "id": "mkHF8JbiLIbp",
        "outputId": "75567706-5a1a-425e-ef43-a1d28db6fc77"
      },
      "source": [
        "# training\n",
        "history_sec = model_ula.fit(x_train, y_train_scaled, epochs = 125, batch_size = 5200, validation_split = 0.1,  verbose=1) # batch_size в обоих случаях соответствует длине вектора в 100 машин."
      ],
      "execution_count": null,
      "outputs": [
        {
          "output_type": "stream",
          "name": "stdout",
          "text": [
            "Epoch 1/125\n",
            "13/13 [==============================] - 1s 19ms/step - loss: 0.9282 - val_loss: 0.5178\n",
            "Epoch 2/125\n",
            "13/13 [==============================] - 0s 8ms/step - loss: 0.6856 - val_loss: 0.5212\n",
            "Epoch 3/125\n",
            "13/13 [==============================] - 0s 8ms/step - loss: 0.5801 - val_loss: 0.5084\n",
            "Epoch 4/125\n",
            "13/13 [==============================] - 0s 7ms/step - loss: 0.5192 - val_loss: 0.4868\n",
            "Epoch 5/125\n",
            "13/13 [==============================] - 0s 9ms/step - loss: 0.4842 - val_loss: 0.4605\n",
            "Epoch 6/125\n",
            "13/13 [==============================] - 0s 8ms/step - loss: 0.4572 - val_loss: 0.4365\n",
            "Epoch 7/125\n",
            "13/13 [==============================] - 0s 8ms/step - loss: 0.4343 - val_loss: 0.4153\n",
            "Epoch 8/125\n",
            "13/13 [==============================] - 0s 8ms/step - loss: 0.4116 - val_loss: 0.3945\n",
            "Epoch 9/125\n",
            "13/13 [==============================] - 0s 8ms/step - loss: 0.3950 - val_loss: 0.3737\n",
            "Epoch 10/125\n",
            "13/13 [==============================] - 0s 8ms/step - loss: 0.3793 - val_loss: 0.3559\n",
            "Epoch 11/125\n",
            "13/13 [==============================] - 0s 8ms/step - loss: 0.3638 - val_loss: 0.3400\n",
            "Epoch 12/125\n",
            "13/13 [==============================] - 0s 8ms/step - loss: 0.3521 - val_loss: 0.3274\n",
            "Epoch 13/125\n",
            "13/13 [==============================] - 0s 7ms/step - loss: 0.3432 - val_loss: 0.3156\n",
            "Epoch 14/125\n",
            "13/13 [==============================] - 0s 7ms/step - loss: 0.3312 - val_loss: 0.3050\n",
            "Epoch 15/125\n",
            "13/13 [==============================] - 0s 8ms/step - loss: 0.3236 - val_loss: 0.2958\n",
            "Epoch 16/125\n",
            "13/13 [==============================] - 0s 7ms/step - loss: 0.3150 - val_loss: 0.2893\n",
            "Epoch 17/125\n",
            "13/13 [==============================] - 0s 7ms/step - loss: 0.3090 - val_loss: 0.2782\n",
            "Epoch 18/125\n",
            "13/13 [==============================] - 0s 8ms/step - loss: 0.3028 - val_loss: 0.2726\n",
            "Epoch 19/125\n",
            "13/13 [==============================] - 0s 8ms/step - loss: 0.2983 - val_loss: 0.2685\n",
            "Epoch 20/125\n",
            "13/13 [==============================] - 0s 8ms/step - loss: 0.2925 - val_loss: 0.2604\n",
            "Epoch 21/125\n",
            "13/13 [==============================] - 0s 7ms/step - loss: 0.2882 - val_loss: 0.2567\n",
            "Epoch 22/125\n",
            "13/13 [==============================] - 0s 7ms/step - loss: 0.2840 - val_loss: 0.2522\n",
            "Epoch 23/125\n",
            "13/13 [==============================] - 0s 8ms/step - loss: 0.2816 - val_loss: 0.2442\n",
            "Epoch 24/125\n",
            "13/13 [==============================] - 0s 8ms/step - loss: 0.2767 - val_loss: 0.2394\n",
            "Epoch 25/125\n",
            "13/13 [==============================] - 0s 7ms/step - loss: 0.2745 - val_loss: 0.2370\n",
            "Epoch 26/125\n",
            "13/13 [==============================] - 0s 8ms/step - loss: 0.2694 - val_loss: 0.2308\n",
            "Epoch 27/125\n",
            "13/13 [==============================] - 0s 7ms/step - loss: 0.2683 - val_loss: 0.2258\n",
            "Epoch 28/125\n",
            "13/13 [==============================] - 0s 8ms/step - loss: 0.2644 - val_loss: 0.2206\n",
            "Epoch 29/125\n",
            "13/13 [==============================] - 0s 7ms/step - loss: 0.2598 - val_loss: 0.2152\n",
            "Epoch 30/125\n",
            "13/13 [==============================] - 0s 7ms/step - loss: 0.2569 - val_loss: 0.2143\n",
            "Epoch 31/125\n",
            "13/13 [==============================] - 0s 8ms/step - loss: 0.2550 - val_loss: 0.2087\n",
            "Epoch 32/125\n",
            "13/13 [==============================] - 0s 7ms/step - loss: 0.2532 - val_loss: 0.2050\n",
            "Epoch 33/125\n",
            "13/13 [==============================] - 0s 7ms/step - loss: 0.2527 - val_loss: 0.2037\n",
            "Epoch 34/125\n",
            "13/13 [==============================] - 0s 8ms/step - loss: 0.2492 - val_loss: 0.2012\n",
            "Epoch 35/125\n",
            "13/13 [==============================] - 0s 7ms/step - loss: 0.2478 - val_loss: 0.1963\n",
            "Epoch 36/125\n",
            "13/13 [==============================] - 0s 7ms/step - loss: 0.2451 - val_loss: 0.1927\n",
            "Epoch 37/125\n",
            "13/13 [==============================] - 0s 7ms/step - loss: 0.2436 - val_loss: 0.1915\n",
            "Epoch 38/125\n",
            "13/13 [==============================] - 0s 9ms/step - loss: 0.2407 - val_loss: 0.1895\n",
            "Epoch 39/125\n",
            "13/13 [==============================] - 0s 9ms/step - loss: 0.2389 - val_loss: 0.1845\n",
            "Epoch 40/125\n",
            "13/13 [==============================] - 0s 8ms/step - loss: 0.2376 - val_loss: 0.1848\n",
            "Epoch 41/125\n",
            "13/13 [==============================] - 0s 8ms/step - loss: 0.2372 - val_loss: 0.1825\n",
            "Epoch 42/125\n",
            "13/13 [==============================] - 0s 8ms/step - loss: 0.2354 - val_loss: 0.1812\n",
            "Epoch 43/125\n",
            "13/13 [==============================] - 0s 7ms/step - loss: 0.2339 - val_loss: 0.1787\n",
            "Epoch 44/125\n",
            "13/13 [==============================] - 0s 8ms/step - loss: 0.2332 - val_loss: 0.1773\n",
            "Epoch 45/125\n",
            "13/13 [==============================] - 0s 8ms/step - loss: 0.2329 - val_loss: 0.1756\n",
            "Epoch 46/125\n",
            "13/13 [==============================] - 0s 8ms/step - loss: 0.2307 - val_loss: 0.1760\n",
            "Epoch 47/125\n",
            "13/13 [==============================] - 0s 8ms/step - loss: 0.2283 - val_loss: 0.1752\n",
            "Epoch 48/125\n",
            "13/13 [==============================] - 0s 8ms/step - loss: 0.2290 - val_loss: 0.1721\n",
            "Epoch 49/125\n",
            "13/13 [==============================] - 0s 8ms/step - loss: 0.2273 - val_loss: 0.1706\n",
            "Epoch 50/125\n",
            "13/13 [==============================] - 0s 8ms/step - loss: 0.2272 - val_loss: 0.1733\n",
            "Epoch 51/125\n",
            "13/13 [==============================] - 0s 7ms/step - loss: 0.2258 - val_loss: 0.1705\n",
            "Epoch 52/125\n",
            "13/13 [==============================] - 0s 8ms/step - loss: 0.2247 - val_loss: 0.1724\n",
            "Epoch 53/125\n",
            "13/13 [==============================] - 0s 8ms/step - loss: 0.2255 - val_loss: 0.1681\n",
            "Epoch 54/125\n",
            "13/13 [==============================] - 0s 8ms/step - loss: 0.2228 - val_loss: 0.1691\n",
            "Epoch 55/125\n",
            "13/13 [==============================] - 0s 7ms/step - loss: 0.2223 - val_loss: 0.1660\n",
            "Epoch 56/125\n",
            "13/13 [==============================] - 0s 8ms/step - loss: 0.2205 - val_loss: 0.1678\n",
            "Epoch 57/125\n",
            "13/13 [==============================] - 0s 8ms/step - loss: 0.2200 - val_loss: 0.1614\n",
            "Epoch 58/125\n",
            "13/13 [==============================] - 0s 8ms/step - loss: 0.2192 - val_loss: 0.1638\n",
            "Epoch 59/125\n",
            "13/13 [==============================] - 0s 9ms/step - loss: 0.2206 - val_loss: 0.1650\n",
            "Epoch 60/125\n",
            "13/13 [==============================] - 0s 8ms/step - loss: 0.2179 - val_loss: 0.1664\n",
            "Epoch 61/125\n",
            "13/13 [==============================] - 0s 8ms/step - loss: 0.2192 - val_loss: 0.1611\n",
            "Epoch 62/125\n",
            "13/13 [==============================] - 0s 8ms/step - loss: 0.2191 - val_loss: 0.1612\n",
            "Epoch 63/125\n",
            "13/13 [==============================] - 0s 8ms/step - loss: 0.2187 - val_loss: 0.1618\n",
            "Epoch 64/125\n",
            "13/13 [==============================] - 0s 7ms/step - loss: 0.2161 - val_loss: 0.1593\n",
            "Epoch 65/125\n",
            "13/13 [==============================] - 0s 7ms/step - loss: 0.2175 - val_loss: 0.1615\n",
            "Epoch 66/125\n",
            "13/13 [==============================] - 0s 7ms/step - loss: 0.2176 - val_loss: 0.1588\n",
            "Epoch 67/125\n",
            "13/13 [==============================] - 0s 7ms/step - loss: 0.2168 - val_loss: 0.1578\n",
            "Epoch 68/125\n",
            "13/13 [==============================] - 0s 8ms/step - loss: 0.2150 - val_loss: 0.1609\n",
            "Epoch 69/125\n",
            "13/13 [==============================] - 0s 8ms/step - loss: 0.2147 - val_loss: 0.1580\n",
            "Epoch 70/125\n",
            "13/13 [==============================] - 0s 7ms/step - loss: 0.2155 - val_loss: 0.1575\n",
            "Epoch 71/125\n",
            "13/13 [==============================] - 0s 7ms/step - loss: 0.2141 - val_loss: 0.1589\n",
            "Epoch 72/125\n",
            "13/13 [==============================] - 0s 8ms/step - loss: 0.2152 - val_loss: 0.1565\n",
            "Epoch 73/125\n",
            "13/13 [==============================] - 0s 8ms/step - loss: 0.2148 - val_loss: 0.1578\n",
            "Epoch 74/125\n",
            "13/13 [==============================] - 0s 7ms/step - loss: 0.2146 - val_loss: 0.1583\n",
            "Epoch 75/125\n",
            "13/13 [==============================] - 0s 7ms/step - loss: 0.2156 - val_loss: 0.1574\n",
            "Epoch 76/125\n",
            "13/13 [==============================] - 0s 8ms/step - loss: 0.2134 - val_loss: 0.1554\n",
            "Epoch 77/125\n",
            "13/13 [==============================] - 0s 7ms/step - loss: 0.2145 - val_loss: 0.1605\n",
            "Epoch 78/125\n",
            "13/13 [==============================] - 0s 8ms/step - loss: 0.2132 - val_loss: 0.1553\n",
            "Epoch 79/125\n",
            "13/13 [==============================] - 0s 7ms/step - loss: 0.2119 - val_loss: 0.1549\n",
            "Epoch 80/125\n",
            "13/13 [==============================] - 0s 8ms/step - loss: 0.2133 - val_loss: 0.1565\n",
            "Epoch 81/125\n",
            "13/13 [==============================] - 0s 8ms/step - loss: 0.2146 - val_loss: 0.1543\n",
            "Epoch 82/125\n",
            "13/13 [==============================] - 0s 8ms/step - loss: 0.2137 - val_loss: 0.1584\n",
            "Epoch 83/125\n",
            "13/13 [==============================] - 0s 8ms/step - loss: 0.2120 - val_loss: 0.1495\n",
            "Epoch 84/125\n",
            "13/13 [==============================] - 0s 8ms/step - loss: 0.2129 - val_loss: 0.1575\n",
            "Epoch 85/125\n",
            "13/13 [==============================] - 0s 8ms/step - loss: 0.2124 - val_loss: 0.1565\n",
            "Epoch 86/125\n",
            "13/13 [==============================] - 0s 8ms/step - loss: 0.2122 - val_loss: 0.1506\n",
            "Epoch 87/125\n",
            "13/13 [==============================] - 0s 7ms/step - loss: 0.2129 - val_loss: 0.1617\n",
            "Epoch 88/125\n",
            "13/13 [==============================] - 0s 8ms/step - loss: 0.2115 - val_loss: 0.1495\n",
            "Epoch 89/125\n",
            "13/13 [==============================] - 0s 7ms/step - loss: 0.2118 - val_loss: 0.1534\n",
            "Epoch 90/125\n",
            "13/13 [==============================] - 0s 7ms/step - loss: 0.2102 - val_loss: 0.1535\n",
            "Epoch 91/125\n",
            "13/13 [==============================] - 0s 8ms/step - loss: 0.2105 - val_loss: 0.1515\n",
            "Epoch 92/125\n",
            "13/13 [==============================] - 0s 7ms/step - loss: 0.2117 - val_loss: 0.1532\n",
            "Epoch 93/125\n",
            "13/13 [==============================] - 0s 8ms/step - loss: 0.2097 - val_loss: 0.1498\n",
            "Epoch 94/125\n",
            "13/13 [==============================] - 0s 8ms/step - loss: 0.2108 - val_loss: 0.1528\n",
            "Epoch 95/125\n",
            "13/13 [==============================] - 0s 8ms/step - loss: 0.2105 - val_loss: 0.1527\n",
            "Epoch 96/125\n",
            "13/13 [==============================] - 0s 8ms/step - loss: 0.2091 - val_loss: 0.1491\n",
            "Epoch 97/125\n",
            "13/13 [==============================] - 0s 7ms/step - loss: 0.2110 - val_loss: 0.1528\n",
            "Epoch 98/125\n",
            "13/13 [==============================] - 0s 8ms/step - loss: 0.2090 - val_loss: 0.1537\n",
            "Epoch 99/125\n",
            "13/13 [==============================] - 0s 7ms/step - loss: 0.2104 - val_loss: 0.1507\n",
            "Epoch 100/125\n",
            "13/13 [==============================] - 0s 7ms/step - loss: 0.2090 - val_loss: 0.1507\n",
            "Epoch 101/125\n",
            "13/13 [==============================] - 0s 8ms/step - loss: 0.2092 - val_loss: 0.1495\n",
            "Epoch 102/125\n",
            "13/13 [==============================] - 0s 9ms/step - loss: 0.2083 - val_loss: 0.1491\n",
            "Epoch 103/125\n",
            "13/13 [==============================] - 0s 7ms/step - loss: 0.2085 - val_loss: 0.1541\n",
            "Epoch 104/125\n",
            "13/13 [==============================] - 0s 8ms/step - loss: 0.2077 - val_loss: 0.1491\n",
            "Epoch 105/125\n",
            "13/13 [==============================] - 0s 7ms/step - loss: 0.2082 - val_loss: 0.1477\n",
            "Epoch 106/125\n",
            "13/13 [==============================] - 0s 8ms/step - loss: 0.2094 - val_loss: 0.1538\n",
            "Epoch 107/125\n",
            "13/13 [==============================] - 0s 7ms/step - loss: 0.2085 - val_loss: 0.1496\n",
            "Epoch 108/125\n",
            "13/13 [==============================] - 0s 7ms/step - loss: 0.2092 - val_loss: 0.1517\n",
            "Epoch 109/125\n",
            "13/13 [==============================] - 0s 8ms/step - loss: 0.2067 - val_loss: 0.1521\n",
            "Epoch 110/125\n",
            "13/13 [==============================] - 0s 8ms/step - loss: 0.2082 - val_loss: 0.1477\n",
            "Epoch 111/125\n",
            "13/13 [==============================] - 0s 8ms/step - loss: 0.2091 - val_loss: 0.1502\n",
            "Epoch 112/125\n",
            "13/13 [==============================] - 0s 7ms/step - loss: 0.2075 - val_loss: 0.1508\n",
            "Epoch 113/125\n",
            "13/13 [==============================] - 0s 7ms/step - loss: 0.2083 - val_loss: 0.1506\n",
            "Epoch 114/125\n",
            "13/13 [==============================] - 0s 8ms/step - loss: 0.2074 - val_loss: 0.1488\n",
            "Epoch 115/125\n",
            "13/13 [==============================] - 0s 7ms/step - loss: 0.2079 - val_loss: 0.1508\n",
            "Epoch 116/125\n",
            "13/13 [==============================] - 0s 8ms/step - loss: 0.2077 - val_loss: 0.1476\n",
            "Epoch 117/125\n",
            "13/13 [==============================] - 0s 8ms/step - loss: 0.2085 - val_loss: 0.1485\n",
            "Epoch 118/125\n",
            "13/13 [==============================] - 0s 8ms/step - loss: 0.2092 - val_loss: 0.1444\n",
            "Epoch 119/125\n",
            "13/13 [==============================] - 0s 8ms/step - loss: 0.2074 - val_loss: 0.1503\n",
            "Epoch 120/125\n",
            "13/13 [==============================] - 0s 8ms/step - loss: 0.2073 - val_loss: 0.1460\n",
            "Epoch 121/125\n",
            "13/13 [==============================] - 0s 8ms/step - loss: 0.2056 - val_loss: 0.1489\n",
            "Epoch 122/125\n",
            "13/13 [==============================] - 0s 8ms/step - loss: 0.2041 - val_loss: 0.1455\n",
            "Epoch 123/125\n",
            "13/13 [==============================] - 0s 7ms/step - loss: 0.2075 - val_loss: 0.1458\n",
            "Epoch 124/125\n",
            "13/13 [==============================] - 0s 7ms/step - loss: 0.2071 - val_loss: 0.1496\n",
            "Epoch 125/125\n",
            "13/13 [==============================] - 0s 7ms/step - loss: 0.2076 - val_loss: 0.1479\n"
          ]
        }
      ]
    },
    {
      "cell_type": "markdown",
      "metadata": {
        "id": "Xn3cHWsjVmum"
      },
      "source": [
        "В итоге - val_loss: 0.5565 уменьшился до val_loss: 0.1388. На мой взгляд существенно."
      ]
    },
    {
      "cell_type": "code",
      "metadata": {
        "colab": {
          "base_uri": "https://localhost:8080/"
        },
        "id": "KgUo9Wljh7zw",
        "outputId": "d0f6d3ff-9928-4efb-d337-2c4808768e2e"
      },
      "source": [
        "x = x_test_new[10][None,:]\n",
        "predict = model_ula.predict(x)\n",
        "predict_inverse = y_scaler.inverse_transform(predict).flatten()\n",
        "print(\"Нейронная сеть подсчитала результат: цена автомобиля\",predict_inverse, \"рублей\")"
      ],
      "execution_count": null,
      "outputs": [
        {
          "output_type": "stream",
          "name": "stdout",
          "text": [
            "Нейронная сеть подсчитала результат: цена автомобиля [284322.6] рублей\n"
          ]
        }
      ]
    },
    {
      "cell_type": "code",
      "metadata": {
        "id": "un29FVJziVSS"
      },
      "source": [
        "y=y_test_new[10].reshape(-1,1)"
      ],
      "execution_count": null,
      "outputs": []
    },
    {
      "cell_type": "code",
      "metadata": {
        "colab": {
          "base_uri": "https://localhost:8080/"
        },
        "id": "B0FaTcFoj2vN",
        "outputId": "83b537b8-794c-4132-f99b-fcc16183a916"
      },
      "source": [
        "test_price = y_scaler.inverse_transform(y).flatten()\n",
        "\"Тестовое значение цены автомобиля: \",test_price, \"рублей\""
      ],
      "execution_count": null,
      "outputs": [
        {
          "output_type": "execute_result",
          "data": {
            "text/plain": [
              "('Тестовое значение цены автомобиля: ', array([319000.]), 'рублей')"
            ]
          },
          "metadata": {},
          "execution_count": 54
        }
      ]
    },
    {
      "cell_type": "markdown",
      "metadata": {
        "id": "sKzHMBi6507f"
      },
      "source": [
        "Данный вариент использования данных делает сеть точнее, т.к. меньше замусоривает вектор и снижает процент ошибки."
      ]
    },
    {
      "cell_type": "code",
      "metadata": {
        "id": "5LIOJULboAcG"
      },
      "source": [
        "# Значения loss на обучающей выборке по эпохам\n",
        "history_sec.history['loss']"
      ],
      "execution_count": null,
      "outputs": []
    },
    {
      "cell_type": "code",
      "metadata": {
        "id": "oxiFewaQXamE"
      },
      "source": [
        "history_sec.history['val_loss']"
      ],
      "execution_count": null,
      "outputs": []
    },
    {
      "cell_type": "code",
      "metadata": {
        "id": "1xSR8C-mogV6",
        "colab": {
          "base_uri": "https://localhost:8080/"
        },
        "outputId": "8adc2617-f8b4-4ca4-acf0-8116c69adb46"
      },
      "source": [
        "# Значения точности распознавания на проверочной выборке по эпохам\n",
        "val_loss_mae_sec = []\n",
        "val_loss = history_sec.history['val_loss']\n",
        "for i in range(len(val_loss)):\n",
        "  val_loss_mae_sec.append(val_loss[i])\n",
        "  print(\"Эпоха: \", i, \" точность: \", round(100*val_loss[i], 1), \"%\", sep=\"\")\n",
        "  # round - округление\n",
        "  # sep=\"\" - убрать стандартный разделитель пробел при выводе строки"
      ],
      "execution_count": null,
      "outputs": [
        {
          "output_type": "stream",
          "name": "stdout",
          "text": [
            "Эпоха: 0 точность: 51.8%\n",
            "Эпоха: 1 точность: 52.1%\n",
            "Эпоха: 2 точность: 50.8%\n",
            "Эпоха: 3 точность: 48.7%\n",
            "Эпоха: 4 точность: 46.1%\n",
            "Эпоха: 5 точность: 43.7%\n",
            "Эпоха: 6 точность: 41.5%\n",
            "Эпоха: 7 точность: 39.4%\n",
            "Эпоха: 8 точность: 37.4%\n",
            "Эпоха: 9 точность: 35.6%\n",
            "Эпоха: 10 точность: 34.0%\n",
            "Эпоха: 11 точность: 32.7%\n",
            "Эпоха: 12 точность: 31.6%\n",
            "Эпоха: 13 точность: 30.5%\n",
            "Эпоха: 14 точность: 29.6%\n",
            "Эпоха: 15 точность: 28.9%\n",
            "Эпоха: 16 точность: 27.8%\n",
            "Эпоха: 17 точность: 27.3%\n",
            "Эпоха: 18 точность: 26.8%\n",
            "Эпоха: 19 точность: 26.0%\n",
            "Эпоха: 20 точность: 25.7%\n",
            "Эпоха: 21 точность: 25.2%\n",
            "Эпоха: 22 точность: 24.4%\n",
            "Эпоха: 23 точность: 23.9%\n",
            "Эпоха: 24 точность: 23.7%\n",
            "Эпоха: 25 точность: 23.1%\n",
            "Эпоха: 26 точность: 22.6%\n",
            "Эпоха: 27 точность: 22.1%\n",
            "Эпоха: 28 точность: 21.5%\n",
            "Эпоха: 29 точность: 21.4%\n",
            "Эпоха: 30 точность: 20.9%\n",
            "Эпоха: 31 точность: 20.5%\n",
            "Эпоха: 32 точность: 20.4%\n",
            "Эпоха: 33 точность: 20.1%\n",
            "Эпоха: 34 точность: 19.6%\n",
            "Эпоха: 35 точность: 19.3%\n",
            "Эпоха: 36 точность: 19.1%\n",
            "Эпоха: 37 точность: 19.0%\n",
            "Эпоха: 38 точность: 18.4%\n",
            "Эпоха: 39 точность: 18.5%\n",
            "Эпоха: 40 точность: 18.2%\n",
            "Эпоха: 41 точность: 18.1%\n",
            "Эпоха: 42 точность: 17.9%\n",
            "Эпоха: 43 точность: 17.7%\n",
            "Эпоха: 44 точность: 17.6%\n",
            "Эпоха: 45 точность: 17.6%\n",
            "Эпоха: 46 точность: 17.5%\n",
            "Эпоха: 47 точность: 17.2%\n",
            "Эпоха: 48 точность: 17.1%\n",
            "Эпоха: 49 точность: 17.3%\n",
            "Эпоха: 50 точность: 17.1%\n",
            "Эпоха: 51 точность: 17.2%\n",
            "Эпоха: 52 точность: 16.8%\n",
            "Эпоха: 53 точность: 16.9%\n",
            "Эпоха: 54 точность: 16.6%\n",
            "Эпоха: 55 точность: 16.8%\n",
            "Эпоха: 56 точность: 16.1%\n",
            "Эпоха: 57 точность: 16.4%\n",
            "Эпоха: 58 точность: 16.5%\n",
            "Эпоха: 59 точность: 16.6%\n",
            "Эпоха: 60 точность: 16.1%\n",
            "Эпоха: 61 точность: 16.1%\n",
            "Эпоха: 62 точность: 16.2%\n",
            "Эпоха: 63 точность: 15.9%\n",
            "Эпоха: 64 точность: 16.1%\n",
            "Эпоха: 65 точность: 15.9%\n",
            "Эпоха: 66 точность: 15.8%\n",
            "Эпоха: 67 точность: 16.1%\n",
            "Эпоха: 68 точность: 15.8%\n",
            "Эпоха: 69 точность: 15.8%\n",
            "Эпоха: 70 точность: 15.9%\n",
            "Эпоха: 71 точность: 15.6%\n",
            "Эпоха: 72 точность: 15.8%\n",
            "Эпоха: 73 точность: 15.8%\n",
            "Эпоха: 74 точность: 15.7%\n",
            "Эпоха: 75 точность: 15.5%\n",
            "Эпоха: 76 точность: 16.0%\n",
            "Эпоха: 77 точность: 15.5%\n",
            "Эпоха: 78 точность: 15.5%\n",
            "Эпоха: 79 точность: 15.6%\n",
            "Эпоха: 80 точность: 15.4%\n",
            "Эпоха: 81 точность: 15.8%\n",
            "Эпоха: 82 точность: 15.0%\n",
            "Эпоха: 83 точность: 15.7%\n",
            "Эпоха: 84 точность: 15.7%\n",
            "Эпоха: 85 точность: 15.1%\n",
            "Эпоха: 86 точность: 16.2%\n",
            "Эпоха: 87 точность: 14.9%\n",
            "Эпоха: 88 точность: 15.3%\n",
            "Эпоха: 89 точность: 15.3%\n",
            "Эпоха: 90 точность: 15.1%\n",
            "Эпоха: 91 точность: 15.3%\n",
            "Эпоха: 92 точность: 15.0%\n",
            "Эпоха: 93 точность: 15.3%\n",
            "Эпоха: 94 точность: 15.3%\n",
            "Эпоха: 95 точность: 14.9%\n",
            "Эпоха: 96 точность: 15.3%\n",
            "Эпоха: 97 точность: 15.4%\n",
            "Эпоха: 98 точность: 15.1%\n",
            "Эпоха: 99 точность: 15.1%\n",
            "Эпоха: 100 точность: 15.0%\n",
            "Эпоха: 101 точность: 14.9%\n",
            "Эпоха: 102 точность: 15.4%\n",
            "Эпоха: 103 точность: 14.9%\n",
            "Эпоха: 104 точность: 14.8%\n",
            "Эпоха: 105 точность: 15.4%\n",
            "Эпоха: 106 точность: 15.0%\n",
            "Эпоха: 107 точность: 15.2%\n",
            "Эпоха: 108 точность: 15.2%\n",
            "Эпоха: 109 точность: 14.8%\n",
            "Эпоха: 110 точность: 15.0%\n",
            "Эпоха: 111 точность: 15.1%\n",
            "Эпоха: 112 точность: 15.1%\n",
            "Эпоха: 113 точность: 14.9%\n",
            "Эпоха: 114 точность: 15.1%\n",
            "Эпоха: 115 точность: 14.8%\n",
            "Эпоха: 116 точность: 14.9%\n",
            "Эпоха: 117 точность: 14.4%\n",
            "Эпоха: 118 точность: 15.0%\n",
            "Эпоха: 119 точность: 14.6%\n",
            "Эпоха: 120 точность: 14.9%\n",
            "Эпоха: 121 точность: 14.5%\n",
            "Эпоха: 122 точность: 14.6%\n",
            "Эпоха: 123 точность: 15.0%\n",
            "Эпоха: 124 точность: 14.8%\n"
          ]
        }
      ]
    },
    {
      "cell_type": "code",
      "metadata": {
        "colab": {
          "base_uri": "https://localhost:8080/"
        },
        "id": "G9GeD210aAbE",
        "outputId": "abad3785-879d-43cc-8013-4536a8598fc2"
      },
      "source": [
        "val_loss_mae_sec = np.array(val_loss_mae_sec) # Массив значений ошибк на тестовой выборке\n",
        "print('Среднее значение ошибки составило:', val_loss_mae.mean())"
      ],
      "execution_count": null,
      "outputs": [
        {
          "output_type": "stream",
          "name": "stdout",
          "text": [
            "Среднее значение ошибки составило: 0.6845497527122497\n"
          ]
        }
      ]
    },
    {
      "cell_type": "code",
      "metadata": {
        "colab": {
          "base_uri": "https://localhost:8080/"
        },
        "id": "4eRWdLewcXjO",
        "outputId": "2c3ac4b9-eb37-4fc9-bf4f-5909ced1257a"
      },
      "source": [
        "print('Средний процент ошибки составил: ', round(100*val_loss_mae_sec.mean()), '%', sep=\"\")"
      ],
      "execution_count": null,
      "outputs": [
        {
          "output_type": "stream",
          "name": "stdout",
          "text": [
            "Средний процент ошибки составил: 20%\n"
          ]
        }
      ]
    },
    {
      "cell_type": "code",
      "metadata": {
        "colab": {
          "base_uri": "https://localhost:8080/"
        },
        "id": "_HgBC4lpg-6w",
        "outputId": "97b3db5c-3e24-4d6a-8d17-707c9c607ee3"
      },
      "source": [
        "print(\"Средняя цена в тестовой выборке: \",round(y_train[60000:].mean()), \"рублей.\")"
      ],
      "execution_count": null,
      "outputs": [
        {
          "output_type": "stream",
          "name": "stdout",
          "text": [
            "Средняя цена в тестовой выборке:  530277 рублей.\n"
          ]
        }
      ]
    },
    {
      "cell_type": "code",
      "metadata": {
        "colab": {
          "base_uri": "https://localhost:8080/"
        },
        "id": "zAJY95F2rIQH",
        "outputId": "0d3ac853-044e-4be8-d75f-f454affa610a"
      },
      "source": [
        "print(\"Средняя цена : \",round(y_train.mean()), \"рублей.\")"
      ],
      "execution_count": null,
      "outputs": [
        {
          "output_type": "stream",
          "name": "stdout",
          "text": [
            "Средняя цена :  527726 рублей.\n"
          ]
        }
      ]
    },
    {
      "cell_type": "code",
      "metadata": {
        "id": "8IlNhx3Pik4W",
        "colab": {
          "base_uri": "https://localhost:8080/",
          "height": 279
        },
        "outputId": "b3971279-9141-47d4-b551-1df5d98831ef"
      },
      "source": [
        "# Выводим графики ошибки\n",
        "plt.plot(history_sec.history['loss'], \n",
        "         label='Ошибка на обучающем наборе')\n",
        "plt.plot(history_sec.history['val_loss'], \n",
        "         label='Ошибка на проверочном наборе')\n",
        "plt.xlabel('Эпоха обучения')\n",
        "plt.ylabel('Ошибка')\n",
        "plt.legend()\n",
        "plt.show()"
      ],
      "execution_count": null,
      "outputs": [
        {
          "output_type": "display_data",
          "data": {
            "image/png": "[encoded data removed]",
            "text/plain": [
              "<Figure size 432x288 with 1 Axes>"
            ]
          },
          "metadata": {
            "needs_background": "light"
          }
        }
      ]
    }
  ]
}