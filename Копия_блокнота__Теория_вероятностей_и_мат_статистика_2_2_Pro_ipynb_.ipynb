{
  "nbformat": 4,
  "nbformat_minor": 0,
  "metadata": {
    "colab": {
      "name": "Копия блокнота \"Теория вероятностей и мат. статистика 2\\2 Pro.ipynb\"",
      "provenance": [],
      "collapsed_sections": []
    },
    "kernelspec": {
      "name": "python3",
      "display_name": "Python 3"
    }
  },
  "cells": [
    {
      "cell_type": "markdown",
      "metadata": {
        "id": "urJ5XX4JhaUI"
      },
      "source": [
        "Задача 1\n",
        "\n",
        "В ящике находится 17 качественных и 6 бракованных деталей. Если деталь качественная, вы зарабатываете 10 рублей. Если бракованная, вы отдаете 20 рублей.\n",
        "\n",
        "Посчитать среднюю прибыль, если достать две детали наугад."
      ]
    },
    {
      "cell_type": "code",
      "metadata": {
        "id": "5zT6E35Cn2Vb",
        "colab": {
          "base_uri": "https://localhost:8080/"
        },
        "outputId": "2e72ca8d-8745-4127-ec50-86b668d35053"
      },
      "source": [
        "#Pk=17/23 # вероятность выбора качественной детали\n",
        "#Pbr=6/23 # вероятность выбора бракованной детали\n",
        "#K=10      # оплата за качественную деталь\n",
        "#Br=-20    # оплата за бракованную деталь\n",
        "#Prib = round((Pk*K + Pbr*Br)*2,2 ) # Прибыль = вероятноть выбора качественной детали умноженная на оплату за качественную деталь плюс вероятноть выбора бракованной детали умноженная на оплату за бракованную деталь\n",
        "#print(\"Прибыль составит \", Prib, \" рублей\",)\n"
      ],
      "execution_count": null,
      "outputs": [
        {
          "output_type": "stream",
          "name": "stdout",
          "text": [
            "Прибыль составит  4.35  рублей\n"
          ]
        }
      ]
    },
    {
      "cell_type": "code",
      "metadata": {
        "colab": {
          "base_uri": "https://localhost:8080/"
        },
        "id": "X_9EhpmCtweH",
        "outputId": "9feaa93c-5ab8-453a-de2b-a7eff52525ab"
      },
      "source": [
        "Prib = 17*10+(6*(-20))    #данное действие делал как проверку. 17 деталей по 10 руб в плюс и 6 деталей по 20 руб в минус . Итог 50 руб. Делим на 23 и получаем 2 руб. 17 коп. средней прибыли с детали. \n",
        "Prib2 = round((Prib*2/23),2)     # с двух деталей соответственно 4 руб 35 коп. И спользованием распределения сумма чуть меньше. Это и смущает.\n",
        "Prib2"
      ],
      "execution_count": null,
      "outputs": [
        {
          "output_type": "execute_result",
          "data": {
            "text/plain": [
              "4.35"
            ]
          },
          "metadata": {},
          "execution_count": 46
        }
      ]
    },
    {
      "cell_type": "code",
      "metadata": {
        "id": "CXDb82qIxECw"
      },
      "source": [
        "def fact(n):\n",
        "  f=1\n",
        "  for x in range(1,n+1):\n",
        "    f*=x\n",
        "    \n",
        "  return f"
      ],
      "execution_count": null,
      "outputs": []
    },
    {
      "cell_type": "code",
      "metadata": {
        "id": "gmUM_O4ZxELk"
      },
      "source": [
        "#Сочетания\n",
        "def C_n_m(n,m):\n",
        "  return fact(n)/(fact(n-m)*fact(m))"
      ],
      "execution_count": null,
      "outputs": []
    },
    {
      "cell_type": "code",
      "metadata": {
        "id": "kyH5C-F-xEWo"
      },
      "source": [
        "K = 17\n",
        "Br = 6\n",
        "P_2 = C_n_m(17,2)/C_n_m(23,2) #Вероятность извлечения двух качественных\n",
        "P_3 = C_n_m(6,2)/C_n_m(23,2)  #Вероятность извлечения двух бракованных"
      ],
      "execution_count": null,
      "outputs": []
    },
    {
      "cell_type": "code",
      "metadata": {
        "colab": {
          "base_uri": "https://localhost:8080/"
        },
        "id": "4AJjPHqzzv-R",
        "outputId": "aac28826-c111-4b4b-f64e-12d69769ab32"
      },
      "source": [
        "Prib = round((P_2*10+P_3*(-20)),2)\n",
        "print(\"Прибыль составит \",Prib, \" рублей\")"
      ],
      "execution_count": null,
      "outputs": [
        {
          "output_type": "stream",
          "name": "stdout",
          "text": [
            "Прибыль составит  4.19  рублей\n"
          ]
        }
      ]
    },
    {
      "cell_type": "markdown",
      "metadata": {
        "id": "lNeCC7SUrZ-r"
      },
      "source": [
        ""
      ]
    },
    {
      "cell_type": "markdown",
      "metadata": {
        "id": "lx2XL0Ddn2sn"
      },
      "source": [
        "Задача 2\n",
        "\n",
        "На испытание поставлено 1200 однотипных ламп.\n",
        "За первые 2000 часов работы отказало 70 ламп, а за интервал 3000–\n",
        "4000 часа отказало еще 50 ламп. Определить частоту и интенсивность отказов электронных ламп в промежутке 3000–4000 часов работы."
      ]
    },
    {
      "cell_type": "code",
      "metadata": {
        "colab": {
          "base_uri": "https://localhost:8080/"
        },
        "id": "Q4HxEre13xgG",
        "outputId": "bfdc2053-ea7b-41b6-a82d-baf0f8d4e76e"
      },
      "source": [
        "Freq = 50/(1000*((1130+1080)/2))\n",
        "print(\"Интенсивность отказов электронных ламп в период с 3000 до 4000 часов составила \", Freq, \"\")"
      ],
      "execution_count": null,
      "outputs": [
        {
          "output_type": "execute_result",
          "data": {
            "text/plain": [
              "4.524886877828054e-05"
            ]
          },
          "metadata": {},
          "execution_count": 79
        }
      ]
    },
    {
      "cell_type": "code",
      "metadata": {
        "colab": {
          "base_uri": "https://localhost:8080/"
        },
        "id": "oFLnCYXu3yJ5",
        "outputId": "2a68fdc4-9e40-43bc-98d9-0f09f6e5efbf"
      },
      "source": [
        " Intens = 50/(1200*1000) # Частота отказов\n",
        " print(\"Частота отказов в период с 3000 до 4000 часов составила \", Intens, \"\")"
      ],
      "execution_count": null,
      "outputs": [
        {
          "output_type": "stream",
          "name": "stdout",
          "text": [
            "Частота отказов в период с 3000 до 4000 часов составила  4.1666666666666665e-05 часов на 1 лампу в час\n"
          ]
        }
      ]
    },
    {
      "cell_type": "markdown",
      "metadata": {
        "id": "MDWJ5quUSfa6"
      },
      "source": [
        "\n",
        "\n",
        "Задача 3\n",
        "\n",
        "В течение некоторого периода времени производилось наблюдение за работой одного экземпляра радиолокационной станции. За весь период наблюдения было зафиксировано 15 отказов. До начала наблюдения станция проработала\n",
        "258 часов, а к концу наблюдения наработка станции составила\n",
        "1233 часа. Требуется определить среднюю наработку на отказ.\n",
        "\n",
        "\n"
      ]
    },
    {
      "cell_type": "code",
      "metadata": {
        "id": "iL_7VYNBp2L6",
        "colab": {
          "base_uri": "https://localhost:8080/"
        },
        "outputId": "6abd9fe2-68bb-4c9d-edd1-80a6724fd678"
      },
      "source": [
        "TOtk = (1233-258)/15\n",
        "print(\"Средняя наработка на отказ составила\", TOtk,\" часов\")"
      ],
      "execution_count": null,
      "outputs": [
        {
          "output_type": "stream",
          "name": "stdout",
          "text": [
            "Средняя наработка на отказ составила 65.0  часов\n"
          ]
        }
      ]
    },
    {
      "cell_type": "markdown",
      "metadata": {
        "id": "pMt8Id7jn5af"
      },
      "source": [
        "Задача 4\n",
        "\n",
        "Система состоит из пяти приборов, вероятность исправной работы которых в течение времени t = 100 ч\n",
        "равны: р1(100) = 0,9996; р2(100) = 0,9998; р3(100) = 0,9996;\n",
        "р4(100) = 0,999; р5(100) = 0,9998. Требуется определить частоту\n",
        "отказов системы в момент времени t = 100 ч."
      ]
    },
    {
      "cell_type": "code",
      "metadata": {
        "id": "MaeSdVW-n5zg",
        "colab": {
          "base_uri": "https://localhost:8080/"
        },
        "outputId": "0643a43e-b9f4-4a8c-bd6e-c3f19cf3815e"
      },
      "source": [
        "Potkaz = (1-0.9996)+(1-0.9998)+(1-0.9996)+(1-0.999)+(1-0.9998)\n",
        "P = 1-Potkaz\n",
        "print(\"вероятность исправной работы в течение времени t = 100 ч равна\", P)"
      ],
      "execution_count": null,
      "outputs": [
        {
          "output_type": "stream",
          "name": "stdout",
          "text": [
            "вероятность исправной работы в течение времени t = 100 ч равна 0.9978000000000001\n"
          ]
        }
      ]
    },
    {
      "cell_type": "code",
      "metadata": {
        "colab": {
          "base_uri": "https://localhost:8080/"
        },
        "id": "RhTwT-jP_WDv",
        "outputId": "7e23cd38-ea30-4806-9d68-783da0d27f42"
      },
      "source": [
        "print(\"частота отказов за 100 часов составляет \",Potkaz*5*100, \" случаев\")"
      ],
      "execution_count": null,
      "outputs": [
        {
          "output_type": "stream",
          "name": "stdout",
          "text": [
            "частота отказов за 100 часов составляет  1.0999999999999344  случаев\n"
          ]
        }
      ]
    },
    {
      "cell_type": "code",
      "metadata": {
        "colab": {
          "base_uri": "https://localhost:8080/"
        },
        "id": "dX-RCasI_6Ab",
        "outputId": "33ce9cb9-5cc4-4997-88b7-f63b8ee62cc2"
      },
      "source": [
        "print(\"интенсивность отказов составит \",100/(Potkaz*5*100),\" часов\")"
      ],
      "execution_count": null,
      "outputs": [
        {
          "output_type": "stream",
          "name": "stdout",
          "text": [
            "интенсивность отказов составит  90.90909090909634  часов\n"
          ]
        }
      ]
    },
    {
      "cell_type": "markdown",
      "metadata": {
        "id": "fGA0UUgp62KF"
      },
      "source": [
        "Задача 5\n",
        "\n",
        "Мистер Хэ играет в европейскую рулетку (где 18 чёрных ячеек, 18 красных, и 1 зелёная). Он играет по следующей системе: постоянно ставит 250 рублей на «красное». \n",
        "Необходимо составить закон распределения случайной величины  – его выигрыша. \n",
        "\n",
        "Вычислить математическое ожидание выигрыша и округлить его. \n",
        "\n",
        "Сколько в среднем проигрывает игрок с каждой ставки?"
      ]
    },
    {
      "cell_type": "code",
      "metadata": {
        "colab": {
          "base_uri": "https://localhost:8080/"
        },
        "id": "fqGDIxP1b2M9",
        "outputId": "60b7ed0a-b14f-4b84-8584-2b8ba0e970c4"
      },
      "source": [
        "P=18/37  \n",
        "Bet = 250\n",
        "Ppr = 19/37\n",
        "Betpr = 250\n",
        "mu=round((P*Bet)-(Ppr*Betpr),2)\n",
        "mu"
      ],
      "execution_count": null,
      "outputs": [
        {
          "output_type": "execute_result",
          "data": {
            "text/plain": [
              "-6.76"
            ]
          },
          "metadata": {},
          "execution_count": 52
        }
      ]
    },
    {
      "cell_type": "code",
      "metadata": {
        "colab": {
          "base_uri": "https://localhost:8080/"
        },
        "id": "RR7HcgnFcNWh",
        "outputId": "353d269a-2fd7-4e5e-ce08-9c50451ae16d"
      },
      "source": [
        "Loss = mu # Средний размер проигрыша\n",
        "Loss"
      ],
      "execution_count": null,
      "outputs": [
        {
          "output_type": "execute_result",
          "data": {
            "text/plain": [
              "-6.76"
            ]
          },
          "metadata": {},
          "execution_count": 59
        }
      ]
    },
    {
      "cell_type": "code",
      "metadata": {
        "colab": {
          "base_uri": "https://localhost:8080/"
        },
        "id": "bcRGRxSgyl0b",
        "outputId": "6f3a2bb5-95ea-4159-dc59-97338281842f"
      },
      "source": [
        "Задача 5\n",
        "((18*250)-(19*250))/37 # Средний размер проигрыша"
      ],
      "execution_count": null,
      "outputs": [
        {
          "output_type": "execute_result",
          "data": {
            "text/plain": [
              "-6.756756756756757"
            ]
          },
          "metadata": {},
          "execution_count": 60
        }
      ]
    }
  ]
}