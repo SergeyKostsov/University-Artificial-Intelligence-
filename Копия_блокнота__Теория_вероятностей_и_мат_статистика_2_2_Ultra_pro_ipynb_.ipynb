{
  "nbformat": 4,
  "nbformat_minor": 0,
  "metadata": {
    "colab": {
      "name": "Копия блокнота \"Теория вероятностей и мат. статистика 2\\2 Ultra pro.ipynb\"",
      "provenance": [],
      "collapsed_sections": []
    },
    "kernelspec": {
      "name": "python3",
      "display_name": "Python 3"
    }
  },
  "cells": [
    {
      "cell_type": "markdown",
      "metadata": {
        "id": "G2XxsdDqSfaw"
      },
      "source": [
        "Попытаться доказать утверждение центральной предельной теоремы о том, что сумма N независимых и одинаково распределенных случайных величин, отобранных практически из любого распределения, имеет распределение, близкое к нормальному. Для доказательства взять семплирования из семейства экспоненциальных распределений.\n",
        "\n",
        "Математически доказывать не нужно, достаточно проиллюстрировать графически верность утверждения.\n",
        "\n",
        "Записать вывод о том, как размер выборки влияет на доказательство."
      ]
    },
    {
      "cell_type": "code",
      "metadata": {
        "id": "0xsTJlPjeGv7"
      },
      "source": [
        "import numpy as np\n",
        "import pandas as pd\n",
        "import matplotlib.pyplot as plt\n",
        "import seaborn as sns\n",
        "%matplotlib inline\n"
      ],
      "execution_count": null,
      "outputs": []
    },
    {
      "cell_type": "code",
      "metadata": {
        "id": "MGEfQ1RI74P9",
        "colab": {
          "base_uri": "https://localhost:8080/",
          "height": 355
        },
        "outputId": "c805e8fb-4fe8-47ef-e9e0-dd69b2749e63"
      },
      "source": [
        "r1 = np.random.randint(0, 10, (10,5))\n",
        "columns = ['1', '2', '3', '4','5']\n",
        "index = [0, 1, 2,3,4,5,6,7,8,9]\n",
        "df1 = pd.DataFrame(r1, columns = columns, index = index) # Создаем ДатаФрейм (в качестве параметров передаем называние столбцов, индексы и сами данные)\n",
        "df1 # Отображаем наш ДатаФрейм (лучше без использования функции print())\n"
      ],
      "execution_count": null,
      "outputs": [
        {
          "output_type": "execute_result",
          "data": {
            "text/html": [
              "<div>\n",
              "<style scoped>\n",
              "    .dataframe tbody tr th:only-of-type {\n",
              "        vertical-align: middle;\n",
              "    }\n",
              "\n",
              "    .dataframe tbody tr th {\n",
              "        vertical-align: top;\n",
              "    }\n",
              "\n",
              "    .dataframe thead th {\n",
              "        text-align: right;\n",
              "    }\n",
              "</style>\n",
              "<table border=\"1\" class=\"dataframe\">\n",
              "  <thead>\n",
              "    <tr style=\"text-align: right;\">\n",
              "      <th></th>\n",
              "      <th>1</th>\n",
              "      <th>2</th>\n",
              "      <th>3</th>\n",
              "      <th>4</th>\n",
              "      <th>5</th>\n",
              "    </tr>\n",
              "  </thead>\n",
              "  <tbody>\n",
              "    <tr>\n",
              "      <th>0</th>\n",
              "      <td>1</td>\n",
              "      <td>3</td>\n",
              "      <td>8</td>\n",
              "      <td>1</td>\n",
              "      <td>5</td>\n",
              "    </tr>\n",
              "    <tr>\n",
              "      <th>1</th>\n",
              "      <td>6</td>\n",
              "      <td>1</td>\n",
              "      <td>5</td>\n",
              "      <td>7</td>\n",
              "      <td>6</td>\n",
              "    </tr>\n",
              "    <tr>\n",
              "      <th>2</th>\n",
              "      <td>0</td>\n",
              "      <td>3</td>\n",
              "      <td>3</td>\n",
              "      <td>8</td>\n",
              "      <td>5</td>\n",
              "    </tr>\n",
              "    <tr>\n",
              "      <th>3</th>\n",
              "      <td>2</td>\n",
              "      <td>3</td>\n",
              "      <td>5</td>\n",
              "      <td>5</td>\n",
              "      <td>8</td>\n",
              "    </tr>\n",
              "    <tr>\n",
              "      <th>4</th>\n",
              "      <td>3</td>\n",
              "      <td>6</td>\n",
              "      <td>6</td>\n",
              "      <td>5</td>\n",
              "      <td>5</td>\n",
              "    </tr>\n",
              "    <tr>\n",
              "      <th>5</th>\n",
              "      <td>7</td>\n",
              "      <td>9</td>\n",
              "      <td>3</td>\n",
              "      <td>5</td>\n",
              "      <td>0</td>\n",
              "    </tr>\n",
              "    <tr>\n",
              "      <th>6</th>\n",
              "      <td>1</td>\n",
              "      <td>1</td>\n",
              "      <td>1</td>\n",
              "      <td>4</td>\n",
              "      <td>3</td>\n",
              "    </tr>\n",
              "    <tr>\n",
              "      <th>7</th>\n",
              "      <td>9</td>\n",
              "      <td>9</td>\n",
              "      <td>9</td>\n",
              "      <td>3</td>\n",
              "      <td>6</td>\n",
              "    </tr>\n",
              "    <tr>\n",
              "      <th>8</th>\n",
              "      <td>9</td>\n",
              "      <td>3</td>\n",
              "      <td>9</td>\n",
              "      <td>1</td>\n",
              "      <td>0</td>\n",
              "    </tr>\n",
              "    <tr>\n",
              "      <th>9</th>\n",
              "      <td>8</td>\n",
              "      <td>9</td>\n",
              "      <td>2</td>\n",
              "      <td>7</td>\n",
              "      <td>8</td>\n",
              "    </tr>\n",
              "  </tbody>\n",
              "</table>\n",
              "</div>"
            ],
            "text/plain": [
              "   1  2  3  4  5\n",
              "0  1  3  8  1  5\n",
              "1  6  1  5  7  6\n",
              "2  0  3  3  8  5\n",
              "3  2  3  5  5  8\n",
              "4  3  6  6  5  5\n",
              "5  7  9  3  5  0\n",
              "6  1  1  1  4  3\n",
              "7  9  9  9  3  6\n",
              "8  9  3  9  1  0\n",
              "9  8  9  2  7  8"
            ]
          },
          "metadata": {},
          "execution_count": 26
        }
      ]
    },
    {
      "cell_type": "code",
      "metadata": {
        "colab": {
          "base_uri": "https://localhost:8080/"
        },
        "id": "oH7vE25f0sj7",
        "outputId": "3dcaf2b5-31b5-49cd-b5c3-ef5a79ee57b8"
      },
      "source": [
        "df11 = df1.sum(0)\n",
        "df11"
      ],
      "execution_count": null,
      "outputs": [
        {
          "output_type": "execute_result",
          "data": {
            "text/plain": [
              "1    46\n",
              "2    47\n",
              "3    51\n",
              "4    46\n",
              "5    46\n",
              "dtype: int64"
            ]
          },
          "metadata": {},
          "execution_count": 27
        }
      ]
    },
    {
      "cell_type": "code",
      "metadata": {
        "colab": {
          "base_uri": "https://localhost:8080/",
          "height": 430
        },
        "id": "IZdNFRq0fvSD",
        "outputId": "dc5647f5-8b71-4cb8-a9fd-c1110f452685"
      },
      "source": [
        "plt.figure(figsize=(10,6))\n",
        "sns.distplot(df11) # отображает парные графики всех имеющихся категорий данных\n",
        "                                                            # в нашем случае по столбцам\n",
        "plt.show()"
      ],
      "execution_count": null,
      "outputs": [
        {
          "output_type": "stream",
          "name": "stderr",
          "text": [
            "/usr/local/lib/python3.7/dist-packages/seaborn/distributions.py:2619: FutureWarning: `distplot` is a deprecated function and will be removed in a future version. Please adapt your code to use either `displot` (a figure-level function with similar flexibility) or `histplot` (an axes-level function for histograms).\n",
            "  warnings.warn(msg, FutureWarning)\n"
          ]
        },
        {
          "output_type": "display_data",
          "data": {
            "image/png": "[encoded data removed]",
            "text/plain": [
              "<Figure size 720x432 with 1 Axes>"
            ]
          },
          "metadata": {
            "needs_background": "light"
          }
        }
      ]
    },
    {
      "cell_type": "code",
      "metadata": {
        "colab": {
          "base_uri": "https://localhost:8080/",
          "height": 414
        },
        "id": "Z7HCLUikeWVB",
        "outputId": "577447af-66e5-41ef-f80f-0d3354f8be57"
      },
      "source": [
        "r2 = np.random.randint(0, 100, (100,5))\n",
        "columns = ['col1', 'col2', 'col3', 'col4','col5']\n",
        "index = np.arange(100)\n",
        "df2 = pd.DataFrame(r2, columns = columns, index = index) # Создаем ДатаФрейм (в качестве параметров передаем называние столбцов, индексы и сами данные)\n",
        "df2 # Отображаем наш ДатаФрейм (лучше без использования функции print())\n"
      ],
      "execution_count": null,
      "outputs": [
        {
          "output_type": "execute_result",
          "data": {
            "text/html": [
              "<div>\n",
              "<style scoped>\n",
              "    .dataframe tbody tr th:only-of-type {\n",
              "        vertical-align: middle;\n",
              "    }\n",
              "\n",
              "    .dataframe tbody tr th {\n",
              "        vertical-align: top;\n",
              "    }\n",
              "\n",
              "    .dataframe thead th {\n",
              "        text-align: right;\n",
              "    }\n",
              "</style>\n",
              "<table border=\"1\" class=\"dataframe\">\n",
              "  <thead>\n",
              "    <tr style=\"text-align: right;\">\n",
              "      <th></th>\n",
              "      <th>col1</th>\n",
              "      <th>col2</th>\n",
              "      <th>col3</th>\n",
              "      <th>col4</th>\n",
              "      <th>col5</th>\n",
              "    </tr>\n",
              "  </thead>\n",
              "  <tbody>\n",
              "    <tr>\n",
              "      <th>0</th>\n",
              "      <td>94</td>\n",
              "      <td>50</td>\n",
              "      <td>94</td>\n",
              "      <td>36</td>\n",
              "      <td>21</td>\n",
              "    </tr>\n",
              "    <tr>\n",
              "      <th>1</th>\n",
              "      <td>14</td>\n",
              "      <td>58</td>\n",
              "      <td>27</td>\n",
              "      <td>17</td>\n",
              "      <td>62</td>\n",
              "    </tr>\n",
              "    <tr>\n",
              "      <th>2</th>\n",
              "      <td>84</td>\n",
              "      <td>94</td>\n",
              "      <td>45</td>\n",
              "      <td>98</td>\n",
              "      <td>68</td>\n",
              "    </tr>\n",
              "    <tr>\n",
              "      <th>3</th>\n",
              "      <td>19</td>\n",
              "      <td>54</td>\n",
              "      <td>14</td>\n",
              "      <td>87</td>\n",
              "      <td>32</td>\n",
              "    </tr>\n",
              "    <tr>\n",
              "      <th>4</th>\n",
              "      <td>11</td>\n",
              "      <td>34</td>\n",
              "      <td>51</td>\n",
              "      <td>25</td>\n",
              "      <td>78</td>\n",
              "    </tr>\n",
              "    <tr>\n",
              "      <th>...</th>\n",
              "      <td>...</td>\n",
              "      <td>...</td>\n",
              "      <td>...</td>\n",
              "      <td>...</td>\n",
              "      <td>...</td>\n",
              "    </tr>\n",
              "    <tr>\n",
              "      <th>95</th>\n",
              "      <td>76</td>\n",
              "      <td>32</td>\n",
              "      <td>40</td>\n",
              "      <td>86</td>\n",
              "      <td>41</td>\n",
              "    </tr>\n",
              "    <tr>\n",
              "      <th>96</th>\n",
              "      <td>30</td>\n",
              "      <td>79</td>\n",
              "      <td>2</td>\n",
              "      <td>12</td>\n",
              "      <td>58</td>\n",
              "    </tr>\n",
              "    <tr>\n",
              "      <th>97</th>\n",
              "      <td>31</td>\n",
              "      <td>20</td>\n",
              "      <td>39</td>\n",
              "      <td>66</td>\n",
              "      <td>92</td>\n",
              "    </tr>\n",
              "    <tr>\n",
              "      <th>98</th>\n",
              "      <td>25</td>\n",
              "      <td>15</td>\n",
              "      <td>23</td>\n",
              "      <td>49</td>\n",
              "      <td>26</td>\n",
              "    </tr>\n",
              "    <tr>\n",
              "      <th>99</th>\n",
              "      <td>89</td>\n",
              "      <td>20</td>\n",
              "      <td>96</td>\n",
              "      <td>29</td>\n",
              "      <td>88</td>\n",
              "    </tr>\n",
              "  </tbody>\n",
              "</table>\n",
              "<p>100 rows × 5 columns</p>\n",
              "</div>"
            ],
            "text/plain": [
              "    col1  col2  col3  col4  col5\n",
              "0     94    50    94    36    21\n",
              "1     14    58    27    17    62\n",
              "2     84    94    45    98    68\n",
              "3     19    54    14    87    32\n",
              "4     11    34    51    25    78\n",
              "..   ...   ...   ...   ...   ...\n",
              "95    76    32    40    86    41\n",
              "96    30    79     2    12    58\n",
              "97    31    20    39    66    92\n",
              "98    25    15    23    49    26\n",
              "99    89    20    96    29    88\n",
              "\n",
              "[100 rows x 5 columns]"
            ]
          },
          "metadata": {},
          "execution_count": 31
        }
      ]
    },
    {
      "cell_type": "code",
      "metadata": {
        "colab": {
          "base_uri": "https://localhost:8080/"
        },
        "id": "ZH060Kux18_-",
        "outputId": "90b8fe2e-2b27-40c5-c330-e2c346929d44"
      },
      "source": [
        "df21 = df2.sum(0)\n",
        "df21"
      ],
      "execution_count": null,
      "outputs": [
        {
          "output_type": "execute_result",
          "data": {
            "text/plain": [
              "col1    4976\n",
              "col2    5169\n",
              "col3    4950\n",
              "col4    5090\n",
              "col5    5026\n",
              "dtype: int64"
            ]
          },
          "metadata": {},
          "execution_count": 32
        }
      ]
    },
    {
      "cell_type": "code",
      "metadata": {
        "colab": {
          "base_uri": "https://localhost:8080/",
          "height": 430
        },
        "id": "x0n4kFfQnN0Z",
        "outputId": "877fb65c-d47c-4b0a-db48-d00fb4423bec"
      },
      "source": [
        "plt.figure(figsize=(10,6))\n",
        "sns.distplot(df21) # отображает парные графики всех имеющихся категорий данных\n",
        "                                                            # в нашем случае по столбцам\n",
        "plt.show()"
      ],
      "execution_count": null,
      "outputs": [
        {
          "output_type": "stream",
          "name": "stderr",
          "text": [
            "/usr/local/lib/python3.7/dist-packages/seaborn/distributions.py:2619: FutureWarning: `distplot` is a deprecated function and will be removed in a future version. Please adapt your code to use either `displot` (a figure-level function with similar flexibility) or `histplot` (an axes-level function for histograms).\n",
            "  warnings.warn(msg, FutureWarning)\n"
          ]
        },
        {
          "output_type": "display_data",
          "data": {
            "image/png": "[encoded data removed]",
            "text/plain": [
              "<Figure size 720x432 with 1 Axes>"
            ]
          },
          "metadata": {
            "needs_background": "light"
          }
        }
      ]
    },
    {
      "cell_type": "code",
      "metadata": {
        "colab": {
          "base_uri": "https://localhost:8080/",
          "height": 414
        },
        "id": "U2-97_NEeZxY",
        "outputId": "cf5a8659-3a09-4d36-fa8c-ef8d3d7935e8"
      },
      "source": [
        "r3 = np.random.randint(0, 500, (500,5)) \n",
        "columns = ['col1', 'col2', 'col3', 'col4','col5']\n",
        "index = np.arange(500)\n",
        "df3 = pd.DataFrame(r3, columns = columns, index = index) # Создаем ДатаФрейм (в качестве параметров передаем называние столбцов, индексы и сами данные)\n",
        "df3 # Отображаем наш ДатаФрейм (лучше без использования функции print())"
      ],
      "execution_count": null,
      "outputs": [
        {
          "output_type": "execute_result",
          "data": {
            "text/html": [
              "<div>\n",
              "<style scoped>\n",
              "    .dataframe tbody tr th:only-of-type {\n",
              "        vertical-align: middle;\n",
              "    }\n",
              "\n",
              "    .dataframe tbody tr th {\n",
              "        vertical-align: top;\n",
              "    }\n",
              "\n",
              "    .dataframe thead th {\n",
              "        text-align: right;\n",
              "    }\n",
              "</style>\n",
              "<table border=\"1\" class=\"dataframe\">\n",
              "  <thead>\n",
              "    <tr style=\"text-align: right;\">\n",
              "      <th></th>\n",
              "      <th>col1</th>\n",
              "      <th>col2</th>\n",
              "      <th>col3</th>\n",
              "      <th>col4</th>\n",
              "      <th>col5</th>\n",
              "    </tr>\n",
              "  </thead>\n",
              "  <tbody>\n",
              "    <tr>\n",
              "      <th>0</th>\n",
              "      <td>470</td>\n",
              "      <td>309</td>\n",
              "      <td>409</td>\n",
              "      <td>321</td>\n",
              "      <td>20</td>\n",
              "    </tr>\n",
              "    <tr>\n",
              "      <th>1</th>\n",
              "      <td>89</td>\n",
              "      <td>264</td>\n",
              "      <td>371</td>\n",
              "      <td>333</td>\n",
              "      <td>59</td>\n",
              "    </tr>\n",
              "    <tr>\n",
              "      <th>2</th>\n",
              "      <td>321</td>\n",
              "      <td>28</td>\n",
              "      <td>492</td>\n",
              "      <td>36</td>\n",
              "      <td>424</td>\n",
              "    </tr>\n",
              "    <tr>\n",
              "      <th>3</th>\n",
              "      <td>244</td>\n",
              "      <td>382</td>\n",
              "      <td>304</td>\n",
              "      <td>347</td>\n",
              "      <td>267</td>\n",
              "    </tr>\n",
              "    <tr>\n",
              "      <th>4</th>\n",
              "      <td>365</td>\n",
              "      <td>412</td>\n",
              "      <td>344</td>\n",
              "      <td>185</td>\n",
              "      <td>114</td>\n",
              "    </tr>\n",
              "    <tr>\n",
              "      <th>...</th>\n",
              "      <td>...</td>\n",
              "      <td>...</td>\n",
              "      <td>...</td>\n",
              "      <td>...</td>\n",
              "      <td>...</td>\n",
              "    </tr>\n",
              "    <tr>\n",
              "      <th>495</th>\n",
              "      <td>234</td>\n",
              "      <td>10</td>\n",
              "      <td>240</td>\n",
              "      <td>364</td>\n",
              "      <td>302</td>\n",
              "    </tr>\n",
              "    <tr>\n",
              "      <th>496</th>\n",
              "      <td>289</td>\n",
              "      <td>75</td>\n",
              "      <td>70</td>\n",
              "      <td>359</td>\n",
              "      <td>378</td>\n",
              "    </tr>\n",
              "    <tr>\n",
              "      <th>497</th>\n",
              "      <td>96</td>\n",
              "      <td>161</td>\n",
              "      <td>466</td>\n",
              "      <td>211</td>\n",
              "      <td>129</td>\n",
              "    </tr>\n",
              "    <tr>\n",
              "      <th>498</th>\n",
              "      <td>34</td>\n",
              "      <td>361</td>\n",
              "      <td>226</td>\n",
              "      <td>373</td>\n",
              "      <td>315</td>\n",
              "    </tr>\n",
              "    <tr>\n",
              "      <th>499</th>\n",
              "      <td>466</td>\n",
              "      <td>424</td>\n",
              "      <td>465</td>\n",
              "      <td>345</td>\n",
              "      <td>27</td>\n",
              "    </tr>\n",
              "  </tbody>\n",
              "</table>\n",
              "<p>500 rows × 5 columns</p>\n",
              "</div>"
            ],
            "text/plain": [
              "     col1  col2  col3  col4  col5\n",
              "0     470   309   409   321    20\n",
              "1      89   264   371   333    59\n",
              "2     321    28   492    36   424\n",
              "3     244   382   304   347   267\n",
              "4     365   412   344   185   114\n",
              "..    ...   ...   ...   ...   ...\n",
              "495   234    10   240   364   302\n",
              "496   289    75    70   359   378\n",
              "497    96   161   466   211   129\n",
              "498    34   361   226   373   315\n",
              "499   466   424   465   345    27\n",
              "\n",
              "[500 rows x 5 columns]"
            ]
          },
          "metadata": {},
          "execution_count": 34
        }
      ]
    },
    {
      "cell_type": "code",
      "metadata": {
        "colab": {
          "base_uri": "https://localhost:8080/"
        },
        "id": "FcR0AGu-2Tof",
        "outputId": "bf61eb7f-498d-4a38-be43-e55d8b60a6bf"
      },
      "source": [
        "df31 = df3.sum(0)\n",
        "df31"
      ],
      "execution_count": null,
      "outputs": [
        {
          "output_type": "execute_result",
          "data": {
            "text/plain": [
              "col1    124225\n",
              "col2    125306\n",
              "col3    120811\n",
              "col4    123228\n",
              "col5    123817\n",
              "dtype: int64"
            ]
          },
          "metadata": {},
          "execution_count": 35
        }
      ]
    },
    {
      "cell_type": "code",
      "metadata": {
        "colab": {
          "base_uri": "https://localhost:8080/",
          "height": 430
        },
        "id": "pkYZ3P-tnRG2",
        "outputId": "9a8cdf02-32ef-45e2-8268-10c9b36c4364"
      },
      "source": [
        "plt.figure(figsize=(10,6))\n",
        "sns.distplot(df31) # отображает парные графики всех имеющихся категорий данных\n",
        "                                                            # в нашем случае по столбцам\n",
        "plt.show()"
      ],
      "execution_count": null,
      "outputs": [
        {
          "output_type": "stream",
          "name": "stderr",
          "text": [
            "/usr/local/lib/python3.7/dist-packages/seaborn/distributions.py:2619: FutureWarning: `distplot` is a deprecated function and will be removed in a future version. Please adapt your code to use either `displot` (a figure-level function with similar flexibility) or `histplot` (an axes-level function for histograms).\n",
            "  warnings.warn(msg, FutureWarning)\n"
          ]
        },
        {
          "output_type": "display_data",
          "data": {
            "image/png": "[encoded data removed]",
            "text/plain": [
              "<Figure size 720x432 with 1 Axes>"
            ]
          },
          "metadata": {
            "needs_background": "light"
          }
        }
      ]
    },
    {
      "cell_type": "code",
      "metadata": {
        "colab": {
          "base_uri": "https://localhost:8080/",
          "height": 414
        },
        "id": "XvWj1gi2nZdn",
        "outputId": "b8a24bfb-2d68-4142-f74f-2d183dfd008a"
      },
      "source": [
        "r4 = np.random.randint(0, 1000, (1000,5)) \n",
        "columns = ['col1', 'col2', 'col3', 'col4','col5']\n",
        "index = np.arange(1000)\n",
        "df4 = pd.DataFrame(r4, columns = columns, index = index) # Создаем ДатаФрейм (в качестве параметров передаем называние столбцов, индексы и сами данные)\n",
        "df4 # Отображаем наш ДатаФрейм (лучше без использования функции print())"
      ],
      "execution_count": null,
      "outputs": [
        {
          "output_type": "execute_result",
          "data": {
            "text/html": [
              "<div>\n",
              "<style scoped>\n",
              "    .dataframe tbody tr th:only-of-type {\n",
              "        vertical-align: middle;\n",
              "    }\n",
              "\n",
              "    .dataframe tbody tr th {\n",
              "        vertical-align: top;\n",
              "    }\n",
              "\n",
              "    .dataframe thead th {\n",
              "        text-align: right;\n",
              "    }\n",
              "</style>\n",
              "<table border=\"1\" class=\"dataframe\">\n",
              "  <thead>\n",
              "    <tr style=\"text-align: right;\">\n",
              "      <th></th>\n",
              "      <th>col1</th>\n",
              "      <th>col2</th>\n",
              "      <th>col3</th>\n",
              "      <th>col4</th>\n",
              "      <th>col5</th>\n",
              "    </tr>\n",
              "  </thead>\n",
              "  <tbody>\n",
              "    <tr>\n",
              "      <th>0</th>\n",
              "      <td>489</td>\n",
              "      <td>266</td>\n",
              "      <td>755</td>\n",
              "      <td>155</td>\n",
              "      <td>228</td>\n",
              "    </tr>\n",
              "    <tr>\n",
              "      <th>1</th>\n",
              "      <td>693</td>\n",
              "      <td>485</td>\n",
              "      <td>193</td>\n",
              "      <td>62</td>\n",
              "      <td>404</td>\n",
              "    </tr>\n",
              "    <tr>\n",
              "      <th>2</th>\n",
              "      <td>518</td>\n",
              "      <td>265</td>\n",
              "      <td>152</td>\n",
              "      <td>894</td>\n",
              "      <td>706</td>\n",
              "    </tr>\n",
              "    <tr>\n",
              "      <th>3</th>\n",
              "      <td>17</td>\n",
              "      <td>514</td>\n",
              "      <td>349</td>\n",
              "      <td>837</td>\n",
              "      <td>94</td>\n",
              "    </tr>\n",
              "    <tr>\n",
              "      <th>4</th>\n",
              "      <td>112</td>\n",
              "      <td>913</td>\n",
              "      <td>272</td>\n",
              "      <td>293</td>\n",
              "      <td>446</td>\n",
              "    </tr>\n",
              "    <tr>\n",
              "      <th>...</th>\n",
              "      <td>...</td>\n",
              "      <td>...</td>\n",
              "      <td>...</td>\n",
              "      <td>...</td>\n",
              "      <td>...</td>\n",
              "    </tr>\n",
              "    <tr>\n",
              "      <th>995</th>\n",
              "      <td>882</td>\n",
              "      <td>541</td>\n",
              "      <td>178</td>\n",
              "      <td>946</td>\n",
              "      <td>382</td>\n",
              "    </tr>\n",
              "    <tr>\n",
              "      <th>996</th>\n",
              "      <td>197</td>\n",
              "      <td>288</td>\n",
              "      <td>265</td>\n",
              "      <td>222</td>\n",
              "      <td>851</td>\n",
              "    </tr>\n",
              "    <tr>\n",
              "      <th>997</th>\n",
              "      <td>664</td>\n",
              "      <td>688</td>\n",
              "      <td>934</td>\n",
              "      <td>864</td>\n",
              "      <td>592</td>\n",
              "    </tr>\n",
              "    <tr>\n",
              "      <th>998</th>\n",
              "      <td>954</td>\n",
              "      <td>711</td>\n",
              "      <td>926</td>\n",
              "      <td>870</td>\n",
              "      <td>765</td>\n",
              "    </tr>\n",
              "    <tr>\n",
              "      <th>999</th>\n",
              "      <td>915</td>\n",
              "      <td>291</td>\n",
              "      <td>767</td>\n",
              "      <td>63</td>\n",
              "      <td>694</td>\n",
              "    </tr>\n",
              "  </tbody>\n",
              "</table>\n",
              "<p>1000 rows × 5 columns</p>\n",
              "</div>"
            ],
            "text/plain": [
              "     col1  col2  col3  col4  col5\n",
              "0     489   266   755   155   228\n",
              "1     693   485   193    62   404\n",
              "2     518   265   152   894   706\n",
              "3      17   514   349   837    94\n",
              "4     112   913   272   293   446\n",
              "..    ...   ...   ...   ...   ...\n",
              "995   882   541   178   946   382\n",
              "996   197   288   265   222   851\n",
              "997   664   688   934   864   592\n",
              "998   954   711   926   870   765\n",
              "999   915   291   767    63   694\n",
              "\n",
              "[1000 rows x 5 columns]"
            ]
          },
          "metadata": {},
          "execution_count": 40
        }
      ]
    },
    {
      "cell_type": "code",
      "metadata": {
        "colab": {
          "base_uri": "https://localhost:8080/"
        },
        "id": "zhXqtvrl2kUa",
        "outputId": "05fb769c-6c70-48a1-cc6e-2c98ba20798e"
      },
      "source": [
        "df41 = df4.sum(0)\n",
        "df41"
      ],
      "execution_count": null,
      "outputs": [
        {
          "output_type": "execute_result",
          "data": {
            "text/plain": [
              "col1    505376\n",
              "col2    515089\n",
              "col3    492169\n",
              "col4    498501\n",
              "col5    502358\n",
              "dtype: int64"
            ]
          },
          "metadata": {},
          "execution_count": 41
        }
      ]
    },
    {
      "cell_type": "code",
      "metadata": {
        "colab": {
          "base_uri": "https://localhost:8080/",
          "height": 440
        },
        "id": "RuUdZ6Nunid2",
        "outputId": "78914f39-6ac8-460f-adb5-5ea47a6c6edd"
      },
      "source": [
        "plt.figure(figsize=(10,6))\n",
        "sns.distplot(df41) # отображает парные графики всех имеющихся категорий данных\n",
        "                                                            # в нашем случае по столбцам\n",
        "plt.show()"
      ],
      "execution_count": null,
      "outputs": [
        {
          "output_type": "stream",
          "name": "stderr",
          "text": [
            "/usr/local/lib/python3.7/dist-packages/seaborn/distributions.py:2619: FutureWarning: `distplot` is a deprecated function and will be removed in a future version. Please adapt your code to use either `displot` (a figure-level function with similar flexibility) or `histplot` (an axes-level function for histograms).\n",
            "  warnings.warn(msg, FutureWarning)\n"
          ]
        },
        {
          "output_type": "display_data",
          "data": {
            "image/png": "[encoded data removed]",
            "text/plain": [
              "<Figure size 720x432 with 1 Axes>"
            ]
          },
          "metadata": {
            "needs_background": "light"
          }
        }
      ]
    },
    {
      "cell_type": "code",
      "metadata": {
        "id": "BbAacy8rpIbh"
      },
      "source": [
        "Вывод: чем больше независимых слагаемых в сумме, тем ближе закон ее распределения к нормальному."
      ],
      "execution_count": null,
      "outputs": []
    }
  ]
}